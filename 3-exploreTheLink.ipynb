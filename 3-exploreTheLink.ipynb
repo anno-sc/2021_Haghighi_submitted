{
 "cells": [
  {
   "cell_type": "code",
   "execution_count": 1,
   "metadata": {},
   "outputs": [],
   "source": [
    "%matplotlib inline\n",
    "%load_ext autoreload\n",
    "%autoreload 2\n",
    "import numpy as np\n",
    "import scipy.spatial\n",
    "import pandas as pd\n",
    "import sklearn.decomposition\n",
    "import matplotlib.pyplot as plt\n",
    "# import keras\n",
    "from sklearn import preprocessing\n",
    "from sklearn.metrics import pairwise_distances,mean_absolute_error, mean_squared_error\n",
    "import matplotlib.pyplot as plt\n",
    "import seaborn as sns\n",
    "from utils.readProfiles import readMergedProfiles\n",
    "from utils.pred_models import *\n",
    "from utils.saveAsNewSheetToExistingFile import saveAsNewSheetToExistingFile\n",
    "from multiprocessing import Pool\n",
    "\n",
    "sns.set_style(\"whitegrid\")\n",
    "# from utils import networksEvol, tsne, readProfiles\n",
    "import umap"
   ]
  },
  {
   "cell_type": "code",
   "execution_count": null,
   "metadata": {},
   "outputs": [],
   "source": []
  },
  {
   "cell_type": "markdown",
   "metadata": {},
   "source": [
    "### In this notebook you can find your answer to these questions:\n",
    "\n",
    "1. What genes are related to your CP feature?\n",
    "2. What CP features are related to your Gene under study?\n",
    "\n",
    "\n",
    "* Due to quality of overall predictions as reported in the paper, we use:\n",
    "   - **LINCS** dataset for chemical perturbation reference \n",
    "   - **LUAD** dataset for genetic perturbation reference \n"
   ]
  },
  {
   "cell_type": "markdown",
   "metadata": {},
   "source": [
    "## User input parameters"
   ]
  },
  {
   "cell_type": "code",
   "execution_count": 2,
   "metadata": {},
   "outputs": [],
   "source": [
    "# In which perturbation context you want to explore your features\n",
    "# \"genetic\" or \"chemical\"\n",
    "which_dataset_to_use=\"genetic\"\n",
    "\n",
    "cp_features_under_test=['Cytoplasm_AreaShape_Zernike_9_3','Cells_RadialDistribution_RadialCV_Mito_1of4']\n",
    "ge_features_under_test=['',]"
   ]
  },
  {
   "cell_type": "code",
   "execution_count": null,
   "metadata": {},
   "outputs": [],
   "source": []
  },
  {
   "cell_type": "markdown",
   "metadata": {},
   "source": [
    "#### Paths"
   ]
  },
  {
   "cell_type": "code",
   "execution_count": 3,
   "metadata": {},
   "outputs": [],
   "source": [
    "procProf_dir='/home/ubuntu/datasetsbucket/Rosetta-GE-CP/'\n",
    "# procProf_dir='/home/ubuntu/bucket/projects/2018_04_20_Rosetta/workspace/'\n",
    "metadata_dir='/home/ubuntu/bucket/projects/2018_04_20_Rosetta/workspace/metadata/'\n",
    "results_dir='./results/'\n"
   ]
  },
  {
   "cell_type": "code",
   "execution_count": null,
   "metadata": {},
   "outputs": [],
   "source": []
  },
  {
   "cell_type": "markdown",
   "metadata": {},
   "source": [
    "## What genes are related to your CP feature?"
   ]
  },
  {
   "cell_type": "code",
   "execution_count": 9,
   "metadata": {
    "scrolled": true
   },
   "outputs": [
    {
     "name": "stdout",
     "output_type": "stream",
     "text": [
      "TAORF: Replicate Level Shapes (nSamples x nFeatures): cp:  1920 , 63 ,  l1k:  729 , 978\n",
      "l1k n of rep:  2.0\n",
      "cp n of rep:  5.0\n",
      "Treatment Level Shapes (nSamples x nFeatures+metadata): (324, 65) (328, 980) Merged Profiles Shape: (150, 1044)\n"
     ]
    },
    {
     "name": "stderr",
     "output_type": "stream",
     "text": [
      "<ipython-input-9-c4706d5a765f>:46: SettingWithCopyWarning: \n",
      "A value is trying to be set on a copy of a slice from a DataFrame.\n",
      "Try using .loc[row_indexer,col_indexer] = value instead\n",
      "\n",
      "See the caveats in the documentation: https://pandas.pydata.org/pandas-docs/stable/user_guide/indexing.html#returning-a-view-versus-a-copy\n",
      "  cp['Compounds']=cp['PERT']\n",
      "<ipython-input-9-c4706d5a765f>:47: SettingWithCopyWarning: \n",
      "A value is trying to be set on a copy of a slice from a DataFrame.\n",
      "Try using .loc[row_indexer,col_indexer] = value instead\n",
      "\n",
      "See the caveats in the documentation: https://pandas.pydata.org/pandas-docs/stable/user_guide/indexing.html#returning-a-view-versus-a-copy\n",
      "  l1k['Compounds']=l1k['PERT']\n"
     ]
    },
    {
     "name": "stdout",
     "output_type": "stream",
     "text": [
      "1\n"
     ]
    },
    {
     "name": "stderr",
     "output_type": "stream",
     "text": [
      "/home/ubuntu/anaconda3/lib/python3.8/site-packages/sklearn/neural_network/_multilayer_perceptron.py:614: ConvergenceWarning: Stochastic Optimizer: Maximum iterations (500) reached and the optimization hasn't converged yet.\n",
      "  warnings.warn(\n",
      "/home/ubuntu/anaconda3/lib/python3.8/site-packages/sklearn/neural_network/_multilayer_perceptron.py:614: ConvergenceWarning: Stochastic Optimizer: Maximum iterations (500) reached and the optimization hasn't converged yet.\n",
      "  warnings.warn(\n"
     ]
    },
    {
     "name": "stdout",
     "output_type": "stream",
     "text": [
      "2\n",
      "3\n",
      "4\n",
      "5\n",
      "6\n",
      "7\n",
      "8\n",
      "9\n",
      "10\n",
      "11\n",
      "12\n"
     ]
    },
    {
     "name": "stderr",
     "output_type": "stream",
     "text": [
      "/home/ubuntu/anaconda3/lib/python3.8/site-packages/sklearn/neural_network/_multilayer_perceptron.py:614: ConvergenceWarning: Stochastic Optimizer: Maximum iterations (500) reached and the optimization hasn't converged yet.\n",
      "  warnings.warn(\n"
     ]
    },
    {
     "name": "stdout",
     "output_type": "stream",
     "text": [
      "13\n",
      "14\n"
     ]
    },
    {
     "name": "stderr",
     "output_type": "stream",
     "text": [
      "/home/ubuntu/anaconda3/lib/python3.8/site-packages/sklearn/neural_network/_multilayer_perceptron.py:614: ConvergenceWarning: Stochastic Optimizer: Maximum iterations (500) reached and the optimization hasn't converged yet.\n",
      "  warnings.warn(\n"
     ]
    },
    {
     "name": "stdout",
     "output_type": "stream",
     "text": [
      "15\n"
     ]
    },
    {
     "name": "stderr",
     "output_type": "stream",
     "text": [
      "/home/ubuntu/anaconda3/lib/python3.8/site-packages/sklearn/neural_network/_multilayer_perceptron.py:614: ConvergenceWarning: Stochastic Optimizer: Maximum iterations (500) reached and the optimization hasn't converged yet.\n",
      "  warnings.warn(\n",
      "/home/ubuntu/anaconda3/lib/python3.8/site-packages/sklearn/neural_network/_multilayer_perceptron.py:614: ConvergenceWarning: Stochastic Optimizer: Maximum iterations (500) reached and the optimization hasn't converged yet.\n",
      "  warnings.warn(\n"
     ]
    },
    {
     "name": "stdout",
     "output_type": "stream",
     "text": [
      "16\n",
      "17\n",
      "18\n",
      "19\n",
      "20\n",
      "21\n",
      "22\n",
      "23\n"
     ]
    },
    {
     "name": "stderr",
     "output_type": "stream",
     "text": [
      "/home/ubuntu/anaconda3/lib/python3.8/site-packages/sklearn/neural_network/_multilayer_perceptron.py:614: ConvergenceWarning: Stochastic Optimizer: Maximum iterations (500) reached and the optimization hasn't converged yet.\n",
      "  warnings.warn(\n"
     ]
    },
    {
     "name": "stdout",
     "output_type": "stream",
     "text": [
      "24\n",
      "25\n",
      "26\n"
     ]
    },
    {
     "name": "stderr",
     "output_type": "stream",
     "text": [
      "/home/ubuntu/anaconda3/lib/python3.8/site-packages/sklearn/neural_network/_multilayer_perceptron.py:614: ConvergenceWarning: Stochastic Optimizer: Maximum iterations (500) reached and the optimization hasn't converged yet.\n",
      "  warnings.warn(\n"
     ]
    },
    {
     "name": "stdout",
     "output_type": "stream",
     "text": [
      "27\n"
     ]
    },
    {
     "name": "stderr",
     "output_type": "stream",
     "text": [
      "/home/ubuntu/anaconda3/lib/python3.8/site-packages/sklearn/neural_network/_multilayer_perceptron.py:614: ConvergenceWarning: Stochastic Optimizer: Maximum iterations (500) reached and the optimization hasn't converged yet.\n",
      "  warnings.warn(\n"
     ]
    },
    {
     "name": "stdout",
     "output_type": "stream",
     "text": [
      "28\n"
     ]
    },
    {
     "name": "stderr",
     "output_type": "stream",
     "text": [
      "/home/ubuntu/anaconda3/lib/python3.8/site-packages/sklearn/neural_network/_multilayer_perceptron.py:614: ConvergenceWarning: Stochastic Optimizer: Maximum iterations (500) reached and the optimization hasn't converged yet.\n",
      "  warnings.warn(\n",
      "/home/ubuntu/anaconda3/lib/python3.8/site-packages/sklearn/neural_network/_multilayer_perceptron.py:614: ConvergenceWarning: Stochastic Optimizer: Maximum iterations (500) reached and the optimization hasn't converged yet.\n",
      "  warnings.warn(\n"
     ]
    },
    {
     "name": "stdout",
     "output_type": "stream",
     "text": [
      "29\n",
      "30\n",
      "31\n"
     ]
    },
    {
     "name": "stderr",
     "output_type": "stream",
     "text": [
      "/home/ubuntu/anaconda3/lib/python3.8/site-packages/sklearn/neural_network/_multilayer_perceptron.py:614: ConvergenceWarning: Stochastic Optimizer: Maximum iterations (500) reached and the optimization hasn't converged yet.\n",
      "  warnings.warn(\n"
     ]
    },
    {
     "name": "stdout",
     "output_type": "stream",
     "text": [
      "32\n",
      "33\n",
      "34\n",
      "35\n",
      "36\n",
      "37\n",
      "38\n",
      "39\n",
      "40\n",
      "41\n"
     ]
    },
    {
     "name": "stderr",
     "output_type": "stream",
     "text": [
      "/home/ubuntu/anaconda3/lib/python3.8/site-packages/sklearn/neural_network/_multilayer_perceptron.py:614: ConvergenceWarning: Stochastic Optimizer: Maximum iterations (500) reached and the optimization hasn't converged yet.\n",
      "  warnings.warn(\n"
     ]
    },
    {
     "name": "stdout",
     "output_type": "stream",
     "text": [
      "42\n",
      "43\n",
      "44\n",
      "45\n",
      "46\n",
      "47\n",
      "48\n",
      "49\n",
      "50\n",
      "51\n"
     ]
    },
    {
     "name": "stderr",
     "output_type": "stream",
     "text": [
      "/home/ubuntu/anaconda3/lib/python3.8/site-packages/sklearn/neural_network/_multilayer_perceptron.py:614: ConvergenceWarning: Stochastic Optimizer: Maximum iterations (500) reached and the optimization hasn't converged yet.\n",
      "  warnings.warn(\n"
     ]
    },
    {
     "name": "stdout",
     "output_type": "stream",
     "text": [
      "52\n",
      "53\n",
      "54\n",
      "55\n",
      "56\n",
      "57\n",
      "58\n"
     ]
    },
    {
     "name": "stderr",
     "output_type": "stream",
     "text": [
      "/home/ubuntu/anaconda3/lib/python3.8/site-packages/sklearn/neural_network/_multilayer_perceptron.py:614: ConvergenceWarning: Stochastic Optimizer: Maximum iterations (500) reached and the optimization hasn't converged yet.\n",
      "  warnings.warn(\n"
     ]
    },
    {
     "name": "stdout",
     "output_type": "stream",
     "text": [
      "59\n",
      "60\n",
      "61\n",
      "62\n",
      "63\n"
     ]
    },
    {
     "name": "stderr",
     "output_type": "stream",
     "text": [
      "/home/ubuntu/anaconda3/lib/python3.8/site-packages/sklearn/neural_network/_multilayer_perceptron.py:614: ConvergenceWarning: Stochastic Optimizer: Maximum iterations (500) reached and the optimization hasn't converged yet.\n",
      "  warnings.warn(\n",
      "/home/ubuntu/anaconda3/lib/python3.8/site-packages/sklearn/neural_network/_multilayer_perceptron.py:614: ConvergenceWarning: Stochastic Optimizer: Maximum iterations (500) reached and the optimization hasn't converged yet.\n",
      "  warnings.warn(\n"
     ]
    },
    {
     "name": "stdout",
     "output_type": "stream",
     "text": [
      "64\n",
      "65\n",
      "66\n",
      "67\n",
      "68\n",
      "69\n",
      "70\n",
      "71\n",
      "72\n",
      "73\n",
      "74\n",
      "75\n",
      "76\n"
     ]
    },
    {
     "name": "stderr",
     "output_type": "stream",
     "text": [
      "/home/ubuntu/anaconda3/lib/python3.8/site-packages/sklearn/neural_network/_multilayer_perceptron.py:614: ConvergenceWarning: Stochastic Optimizer: Maximum iterations (500) reached and the optimization hasn't converged yet.\n",
      "  warnings.warn(\n"
     ]
    },
    {
     "name": "stdout",
     "output_type": "stream",
     "text": [
      "77\n",
      "78\n",
      "79\n",
      "80\n",
      "81\n"
     ]
    },
    {
     "name": "stderr",
     "output_type": "stream",
     "text": [
      "/home/ubuntu/anaconda3/lib/python3.8/site-packages/sklearn/neural_network/_multilayer_perceptron.py:614: ConvergenceWarning: Stochastic Optimizer: Maximum iterations (500) reached and the optimization hasn't converged yet.\n",
      "  warnings.warn(\n"
     ]
    },
    {
     "name": "stdout",
     "output_type": "stream",
     "text": [
      "82\n",
      "83\n",
      "84\n",
      "85\n",
      "86\n",
      "87\n"
     ]
    },
    {
     "name": "stderr",
     "output_type": "stream",
     "text": [
      "/home/ubuntu/anaconda3/lib/python3.8/site-packages/sklearn/neural_network/_multilayer_perceptron.py:614: ConvergenceWarning: Stochastic Optimizer: Maximum iterations (500) reached and the optimization hasn't converged yet.\n",
      "  warnings.warn(\n",
      "/home/ubuntu/anaconda3/lib/python3.8/site-packages/sklearn/neural_network/_multilayer_perceptron.py:614: ConvergenceWarning: Stochastic Optimizer: Maximum iterations (500) reached and the optimization hasn't converged yet.\n",
      "  warnings.warn(\n"
     ]
    },
    {
     "name": "stdout",
     "output_type": "stream",
     "text": [
      "88\n",
      "89\n"
     ]
    },
    {
     "name": "stderr",
     "output_type": "stream",
     "text": [
      "/home/ubuntu/anaconda3/lib/python3.8/site-packages/sklearn/neural_network/_multilayer_perceptron.py:614: ConvergenceWarning: Stochastic Optimizer: Maximum iterations (500) reached and the optimization hasn't converged yet.\n",
      "  warnings.warn(\n",
      "/home/ubuntu/anaconda3/lib/python3.8/site-packages/sklearn/neural_network/_multilayer_perceptron.py:614: ConvergenceWarning: Stochastic Optimizer: Maximum iterations (500) reached and the optimization hasn't converged yet.\n",
      "  warnings.warn(\n"
     ]
    },
    {
     "name": "stdout",
     "output_type": "stream",
     "text": [
      "90\n",
      "91\n",
      "92\n",
      "93\n"
     ]
    },
    {
     "name": "stderr",
     "output_type": "stream",
     "text": [
      "/home/ubuntu/anaconda3/lib/python3.8/site-packages/sklearn/neural_network/_multilayer_perceptron.py:614: ConvergenceWarning: Stochastic Optimizer: Maximum iterations (500) reached and the optimization hasn't converged yet.\n",
      "  warnings.warn(\n"
     ]
    },
    {
     "name": "stdout",
     "output_type": "stream",
     "text": [
      "94\n"
     ]
    },
    {
     "name": "stderr",
     "output_type": "stream",
     "text": [
      "/home/ubuntu/anaconda3/lib/python3.8/site-packages/sklearn/neural_network/_multilayer_perceptron.py:614: ConvergenceWarning: Stochastic Optimizer: Maximum iterations (500) reached and the optimization hasn't converged yet.\n",
      "  warnings.warn(\n"
     ]
    },
    {
     "name": "stdout",
     "output_type": "stream",
     "text": [
      "95\n",
      "96\n",
      "97\n",
      "98\n",
      "99\n",
      "100\n"
     ]
    },
    {
     "name": "stderr",
     "output_type": "stream",
     "text": [
      "/home/ubuntu/anaconda3/lib/python3.8/site-packages/sklearn/neural_network/_multilayer_perceptron.py:614: ConvergenceWarning: Stochastic Optimizer: Maximum iterations (500) reached and the optimization hasn't converged yet.\n",
      "  warnings.warn(\n"
     ]
    },
    {
     "name": "stdout",
     "output_type": "stream",
     "text": [
      "101\n"
     ]
    },
    {
     "name": "stderr",
     "output_type": "stream",
     "text": [
      "/home/ubuntu/anaconda3/lib/python3.8/site-packages/sklearn/neural_network/_multilayer_perceptron.py:614: ConvergenceWarning: Stochastic Optimizer: Maximum iterations (500) reached and the optimization hasn't converged yet.\n",
      "  warnings.warn(\n"
     ]
    },
    {
     "name": "stdout",
     "output_type": "stream",
     "text": [
      "102\n",
      "103\n",
      "104\n",
      "105\n",
      "106\n",
      "107\n",
      "108\n"
     ]
    },
    {
     "name": "stderr",
     "output_type": "stream",
     "text": [
      "/home/ubuntu/anaconda3/lib/python3.8/site-packages/sklearn/neural_network/_multilayer_perceptron.py:614: ConvergenceWarning: Stochastic Optimizer: Maximum iterations (500) reached and the optimization hasn't converged yet.\n",
      "  warnings.warn(\n",
      "/home/ubuntu/anaconda3/lib/python3.8/site-packages/sklearn/neural_network/_multilayer_perceptron.py:614: ConvergenceWarning: Stochastic Optimizer: Maximum iterations (500) reached and the optimization hasn't converged yet.\n",
      "  warnings.warn(\n",
      "/home/ubuntu/anaconda3/lib/python3.8/site-packages/sklearn/neural_network/_multilayer_perceptron.py:614: ConvergenceWarning: Stochastic Optimizer: Maximum iterations (500) reached and the optimization hasn't converged yet.\n",
      "  warnings.warn(\n",
      "/home/ubuntu/anaconda3/lib/python3.8/site-packages/sklearn/neural_network/_multilayer_perceptron.py:614: ConvergenceWarning: Stochastic Optimizer: Maximum iterations (500) reached and the optimization hasn't converged yet.\n",
      "  warnings.warn(\n",
      "/home/ubuntu/anaconda3/lib/python3.8/site-packages/sklearn/neural_network/_multilayer_perceptron.py:614: ConvergenceWarning: Stochastic Optimizer: Maximum iterations (500) reached and the optimization hasn't converged yet.\n",
      "  warnings.warn(\n"
     ]
    },
    {
     "name": "stdout",
     "output_type": "stream",
     "text": [
      "109\n"
     ]
    },
    {
     "name": "stderr",
     "output_type": "stream",
     "text": [
      "/home/ubuntu/anaconda3/lib/python3.8/site-packages/sklearn/neural_network/_multilayer_perceptron.py:614: ConvergenceWarning: Stochastic Optimizer: Maximum iterations (500) reached and the optimization hasn't converged yet.\n",
      "  warnings.warn(\n"
     ]
    },
    {
     "name": "stdout",
     "output_type": "stream",
     "text": [
      "110\n",
      "111\n",
      "112\n",
      "113\n",
      "114\n",
      "115\n"
     ]
    },
    {
     "name": "stderr",
     "output_type": "stream",
     "text": [
      "/home/ubuntu/anaconda3/lib/python3.8/site-packages/sklearn/neural_network/_multilayer_perceptron.py:614: ConvergenceWarning: Stochastic Optimizer: Maximum iterations (500) reached and the optimization hasn't converged yet.\n",
      "  warnings.warn(\n"
     ]
    },
    {
     "name": "stdout",
     "output_type": "stream",
     "text": [
      "116\n",
      "117\n",
      "118\n",
      "119\n",
      "120\n",
      "121\n",
      "122\n",
      "123\n",
      "124\n"
     ]
    },
    {
     "name": "stderr",
     "output_type": "stream",
     "text": [
      "/home/ubuntu/anaconda3/lib/python3.8/site-packages/sklearn/neural_network/_multilayer_perceptron.py:614: ConvergenceWarning: Stochastic Optimizer: Maximum iterations (500) reached and the optimization hasn't converged yet.\n",
      "  warnings.warn(\n"
     ]
    },
    {
     "name": "stdout",
     "output_type": "stream",
     "text": [
      "125\n",
      "126\n",
      "127\n",
      "128\n",
      "129\n",
      "130\n"
     ]
    },
    {
     "name": "stderr",
     "output_type": "stream",
     "text": [
      "/home/ubuntu/anaconda3/lib/python3.8/site-packages/sklearn/neural_network/_multilayer_perceptron.py:614: ConvergenceWarning: Stochastic Optimizer: Maximum iterations (500) reached and the optimization hasn't converged yet.\n",
      "  warnings.warn(\n"
     ]
    },
    {
     "name": "stdout",
     "output_type": "stream",
     "text": [
      "131\n"
     ]
    },
    {
     "name": "stderr",
     "output_type": "stream",
     "text": [
      "/home/ubuntu/anaconda3/lib/python3.8/site-packages/sklearn/neural_network/_multilayer_perceptron.py:614: ConvergenceWarning: Stochastic Optimizer: Maximum iterations (500) reached and the optimization hasn't converged yet.\n",
      "  warnings.warn(\n"
     ]
    },
    {
     "name": "stdout",
     "output_type": "stream",
     "text": [
      "132\n",
      "133\n"
     ]
    },
    {
     "name": "stderr",
     "output_type": "stream",
     "text": [
      "/home/ubuntu/anaconda3/lib/python3.8/site-packages/sklearn/neural_network/_multilayer_perceptron.py:614: ConvergenceWarning: Stochastic Optimizer: Maximum iterations (500) reached and the optimization hasn't converged yet.\n",
      "  warnings.warn(\n"
     ]
    },
    {
     "name": "stdout",
     "output_type": "stream",
     "text": [
      "134\n",
      "135\n",
      "136\n"
     ]
    },
    {
     "name": "stderr",
     "output_type": "stream",
     "text": [
      "/home/ubuntu/anaconda3/lib/python3.8/site-packages/sklearn/neural_network/_multilayer_perceptron.py:614: ConvergenceWarning: Stochastic Optimizer: Maximum iterations (500) reached and the optimization hasn't converged yet.\n",
      "  warnings.warn(\n"
     ]
    },
    {
     "name": "stdout",
     "output_type": "stream",
     "text": [
      "137\n",
      "138\n",
      "139\n",
      "140\n",
      "141\n"
     ]
    },
    {
     "name": "stderr",
     "output_type": "stream",
     "text": [
      "/home/ubuntu/anaconda3/lib/python3.8/site-packages/sklearn/neural_network/_multilayer_perceptron.py:614: ConvergenceWarning: Stochastic Optimizer: Maximum iterations (500) reached and the optimization hasn't converged yet.\n",
      "  warnings.warn(\n",
      "/home/ubuntu/anaconda3/lib/python3.8/site-packages/sklearn/neural_network/_multilayer_perceptron.py:614: ConvergenceWarning: Stochastic Optimizer: Maximum iterations (500) reached and the optimization hasn't converged yet.\n",
      "  warnings.warn(\n"
     ]
    },
    {
     "name": "stdout",
     "output_type": "stream",
     "text": [
      "142\n",
      "143\n",
      "144\n"
     ]
    },
    {
     "name": "stderr",
     "output_type": "stream",
     "text": [
      "/home/ubuntu/anaconda3/lib/python3.8/site-packages/sklearn/neural_network/_multilayer_perceptron.py:614: ConvergenceWarning: Stochastic Optimizer: Maximum iterations (500) reached and the optimization hasn't converged yet.\n",
      "  warnings.warn(\n"
     ]
    },
    {
     "name": "stdout",
     "output_type": "stream",
     "text": [
      "145\n",
      "146\n",
      "147\n"
     ]
    },
    {
     "name": "stderr",
     "output_type": "stream",
     "text": [
      "/home/ubuntu/anaconda3/lib/python3.8/site-packages/sklearn/neural_network/_multilayer_perceptron.py:614: ConvergenceWarning: Stochastic Optimizer: Maximum iterations (500) reached and the optimization hasn't converged yet.\n",
      "  warnings.warn(\n"
     ]
    },
    {
     "name": "stdout",
     "output_type": "stream",
     "text": [
      "148\n",
      "149\n",
      "150\n",
      "151\n",
      "152\n",
      "153\n",
      "154\n",
      "155\n",
      "156\n",
      "157\n",
      "158\n",
      "159\n",
      "160\n",
      "161\n",
      "162\n",
      "163\n",
      "164\n",
      "165\n",
      "166\n",
      "167\n",
      "168\n",
      "169\n",
      "170\n"
     ]
    },
    {
     "name": "stderr",
     "output_type": "stream",
     "text": [
      "/home/ubuntu/anaconda3/lib/python3.8/site-packages/sklearn/neural_network/_multilayer_perceptron.py:614: ConvergenceWarning: Stochastic Optimizer: Maximum iterations (500) reached and the optimization hasn't converged yet.\n",
      "  warnings.warn(\n"
     ]
    },
    {
     "name": "stdout",
     "output_type": "stream",
     "text": [
      "171\n",
      "172\n",
      "173\n",
      "174\n"
     ]
    },
    {
     "name": "stderr",
     "output_type": "stream",
     "text": [
      "/home/ubuntu/anaconda3/lib/python3.8/site-packages/sklearn/neural_network/_multilayer_perceptron.py:614: ConvergenceWarning: Stochastic Optimizer: Maximum iterations (500) reached and the optimization hasn't converged yet.\n",
      "  warnings.warn(\n"
     ]
    },
    {
     "name": "stdout",
     "output_type": "stream",
     "text": [
      "175\n",
      "176\n",
      "177\n",
      "178\n"
     ]
    },
    {
     "name": "stderr",
     "output_type": "stream",
     "text": [
      "/home/ubuntu/anaconda3/lib/python3.8/site-packages/sklearn/neural_network/_multilayer_perceptron.py:614: ConvergenceWarning: Stochastic Optimizer: Maximum iterations (500) reached and the optimization hasn't converged yet.\n",
      "  warnings.warn(\n"
     ]
    },
    {
     "name": "stdout",
     "output_type": "stream",
     "text": [
      "179\n",
      "180\n",
      "181\n",
      "182\n",
      "183\n"
     ]
    },
    {
     "name": "stderr",
     "output_type": "stream",
     "text": [
      "/home/ubuntu/anaconda3/lib/python3.8/site-packages/sklearn/neural_network/_multilayer_perceptron.py:614: ConvergenceWarning: Stochastic Optimizer: Maximum iterations (500) reached and the optimization hasn't converged yet.\n",
      "  warnings.warn(\n",
      "/home/ubuntu/anaconda3/lib/python3.8/site-packages/sklearn/neural_network/_multilayer_perceptron.py:614: ConvergenceWarning: Stochastic Optimizer: Maximum iterations (500) reached and the optimization hasn't converged yet.\n",
      "  warnings.warn(\n"
     ]
    },
    {
     "name": "stdout",
     "output_type": "stream",
     "text": [
      "184\n",
      "185\n",
      "186\n",
      "187\n"
     ]
    },
    {
     "name": "stderr",
     "output_type": "stream",
     "text": [
      "/home/ubuntu/anaconda3/lib/python3.8/site-packages/sklearn/neural_network/_multilayer_perceptron.py:614: ConvergenceWarning: Stochastic Optimizer: Maximum iterations (500) reached and the optimization hasn't converged yet.\n",
      "  warnings.warn(\n",
      "/home/ubuntu/anaconda3/lib/python3.8/site-packages/sklearn/neural_network/_multilayer_perceptron.py:614: ConvergenceWarning: Stochastic Optimizer: Maximum iterations (500) reached and the optimization hasn't converged yet.\n",
      "  warnings.warn(\n"
     ]
    },
    {
     "name": "stdout",
     "output_type": "stream",
     "text": [
      "188\n",
      "189\n",
      "190\n",
      "191\n",
      "192\n"
     ]
    },
    {
     "name": "stderr",
     "output_type": "stream",
     "text": [
      "/home/ubuntu/anaconda3/lib/python3.8/site-packages/sklearn/neural_network/_multilayer_perceptron.py:614: ConvergenceWarning: Stochastic Optimizer: Maximum iterations (500) reached and the optimization hasn't converged yet.\n",
      "  warnings.warn(\n"
     ]
    },
    {
     "name": "stdout",
     "output_type": "stream",
     "text": [
      "193\n",
      "194\n",
      "195\n",
      "196\n"
     ]
    },
    {
     "name": "stderr",
     "output_type": "stream",
     "text": [
      "/home/ubuntu/anaconda3/lib/python3.8/site-packages/sklearn/neural_network/_multilayer_perceptron.py:614: ConvergenceWarning: Stochastic Optimizer: Maximum iterations (500) reached and the optimization hasn't converged yet.\n",
      "  warnings.warn(\n"
     ]
    },
    {
     "name": "stdout",
     "output_type": "stream",
     "text": [
      "197\n",
      "198\n",
      "199\n",
      "200\n",
      "201\n",
      "202\n",
      "203\n",
      "204\n",
      "205\n",
      "206\n",
      "207\n",
      "208\n",
      "209\n",
      "210\n"
     ]
    },
    {
     "name": "stderr",
     "output_type": "stream",
     "text": [
      "/home/ubuntu/anaconda3/lib/python3.8/site-packages/sklearn/neural_network/_multilayer_perceptron.py:614: ConvergenceWarning: Stochastic Optimizer: Maximum iterations (500) reached and the optimization hasn't converged yet.\n",
      "  warnings.warn(\n",
      "/home/ubuntu/anaconda3/lib/python3.8/site-packages/sklearn/neural_network/_multilayer_perceptron.py:614: ConvergenceWarning: Stochastic Optimizer: Maximum iterations (500) reached and the optimization hasn't converged yet.\n",
      "  warnings.warn(\n",
      "/home/ubuntu/anaconda3/lib/python3.8/site-packages/sklearn/neural_network/_multilayer_perceptron.py:614: ConvergenceWarning: Stochastic Optimizer: Maximum iterations (500) reached and the optimization hasn't converged yet.\n",
      "  warnings.warn(\n",
      "/home/ubuntu/anaconda3/lib/python3.8/site-packages/sklearn/neural_network/_multilayer_perceptron.py:614: ConvergenceWarning: Stochastic Optimizer: Maximum iterations (500) reached and the optimization hasn't converged yet.\n",
      "  warnings.warn(\n",
      "/home/ubuntu/anaconda3/lib/python3.8/site-packages/sklearn/neural_network/_multilayer_perceptron.py:614: ConvergenceWarning: Stochastic Optimizer: Maximum iterations (500) reached and the optimization hasn't converged yet.\n",
      "  warnings.warn(\n"
     ]
    },
    {
     "name": "stdout",
     "output_type": "stream",
     "text": [
      "211\n",
      "212\n"
     ]
    },
    {
     "name": "stderr",
     "output_type": "stream",
     "text": [
      "/home/ubuntu/anaconda3/lib/python3.8/site-packages/sklearn/neural_network/_multilayer_perceptron.py:614: ConvergenceWarning: Stochastic Optimizer: Maximum iterations (500) reached and the optimization hasn't converged yet.\n",
      "  warnings.warn(\n"
     ]
    },
    {
     "name": "stdout",
     "output_type": "stream",
     "text": [
      "213\n",
      "214\n",
      "215\n",
      "216\n",
      "217\n",
      "218\n",
      "219\n",
      "220\n"
     ]
    },
    {
     "name": "stderr",
     "output_type": "stream",
     "text": [
      "/home/ubuntu/anaconda3/lib/python3.8/site-packages/sklearn/neural_network/_multilayer_perceptron.py:614: ConvergenceWarning: Stochastic Optimizer: Maximum iterations (500) reached and the optimization hasn't converged yet.\n",
      "  warnings.warn(\n",
      "/home/ubuntu/anaconda3/lib/python3.8/site-packages/sklearn/neural_network/_multilayer_perceptron.py:614: ConvergenceWarning: Stochastic Optimizer: Maximum iterations (500) reached and the optimization hasn't converged yet.\n",
      "  warnings.warn(\n"
     ]
    },
    {
     "name": "stdout",
     "output_type": "stream",
     "text": [
      "221\n",
      "222\n"
     ]
    },
    {
     "name": "stderr",
     "output_type": "stream",
     "text": [
      "/home/ubuntu/anaconda3/lib/python3.8/site-packages/sklearn/neural_network/_multilayer_perceptron.py:614: ConvergenceWarning: Stochastic Optimizer: Maximum iterations (500) reached and the optimization hasn't converged yet.\n",
      "  warnings.warn(\n"
     ]
    },
    {
     "name": "stdout",
     "output_type": "stream",
     "text": [
      "223\n",
      "224\n"
     ]
    },
    {
     "name": "stderr",
     "output_type": "stream",
     "text": [
      "/home/ubuntu/anaconda3/lib/python3.8/site-packages/sklearn/neural_network/_multilayer_perceptron.py:614: ConvergenceWarning: Stochastic Optimizer: Maximum iterations (500) reached and the optimization hasn't converged yet.\n",
      "  warnings.warn(\n"
     ]
    },
    {
     "name": "stdout",
     "output_type": "stream",
     "text": [
      "225\n",
      "226\n",
      "227\n",
      "228\n",
      "229\n"
     ]
    },
    {
     "name": "stderr",
     "output_type": "stream",
     "text": [
      "/home/ubuntu/anaconda3/lib/python3.8/site-packages/sklearn/neural_network/_multilayer_perceptron.py:614: ConvergenceWarning: Stochastic Optimizer: Maximum iterations (500) reached and the optimization hasn't converged yet.\n",
      "  warnings.warn(\n",
      "/home/ubuntu/anaconda3/lib/python3.8/site-packages/sklearn/neural_network/_multilayer_perceptron.py:614: ConvergenceWarning: Stochastic Optimizer: Maximum iterations (500) reached and the optimization hasn't converged yet.\n",
      "  warnings.warn(\n"
     ]
    },
    {
     "name": "stdout",
     "output_type": "stream",
     "text": [
      "230\n",
      "231\n",
      "232\n",
      "233\n",
      "234\n",
      "235\n",
      "236\n",
      "237\n",
      "238\n",
      "239\n",
      "240\n"
     ]
    },
    {
     "name": "stderr",
     "output_type": "stream",
     "text": [
      "/home/ubuntu/anaconda3/lib/python3.8/site-packages/sklearn/neural_network/_multilayer_perceptron.py:614: ConvergenceWarning: Stochastic Optimizer: Maximum iterations (500) reached and the optimization hasn't converged yet.\n",
      "  warnings.warn(\n"
     ]
    },
    {
     "name": "stdout",
     "output_type": "stream",
     "text": [
      "241\n",
      "242\n",
      "243\n",
      "244\n",
      "245\n",
      "246\n",
      "247\n"
     ]
    },
    {
     "name": "stderr",
     "output_type": "stream",
     "text": [
      "/home/ubuntu/anaconda3/lib/python3.8/site-packages/sklearn/neural_network/_multilayer_perceptron.py:614: ConvergenceWarning: Stochastic Optimizer: Maximum iterations (500) reached and the optimization hasn't converged yet.\n",
      "  warnings.warn(\n"
     ]
    },
    {
     "name": "stdout",
     "output_type": "stream",
     "text": [
      "248\n",
      "249\n",
      "250\n",
      "251\n",
      "252\n",
      "253\n",
      "254\n",
      "255\n",
      "256\n",
      "257\n",
      "258\n",
      "259\n",
      "260\n",
      "261\n",
      "262\n",
      "263\n",
      "264\n",
      "265\n",
      "266\n"
     ]
    },
    {
     "name": "stderr",
     "output_type": "stream",
     "text": [
      "/home/ubuntu/anaconda3/lib/python3.8/site-packages/sklearn/neural_network/_multilayer_perceptron.py:614: ConvergenceWarning: Stochastic Optimizer: Maximum iterations (500) reached and the optimization hasn't converged yet.\n",
      "  warnings.warn(\n"
     ]
    },
    {
     "name": "stdout",
     "output_type": "stream",
     "text": [
      "267\n"
     ]
    },
    {
     "name": "stderr",
     "output_type": "stream",
     "text": [
      "/home/ubuntu/anaconda3/lib/python3.8/site-packages/sklearn/neural_network/_multilayer_perceptron.py:614: ConvergenceWarning: Stochastic Optimizer: Maximum iterations (500) reached and the optimization hasn't converged yet.\n",
      "  warnings.warn(\n"
     ]
    },
    {
     "name": "stdout",
     "output_type": "stream",
     "text": [
      "268\n",
      "269\n"
     ]
    },
    {
     "name": "stderr",
     "output_type": "stream",
     "text": [
      "/home/ubuntu/anaconda3/lib/python3.8/site-packages/sklearn/neural_network/_multilayer_perceptron.py:614: ConvergenceWarning: Stochastic Optimizer: Maximum iterations (500) reached and the optimization hasn't converged yet.\n",
      "  warnings.warn(\n",
      "/home/ubuntu/anaconda3/lib/python3.8/site-packages/sklearn/neural_network/_multilayer_perceptron.py:614: ConvergenceWarning: Stochastic Optimizer: Maximum iterations (500) reached and the optimization hasn't converged yet.\n",
      "  warnings.warn(\n"
     ]
    },
    {
     "name": "stdout",
     "output_type": "stream",
     "text": [
      "270\n",
      "271\n",
      "272\n",
      "273\n",
      "274\n",
      "275\n"
     ]
    },
    {
     "name": "stderr",
     "output_type": "stream",
     "text": [
      "/home/ubuntu/anaconda3/lib/python3.8/site-packages/sklearn/neural_network/_multilayer_perceptron.py:614: ConvergenceWarning: Stochastic Optimizer: Maximum iterations (500) reached and the optimization hasn't converged yet.\n",
      "  warnings.warn(\n"
     ]
    },
    {
     "name": "stdout",
     "output_type": "stream",
     "text": [
      "276\n",
      "277\n",
      "278\n",
      "279\n",
      "280\n"
     ]
    },
    {
     "name": "stderr",
     "output_type": "stream",
     "text": [
      "/home/ubuntu/anaconda3/lib/python3.8/site-packages/sklearn/neural_network/_multilayer_perceptron.py:614: ConvergenceWarning: Stochastic Optimizer: Maximum iterations (500) reached and the optimization hasn't converged yet.\n",
      "  warnings.warn(\n",
      "/home/ubuntu/anaconda3/lib/python3.8/site-packages/sklearn/neural_network/_multilayer_perceptron.py:614: ConvergenceWarning: Stochastic Optimizer: Maximum iterations (500) reached and the optimization hasn't converged yet.\n",
      "  warnings.warn(\n"
     ]
    },
    {
     "name": "stdout",
     "output_type": "stream",
     "text": [
      "281\n",
      "282\n",
      "283\n"
     ]
    },
    {
     "name": "stderr",
     "output_type": "stream",
     "text": [
      "/home/ubuntu/anaconda3/lib/python3.8/site-packages/sklearn/neural_network/_multilayer_perceptron.py:614: ConvergenceWarning: Stochastic Optimizer: Maximum iterations (500) reached and the optimization hasn't converged yet.\n",
      "  warnings.warn(\n"
     ]
    },
    {
     "name": "stdout",
     "output_type": "stream",
     "text": [
      "284\n",
      "285\n"
     ]
    },
    {
     "name": "stderr",
     "output_type": "stream",
     "text": [
      "/home/ubuntu/anaconda3/lib/python3.8/site-packages/sklearn/neural_network/_multilayer_perceptron.py:614: ConvergenceWarning: Stochastic Optimizer: Maximum iterations (500) reached and the optimization hasn't converged yet.\n",
      "  warnings.warn(\n",
      "/home/ubuntu/anaconda3/lib/python3.8/site-packages/sklearn/neural_network/_multilayer_perceptron.py:614: ConvergenceWarning: Stochastic Optimizer: Maximum iterations (500) reached and the optimization hasn't converged yet.\n",
      "  warnings.warn(\n",
      "/home/ubuntu/anaconda3/lib/python3.8/site-packages/sklearn/neural_network/_multilayer_perceptron.py:614: ConvergenceWarning: Stochastic Optimizer: Maximum iterations (500) reached and the optimization hasn't converged yet.\n",
      "  warnings.warn(\n"
     ]
    },
    {
     "name": "stdout",
     "output_type": "stream",
     "text": [
      "286\n",
      "287\n"
     ]
    },
    {
     "name": "stderr",
     "output_type": "stream",
     "text": [
      "/home/ubuntu/anaconda3/lib/python3.8/site-packages/sklearn/neural_network/_multilayer_perceptron.py:614: ConvergenceWarning: Stochastic Optimizer: Maximum iterations (500) reached and the optimization hasn't converged yet.\n",
      "  warnings.warn(\n"
     ]
    },
    {
     "name": "stdout",
     "output_type": "stream",
     "text": [
      "288\n",
      "289\n"
     ]
    },
    {
     "name": "stderr",
     "output_type": "stream",
     "text": [
      "/home/ubuntu/anaconda3/lib/python3.8/site-packages/sklearn/neural_network/_multilayer_perceptron.py:614: ConvergenceWarning: Stochastic Optimizer: Maximum iterations (500) reached and the optimization hasn't converged yet.\n",
      "  warnings.warn(\n"
     ]
    },
    {
     "name": "stdout",
     "output_type": "stream",
     "text": [
      "290\n"
     ]
    },
    {
     "name": "stderr",
     "output_type": "stream",
     "text": [
      "/home/ubuntu/anaconda3/lib/python3.8/site-packages/sklearn/neural_network/_multilayer_perceptron.py:614: ConvergenceWarning: Stochastic Optimizer: Maximum iterations (500) reached and the optimization hasn't converged yet.\n",
      "  warnings.warn(\n"
     ]
    },
    {
     "name": "stdout",
     "output_type": "stream",
     "text": [
      "291\n",
      "292\n"
     ]
    },
    {
     "name": "stderr",
     "output_type": "stream",
     "text": [
      "/home/ubuntu/anaconda3/lib/python3.8/site-packages/sklearn/neural_network/_multilayer_perceptron.py:614: ConvergenceWarning: Stochastic Optimizer: Maximum iterations (500) reached and the optimization hasn't converged yet.\n",
      "  warnings.warn(\n",
      "/home/ubuntu/anaconda3/lib/python3.8/site-packages/sklearn/neural_network/_multilayer_perceptron.py:614: ConvergenceWarning: Stochastic Optimizer: Maximum iterations (500) reached and the optimization hasn't converged yet.\n",
      "  warnings.warn(\n"
     ]
    },
    {
     "name": "stdout",
     "output_type": "stream",
     "text": [
      "293\n",
      "294\n"
     ]
    },
    {
     "name": "stderr",
     "output_type": "stream",
     "text": [
      "/home/ubuntu/anaconda3/lib/python3.8/site-packages/sklearn/neural_network/_multilayer_perceptron.py:614: ConvergenceWarning: Stochastic Optimizer: Maximum iterations (500) reached and the optimization hasn't converged yet.\n",
      "  warnings.warn(\n",
      "/home/ubuntu/anaconda3/lib/python3.8/site-packages/sklearn/neural_network/_multilayer_perceptron.py:614: ConvergenceWarning: Stochastic Optimizer: Maximum iterations (500) reached and the optimization hasn't converged yet.\n",
      "  warnings.warn(\n"
     ]
    },
    {
     "name": "stdout",
     "output_type": "stream",
     "text": [
      "295\n",
      "296\n",
      "297\n",
      "298\n",
      "299\n"
     ]
    },
    {
     "name": "stderr",
     "output_type": "stream",
     "text": [
      "/home/ubuntu/anaconda3/lib/python3.8/site-packages/sklearn/neural_network/_multilayer_perceptron.py:614: ConvergenceWarning: Stochastic Optimizer: Maximum iterations (500) reached and the optimization hasn't converged yet.\n",
      "  warnings.warn(\n"
     ]
    },
    {
     "name": "stdout",
     "output_type": "stream",
     "text": [
      "300\n",
      "301\n",
      "302\n"
     ]
    },
    {
     "name": "stderr",
     "output_type": "stream",
     "text": [
      "/home/ubuntu/anaconda3/lib/python3.8/site-packages/sklearn/neural_network/_multilayer_perceptron.py:614: ConvergenceWarning: Stochastic Optimizer: Maximum iterations (500) reached and the optimization hasn't converged yet.\n",
      "  warnings.warn(\n"
     ]
    },
    {
     "name": "stdout",
     "output_type": "stream",
     "text": [
      "303\n",
      "304\n",
      "305\n",
      "306\n",
      "307\n",
      "308\n",
      "309\n"
     ]
    },
    {
     "name": "stderr",
     "output_type": "stream",
     "text": [
      "/home/ubuntu/anaconda3/lib/python3.8/site-packages/sklearn/neural_network/_multilayer_perceptron.py:614: ConvergenceWarning: Stochastic Optimizer: Maximum iterations (500) reached and the optimization hasn't converged yet.\n",
      "  warnings.warn(\n"
     ]
    },
    {
     "name": "stdout",
     "output_type": "stream",
     "text": [
      "310\n",
      "311\n"
     ]
    },
    {
     "name": "stderr",
     "output_type": "stream",
     "text": [
      "/home/ubuntu/anaconda3/lib/python3.8/site-packages/sklearn/neural_network/_multilayer_perceptron.py:614: ConvergenceWarning: Stochastic Optimizer: Maximum iterations (500) reached and the optimization hasn't converged yet.\n",
      "  warnings.warn(\n"
     ]
    },
    {
     "name": "stdout",
     "output_type": "stream",
     "text": [
      "312\n",
      "313\n",
      "314\n",
      "315\n"
     ]
    },
    {
     "name": "stderr",
     "output_type": "stream",
     "text": [
      "/home/ubuntu/anaconda3/lib/python3.8/site-packages/sklearn/neural_network/_multilayer_perceptron.py:614: ConvergenceWarning: Stochastic Optimizer: Maximum iterations (500) reached and the optimization hasn't converged yet.\n",
      "  warnings.warn(\n"
     ]
    },
    {
     "name": "stdout",
     "output_type": "stream",
     "text": [
      "316\n"
     ]
    },
    {
     "name": "stderr",
     "output_type": "stream",
     "text": [
      "/home/ubuntu/anaconda3/lib/python3.8/site-packages/sklearn/neural_network/_multilayer_perceptron.py:614: ConvergenceWarning: Stochastic Optimizer: Maximum iterations (500) reached and the optimization hasn't converged yet.\n",
      "  warnings.warn(\n"
     ]
    },
    {
     "name": "stdout",
     "output_type": "stream",
     "text": [
      "317\n",
      "318\n"
     ]
    },
    {
     "name": "stderr",
     "output_type": "stream",
     "text": [
      "/home/ubuntu/anaconda3/lib/python3.8/site-packages/sklearn/neural_network/_multilayer_perceptron.py:614: ConvergenceWarning: Stochastic Optimizer: Maximum iterations (500) reached and the optimization hasn't converged yet.\n",
      "  warnings.warn(\n",
      "/home/ubuntu/anaconda3/lib/python3.8/site-packages/sklearn/neural_network/_multilayer_perceptron.py:614: ConvergenceWarning: Stochastic Optimizer: Maximum iterations (500) reached and the optimization hasn't converged yet.\n",
      "  warnings.warn(\n",
      "/home/ubuntu/anaconda3/lib/python3.8/site-packages/sklearn/neural_network/_multilayer_perceptron.py:614: ConvergenceWarning: Stochastic Optimizer: Maximum iterations (500) reached and the optimization hasn't converged yet.\n",
      "  warnings.warn(\n"
     ]
    },
    {
     "name": "stdout",
     "output_type": "stream",
     "text": [
      "319\n",
      "320\n",
      "321\n",
      "322\n",
      "323\n",
      "324\n",
      "325\n",
      "326\n",
      "327\n",
      "328\n",
      "329\n",
      "330\n",
      "331\n",
      "332\n"
     ]
    },
    {
     "name": "stderr",
     "output_type": "stream",
     "text": [
      "/home/ubuntu/anaconda3/lib/python3.8/site-packages/sklearn/neural_network/_multilayer_perceptron.py:614: ConvergenceWarning: Stochastic Optimizer: Maximum iterations (500) reached and the optimization hasn't converged yet.\n",
      "  warnings.warn(\n"
     ]
    },
    {
     "name": "stdout",
     "output_type": "stream",
     "text": [
      "333\n"
     ]
    },
    {
     "name": "stderr",
     "output_type": "stream",
     "text": [
      "/home/ubuntu/anaconda3/lib/python3.8/site-packages/sklearn/neural_network/_multilayer_perceptron.py:614: ConvergenceWarning: Stochastic Optimizer: Maximum iterations (500) reached and the optimization hasn't converged yet.\n",
      "  warnings.warn(\n",
      "/home/ubuntu/anaconda3/lib/python3.8/site-packages/sklearn/neural_network/_multilayer_perceptron.py:614: ConvergenceWarning: Stochastic Optimizer: Maximum iterations (500) reached and the optimization hasn't converged yet.\n",
      "  warnings.warn(\n",
      "/home/ubuntu/anaconda3/lib/python3.8/site-packages/sklearn/neural_network/_multilayer_perceptron.py:614: ConvergenceWarning: Stochastic Optimizer: Maximum iterations (500) reached and the optimization hasn't converged yet.\n",
      "  warnings.warn(\n"
     ]
    },
    {
     "name": "stdout",
     "output_type": "stream",
     "text": [
      "334\n"
     ]
    },
    {
     "name": "stderr",
     "output_type": "stream",
     "text": [
      "/home/ubuntu/anaconda3/lib/python3.8/site-packages/sklearn/neural_network/_multilayer_perceptron.py:614: ConvergenceWarning: Stochastic Optimizer: Maximum iterations (500) reached and the optimization hasn't converged yet.\n",
      "  warnings.warn(\n"
     ]
    },
    {
     "name": "stdout",
     "output_type": "stream",
     "text": [
      "335\n",
      "336\n",
      "337\n",
      "338\n",
      "339\n",
      "340\n",
      "341\n",
      "342\n"
     ]
    },
    {
     "name": "stderr",
     "output_type": "stream",
     "text": [
      "/home/ubuntu/anaconda3/lib/python3.8/site-packages/sklearn/neural_network/_multilayer_perceptron.py:614: ConvergenceWarning: Stochastic Optimizer: Maximum iterations (500) reached and the optimization hasn't converged yet.\n",
      "  warnings.warn(\n",
      "/home/ubuntu/anaconda3/lib/python3.8/site-packages/sklearn/neural_network/_multilayer_perceptron.py:614: ConvergenceWarning: Stochastic Optimizer: Maximum iterations (500) reached and the optimization hasn't converged yet.\n",
      "  warnings.warn(\n"
     ]
    },
    {
     "name": "stdout",
     "output_type": "stream",
     "text": [
      "343\n",
      "344\n",
      "345\n",
      "346\n",
      "347\n",
      "348\n",
      "349\n"
     ]
    },
    {
     "name": "stderr",
     "output_type": "stream",
     "text": [
      "/home/ubuntu/anaconda3/lib/python3.8/site-packages/sklearn/neural_network/_multilayer_perceptron.py:614: ConvergenceWarning: Stochastic Optimizer: Maximum iterations (500) reached and the optimization hasn't converged yet.\n",
      "  warnings.warn(\n",
      "/home/ubuntu/anaconda3/lib/python3.8/site-packages/sklearn/neural_network/_multilayer_perceptron.py:614: ConvergenceWarning: Stochastic Optimizer: Maximum iterations (500) reached and the optimization hasn't converged yet.\n",
      "  warnings.warn(\n"
     ]
    },
    {
     "name": "stdout",
     "output_type": "stream",
     "text": [
      "350\n",
      "351\n",
      "352\n",
      "353\n",
      "354\n"
     ]
    },
    {
     "name": "stderr",
     "output_type": "stream",
     "text": [
      "/home/ubuntu/anaconda3/lib/python3.8/site-packages/sklearn/neural_network/_multilayer_perceptron.py:614: ConvergenceWarning: Stochastic Optimizer: Maximum iterations (500) reached and the optimization hasn't converged yet.\n",
      "  warnings.warn(\n"
     ]
    },
    {
     "name": "stdout",
     "output_type": "stream",
     "text": [
      "355\n",
      "356\n",
      "357\n",
      "358\n",
      "359\n",
      "360\n"
     ]
    },
    {
     "name": "stderr",
     "output_type": "stream",
     "text": [
      "/home/ubuntu/anaconda3/lib/python3.8/site-packages/sklearn/neural_network/_multilayer_perceptron.py:614: ConvergenceWarning: Stochastic Optimizer: Maximum iterations (500) reached and the optimization hasn't converged yet.\n",
      "  warnings.warn(\n",
      "/home/ubuntu/anaconda3/lib/python3.8/site-packages/sklearn/neural_network/_multilayer_perceptron.py:614: ConvergenceWarning: Stochastic Optimizer: Maximum iterations (500) reached and the optimization hasn't converged yet.\n",
      "  warnings.warn(\n"
     ]
    },
    {
     "name": "stdout",
     "output_type": "stream",
     "text": [
      "361\n",
      "362\n",
      "363\n"
     ]
    },
    {
     "name": "stderr",
     "output_type": "stream",
     "text": [
      "/home/ubuntu/anaconda3/lib/python3.8/site-packages/sklearn/neural_network/_multilayer_perceptron.py:614: ConvergenceWarning: Stochastic Optimizer: Maximum iterations (500) reached and the optimization hasn't converged yet.\n",
      "  warnings.warn(\n"
     ]
    },
    {
     "name": "stdout",
     "output_type": "stream",
     "text": [
      "364\n",
      "365\n"
     ]
    },
    {
     "name": "stderr",
     "output_type": "stream",
     "text": [
      "/home/ubuntu/anaconda3/lib/python3.8/site-packages/sklearn/neural_network/_multilayer_perceptron.py:614: ConvergenceWarning: Stochastic Optimizer: Maximum iterations (500) reached and the optimization hasn't converged yet.\n",
      "  warnings.warn(\n"
     ]
    },
    {
     "name": "stdout",
     "output_type": "stream",
     "text": [
      "366\n",
      "367\n",
      "368\n",
      "369\n"
     ]
    },
    {
     "name": "stderr",
     "output_type": "stream",
     "text": [
      "/home/ubuntu/anaconda3/lib/python3.8/site-packages/sklearn/neural_network/_multilayer_perceptron.py:614: ConvergenceWarning: Stochastic Optimizer: Maximum iterations (500) reached and the optimization hasn't converged yet.\n",
      "  warnings.warn(\n"
     ]
    },
    {
     "name": "stdout",
     "output_type": "stream",
     "text": [
      "370\n",
      "371\n",
      "372\n"
     ]
    },
    {
     "name": "stderr",
     "output_type": "stream",
     "text": [
      "/home/ubuntu/anaconda3/lib/python3.8/site-packages/sklearn/neural_network/_multilayer_perceptron.py:614: ConvergenceWarning: Stochastic Optimizer: Maximum iterations (500) reached and the optimization hasn't converged yet.\n",
      "  warnings.warn(\n"
     ]
    },
    {
     "name": "stdout",
     "output_type": "stream",
     "text": [
      "373\n",
      "374\n",
      "375\n",
      "376\n",
      "377\n",
      "378\n",
      "379\n",
      "380\n",
      "381\n",
      "382\n",
      "383\n"
     ]
    },
    {
     "name": "stderr",
     "output_type": "stream",
     "text": [
      "/home/ubuntu/anaconda3/lib/python3.8/site-packages/sklearn/neural_network/_multilayer_perceptron.py:614: ConvergenceWarning: Stochastic Optimizer: Maximum iterations (500) reached and the optimization hasn't converged yet.\n",
      "  warnings.warn(\n",
      "/home/ubuntu/anaconda3/lib/python3.8/site-packages/sklearn/neural_network/_multilayer_perceptron.py:614: ConvergenceWarning: Stochastic Optimizer: Maximum iterations (500) reached and the optimization hasn't converged yet.\n",
      "  warnings.warn(\n"
     ]
    },
    {
     "name": "stdout",
     "output_type": "stream",
     "text": [
      "384\n",
      "385\n",
      "386\n",
      "387\n",
      "388\n",
      "389\n",
      "390\n",
      "391\n"
     ]
    },
    {
     "name": "stderr",
     "output_type": "stream",
     "text": [
      "/home/ubuntu/anaconda3/lib/python3.8/site-packages/sklearn/neural_network/_multilayer_perceptron.py:614: ConvergenceWarning: Stochastic Optimizer: Maximum iterations (500) reached and the optimization hasn't converged yet.\n",
      "  warnings.warn(\n"
     ]
    },
    {
     "name": "stdout",
     "output_type": "stream",
     "text": [
      "392\n",
      "393\n",
      "394\n",
      "395\n",
      "396\n",
      "397\n"
     ]
    },
    {
     "name": "stderr",
     "output_type": "stream",
     "text": [
      "/home/ubuntu/anaconda3/lib/python3.8/site-packages/sklearn/neural_network/_multilayer_perceptron.py:614: ConvergenceWarning: Stochastic Optimizer: Maximum iterations (500) reached and the optimization hasn't converged yet.\n",
      "  warnings.warn(\n"
     ]
    },
    {
     "name": "stdout",
     "output_type": "stream",
     "text": [
      "398\n",
      "399\n",
      "400\n",
      "401\n"
     ]
    },
    {
     "name": "stderr",
     "output_type": "stream",
     "text": [
      "/home/ubuntu/anaconda3/lib/python3.8/site-packages/sklearn/neural_network/_multilayer_perceptron.py:614: ConvergenceWarning: Stochastic Optimizer: Maximum iterations (500) reached and the optimization hasn't converged yet.\n",
      "  warnings.warn(\n"
     ]
    },
    {
     "name": "stdout",
     "output_type": "stream",
     "text": [
      "402\n",
      "403\n",
      "404\n",
      "405\n"
     ]
    },
    {
     "name": "stderr",
     "output_type": "stream",
     "text": [
      "/home/ubuntu/anaconda3/lib/python3.8/site-packages/sklearn/neural_network/_multilayer_perceptron.py:614: ConvergenceWarning: Stochastic Optimizer: Maximum iterations (500) reached and the optimization hasn't converged yet.\n",
      "  warnings.warn(\n"
     ]
    },
    {
     "name": "stdout",
     "output_type": "stream",
     "text": [
      "406\n"
     ]
    },
    {
     "name": "stderr",
     "output_type": "stream",
     "text": [
      "/home/ubuntu/anaconda3/lib/python3.8/site-packages/sklearn/neural_network/_multilayer_perceptron.py:614: ConvergenceWarning: Stochastic Optimizer: Maximum iterations (500) reached and the optimization hasn't converged yet.\n",
      "  warnings.warn(\n"
     ]
    },
    {
     "name": "stdout",
     "output_type": "stream",
     "text": [
      "407\n",
      "408\n"
     ]
    },
    {
     "name": "stderr",
     "output_type": "stream",
     "text": [
      "/home/ubuntu/anaconda3/lib/python3.8/site-packages/sklearn/neural_network/_multilayer_perceptron.py:614: ConvergenceWarning: Stochastic Optimizer: Maximum iterations (500) reached and the optimization hasn't converged yet.\n",
      "  warnings.warn(\n"
     ]
    },
    {
     "name": "stdout",
     "output_type": "stream",
     "text": [
      "409\n",
      "410\n",
      "411\n",
      "412\n",
      "413\n",
      "414\n",
      "415\n",
      "416\n",
      "417\n",
      "418\n",
      "419\n",
      "420\n"
     ]
    },
    {
     "name": "stderr",
     "output_type": "stream",
     "text": [
      "/home/ubuntu/anaconda3/lib/python3.8/site-packages/sklearn/neural_network/_multilayer_perceptron.py:614: ConvergenceWarning: Stochastic Optimizer: Maximum iterations (500) reached and the optimization hasn't converged yet.\n",
      "  warnings.warn(\n"
     ]
    },
    {
     "name": "stdout",
     "output_type": "stream",
     "text": [
      "421\n"
     ]
    },
    {
     "name": "stderr",
     "output_type": "stream",
     "text": [
      "/home/ubuntu/anaconda3/lib/python3.8/site-packages/sklearn/neural_network/_multilayer_perceptron.py:614: ConvergenceWarning: Stochastic Optimizer: Maximum iterations (500) reached and the optimization hasn't converged yet.\n",
      "  warnings.warn(\n"
     ]
    },
    {
     "name": "stdout",
     "output_type": "stream",
     "text": [
      "422\n",
      "423\n",
      "424\n"
     ]
    },
    {
     "name": "stderr",
     "output_type": "stream",
     "text": [
      "/home/ubuntu/anaconda3/lib/python3.8/site-packages/sklearn/neural_network/_multilayer_perceptron.py:614: ConvergenceWarning: Stochastic Optimizer: Maximum iterations (500) reached and the optimization hasn't converged yet.\n",
      "  warnings.warn(\n",
      "/home/ubuntu/anaconda3/lib/python3.8/site-packages/sklearn/neural_network/_multilayer_perceptron.py:614: ConvergenceWarning: Stochastic Optimizer: Maximum iterations (500) reached and the optimization hasn't converged yet.\n",
      "  warnings.warn(\n",
      "/home/ubuntu/anaconda3/lib/python3.8/site-packages/sklearn/neural_network/_multilayer_perceptron.py:614: ConvergenceWarning: Stochastic Optimizer: Maximum iterations (500) reached and the optimization hasn't converged yet.\n",
      "  warnings.warn(\n"
     ]
    },
    {
     "name": "stdout",
     "output_type": "stream",
     "text": [
      "425\n"
     ]
    },
    {
     "name": "stderr",
     "output_type": "stream",
     "text": [
      "/home/ubuntu/anaconda3/lib/python3.8/site-packages/sklearn/neural_network/_multilayer_perceptron.py:614: ConvergenceWarning: Stochastic Optimizer: Maximum iterations (500) reached and the optimization hasn't converged yet.\n",
      "  warnings.warn(\n"
     ]
    },
    {
     "name": "stdout",
     "output_type": "stream",
     "text": [
      "426\n",
      "427\n",
      "428\n",
      "429\n",
      "430\n",
      "431\n",
      "432\n",
      "433\n",
      "434\n",
      "435\n",
      "436\n",
      "437\n",
      "438\n"
     ]
    },
    {
     "name": "stderr",
     "output_type": "stream",
     "text": [
      "/home/ubuntu/anaconda3/lib/python3.8/site-packages/sklearn/neural_network/_multilayer_perceptron.py:614: ConvergenceWarning: Stochastic Optimizer: Maximum iterations (500) reached and the optimization hasn't converged yet.\n",
      "  warnings.warn(\n",
      "/home/ubuntu/anaconda3/lib/python3.8/site-packages/sklearn/neural_network/_multilayer_perceptron.py:614: ConvergenceWarning: Stochastic Optimizer: Maximum iterations (500) reached and the optimization hasn't converged yet.\n",
      "  warnings.warn(\n",
      "/home/ubuntu/anaconda3/lib/python3.8/site-packages/sklearn/neural_network/_multilayer_perceptron.py:614: ConvergenceWarning: Stochastic Optimizer: Maximum iterations (500) reached and the optimization hasn't converged yet.\n",
      "  warnings.warn(\n"
     ]
    },
    {
     "name": "stdout",
     "output_type": "stream",
     "text": [
      "439\n"
     ]
    },
    {
     "name": "stderr",
     "output_type": "stream",
     "text": [
      "/home/ubuntu/anaconda3/lib/python3.8/site-packages/sklearn/neural_network/_multilayer_perceptron.py:614: ConvergenceWarning: Stochastic Optimizer: Maximum iterations (500) reached and the optimization hasn't converged yet.\n",
      "  warnings.warn(\n",
      "/home/ubuntu/anaconda3/lib/python3.8/site-packages/sklearn/neural_network/_multilayer_perceptron.py:614: ConvergenceWarning: Stochastic Optimizer: Maximum iterations (500) reached and the optimization hasn't converged yet.\n",
      "  warnings.warn(\n",
      "/home/ubuntu/anaconda3/lib/python3.8/site-packages/sklearn/neural_network/_multilayer_perceptron.py:614: ConvergenceWarning: Stochastic Optimizer: Maximum iterations (500) reached and the optimization hasn't converged yet.\n",
      "  warnings.warn(\n",
      "/home/ubuntu/anaconda3/lib/python3.8/site-packages/sklearn/neural_network/_multilayer_perceptron.py:614: ConvergenceWarning: Stochastic Optimizer: Maximum iterations (500) reached and the optimization hasn't converged yet.\n",
      "  warnings.warn(\n"
     ]
    },
    {
     "name": "stdout",
     "output_type": "stream",
     "text": [
      "440\n",
      "441\n",
      "442\n",
      "443\n",
      "444\n",
      "445\n",
      "446\n",
      "447\n",
      "448\n",
      "449\n",
      "450\n",
      "451\n",
      "452\n",
      "453\n",
      "454\n"
     ]
    },
    {
     "name": "stderr",
     "output_type": "stream",
     "text": [
      "/home/ubuntu/anaconda3/lib/python3.8/site-packages/sklearn/neural_network/_multilayer_perceptron.py:614: ConvergenceWarning: Stochastic Optimizer: Maximum iterations (500) reached and the optimization hasn't converged yet.\n",
      "  warnings.warn(\n"
     ]
    },
    {
     "name": "stdout",
     "output_type": "stream",
     "text": [
      "455\n",
      "456\n",
      "457\n"
     ]
    },
    {
     "name": "stderr",
     "output_type": "stream",
     "text": [
      "/home/ubuntu/anaconda3/lib/python3.8/site-packages/sklearn/neural_network/_multilayer_perceptron.py:614: ConvergenceWarning: Stochastic Optimizer: Maximum iterations (500) reached and the optimization hasn't converged yet.\n",
      "  warnings.warn(\n"
     ]
    },
    {
     "name": "stdout",
     "output_type": "stream",
     "text": [
      "458\n",
      "459\n",
      "460\n",
      "461\n",
      "462\n",
      "463\n",
      "464\n",
      "465\n",
      "466\n"
     ]
    },
    {
     "name": "stderr",
     "output_type": "stream",
     "text": [
      "/home/ubuntu/anaconda3/lib/python3.8/site-packages/sklearn/neural_network/_multilayer_perceptron.py:614: ConvergenceWarning: Stochastic Optimizer: Maximum iterations (500) reached and the optimization hasn't converged yet.\n",
      "  warnings.warn(\n"
     ]
    },
    {
     "name": "stdout",
     "output_type": "stream",
     "text": [
      "467\n",
      "468\n",
      "469\n",
      "470\n",
      "471\n",
      "472\n",
      "473\n",
      "474\n",
      "475\n",
      "476\n"
     ]
    },
    {
     "name": "stderr",
     "output_type": "stream",
     "text": [
      "/home/ubuntu/anaconda3/lib/python3.8/site-packages/sklearn/neural_network/_multilayer_perceptron.py:614: ConvergenceWarning: Stochastic Optimizer: Maximum iterations (500) reached and the optimization hasn't converged yet.\n",
      "  warnings.warn(\n"
     ]
    },
    {
     "name": "stdout",
     "output_type": "stream",
     "text": [
      "477\n",
      "478\n",
      "479\n",
      "480\n",
      "481\n",
      "482\n",
      "483\n",
      "484\n",
      "485\n",
      "486\n",
      "487\n",
      "488\n",
      "489\n",
      "490\n",
      "491\n",
      "492\n",
      "493\n",
      "494\n",
      "495\n"
     ]
    },
    {
     "name": "stderr",
     "output_type": "stream",
     "text": [
      "/home/ubuntu/anaconda3/lib/python3.8/site-packages/sklearn/neural_network/_multilayer_perceptron.py:614: ConvergenceWarning: Stochastic Optimizer: Maximum iterations (500) reached and the optimization hasn't converged yet.\n",
      "  warnings.warn(\n"
     ]
    },
    {
     "name": "stdout",
     "output_type": "stream",
     "text": [
      "496\n",
      "497\n",
      "498\n"
     ]
    },
    {
     "name": "stderr",
     "output_type": "stream",
     "text": [
      "/home/ubuntu/anaconda3/lib/python3.8/site-packages/sklearn/neural_network/_multilayer_perceptron.py:614: ConvergenceWarning: Stochastic Optimizer: Maximum iterations (500) reached and the optimization hasn't converged yet.\n",
      "  warnings.warn(\n",
      "/home/ubuntu/anaconda3/lib/python3.8/site-packages/sklearn/neural_network/_multilayer_perceptron.py:614: ConvergenceWarning: Stochastic Optimizer: Maximum iterations (500) reached and the optimization hasn't converged yet.\n",
      "  warnings.warn(\n"
     ]
    },
    {
     "name": "stdout",
     "output_type": "stream",
     "text": [
      "499\n",
      "500\n"
     ]
    },
    {
     "name": "stderr",
     "output_type": "stream",
     "text": [
      "/home/ubuntu/anaconda3/lib/python3.8/site-packages/sklearn/neural_network/_multilayer_perceptron.py:614: ConvergenceWarning: Stochastic Optimizer: Maximum iterations (500) reached and the optimization hasn't converged yet.\n",
      "  warnings.warn(\n"
     ]
    },
    {
     "name": "stdout",
     "output_type": "stream",
     "text": [
      "501\n",
      "502\n"
     ]
    },
    {
     "name": "stderr",
     "output_type": "stream",
     "text": [
      "/home/ubuntu/anaconda3/lib/python3.8/site-packages/sklearn/neural_network/_multilayer_perceptron.py:614: ConvergenceWarning: Stochastic Optimizer: Maximum iterations (500) reached and the optimization hasn't converged yet.\n",
      "  warnings.warn(\n"
     ]
    },
    {
     "name": "stdout",
     "output_type": "stream",
     "text": [
      "503\n"
     ]
    },
    {
     "name": "stderr",
     "output_type": "stream",
     "text": [
      "/home/ubuntu/anaconda3/lib/python3.8/site-packages/sklearn/neural_network/_multilayer_perceptron.py:614: ConvergenceWarning: Stochastic Optimizer: Maximum iterations (500) reached and the optimization hasn't converged yet.\n",
      "  warnings.warn(\n"
     ]
    },
    {
     "name": "stdout",
     "output_type": "stream",
     "text": [
      "504\n",
      "505\n",
      "506\n",
      "507\n",
      "508\n",
      "509\n",
      "510\n",
      "511\n",
      "512\n"
     ]
    },
    {
     "name": "stderr",
     "output_type": "stream",
     "text": [
      "/home/ubuntu/anaconda3/lib/python3.8/site-packages/sklearn/neural_network/_multilayer_perceptron.py:614: ConvergenceWarning: Stochastic Optimizer: Maximum iterations (500) reached and the optimization hasn't converged yet.\n",
      "  warnings.warn(\n"
     ]
    },
    {
     "name": "stdout",
     "output_type": "stream",
     "text": [
      "513\n",
      "514\n",
      "515\n",
      "516\n",
      "517\n",
      "518\n",
      "519\n"
     ]
    },
    {
     "name": "stderr",
     "output_type": "stream",
     "text": [
      "/home/ubuntu/anaconda3/lib/python3.8/site-packages/sklearn/neural_network/_multilayer_perceptron.py:614: ConvergenceWarning: Stochastic Optimizer: Maximum iterations (500) reached and the optimization hasn't converged yet.\n",
      "  warnings.warn(\n"
     ]
    },
    {
     "name": "stdout",
     "output_type": "stream",
     "text": [
      "520\n",
      "521\n",
      "522\n",
      "523\n"
     ]
    },
    {
     "name": "stderr",
     "output_type": "stream",
     "text": [
      "/home/ubuntu/anaconda3/lib/python3.8/site-packages/sklearn/neural_network/_multilayer_perceptron.py:614: ConvergenceWarning: Stochastic Optimizer: Maximum iterations (500) reached and the optimization hasn't converged yet.\n",
      "  warnings.warn(\n",
      "/home/ubuntu/anaconda3/lib/python3.8/site-packages/sklearn/neural_network/_multilayer_perceptron.py:614: ConvergenceWarning: Stochastic Optimizer: Maximum iterations (500) reached and the optimization hasn't converged yet.\n",
      "  warnings.warn(\n"
     ]
    },
    {
     "name": "stdout",
     "output_type": "stream",
     "text": [
      "524\n",
      "525\n"
     ]
    },
    {
     "name": "stderr",
     "output_type": "stream",
     "text": [
      "/home/ubuntu/anaconda3/lib/python3.8/site-packages/sklearn/neural_network/_multilayer_perceptron.py:614: ConvergenceWarning: Stochastic Optimizer: Maximum iterations (500) reached and the optimization hasn't converged yet.\n",
      "  warnings.warn(\n"
     ]
    },
    {
     "name": "stdout",
     "output_type": "stream",
     "text": [
      "526\n",
      "527\n",
      "528\n",
      "529\n",
      "530\n",
      "531\n",
      "532\n",
      "533\n",
      "534\n",
      "535\n",
      "536\n",
      "537\n",
      "538\n",
      "539\n",
      "540\n",
      "541\n"
     ]
    },
    {
     "name": "stderr",
     "output_type": "stream",
     "text": [
      "/home/ubuntu/anaconda3/lib/python3.8/site-packages/sklearn/neural_network/_multilayer_perceptron.py:614: ConvergenceWarning: Stochastic Optimizer: Maximum iterations (500) reached and the optimization hasn't converged yet.\n",
      "  warnings.warn(\n",
      "/home/ubuntu/anaconda3/lib/python3.8/site-packages/sklearn/neural_network/_multilayer_perceptron.py:614: ConvergenceWarning: Stochastic Optimizer: Maximum iterations (500) reached and the optimization hasn't converged yet.\n",
      "  warnings.warn(\n",
      "/home/ubuntu/anaconda3/lib/python3.8/site-packages/sklearn/neural_network/_multilayer_perceptron.py:614: ConvergenceWarning: Stochastic Optimizer: Maximum iterations (500) reached and the optimization hasn't converged yet.\n",
      "  warnings.warn(\n"
     ]
    },
    {
     "name": "stdout",
     "output_type": "stream",
     "text": [
      "542\n",
      "543\n"
     ]
    },
    {
     "name": "stderr",
     "output_type": "stream",
     "text": [
      "/home/ubuntu/anaconda3/lib/python3.8/site-packages/sklearn/neural_network/_multilayer_perceptron.py:614: ConvergenceWarning: Stochastic Optimizer: Maximum iterations (500) reached and the optimization hasn't converged yet.\n",
      "  warnings.warn(\n"
     ]
    },
    {
     "name": "stdout",
     "output_type": "stream",
     "text": [
      "544\n",
      "545\n",
      "546\n"
     ]
    },
    {
     "name": "stderr",
     "output_type": "stream",
     "text": [
      "/home/ubuntu/anaconda3/lib/python3.8/site-packages/sklearn/neural_network/_multilayer_perceptron.py:614: ConvergenceWarning: Stochastic Optimizer: Maximum iterations (500) reached and the optimization hasn't converged yet.\n",
      "  warnings.warn(\n",
      "/home/ubuntu/anaconda3/lib/python3.8/site-packages/sklearn/neural_network/_multilayer_perceptron.py:614: ConvergenceWarning: Stochastic Optimizer: Maximum iterations (500) reached and the optimization hasn't converged yet.\n",
      "  warnings.warn(\n"
     ]
    },
    {
     "name": "stdout",
     "output_type": "stream",
     "text": [
      "547\n",
      "548\n",
      "549\n",
      "550\n"
     ]
    },
    {
     "name": "stderr",
     "output_type": "stream",
     "text": [
      "/home/ubuntu/anaconda3/lib/python3.8/site-packages/sklearn/neural_network/_multilayer_perceptron.py:614: ConvergenceWarning: Stochastic Optimizer: Maximum iterations (500) reached and the optimization hasn't converged yet.\n",
      "  warnings.warn(\n"
     ]
    },
    {
     "name": "stdout",
     "output_type": "stream",
     "text": [
      "551\n",
      "552\n",
      "553\n",
      "554\n",
      "555\n"
     ]
    },
    {
     "name": "stderr",
     "output_type": "stream",
     "text": [
      "/home/ubuntu/anaconda3/lib/python3.8/site-packages/sklearn/neural_network/_multilayer_perceptron.py:614: ConvergenceWarning: Stochastic Optimizer: Maximum iterations (500) reached and the optimization hasn't converged yet.\n",
      "  warnings.warn(\n",
      "/home/ubuntu/anaconda3/lib/python3.8/site-packages/sklearn/neural_network/_multilayer_perceptron.py:614: ConvergenceWarning: Stochastic Optimizer: Maximum iterations (500) reached and the optimization hasn't converged yet.\n",
      "  warnings.warn(\n"
     ]
    },
    {
     "name": "stdout",
     "output_type": "stream",
     "text": [
      "556\n",
      "557\n",
      "558\n"
     ]
    },
    {
     "name": "stderr",
     "output_type": "stream",
     "text": [
      "/home/ubuntu/anaconda3/lib/python3.8/site-packages/sklearn/neural_network/_multilayer_perceptron.py:614: ConvergenceWarning: Stochastic Optimizer: Maximum iterations (500) reached and the optimization hasn't converged yet.\n",
      "  warnings.warn(\n"
     ]
    },
    {
     "name": "stdout",
     "output_type": "stream",
     "text": [
      "559\n",
      "560\n",
      "561\n"
     ]
    },
    {
     "name": "stderr",
     "output_type": "stream",
     "text": [
      "/home/ubuntu/anaconda3/lib/python3.8/site-packages/sklearn/neural_network/_multilayer_perceptron.py:614: ConvergenceWarning: Stochastic Optimizer: Maximum iterations (500) reached and the optimization hasn't converged yet.\n",
      "  warnings.warn(\n"
     ]
    },
    {
     "name": "stdout",
     "output_type": "stream",
     "text": [
      "562\n",
      "563\n"
     ]
    },
    {
     "name": "stderr",
     "output_type": "stream",
     "text": [
      "/home/ubuntu/anaconda3/lib/python3.8/site-packages/sklearn/neural_network/_multilayer_perceptron.py:614: ConvergenceWarning: Stochastic Optimizer: Maximum iterations (500) reached and the optimization hasn't converged yet.\n",
      "  warnings.warn(\n",
      "/home/ubuntu/anaconda3/lib/python3.8/site-packages/sklearn/neural_network/_multilayer_perceptron.py:614: ConvergenceWarning: Stochastic Optimizer: Maximum iterations (500) reached and the optimization hasn't converged yet.\n",
      "  warnings.warn(\n",
      "/home/ubuntu/anaconda3/lib/python3.8/site-packages/sklearn/neural_network/_multilayer_perceptron.py:614: ConvergenceWarning: Stochastic Optimizer: Maximum iterations (500) reached and the optimization hasn't converged yet.\n",
      "  warnings.warn(\n",
      "/home/ubuntu/anaconda3/lib/python3.8/site-packages/sklearn/neural_network/_multilayer_perceptron.py:614: ConvergenceWarning: Stochastic Optimizer: Maximum iterations (500) reached and the optimization hasn't converged yet.\n",
      "  warnings.warn(\n",
      "/home/ubuntu/anaconda3/lib/python3.8/site-packages/sklearn/neural_network/_multilayer_perceptron.py:614: ConvergenceWarning: Stochastic Optimizer: Maximum iterations (500) reached and the optimization hasn't converged yet.\n",
      "  warnings.warn(\n"
     ]
    },
    {
     "name": "stdout",
     "output_type": "stream",
     "text": [
      "564\n",
      "565\n"
     ]
    },
    {
     "name": "stderr",
     "output_type": "stream",
     "text": [
      "/home/ubuntu/anaconda3/lib/python3.8/site-packages/sklearn/neural_network/_multilayer_perceptron.py:614: ConvergenceWarning: Stochastic Optimizer: Maximum iterations (500) reached and the optimization hasn't converged yet.\n",
      "  warnings.warn(\n",
      "/home/ubuntu/anaconda3/lib/python3.8/site-packages/sklearn/neural_network/_multilayer_perceptron.py:614: ConvergenceWarning: Stochastic Optimizer: Maximum iterations (500) reached and the optimization hasn't converged yet.\n",
      "  warnings.warn(\n",
      "/home/ubuntu/anaconda3/lib/python3.8/site-packages/sklearn/neural_network/_multilayer_perceptron.py:614: ConvergenceWarning: Stochastic Optimizer: Maximum iterations (500) reached and the optimization hasn't converged yet.\n",
      "  warnings.warn(\n",
      "/home/ubuntu/anaconda3/lib/python3.8/site-packages/sklearn/neural_network/_multilayer_perceptron.py:614: ConvergenceWarning: Stochastic Optimizer: Maximum iterations (500) reached and the optimization hasn't converged yet.\n",
      "  warnings.warn(\n",
      "/home/ubuntu/anaconda3/lib/python3.8/site-packages/sklearn/neural_network/_multilayer_perceptron.py:614: ConvergenceWarning: Stochastic Optimizer: Maximum iterations (500) reached and the optimization hasn't converged yet.\n",
      "  warnings.warn(\n"
     ]
    },
    {
     "name": "stdout",
     "output_type": "stream",
     "text": [
      "566\n",
      "567\n",
      "568\n",
      "569\n",
      "570\n",
      "571\n",
      "572\n",
      "573\n",
      "574\n",
      "575\n",
      "576\n"
     ]
    },
    {
     "name": "stderr",
     "output_type": "stream",
     "text": [
      "/home/ubuntu/anaconda3/lib/python3.8/site-packages/sklearn/neural_network/_multilayer_perceptron.py:614: ConvergenceWarning: Stochastic Optimizer: Maximum iterations (500) reached and the optimization hasn't converged yet.\n",
      "  warnings.warn(\n",
      "/home/ubuntu/anaconda3/lib/python3.8/site-packages/sklearn/neural_network/_multilayer_perceptron.py:614: ConvergenceWarning: Stochastic Optimizer: Maximum iterations (500) reached and the optimization hasn't converged yet.\n",
      "  warnings.warn(\n"
     ]
    },
    {
     "name": "stdout",
     "output_type": "stream",
     "text": [
      "577\n"
     ]
    },
    {
     "name": "stderr",
     "output_type": "stream",
     "text": [
      "/home/ubuntu/anaconda3/lib/python3.8/site-packages/sklearn/neural_network/_multilayer_perceptron.py:614: ConvergenceWarning: Stochastic Optimizer: Maximum iterations (500) reached and the optimization hasn't converged yet.\n",
      "  warnings.warn(\n"
     ]
    },
    {
     "name": "stdout",
     "output_type": "stream",
     "text": [
      "578\n",
      "579\n",
      "580\n",
      "581\n",
      "582\n",
      "583\n"
     ]
    },
    {
     "name": "stderr",
     "output_type": "stream",
     "text": [
      "/home/ubuntu/anaconda3/lib/python3.8/site-packages/sklearn/neural_network/_multilayer_perceptron.py:614: ConvergenceWarning: Stochastic Optimizer: Maximum iterations (500) reached and the optimization hasn't converged yet.\n",
      "  warnings.warn(\n"
     ]
    },
    {
     "name": "stdout",
     "output_type": "stream",
     "text": [
      "584\n",
      "585\n",
      "586\n"
     ]
    },
    {
     "name": "stderr",
     "output_type": "stream",
     "text": [
      "/home/ubuntu/anaconda3/lib/python3.8/site-packages/sklearn/neural_network/_multilayer_perceptron.py:614: ConvergenceWarning: Stochastic Optimizer: Maximum iterations (500) reached and the optimization hasn't converged yet.\n",
      "  warnings.warn(\n",
      "/home/ubuntu/anaconda3/lib/python3.8/site-packages/sklearn/neural_network/_multilayer_perceptron.py:614: ConvergenceWarning: Stochastic Optimizer: Maximum iterations (500) reached and the optimization hasn't converged yet.\n",
      "  warnings.warn(\n"
     ]
    },
    {
     "name": "stdout",
     "output_type": "stream",
     "text": [
      "587\n",
      "588\n",
      "589\n",
      "590\n",
      "591\n",
      "592\n",
      "593\n"
     ]
    },
    {
     "name": "stderr",
     "output_type": "stream",
     "text": [
      "/home/ubuntu/anaconda3/lib/python3.8/site-packages/sklearn/neural_network/_multilayer_perceptron.py:614: ConvergenceWarning: Stochastic Optimizer: Maximum iterations (500) reached and the optimization hasn't converged yet.\n",
      "  warnings.warn(\n",
      "/home/ubuntu/anaconda3/lib/python3.8/site-packages/sklearn/neural_network/_multilayer_perceptron.py:614: ConvergenceWarning: Stochastic Optimizer: Maximum iterations (500) reached and the optimization hasn't converged yet.\n",
      "  warnings.warn(\n"
     ]
    },
    {
     "name": "stdout",
     "output_type": "stream",
     "text": [
      "594\n",
      "595\n",
      "596\n",
      "597\n"
     ]
    },
    {
     "name": "stderr",
     "output_type": "stream",
     "text": [
      "/home/ubuntu/anaconda3/lib/python3.8/site-packages/sklearn/neural_network/_multilayer_perceptron.py:614: ConvergenceWarning: Stochastic Optimizer: Maximum iterations (500) reached and the optimization hasn't converged yet.\n",
      "  warnings.warn(\n",
      "/home/ubuntu/anaconda3/lib/python3.8/site-packages/sklearn/neural_network/_multilayer_perceptron.py:614: ConvergenceWarning: Stochastic Optimizer: Maximum iterations (500) reached and the optimization hasn't converged yet.\n",
      "  warnings.warn(\n",
      "/home/ubuntu/anaconda3/lib/python3.8/site-packages/sklearn/neural_network/_multilayer_perceptron.py:614: ConvergenceWarning: Stochastic Optimizer: Maximum iterations (500) reached and the optimization hasn't converged yet.\n",
      "  warnings.warn(\n",
      "/home/ubuntu/anaconda3/lib/python3.8/site-packages/sklearn/neural_network/_multilayer_perceptron.py:614: ConvergenceWarning: Stochastic Optimizer: Maximum iterations (500) reached and the optimization hasn't converged yet.\n",
      "  warnings.warn(\n"
     ]
    },
    {
     "name": "stdout",
     "output_type": "stream",
     "text": [
      "598\n",
      "599\n",
      "600\n",
      "601\n",
      "602\n",
      "603\n",
      "604\n",
      "605\n",
      "606\n",
      "607\n",
      "608\n",
      "609\n",
      "610\n",
      "611\n",
      "612\n",
      "613\n"
     ]
    },
    {
     "name": "stderr",
     "output_type": "stream",
     "text": [
      "/home/ubuntu/anaconda3/lib/python3.8/site-packages/sklearn/neural_network/_multilayer_perceptron.py:614: ConvergenceWarning: Stochastic Optimizer: Maximum iterations (500) reached and the optimization hasn't converged yet.\n",
      "  warnings.warn(\n",
      "/home/ubuntu/anaconda3/lib/python3.8/site-packages/sklearn/neural_network/_multilayer_perceptron.py:614: ConvergenceWarning: Stochastic Optimizer: Maximum iterations (500) reached and the optimization hasn't converged yet.\n",
      "  warnings.warn(\n",
      "/home/ubuntu/anaconda3/lib/python3.8/site-packages/sklearn/neural_network/_multilayer_perceptron.py:614: ConvergenceWarning: Stochastic Optimizer: Maximum iterations (500) reached and the optimization hasn't converged yet.\n",
      "  warnings.warn(\n"
     ]
    },
    {
     "name": "stdout",
     "output_type": "stream",
     "text": [
      "614\n",
      "615\n",
      "616\n",
      "617\n",
      "618\n",
      "619\n"
     ]
    },
    {
     "name": "stderr",
     "output_type": "stream",
     "text": [
      "/home/ubuntu/anaconda3/lib/python3.8/site-packages/sklearn/neural_network/_multilayer_perceptron.py:614: ConvergenceWarning: Stochastic Optimizer: Maximum iterations (500) reached and the optimization hasn't converged yet.\n",
      "  warnings.warn(\n"
     ]
    },
    {
     "name": "stdout",
     "output_type": "stream",
     "text": [
      "620\n"
     ]
    },
    {
     "name": "stderr",
     "output_type": "stream",
     "text": [
      "/home/ubuntu/anaconda3/lib/python3.8/site-packages/sklearn/neural_network/_multilayer_perceptron.py:614: ConvergenceWarning: Stochastic Optimizer: Maximum iterations (500) reached and the optimization hasn't converged yet.\n",
      "  warnings.warn(\n",
      "/home/ubuntu/anaconda3/lib/python3.8/site-packages/sklearn/neural_network/_multilayer_perceptron.py:614: ConvergenceWarning: Stochastic Optimizer: Maximum iterations (500) reached and the optimization hasn't converged yet.\n",
      "  warnings.warn(\n"
     ]
    },
    {
     "name": "stdout",
     "output_type": "stream",
     "text": [
      "621\n",
      "622\n",
      "623\n",
      "624\n",
      "625\n",
      "626\n",
      "627\n",
      "628\n",
      "629\n",
      "630\n",
      "631\n"
     ]
    },
    {
     "name": "stderr",
     "output_type": "stream",
     "text": [
      "/home/ubuntu/anaconda3/lib/python3.8/site-packages/sklearn/neural_network/_multilayer_perceptron.py:614: ConvergenceWarning: Stochastic Optimizer: Maximum iterations (500) reached and the optimization hasn't converged yet.\n",
      "  warnings.warn(\n"
     ]
    },
    {
     "name": "stdout",
     "output_type": "stream",
     "text": [
      "632\n",
      "633\n",
      "634\n",
      "635\n",
      "636\n",
      "637\n"
     ]
    },
    {
     "name": "stderr",
     "output_type": "stream",
     "text": [
      "/home/ubuntu/anaconda3/lib/python3.8/site-packages/sklearn/neural_network/_multilayer_perceptron.py:614: ConvergenceWarning: Stochastic Optimizer: Maximum iterations (500) reached and the optimization hasn't converged yet.\n",
      "  warnings.warn(\n"
     ]
    },
    {
     "name": "stdout",
     "output_type": "stream",
     "text": [
      "638\n"
     ]
    },
    {
     "name": "stderr",
     "output_type": "stream",
     "text": [
      "/home/ubuntu/anaconda3/lib/python3.8/site-packages/sklearn/neural_network/_multilayer_perceptron.py:614: ConvergenceWarning: Stochastic Optimizer: Maximum iterations (500) reached and the optimization hasn't converged yet.\n",
      "  warnings.warn(\n",
      "/home/ubuntu/anaconda3/lib/python3.8/site-packages/sklearn/neural_network/_multilayer_perceptron.py:614: ConvergenceWarning: Stochastic Optimizer: Maximum iterations (500) reached and the optimization hasn't converged yet.\n",
      "  warnings.warn(\n",
      "/home/ubuntu/anaconda3/lib/python3.8/site-packages/sklearn/neural_network/_multilayer_perceptron.py:614: ConvergenceWarning: Stochastic Optimizer: Maximum iterations (500) reached and the optimization hasn't converged yet.\n",
      "  warnings.warn(\n",
      "/home/ubuntu/anaconda3/lib/python3.8/site-packages/sklearn/neural_network/_multilayer_perceptron.py:614: ConvergenceWarning: Stochastic Optimizer: Maximum iterations (500) reached and the optimization hasn't converged yet.\n",
      "  warnings.warn(\n"
     ]
    },
    {
     "name": "stdout",
     "output_type": "stream",
     "text": [
      "639\n"
     ]
    },
    {
     "name": "stderr",
     "output_type": "stream",
     "text": [
      "/home/ubuntu/anaconda3/lib/python3.8/site-packages/sklearn/neural_network/_multilayer_perceptron.py:614: ConvergenceWarning: Stochastic Optimizer: Maximum iterations (500) reached and the optimization hasn't converged yet.\n",
      "  warnings.warn(\n"
     ]
    },
    {
     "name": "stdout",
     "output_type": "stream",
     "text": [
      "640\n"
     ]
    },
    {
     "name": "stderr",
     "output_type": "stream",
     "text": [
      "/home/ubuntu/anaconda3/lib/python3.8/site-packages/sklearn/neural_network/_multilayer_perceptron.py:614: ConvergenceWarning: Stochastic Optimizer: Maximum iterations (500) reached and the optimization hasn't converged yet.\n",
      "  warnings.warn(\n"
     ]
    },
    {
     "name": "stdout",
     "output_type": "stream",
     "text": [
      "641\n"
     ]
    },
    {
     "name": "stderr",
     "output_type": "stream",
     "text": [
      "/home/ubuntu/anaconda3/lib/python3.8/site-packages/sklearn/neural_network/_multilayer_perceptron.py:614: ConvergenceWarning: Stochastic Optimizer: Maximum iterations (500) reached and the optimization hasn't converged yet.\n",
      "  warnings.warn(\n"
     ]
    },
    {
     "name": "stdout",
     "output_type": "stream",
     "text": [
      "642\n"
     ]
    },
    {
     "name": "stderr",
     "output_type": "stream",
     "text": [
      "/home/ubuntu/anaconda3/lib/python3.8/site-packages/sklearn/neural_network/_multilayer_perceptron.py:614: ConvergenceWarning: Stochastic Optimizer: Maximum iterations (500) reached and the optimization hasn't converged yet.\n",
      "  warnings.warn(\n",
      "/home/ubuntu/anaconda3/lib/python3.8/site-packages/sklearn/neural_network/_multilayer_perceptron.py:614: ConvergenceWarning: Stochastic Optimizer: Maximum iterations (500) reached and the optimization hasn't converged yet.\n",
      "  warnings.warn(\n"
     ]
    },
    {
     "name": "stdout",
     "output_type": "stream",
     "text": [
      "643\n",
      "644\n",
      "645\n",
      "646\n",
      "647\n"
     ]
    },
    {
     "name": "stderr",
     "output_type": "stream",
     "text": [
      "/home/ubuntu/anaconda3/lib/python3.8/site-packages/sklearn/neural_network/_multilayer_perceptron.py:614: ConvergenceWarning: Stochastic Optimizer: Maximum iterations (500) reached and the optimization hasn't converged yet.\n",
      "  warnings.warn(\n"
     ]
    },
    {
     "name": "stdout",
     "output_type": "stream",
     "text": [
      "648\n",
      "649\n",
      "650\n",
      "651\n",
      "652\n",
      "653\n",
      "654\n"
     ]
    },
    {
     "name": "stderr",
     "output_type": "stream",
     "text": [
      "/home/ubuntu/anaconda3/lib/python3.8/site-packages/sklearn/neural_network/_multilayer_perceptron.py:614: ConvergenceWarning: Stochastic Optimizer: Maximum iterations (500) reached and the optimization hasn't converged yet.\n",
      "  warnings.warn(\n"
     ]
    },
    {
     "name": "stdout",
     "output_type": "stream",
     "text": [
      "655\n",
      "656\n",
      "657\n",
      "658\n"
     ]
    },
    {
     "name": "stderr",
     "output_type": "stream",
     "text": [
      "/home/ubuntu/anaconda3/lib/python3.8/site-packages/sklearn/neural_network/_multilayer_perceptron.py:614: ConvergenceWarning: Stochastic Optimizer: Maximum iterations (500) reached and the optimization hasn't converged yet.\n",
      "  warnings.warn(\n",
      "/home/ubuntu/anaconda3/lib/python3.8/site-packages/sklearn/neural_network/_multilayer_perceptron.py:614: ConvergenceWarning: Stochastic Optimizer: Maximum iterations (500) reached and the optimization hasn't converged yet.\n",
      "  warnings.warn(\n",
      "/home/ubuntu/anaconda3/lib/python3.8/site-packages/sklearn/neural_network/_multilayer_perceptron.py:614: ConvergenceWarning: Stochastic Optimizer: Maximum iterations (500) reached and the optimization hasn't converged yet.\n",
      "  warnings.warn(\n",
      "/home/ubuntu/anaconda3/lib/python3.8/site-packages/sklearn/neural_network/_multilayer_perceptron.py:614: ConvergenceWarning: Stochastic Optimizer: Maximum iterations (500) reached and the optimization hasn't converged yet.\n",
      "  warnings.warn(\n",
      "/home/ubuntu/anaconda3/lib/python3.8/site-packages/sklearn/neural_network/_multilayer_perceptron.py:614: ConvergenceWarning: Stochastic Optimizer: Maximum iterations (500) reached and the optimization hasn't converged yet.\n",
      "  warnings.warn(\n"
     ]
    },
    {
     "name": "stdout",
     "output_type": "stream",
     "text": [
      "659\n",
      "660\n",
      "661\n",
      "662\n",
      "663\n",
      "664\n",
      "665\n",
      "666\n",
      "667\n",
      "668\n",
      "669\n"
     ]
    },
    {
     "name": "stderr",
     "output_type": "stream",
     "text": [
      "/home/ubuntu/anaconda3/lib/python3.8/site-packages/sklearn/neural_network/_multilayer_perceptron.py:614: ConvergenceWarning: Stochastic Optimizer: Maximum iterations (500) reached and the optimization hasn't converged yet.\n",
      "  warnings.warn(\n",
      "/home/ubuntu/anaconda3/lib/python3.8/site-packages/sklearn/neural_network/_multilayer_perceptron.py:614: ConvergenceWarning: Stochastic Optimizer: Maximum iterations (500) reached and the optimization hasn't converged yet.\n",
      "  warnings.warn(\n",
      "/home/ubuntu/anaconda3/lib/python3.8/site-packages/sklearn/neural_network/_multilayer_perceptron.py:614: ConvergenceWarning: Stochastic Optimizer: Maximum iterations (500) reached and the optimization hasn't converged yet.\n",
      "  warnings.warn(\n",
      "/home/ubuntu/anaconda3/lib/python3.8/site-packages/sklearn/neural_network/_multilayer_perceptron.py:614: ConvergenceWarning: Stochastic Optimizer: Maximum iterations (500) reached and the optimization hasn't converged yet.\n",
      "  warnings.warn(\n",
      "/home/ubuntu/anaconda3/lib/python3.8/site-packages/sklearn/neural_network/_multilayer_perceptron.py:614: ConvergenceWarning: Stochastic Optimizer: Maximum iterations (500) reached and the optimization hasn't converged yet.\n",
      "  warnings.warn(\n"
     ]
    },
    {
     "name": "stdout",
     "output_type": "stream",
     "text": [
      "670\n",
      "671\n"
     ]
    },
    {
     "name": "stderr",
     "output_type": "stream",
     "text": [
      "/home/ubuntu/anaconda3/lib/python3.8/site-packages/sklearn/neural_network/_multilayer_perceptron.py:614: ConvergenceWarning: Stochastic Optimizer: Maximum iterations (500) reached and the optimization hasn't converged yet.\n",
      "  warnings.warn(\n"
     ]
    },
    {
     "name": "stdout",
     "output_type": "stream",
     "text": [
      "672\n",
      "673\n",
      "674\n",
      "675\n",
      "676\n",
      "677\n",
      "678\n",
      "679\n"
     ]
    },
    {
     "name": "stderr",
     "output_type": "stream",
     "text": [
      "/home/ubuntu/anaconda3/lib/python3.8/site-packages/sklearn/neural_network/_multilayer_perceptron.py:614: ConvergenceWarning: Stochastic Optimizer: Maximum iterations (500) reached and the optimization hasn't converged yet.\n",
      "  warnings.warn(\n"
     ]
    },
    {
     "name": "stdout",
     "output_type": "stream",
     "text": [
      "680\n",
      "681\n"
     ]
    },
    {
     "name": "stderr",
     "output_type": "stream",
     "text": [
      "/home/ubuntu/anaconda3/lib/python3.8/site-packages/sklearn/neural_network/_multilayer_perceptron.py:614: ConvergenceWarning: Stochastic Optimizer: Maximum iterations (500) reached and the optimization hasn't converged yet.\n",
      "  warnings.warn(\n"
     ]
    },
    {
     "name": "stdout",
     "output_type": "stream",
     "text": [
      "682\n",
      "683\n",
      "684\n",
      "685\n"
     ]
    },
    {
     "name": "stderr",
     "output_type": "stream",
     "text": [
      "/home/ubuntu/anaconda3/lib/python3.8/site-packages/sklearn/neural_network/_multilayer_perceptron.py:614: ConvergenceWarning: Stochastic Optimizer: Maximum iterations (500) reached and the optimization hasn't converged yet.\n",
      "  warnings.warn(\n"
     ]
    },
    {
     "name": "stdout",
     "output_type": "stream",
     "text": [
      "686\n",
      "687\n",
      "688\n",
      "689\n"
     ]
    },
    {
     "name": "stderr",
     "output_type": "stream",
     "text": [
      "/home/ubuntu/anaconda3/lib/python3.8/site-packages/sklearn/neural_network/_multilayer_perceptron.py:614: ConvergenceWarning: Stochastic Optimizer: Maximum iterations (500) reached and the optimization hasn't converged yet.\n",
      "  warnings.warn(\n",
      "/home/ubuntu/anaconda3/lib/python3.8/site-packages/sklearn/neural_network/_multilayer_perceptron.py:614: ConvergenceWarning: Stochastic Optimizer: Maximum iterations (500) reached and the optimization hasn't converged yet.\n",
      "  warnings.warn(\n"
     ]
    },
    {
     "name": "stdout",
     "output_type": "stream",
     "text": [
      "690\n"
     ]
    },
    {
     "name": "stderr",
     "output_type": "stream",
     "text": [
      "/home/ubuntu/anaconda3/lib/python3.8/site-packages/sklearn/neural_network/_multilayer_perceptron.py:614: ConvergenceWarning: Stochastic Optimizer: Maximum iterations (500) reached and the optimization hasn't converged yet.\n",
      "  warnings.warn(\n",
      "/home/ubuntu/anaconda3/lib/python3.8/site-packages/sklearn/neural_network/_multilayer_perceptron.py:614: ConvergenceWarning: Stochastic Optimizer: Maximum iterations (500) reached and the optimization hasn't converged yet.\n",
      "  warnings.warn(\n"
     ]
    },
    {
     "name": "stdout",
     "output_type": "stream",
     "text": [
      "691\n"
     ]
    },
    {
     "name": "stderr",
     "output_type": "stream",
     "text": [
      "/home/ubuntu/anaconda3/lib/python3.8/site-packages/sklearn/neural_network/_multilayer_perceptron.py:614: ConvergenceWarning: Stochastic Optimizer: Maximum iterations (500) reached and the optimization hasn't converged yet.\n",
      "  warnings.warn(\n",
      "/home/ubuntu/anaconda3/lib/python3.8/site-packages/sklearn/neural_network/_multilayer_perceptron.py:614: ConvergenceWarning: Stochastic Optimizer: Maximum iterations (500) reached and the optimization hasn't converged yet.\n",
      "  warnings.warn(\n",
      "/home/ubuntu/anaconda3/lib/python3.8/site-packages/sklearn/neural_network/_multilayer_perceptron.py:614: ConvergenceWarning: Stochastic Optimizer: Maximum iterations (500) reached and the optimization hasn't converged yet.\n",
      "  warnings.warn(\n"
     ]
    },
    {
     "name": "stdout",
     "output_type": "stream",
     "text": [
      "692\n",
      "693\n",
      "694\n",
      "695\n",
      "696\n",
      "697\n",
      "698\n",
      "699\n",
      "700\n",
      "701\n",
      "702\n",
      "703\n"
     ]
    },
    {
     "name": "stderr",
     "output_type": "stream",
     "text": [
      "/home/ubuntu/anaconda3/lib/python3.8/site-packages/sklearn/neural_network/_multilayer_perceptron.py:614: ConvergenceWarning: Stochastic Optimizer: Maximum iterations (500) reached and the optimization hasn't converged yet.\n",
      "  warnings.warn(\n"
     ]
    },
    {
     "name": "stdout",
     "output_type": "stream",
     "text": [
      "704\n",
      "705\n",
      "706\n"
     ]
    },
    {
     "name": "stderr",
     "output_type": "stream",
     "text": [
      "/home/ubuntu/anaconda3/lib/python3.8/site-packages/sklearn/neural_network/_multilayer_perceptron.py:614: ConvergenceWarning: Stochastic Optimizer: Maximum iterations (500) reached and the optimization hasn't converged yet.\n",
      "  warnings.warn(\n"
     ]
    },
    {
     "name": "stdout",
     "output_type": "stream",
     "text": [
      "707\n",
      "708\n"
     ]
    },
    {
     "name": "stderr",
     "output_type": "stream",
     "text": [
      "/home/ubuntu/anaconda3/lib/python3.8/site-packages/sklearn/neural_network/_multilayer_perceptron.py:614: ConvergenceWarning: Stochastic Optimizer: Maximum iterations (500) reached and the optimization hasn't converged yet.\n",
      "  warnings.warn(\n"
     ]
    },
    {
     "name": "stdout",
     "output_type": "stream",
     "text": [
      "709\n"
     ]
    },
    {
     "name": "stderr",
     "output_type": "stream",
     "text": [
      "/home/ubuntu/anaconda3/lib/python3.8/site-packages/sklearn/neural_network/_multilayer_perceptron.py:614: ConvergenceWarning: Stochastic Optimizer: Maximum iterations (500) reached and the optimization hasn't converged yet.\n",
      "  warnings.warn(\n"
     ]
    },
    {
     "name": "stdout",
     "output_type": "stream",
     "text": [
      "710\n",
      "711\n",
      "712\n"
     ]
    },
    {
     "name": "stderr",
     "output_type": "stream",
     "text": [
      "/home/ubuntu/anaconda3/lib/python3.8/site-packages/sklearn/neural_network/_multilayer_perceptron.py:614: ConvergenceWarning: Stochastic Optimizer: Maximum iterations (500) reached and the optimization hasn't converged yet.\n",
      "  warnings.warn(\n",
      "/home/ubuntu/anaconda3/lib/python3.8/site-packages/sklearn/neural_network/_multilayer_perceptron.py:614: ConvergenceWarning: Stochastic Optimizer: Maximum iterations (500) reached and the optimization hasn't converged yet.\n",
      "  warnings.warn(\n"
     ]
    },
    {
     "name": "stdout",
     "output_type": "stream",
     "text": [
      "713\n"
     ]
    },
    {
     "name": "stderr",
     "output_type": "stream",
     "text": [
      "/home/ubuntu/anaconda3/lib/python3.8/site-packages/sklearn/neural_network/_multilayer_perceptron.py:614: ConvergenceWarning: Stochastic Optimizer: Maximum iterations (500) reached and the optimization hasn't converged yet.\n",
      "  warnings.warn(\n"
     ]
    },
    {
     "name": "stdout",
     "output_type": "stream",
     "text": [
      "714\n"
     ]
    },
    {
     "name": "stderr",
     "output_type": "stream",
     "text": [
      "/home/ubuntu/anaconda3/lib/python3.8/site-packages/sklearn/neural_network/_multilayer_perceptron.py:614: ConvergenceWarning: Stochastic Optimizer: Maximum iterations (500) reached and the optimization hasn't converged yet.\n",
      "  warnings.warn(\n"
     ]
    },
    {
     "name": "stdout",
     "output_type": "stream",
     "text": [
      "715\n",
      "716\n"
     ]
    },
    {
     "name": "stderr",
     "output_type": "stream",
     "text": [
      "/home/ubuntu/anaconda3/lib/python3.8/site-packages/sklearn/neural_network/_multilayer_perceptron.py:614: ConvergenceWarning: Stochastic Optimizer: Maximum iterations (500) reached and the optimization hasn't converged yet.\n",
      "  warnings.warn(\n"
     ]
    },
    {
     "name": "stdout",
     "output_type": "stream",
     "text": [
      "717\n",
      "718\n",
      "719\n",
      "720\n",
      "721\n",
      "722\n",
      "723\n",
      "724\n"
     ]
    },
    {
     "name": "stderr",
     "output_type": "stream",
     "text": [
      "/home/ubuntu/anaconda3/lib/python3.8/site-packages/sklearn/neural_network/_multilayer_perceptron.py:614: ConvergenceWarning: Stochastic Optimizer: Maximum iterations (500) reached and the optimization hasn't converged yet.\n",
      "  warnings.warn(\n"
     ]
    },
    {
     "name": "stdout",
     "output_type": "stream",
     "text": [
      "725\n",
      "726\n",
      "727\n",
      "728\n",
      "729\n"
     ]
    },
    {
     "name": "stderr",
     "output_type": "stream",
     "text": [
      "/home/ubuntu/anaconda3/lib/python3.8/site-packages/sklearn/neural_network/_multilayer_perceptron.py:614: ConvergenceWarning: Stochastic Optimizer: Maximum iterations (500) reached and the optimization hasn't converged yet.\n",
      "  warnings.warn(\n"
     ]
    },
    {
     "name": "stdout",
     "output_type": "stream",
     "text": [
      "730\n",
      "731\n",
      "732\n",
      "733\n",
      "734\n",
      "735\n",
      "736\n",
      "737\n",
      "738\n",
      "739\n"
     ]
    },
    {
     "name": "stderr",
     "output_type": "stream",
     "text": [
      "/home/ubuntu/anaconda3/lib/python3.8/site-packages/sklearn/neural_network/_multilayer_perceptron.py:614: ConvergenceWarning: Stochastic Optimizer: Maximum iterations (500) reached and the optimization hasn't converged yet.\n",
      "  warnings.warn(\n"
     ]
    },
    {
     "name": "stdout",
     "output_type": "stream",
     "text": [
      "740\n",
      "741\n",
      "742\n"
     ]
    },
    {
     "name": "stderr",
     "output_type": "stream",
     "text": [
      "/home/ubuntu/anaconda3/lib/python3.8/site-packages/sklearn/neural_network/_multilayer_perceptron.py:614: ConvergenceWarning: Stochastic Optimizer: Maximum iterations (500) reached and the optimization hasn't converged yet.\n",
      "  warnings.warn(\n"
     ]
    },
    {
     "name": "stdout",
     "output_type": "stream",
     "text": [
      "743\n",
      "744\n",
      "745\n"
     ]
    },
    {
     "name": "stderr",
     "output_type": "stream",
     "text": [
      "/home/ubuntu/anaconda3/lib/python3.8/site-packages/sklearn/neural_network/_multilayer_perceptron.py:614: ConvergenceWarning: Stochastic Optimizer: Maximum iterations (500) reached and the optimization hasn't converged yet.\n",
      "  warnings.warn(\n"
     ]
    },
    {
     "name": "stdout",
     "output_type": "stream",
     "text": [
      "746\n",
      "747\n",
      "748\n",
      "749\n",
      "750\n"
     ]
    },
    {
     "name": "stderr",
     "output_type": "stream",
     "text": [
      "/home/ubuntu/anaconda3/lib/python3.8/site-packages/sklearn/neural_network/_multilayer_perceptron.py:614: ConvergenceWarning: Stochastic Optimizer: Maximum iterations (500) reached and the optimization hasn't converged yet.\n",
      "  warnings.warn(\n",
      "/home/ubuntu/anaconda3/lib/python3.8/site-packages/sklearn/neural_network/_multilayer_perceptron.py:614: ConvergenceWarning: Stochastic Optimizer: Maximum iterations (500) reached and the optimization hasn't converged yet.\n",
      "  warnings.warn(\n",
      "/home/ubuntu/anaconda3/lib/python3.8/site-packages/sklearn/neural_network/_multilayer_perceptron.py:614: ConvergenceWarning: Stochastic Optimizer: Maximum iterations (500) reached and the optimization hasn't converged yet.\n",
      "  warnings.warn(\n",
      "/home/ubuntu/anaconda3/lib/python3.8/site-packages/sklearn/neural_network/_multilayer_perceptron.py:614: ConvergenceWarning: Stochastic Optimizer: Maximum iterations (500) reached and the optimization hasn't converged yet.\n",
      "  warnings.warn(\n",
      "/home/ubuntu/anaconda3/lib/python3.8/site-packages/sklearn/neural_network/_multilayer_perceptron.py:614: ConvergenceWarning: Stochastic Optimizer: Maximum iterations (500) reached and the optimization hasn't converged yet.\n",
      "  warnings.warn(\n"
     ]
    },
    {
     "name": "stdout",
     "output_type": "stream",
     "text": [
      "751\n",
      "752\n",
      "753\n",
      "754\n",
      "755\n",
      "756\n",
      "757\n",
      "758\n",
      "759\n",
      "760\n",
      "761\n",
      "762\n",
      "763\n",
      "764\n",
      "765\n",
      "766\n",
      "767\n",
      "768\n",
      "769\n",
      "770\n",
      "771\n",
      "772\n",
      "773\n",
      "774\n",
      "775\n"
     ]
    },
    {
     "name": "stderr",
     "output_type": "stream",
     "text": [
      "/home/ubuntu/anaconda3/lib/python3.8/site-packages/sklearn/neural_network/_multilayer_perceptron.py:614: ConvergenceWarning: Stochastic Optimizer: Maximum iterations (500) reached and the optimization hasn't converged yet.\n",
      "  warnings.warn(\n",
      "/home/ubuntu/anaconda3/lib/python3.8/site-packages/sklearn/neural_network/_multilayer_perceptron.py:614: ConvergenceWarning: Stochastic Optimizer: Maximum iterations (500) reached and the optimization hasn't converged yet.\n",
      "  warnings.warn(\n"
     ]
    },
    {
     "name": "stdout",
     "output_type": "stream",
     "text": [
      "776\n",
      "777\n",
      "778\n",
      "779\n",
      "780\n",
      "781\n",
      "782\n",
      "783\n",
      "784\n",
      "785\n",
      "786\n",
      "787\n"
     ]
    },
    {
     "name": "stderr",
     "output_type": "stream",
     "text": [
      "/home/ubuntu/anaconda3/lib/python3.8/site-packages/sklearn/neural_network/_multilayer_perceptron.py:614: ConvergenceWarning: Stochastic Optimizer: Maximum iterations (500) reached and the optimization hasn't converged yet.\n",
      "  warnings.warn(\n"
     ]
    },
    {
     "name": "stdout",
     "output_type": "stream",
     "text": [
      "788\n",
      "789\n"
     ]
    },
    {
     "name": "stderr",
     "output_type": "stream",
     "text": [
      "/home/ubuntu/anaconda3/lib/python3.8/site-packages/sklearn/neural_network/_multilayer_perceptron.py:614: ConvergenceWarning: Stochastic Optimizer: Maximum iterations (500) reached and the optimization hasn't converged yet.\n",
      "  warnings.warn(\n"
     ]
    },
    {
     "name": "stdout",
     "output_type": "stream",
     "text": [
      "790\n",
      "791\n",
      "792\n",
      "793\n",
      "794\n",
      "795\n",
      "796\n"
     ]
    },
    {
     "name": "stderr",
     "output_type": "stream",
     "text": [
      "/home/ubuntu/anaconda3/lib/python3.8/site-packages/sklearn/neural_network/_multilayer_perceptron.py:614: ConvergenceWarning: Stochastic Optimizer: Maximum iterations (500) reached and the optimization hasn't converged yet.\n",
      "  warnings.warn(\n"
     ]
    },
    {
     "name": "stdout",
     "output_type": "stream",
     "text": [
      "797\n",
      "798\n",
      "799\n",
      "800\n",
      "801\n",
      "802\n",
      "803\n"
     ]
    },
    {
     "name": "stderr",
     "output_type": "stream",
     "text": [
      "/home/ubuntu/anaconda3/lib/python3.8/site-packages/sklearn/neural_network/_multilayer_perceptron.py:614: ConvergenceWarning: Stochastic Optimizer: Maximum iterations (500) reached and the optimization hasn't converged yet.\n",
      "  warnings.warn(\n"
     ]
    },
    {
     "name": "stdout",
     "output_type": "stream",
     "text": [
      "804\n",
      "805\n",
      "806\n"
     ]
    },
    {
     "name": "stderr",
     "output_type": "stream",
     "text": [
      "/home/ubuntu/anaconda3/lib/python3.8/site-packages/sklearn/neural_network/_multilayer_perceptron.py:614: ConvergenceWarning: Stochastic Optimizer: Maximum iterations (500) reached and the optimization hasn't converged yet.\n",
      "  warnings.warn(\n"
     ]
    },
    {
     "name": "stdout",
     "output_type": "stream",
     "text": [
      "807\n",
      "818\n",
      "819\n",
      "820\n",
      "821\n",
      "822\n",
      "823\n",
      "824\n",
      "825\n"
     ]
    },
    {
     "name": "stderr",
     "output_type": "stream",
     "text": [
      "/home/ubuntu/anaconda3/lib/python3.8/site-packages/sklearn/neural_network/_multilayer_perceptron.py:614: ConvergenceWarning: Stochastic Optimizer: Maximum iterations (500) reached and the optimization hasn't converged yet.\n",
      "  warnings.warn(\n",
      "/home/ubuntu/anaconda3/lib/python3.8/site-packages/sklearn/neural_network/_multilayer_perceptron.py:614: ConvergenceWarning: Stochastic Optimizer: Maximum iterations (500) reached and the optimization hasn't converged yet.\n",
      "  warnings.warn(\n",
      "/home/ubuntu/anaconda3/lib/python3.8/site-packages/sklearn/neural_network/_multilayer_perceptron.py:614: ConvergenceWarning: Stochastic Optimizer: Maximum iterations (500) reached and the optimization hasn't converged yet.\n",
      "  warnings.warn(\n"
     ]
    },
    {
     "name": "stdout",
     "output_type": "stream",
     "text": [
      "826\n",
      "827\n",
      "828\n"
     ]
    },
    {
     "name": "stderr",
     "output_type": "stream",
     "text": [
      "/home/ubuntu/anaconda3/lib/python3.8/site-packages/sklearn/neural_network/_multilayer_perceptron.py:614: ConvergenceWarning: Stochastic Optimizer: Maximum iterations (500) reached and the optimization hasn't converged yet.\n",
      "  warnings.warn(\n",
      "/home/ubuntu/anaconda3/lib/python3.8/site-packages/sklearn/neural_network/_multilayer_perceptron.py:614: ConvergenceWarning: Stochastic Optimizer: Maximum iterations (500) reached and the optimization hasn't converged yet.\n",
      "  warnings.warn(\n"
     ]
    },
    {
     "name": "stdout",
     "output_type": "stream",
     "text": [
      "829\n"
     ]
    },
    {
     "name": "stderr",
     "output_type": "stream",
     "text": [
      "/home/ubuntu/anaconda3/lib/python3.8/site-packages/sklearn/neural_network/_multilayer_perceptron.py:614: ConvergenceWarning: Stochastic Optimizer: Maximum iterations (500) reached and the optimization hasn't converged yet.\n",
      "  warnings.warn(\n"
     ]
    },
    {
     "name": "stdout",
     "output_type": "stream",
     "text": [
      "830\n",
      "831\n",
      "832\n",
      "833\n",
      "834\n",
      "835\n"
     ]
    },
    {
     "name": "stderr",
     "output_type": "stream",
     "text": [
      "/home/ubuntu/anaconda3/lib/python3.8/site-packages/sklearn/neural_network/_multilayer_perceptron.py:614: ConvergenceWarning: Stochastic Optimizer: Maximum iterations (500) reached and the optimization hasn't converged yet.\n",
      "  warnings.warn(\n"
     ]
    },
    {
     "name": "stdout",
     "output_type": "stream",
     "text": [
      "836\n",
      "837\n"
     ]
    },
    {
     "name": "stderr",
     "output_type": "stream",
     "text": [
      "/home/ubuntu/anaconda3/lib/python3.8/site-packages/sklearn/neural_network/_multilayer_perceptron.py:614: ConvergenceWarning: Stochastic Optimizer: Maximum iterations (500) reached and the optimization hasn't converged yet.\n",
      "  warnings.warn(\n",
      "/home/ubuntu/anaconda3/lib/python3.8/site-packages/sklearn/neural_network/_multilayer_perceptron.py:614: ConvergenceWarning: Stochastic Optimizer: Maximum iterations (500) reached and the optimization hasn't converged yet.\n",
      "  warnings.warn(\n",
      "/home/ubuntu/anaconda3/lib/python3.8/site-packages/sklearn/neural_network/_multilayer_perceptron.py:614: ConvergenceWarning: Stochastic Optimizer: Maximum iterations (500) reached and the optimization hasn't converged yet.\n",
      "  warnings.warn(\n"
     ]
    },
    {
     "name": "stdout",
     "output_type": "stream",
     "text": [
      "838\n",
      "839\n",
      "840\n",
      "841\n",
      "842\n",
      "843\n",
      "844\n",
      "845\n",
      "846\n",
      "847\n",
      "848\n",
      "849\n"
     ]
    },
    {
     "name": "stderr",
     "output_type": "stream",
     "text": [
      "/home/ubuntu/anaconda3/lib/python3.8/site-packages/sklearn/neural_network/_multilayer_perceptron.py:614: ConvergenceWarning: Stochastic Optimizer: Maximum iterations (500) reached and the optimization hasn't converged yet.\n",
      "  warnings.warn(\n"
     ]
    },
    {
     "name": "stdout",
     "output_type": "stream",
     "text": [
      "850\n",
      "851\n",
      "852\n",
      "853\n",
      "854\n",
      "855\n",
      "856\n",
      "857\n"
     ]
    },
    {
     "name": "stderr",
     "output_type": "stream",
     "text": [
      "/home/ubuntu/anaconda3/lib/python3.8/site-packages/sklearn/neural_network/_multilayer_perceptron.py:614: ConvergenceWarning: Stochastic Optimizer: Maximum iterations (500) reached and the optimization hasn't converged yet.\n",
      "  warnings.warn(\n"
     ]
    },
    {
     "name": "stdout",
     "output_type": "stream",
     "text": [
      "858\n"
     ]
    },
    {
     "name": "stderr",
     "output_type": "stream",
     "text": [
      "/home/ubuntu/anaconda3/lib/python3.8/site-packages/sklearn/neural_network/_multilayer_perceptron.py:614: ConvergenceWarning: Stochastic Optimizer: Maximum iterations (500) reached and the optimization hasn't converged yet.\n",
      "  warnings.warn(\n"
     ]
    },
    {
     "name": "stdout",
     "output_type": "stream",
     "text": [
      "859\n"
     ]
    },
    {
     "name": "stderr",
     "output_type": "stream",
     "text": [
      "/home/ubuntu/anaconda3/lib/python3.8/site-packages/sklearn/neural_network/_multilayer_perceptron.py:614: ConvergenceWarning: Stochastic Optimizer: Maximum iterations (500) reached and the optimization hasn't converged yet.\n",
      "  warnings.warn(\n"
     ]
    },
    {
     "name": "stdout",
     "output_type": "stream",
     "text": [
      "860\n"
     ]
    },
    {
     "name": "stderr",
     "output_type": "stream",
     "text": [
      "/home/ubuntu/anaconda3/lib/python3.8/site-packages/sklearn/neural_network/_multilayer_perceptron.py:614: ConvergenceWarning: Stochastic Optimizer: Maximum iterations (500) reached and the optimization hasn't converged yet.\n",
      "  warnings.warn(\n",
      "/home/ubuntu/anaconda3/lib/python3.8/site-packages/sklearn/neural_network/_multilayer_perceptron.py:614: ConvergenceWarning: Stochastic Optimizer: Maximum iterations (500) reached and the optimization hasn't converged yet.\n",
      "  warnings.warn(\n",
      "/home/ubuntu/anaconda3/lib/python3.8/site-packages/sklearn/neural_network/_multilayer_perceptron.py:614: ConvergenceWarning: Stochastic Optimizer: Maximum iterations (500) reached and the optimization hasn't converged yet.\n",
      "  warnings.warn(\n",
      "/home/ubuntu/anaconda3/lib/python3.8/site-packages/sklearn/neural_network/_multilayer_perceptron.py:614: ConvergenceWarning: Stochastic Optimizer: Maximum iterations (500) reached and the optimization hasn't converged yet.\n",
      "  warnings.warn(\n"
     ]
    },
    {
     "name": "stdout",
     "output_type": "stream",
     "text": [
      "861\n",
      "862\n"
     ]
    },
    {
     "name": "stderr",
     "output_type": "stream",
     "text": [
      "/home/ubuntu/anaconda3/lib/python3.8/site-packages/sklearn/neural_network/_multilayer_perceptron.py:614: ConvergenceWarning: Stochastic Optimizer: Maximum iterations (500) reached and the optimization hasn't converged yet.\n",
      "  warnings.warn(\n"
     ]
    },
    {
     "name": "stdout",
     "output_type": "stream",
     "text": [
      "863\n"
     ]
    },
    {
     "name": "stderr",
     "output_type": "stream",
     "text": [
      "/home/ubuntu/anaconda3/lib/python3.8/site-packages/sklearn/neural_network/_multilayer_perceptron.py:614: ConvergenceWarning: Stochastic Optimizer: Maximum iterations (500) reached and the optimization hasn't converged yet.\n",
      "  warnings.warn(\n"
     ]
    },
    {
     "name": "stdout",
     "output_type": "stream",
     "text": [
      "864\n"
     ]
    },
    {
     "name": "stderr",
     "output_type": "stream",
     "text": [
      "/home/ubuntu/anaconda3/lib/python3.8/site-packages/sklearn/neural_network/_multilayer_perceptron.py:614: ConvergenceWarning: Stochastic Optimizer: Maximum iterations (500) reached and the optimization hasn't converged yet.\n",
      "  warnings.warn(\n"
     ]
    },
    {
     "name": "stdout",
     "output_type": "stream",
     "text": [
      "865\n"
     ]
    },
    {
     "name": "stderr",
     "output_type": "stream",
     "text": [
      "/home/ubuntu/anaconda3/lib/python3.8/site-packages/sklearn/neural_network/_multilayer_perceptron.py:614: ConvergenceWarning: Stochastic Optimizer: Maximum iterations (500) reached and the optimization hasn't converged yet.\n",
      "  warnings.warn(\n",
      "/home/ubuntu/anaconda3/lib/python3.8/site-packages/sklearn/neural_network/_multilayer_perceptron.py:614: ConvergenceWarning: Stochastic Optimizer: Maximum iterations (500) reached and the optimization hasn't converged yet.\n",
      "  warnings.warn(\n",
      "/home/ubuntu/anaconda3/lib/python3.8/site-packages/sklearn/neural_network/_multilayer_perceptron.py:614: ConvergenceWarning: Stochastic Optimizer: Maximum iterations (500) reached and the optimization hasn't converged yet.\n",
      "  warnings.warn(\n"
     ]
    },
    {
     "name": "stdout",
     "output_type": "stream",
     "text": [
      "866\n"
     ]
    },
    {
     "name": "stderr",
     "output_type": "stream",
     "text": [
      "/home/ubuntu/anaconda3/lib/python3.8/site-packages/sklearn/neural_network/_multilayer_perceptron.py:614: ConvergenceWarning: Stochastic Optimizer: Maximum iterations (500) reached and the optimization hasn't converged yet.\n",
      "  warnings.warn(\n"
     ]
    },
    {
     "name": "stdout",
     "output_type": "stream",
     "text": [
      "867\n",
      "868\n",
      "869\n",
      "870\n",
      "871\n",
      "872\n",
      "873\n",
      "874\n",
      "875\n",
      "876\n",
      "877\n",
      "878\n",
      "879\n",
      "880\n",
      "881\n",
      "882\n"
     ]
    },
    {
     "name": "stderr",
     "output_type": "stream",
     "text": [
      "/home/ubuntu/anaconda3/lib/python3.8/site-packages/sklearn/neural_network/_multilayer_perceptron.py:614: ConvergenceWarning: Stochastic Optimizer: Maximum iterations (500) reached and the optimization hasn't converged yet.\n",
      "  warnings.warn(\n",
      "/home/ubuntu/anaconda3/lib/python3.8/site-packages/sklearn/neural_network/_multilayer_perceptron.py:614: ConvergenceWarning: Stochastic Optimizer: Maximum iterations (500) reached and the optimization hasn't converged yet.\n",
      "  warnings.warn(\n"
     ]
    },
    {
     "name": "stdout",
     "output_type": "stream",
     "text": [
      "883\n"
     ]
    },
    {
     "name": "stderr",
     "output_type": "stream",
     "text": [
      "/home/ubuntu/anaconda3/lib/python3.8/site-packages/sklearn/neural_network/_multilayer_perceptron.py:614: ConvergenceWarning: Stochastic Optimizer: Maximum iterations (500) reached and the optimization hasn't converged yet.\n",
      "  warnings.warn(\n",
      "/home/ubuntu/anaconda3/lib/python3.8/site-packages/sklearn/neural_network/_multilayer_perceptron.py:614: ConvergenceWarning: Stochastic Optimizer: Maximum iterations (500) reached and the optimization hasn't converged yet.\n",
      "  warnings.warn(\n",
      "/home/ubuntu/anaconda3/lib/python3.8/site-packages/sklearn/neural_network/_multilayer_perceptron.py:614: ConvergenceWarning: Stochastic Optimizer: Maximum iterations (500) reached and the optimization hasn't converged yet.\n",
      "  warnings.warn(\n"
     ]
    },
    {
     "name": "stdout",
     "output_type": "stream",
     "text": [
      "884\n",
      "885\n"
     ]
    },
    {
     "name": "stderr",
     "output_type": "stream",
     "text": [
      "/home/ubuntu/anaconda3/lib/python3.8/site-packages/sklearn/neural_network/_multilayer_perceptron.py:614: ConvergenceWarning: Stochastic Optimizer: Maximum iterations (500) reached and the optimization hasn't converged yet.\n",
      "  warnings.warn(\n"
     ]
    },
    {
     "name": "stdout",
     "output_type": "stream",
     "text": [
      "886\n"
     ]
    },
    {
     "name": "stderr",
     "output_type": "stream",
     "text": [
      "/home/ubuntu/anaconda3/lib/python3.8/site-packages/sklearn/neural_network/_multilayer_perceptron.py:614: ConvergenceWarning: Stochastic Optimizer: Maximum iterations (500) reached and the optimization hasn't converged yet.\n",
      "  warnings.warn(\n"
     ]
    },
    {
     "name": "stdout",
     "output_type": "stream",
     "text": [
      "887\n"
     ]
    },
    {
     "name": "stderr",
     "output_type": "stream",
     "text": [
      "/home/ubuntu/anaconda3/lib/python3.8/site-packages/sklearn/neural_network/_multilayer_perceptron.py:614: ConvergenceWarning: Stochastic Optimizer: Maximum iterations (500) reached and the optimization hasn't converged yet.\n",
      "  warnings.warn(\n"
     ]
    },
    {
     "name": "stdout",
     "output_type": "stream",
     "text": [
      "888\n",
      "889\n",
      "890\n",
      "891\n",
      "892\n",
      "893\n",
      "894\n",
      "895\n"
     ]
    },
    {
     "name": "stderr",
     "output_type": "stream",
     "text": [
      "/home/ubuntu/anaconda3/lib/python3.8/site-packages/sklearn/neural_network/_multilayer_perceptron.py:614: ConvergenceWarning: Stochastic Optimizer: Maximum iterations (500) reached and the optimization hasn't converged yet.\n",
      "  warnings.warn(\n",
      "/home/ubuntu/anaconda3/lib/python3.8/site-packages/sklearn/neural_network/_multilayer_perceptron.py:614: ConvergenceWarning: Stochastic Optimizer: Maximum iterations (500) reached and the optimization hasn't converged yet.\n",
      "  warnings.warn(\n"
     ]
    },
    {
     "name": "stdout",
     "output_type": "stream",
     "text": [
      "896\n"
     ]
    },
    {
     "name": "stderr",
     "output_type": "stream",
     "text": [
      "/home/ubuntu/anaconda3/lib/python3.8/site-packages/sklearn/neural_network/_multilayer_perceptron.py:614: ConvergenceWarning: Stochastic Optimizer: Maximum iterations (500) reached and the optimization hasn't converged yet.\n",
      "  warnings.warn(\n"
     ]
    },
    {
     "name": "stdout",
     "output_type": "stream",
     "text": [
      "897\n"
     ]
    },
    {
     "name": "stderr",
     "output_type": "stream",
     "text": [
      "/home/ubuntu/anaconda3/lib/python3.8/site-packages/sklearn/neural_network/_multilayer_perceptron.py:614: ConvergenceWarning: Stochastic Optimizer: Maximum iterations (500) reached and the optimization hasn't converged yet.\n",
      "  warnings.warn(\n"
     ]
    },
    {
     "name": "stdout",
     "output_type": "stream",
     "text": [
      "898\n",
      "899\n",
      "900\n",
      "901\n",
      "902\n",
      "903\n"
     ]
    },
    {
     "name": "stderr",
     "output_type": "stream",
     "text": [
      "/home/ubuntu/anaconda3/lib/python3.8/site-packages/sklearn/neural_network/_multilayer_perceptron.py:614: ConvergenceWarning: Stochastic Optimizer: Maximum iterations (500) reached and the optimization hasn't converged yet.\n",
      "  warnings.warn(\n",
      "/home/ubuntu/anaconda3/lib/python3.8/site-packages/sklearn/neural_network/_multilayer_perceptron.py:614: ConvergenceWarning: Stochastic Optimizer: Maximum iterations (500) reached and the optimization hasn't converged yet.\n",
      "  warnings.warn(\n"
     ]
    },
    {
     "name": "stdout",
     "output_type": "stream",
     "text": [
      "904\n"
     ]
    },
    {
     "name": "stderr",
     "output_type": "stream",
     "text": [
      "/home/ubuntu/anaconda3/lib/python3.8/site-packages/sklearn/neural_network/_multilayer_perceptron.py:614: ConvergenceWarning: Stochastic Optimizer: Maximum iterations (500) reached and the optimization hasn't converged yet.\n",
      "  warnings.warn(\n"
     ]
    },
    {
     "name": "stdout",
     "output_type": "stream",
     "text": [
      "905\n",
      "906\n",
      "907\n",
      "908\n",
      "909\n",
      "910\n",
      "911\n",
      "912\n",
      "913\n",
      "914\n"
     ]
    },
    {
     "name": "stderr",
     "output_type": "stream",
     "text": [
      "/home/ubuntu/anaconda3/lib/python3.8/site-packages/sklearn/neural_network/_multilayer_perceptron.py:614: ConvergenceWarning: Stochastic Optimizer: Maximum iterations (500) reached and the optimization hasn't converged yet.\n",
      "  warnings.warn(\n",
      "/home/ubuntu/anaconda3/lib/python3.8/site-packages/sklearn/neural_network/_multilayer_perceptron.py:614: ConvergenceWarning: Stochastic Optimizer: Maximum iterations (500) reached and the optimization hasn't converged yet.\n",
      "  warnings.warn(\n",
      "/home/ubuntu/anaconda3/lib/python3.8/site-packages/sklearn/neural_network/_multilayer_perceptron.py:614: ConvergenceWarning: Stochastic Optimizer: Maximum iterations (500) reached and the optimization hasn't converged yet.\n",
      "  warnings.warn(\n"
     ]
    },
    {
     "name": "stdout",
     "output_type": "stream",
     "text": [
      "915\n"
     ]
    },
    {
     "name": "stderr",
     "output_type": "stream",
     "text": [
      "/home/ubuntu/anaconda3/lib/python3.8/site-packages/sklearn/neural_network/_multilayer_perceptron.py:614: ConvergenceWarning: Stochastic Optimizer: Maximum iterations (500) reached and the optimization hasn't converged yet.\n",
      "  warnings.warn(\n",
      "/home/ubuntu/anaconda3/lib/python3.8/site-packages/sklearn/neural_network/_multilayer_perceptron.py:614: ConvergenceWarning: Stochastic Optimizer: Maximum iterations (500) reached and the optimization hasn't converged yet.\n",
      "  warnings.warn(\n"
     ]
    },
    {
     "name": "stdout",
     "output_type": "stream",
     "text": [
      "916\n",
      "917\n",
      "918\n",
      "919\n",
      "920\n",
      "921\n",
      "922\n",
      "923\n",
      "924\n",
      "925\n",
      "926\n"
     ]
    },
    {
     "name": "stderr",
     "output_type": "stream",
     "text": [
      "/home/ubuntu/anaconda3/lib/python3.8/site-packages/sklearn/neural_network/_multilayer_perceptron.py:614: ConvergenceWarning: Stochastic Optimizer: Maximum iterations (500) reached and the optimization hasn't converged yet.\n",
      "  warnings.warn(\n"
     ]
    },
    {
     "name": "stdout",
     "output_type": "stream",
     "text": [
      "927\n",
      "928\n"
     ]
    },
    {
     "name": "stderr",
     "output_type": "stream",
     "text": [
      "/home/ubuntu/anaconda3/lib/python3.8/site-packages/sklearn/neural_network/_multilayer_perceptron.py:614: ConvergenceWarning: Stochastic Optimizer: Maximum iterations (500) reached and the optimization hasn't converged yet.\n",
      "  warnings.warn(\n",
      "/home/ubuntu/anaconda3/lib/python3.8/site-packages/sklearn/neural_network/_multilayer_perceptron.py:614: ConvergenceWarning: Stochastic Optimizer: Maximum iterations (500) reached and the optimization hasn't converged yet.\n",
      "  warnings.warn(\n",
      "/home/ubuntu/anaconda3/lib/python3.8/site-packages/sklearn/neural_network/_multilayer_perceptron.py:614: ConvergenceWarning: Stochastic Optimizer: Maximum iterations (500) reached and the optimization hasn't converged yet.\n",
      "  warnings.warn(\n",
      "/home/ubuntu/anaconda3/lib/python3.8/site-packages/sklearn/neural_network/_multilayer_perceptron.py:614: ConvergenceWarning: Stochastic Optimizer: Maximum iterations (500) reached and the optimization hasn't converged yet.\n",
      "  warnings.warn(\n"
     ]
    },
    {
     "name": "stdout",
     "output_type": "stream",
     "text": [
      "929\n",
      "930\n",
      "931\n",
      "932\n"
     ]
    },
    {
     "name": "stderr",
     "output_type": "stream",
     "text": [
      "/home/ubuntu/anaconda3/lib/python3.8/site-packages/sklearn/neural_network/_multilayer_perceptron.py:614: ConvergenceWarning: Stochastic Optimizer: Maximum iterations (500) reached and the optimization hasn't converged yet.\n",
      "  warnings.warn(\n"
     ]
    },
    {
     "name": "stdout",
     "output_type": "stream",
     "text": [
      "933\n",
      "934\n",
      "935\n",
      "936\n",
      "937\n",
      "938\n",
      "939\n",
      "940\n",
      "941\n",
      "942\n",
      "943\n"
     ]
    },
    {
     "name": "stderr",
     "output_type": "stream",
     "text": [
      "/home/ubuntu/anaconda3/lib/python3.8/site-packages/sklearn/neural_network/_multilayer_perceptron.py:614: ConvergenceWarning: Stochastic Optimizer: Maximum iterations (500) reached and the optimization hasn't converged yet.\n",
      "  warnings.warn(\n",
      "/home/ubuntu/anaconda3/lib/python3.8/site-packages/sklearn/neural_network/_multilayer_perceptron.py:614: ConvergenceWarning: Stochastic Optimizer: Maximum iterations (500) reached and the optimization hasn't converged yet.\n",
      "  warnings.warn(\n",
      "/home/ubuntu/anaconda3/lib/python3.8/site-packages/sklearn/neural_network/_multilayer_perceptron.py:614: ConvergenceWarning: Stochastic Optimizer: Maximum iterations (500) reached and the optimization hasn't converged yet.\n",
      "  warnings.warn(\n"
     ]
    },
    {
     "name": "stdout",
     "output_type": "stream",
     "text": [
      "944\n",
      "945\n",
      "946\n",
      "947\n"
     ]
    },
    {
     "name": "stderr",
     "output_type": "stream",
     "text": [
      "/home/ubuntu/anaconda3/lib/python3.8/site-packages/sklearn/neural_network/_multilayer_perceptron.py:614: ConvergenceWarning: Stochastic Optimizer: Maximum iterations (500) reached and the optimization hasn't converged yet.\n",
      "  warnings.warn(\n"
     ]
    },
    {
     "name": "stdout",
     "output_type": "stream",
     "text": [
      "948\n"
     ]
    },
    {
     "name": "stderr",
     "output_type": "stream",
     "text": [
      "/home/ubuntu/anaconda3/lib/python3.8/site-packages/sklearn/neural_network/_multilayer_perceptron.py:614: ConvergenceWarning: Stochastic Optimizer: Maximum iterations (500) reached and the optimization hasn't converged yet.\n",
      "  warnings.warn(\n"
     ]
    },
    {
     "name": "stdout",
     "output_type": "stream",
     "text": [
      "949\n",
      "950\n"
     ]
    },
    {
     "name": "stderr",
     "output_type": "stream",
     "text": [
      "/home/ubuntu/anaconda3/lib/python3.8/site-packages/sklearn/neural_network/_multilayer_perceptron.py:614: ConvergenceWarning: Stochastic Optimizer: Maximum iterations (500) reached and the optimization hasn't converged yet.\n",
      "  warnings.warn(\n"
     ]
    },
    {
     "name": "stdout",
     "output_type": "stream",
     "text": [
      "951\n",
      "952\n"
     ]
    },
    {
     "name": "stderr",
     "output_type": "stream",
     "text": [
      "/home/ubuntu/anaconda3/lib/python3.8/site-packages/sklearn/neural_network/_multilayer_perceptron.py:614: ConvergenceWarning: Stochastic Optimizer: Maximum iterations (500) reached and the optimization hasn't converged yet.\n",
      "  warnings.warn(\n"
     ]
    },
    {
     "name": "stdout",
     "output_type": "stream",
     "text": [
      "953\n",
      "954\n"
     ]
    },
    {
     "name": "stderr",
     "output_type": "stream",
     "text": [
      "/home/ubuntu/anaconda3/lib/python3.8/site-packages/sklearn/neural_network/_multilayer_perceptron.py:614: ConvergenceWarning: Stochastic Optimizer: Maximum iterations (500) reached and the optimization hasn't converged yet.\n",
      "  warnings.warn(\n"
     ]
    },
    {
     "name": "stdout",
     "output_type": "stream",
     "text": [
      "955\n",
      "956\n",
      "957\n",
      "958\n"
     ]
    },
    {
     "name": "stderr",
     "output_type": "stream",
     "text": [
      "/home/ubuntu/anaconda3/lib/python3.8/site-packages/sklearn/neural_network/_multilayer_perceptron.py:614: ConvergenceWarning: Stochastic Optimizer: Maximum iterations (500) reached and the optimization hasn't converged yet.\n",
      "  warnings.warn(\n"
     ]
    },
    {
     "name": "stdout",
     "output_type": "stream",
     "text": [
      "959\n",
      "960\n",
      "961\n"
     ]
    },
    {
     "name": "stderr",
     "output_type": "stream",
     "text": [
      "/home/ubuntu/anaconda3/lib/python3.8/site-packages/sklearn/neural_network/_multilayer_perceptron.py:614: ConvergenceWarning: Stochastic Optimizer: Maximum iterations (500) reached and the optimization hasn't converged yet.\n",
      "  warnings.warn(\n",
      "/home/ubuntu/anaconda3/lib/python3.8/site-packages/sklearn/neural_network/_multilayer_perceptron.py:614: ConvergenceWarning: Stochastic Optimizer: Maximum iterations (500) reached and the optimization hasn't converged yet.\n",
      "  warnings.warn(\n"
     ]
    },
    {
     "name": "stdout",
     "output_type": "stream",
     "text": [
      "962\n"
     ]
    },
    {
     "name": "stderr",
     "output_type": "stream",
     "text": [
      "/home/ubuntu/anaconda3/lib/python3.8/site-packages/sklearn/neural_network/_multilayer_perceptron.py:614: ConvergenceWarning: Stochastic Optimizer: Maximum iterations (500) reached and the optimization hasn't converged yet.\n",
      "  warnings.warn(\n"
     ]
    },
    {
     "name": "stdout",
     "output_type": "stream",
     "text": [
      "963\n"
     ]
    },
    {
     "name": "stderr",
     "output_type": "stream",
     "text": [
      "/home/ubuntu/anaconda3/lib/python3.8/site-packages/sklearn/neural_network/_multilayer_perceptron.py:614: ConvergenceWarning: Stochastic Optimizer: Maximum iterations (500) reached and the optimization hasn't converged yet.\n",
      "  warnings.warn(\n"
     ]
    },
    {
     "name": "stdout",
     "output_type": "stream",
     "text": [
      "964\n",
      "965\n",
      "966\n"
     ]
    },
    {
     "name": "stderr",
     "output_type": "stream",
     "text": [
      "/home/ubuntu/anaconda3/lib/python3.8/site-packages/sklearn/neural_network/_multilayer_perceptron.py:614: ConvergenceWarning: Stochastic Optimizer: Maximum iterations (500) reached and the optimization hasn't converged yet.\n",
      "  warnings.warn(\n",
      "/home/ubuntu/anaconda3/lib/python3.8/site-packages/sklearn/neural_network/_multilayer_perceptron.py:614: ConvergenceWarning: Stochastic Optimizer: Maximum iterations (500) reached and the optimization hasn't converged yet.\n",
      "  warnings.warn(\n",
      "/home/ubuntu/anaconda3/lib/python3.8/site-packages/sklearn/neural_network/_multilayer_perceptron.py:614: ConvergenceWarning: Stochastic Optimizer: Maximum iterations (500) reached and the optimization hasn't converged yet.\n",
      "  warnings.warn(\n"
     ]
    },
    {
     "name": "stdout",
     "output_type": "stream",
     "text": [
      "967\n"
     ]
    },
    {
     "name": "stderr",
     "output_type": "stream",
     "text": [
      "/home/ubuntu/anaconda3/lib/python3.8/site-packages/sklearn/neural_network/_multilayer_perceptron.py:614: ConvergenceWarning: Stochastic Optimizer: Maximum iterations (500) reached and the optimization hasn't converged yet.\n",
      "  warnings.warn(\n"
     ]
    },
    {
     "name": "stdout",
     "output_type": "stream",
     "text": [
      "968\n",
      "969\n",
      "970\n"
     ]
    },
    {
     "name": "stderr",
     "output_type": "stream",
     "text": [
      "/home/ubuntu/anaconda3/lib/python3.8/site-packages/sklearn/neural_network/_multilayer_perceptron.py:614: ConvergenceWarning: Stochastic Optimizer: Maximum iterations (500) reached and the optimization hasn't converged yet.\n",
      "  warnings.warn(\n",
      "/home/ubuntu/anaconda3/lib/python3.8/site-packages/sklearn/neural_network/_multilayer_perceptron.py:614: ConvergenceWarning: Stochastic Optimizer: Maximum iterations (500) reached and the optimization hasn't converged yet.\n",
      "  warnings.warn(\n"
     ]
    },
    {
     "name": "stdout",
     "output_type": "stream",
     "text": [
      "971\n"
     ]
    },
    {
     "name": "stderr",
     "output_type": "stream",
     "text": [
      "/home/ubuntu/anaconda3/lib/python3.8/site-packages/sklearn/neural_network/_multilayer_perceptron.py:614: ConvergenceWarning: Stochastic Optimizer: Maximum iterations (500) reached and the optimization hasn't converged yet.\n",
      "  warnings.warn(\n"
     ]
    },
    {
     "name": "stdout",
     "output_type": "stream",
     "text": [
      "972\n"
     ]
    },
    {
     "name": "stderr",
     "output_type": "stream",
     "text": [
      "/home/ubuntu/anaconda3/lib/python3.8/site-packages/sklearn/neural_network/_multilayer_perceptron.py:614: ConvergenceWarning: Stochastic Optimizer: Maximum iterations (500) reached and the optimization hasn't converged yet.\n",
      "  warnings.warn(\n"
     ]
    },
    {
     "name": "stdout",
     "output_type": "stream",
     "text": [
      "973\n",
      "974\n"
     ]
    },
    {
     "name": "stderr",
     "output_type": "stream",
     "text": [
      "/home/ubuntu/anaconda3/lib/python3.8/site-packages/sklearn/neural_network/_multilayer_perceptron.py:614: ConvergenceWarning: Stochastic Optimizer: Maximum iterations (500) reached and the optimization hasn't converged yet.\n",
      "  warnings.warn(\n"
     ]
    },
    {
     "name": "stdout",
     "output_type": "stream",
     "text": [
      "975\n",
      "976\n",
      "977\n",
      "978\n",
      "MLP-TAORF-nvs--5-ht  saved!\n"
     ]
    }
   ],
   "source": [
    "################################################\n",
    "# dataset options: 'CDRP' , 'LUAD', 'TAORF', 'LINCS', 'CDRP-bio'\n",
    "datasets=['TAORF'];\n",
    "# datasets=['LINCS', 'CDRP-bio','CDRP'];\n",
    "\n",
    "DT_kfold={'LUAD':10, 'TAORF':5, 'LINCS':25, 'CDRP-bio':6,'CDRP':40}\n",
    "\n",
    "################################################\n",
    "# CP Profile Type options: 'augmented' , 'normalized', 'normalized_variable_selected'\n",
    "profileType='normalized_variable_selected'\n",
    "\n",
    "################################################\n",
    "# filtering to compounds which have high replicates for both GE and CP datasets\n",
    "# highRepOverlapEnabled=0\n",
    "# 'highRepUnion','highRepOverlap'\n",
    "filter_perts='highRepOverlap'\n",
    "\n",
    "################################################\n",
    "pertColName='PERT'\n",
    "profileLevel='treatment'; #'replicate'  or  'treatment'\n",
    "if highRepOverlapEnabled:\n",
    "    f='filt'\n",
    "else:\n",
    "    f=''\n",
    "    \n",
    "# def f(dataset):\n",
    "for dataset in datasets:\n",
    "   \n",
    "    \n",
    "    nRep=2\n",
    "    mergProf_repLevel,mergProf_treatLevel,cp_features,l1k_features=\\\n",
    "    readMergedProfiles(procProf_dir,dataset,profileType,profileLevel,nRep,highRepOverlapEnabled);\n",
    "\n",
    "\n",
    "#     if profileLevel=='replicate':\n",
    "#         l1k=mergProf_repLevel[[pertColName]+l1k_features]\n",
    "#         cp=mergProf_repLevel[[pertColName]+cp_features]\n",
    "#     elif profileLevel=='treatment':\n",
    "    l1k=mergProf_treatLevel[[pertColName]+l1k_features]\n",
    "    cp=mergProf_treatLevel[[pertColName]+cp_features]\n",
    "\n",
    "\n",
    "    if dataset=='LINCS':     \n",
    "        cp['Compounds']=cp['PERT'].str[0:13]\n",
    "        l1k['Compounds']=l1k['PERT'].str[0:13]\n",
    "    else:\n",
    "        cp['Compounds']=cp['PERT']\n",
    "        l1k['Compounds']=l1k['PERT']      \n",
    "\n",
    "\n",
    "    le = preprocessing.LabelEncoder()\n",
    "    group_labels=le.fit_transform(l1k['Compounds'].values)\n",
    "\n",
    "\n",
    "    scaler_ge = preprocessing.StandardScaler()\n",
    "    scaler_cp = preprocessing.StandardScaler()\n",
    "    l1k_scaled=l1k.copy()\n",
    "    l1k_scaled[l1k_features] = scaler_ge.fit_transform(l1k[l1k_features].values)\n",
    "    cp_scaled=cp.copy()\n",
    "    cp_scaled[cp_features] = scaler_cp.fit_transform(cp[cp_features].values.astype('float64'))\n",
    "    \n",
    "    \n",
    "    for model in [\"MLP\"]:#[\"Lasso\",\"MLP\",\"RFR\"]:    \n",
    "\n",
    "        if 1:\n",
    "            cp=cp_scaled.copy()\n",
    "            l1k=l1k_scaled.copy()\n",
    "\n",
    "        ##############################\n",
    "         \n",
    "        k_fold=DT_kfold[dataset]\n",
    "#         k_fold=int(np.unique(group_labels).shape[0]/4)\n",
    "#         if dataset=='TAORF' or dataset=='CDRP':     \n",
    "#             k_fold=DT_kfold[dataset]\n",
    "# #             k_fold=int(np.unique(group_labels).shape[0]/20)              \n",
    "#         else:\n",
    "#             k_fold=int(np.unique(group_labels).shape[0]/20)  \n",
    "            \n",
    "        pred_df=pd.DataFrame(index=range(k_fold),columns=l1k_features)\n",
    "        pred_df_rand=pd.DataFrame(index=range(k_fold),columns=l1k_features)\n",
    "        ii=0\n",
    "        for l in l1k_features:\n",
    "            ii+=1\n",
    "            print(ii)\n",
    "            if model==\"Lasso\":\n",
    "                scores,scores_rand=lasso_cv_plus_model_selection(cp[cp_features],l1k[l],k_fold,group_labels)        \n",
    "#                 scores,scores_rand=lasso_cv(cp[cp_features],l1k[l],k_fold,group_labels)\n",
    "            elif model==\"MLP\":\n",
    "                scores,scores_rand=MLP_cv_plus_model_selection(cp[cp_features],l1k[l],k_fold,group_labels)\n",
    "#                 scores,scores_rand=MLP_cv(cp[cp_features],l1k[l],k_fold,group_labels)  \n",
    "            elif model==\"RFR\":\n",
    "                scores,scores_rand=RFR_cv_plus_model_selection(cp[cp_features],l1k[l],k_fold,group_labels)  \n",
    "            \n",
    "            pred_df[l]=scores\n",
    "            pred_df_rand[l]=scores_rand\n",
    "\n",
    "#         gafgfdssgfd\n",
    "        ########################### mapping prob_ids to genes names    \n",
    "        meta=pd.read_csv(\"/home/ubuntu/bucket/projects/2018_04_20_Rosetta/workspace/metadata/affy_probe_gene_mapping.txt\",delimiter=\"\\t\",header=None, names=[\"probe_id\", \"gene\"])\n",
    "        meta_gene_probID=meta.set_index('probe_id')\n",
    "        d = dict(zip(meta_gene_probID.index, meta_gene_probID['gene']))\n",
    "        pred_df = pred_df.rename(columns=d)    \n",
    "        pred_df_rand = pred_df_rand.rename(columns=d)  \n",
    "\n",
    "\n",
    "        meltedPredDF=pd.melt(pred_df).rename(columns={'variable':'lmGens','value':'pred score'})\n",
    "        meltedPredDF_rand=pd.melt(pred_df_rand).rename(columns={'variable':'lmGens','value':'pred score'})\n",
    "        meltedPredDF['d']=\"n-folds\"\n",
    "        meltedPredDF_rand['d']=\"random\"\n",
    "        filename=results_dir+'/SingleGenePred/scores.xlsx'\n",
    "        \n",
    "        profTypeAbbrev=''.join([s[0] for s in profileType.split('_')])\n",
    "        \n",
    "        saveAsNewSheetToExistingFile(filename,pd.concat([meltedPredDF,meltedPredDF_rand],ignore_index=True),\\\n",
    "                                     model+'-'+dataset+'-'+profTypeAbbrev+'-'+f+'-'+str(k_fold)+'-ht')\n",
    "        \n",
    "#     return \n",
    "\n",
    "# with Pool(10) as p:\n",
    "#     p.map(f, datasets)"
   ]
  },
  {
   "cell_type": "code",
   "execution_count": 13,
   "metadata": {},
   "outputs": [
    {
     "data": {
      "text/plain": [
       "array([0.        , 0.01052632, 0.02105263, 0.03157895, 0.04210526,\n",
       "       0.05263158, 0.06315789, 0.07368421, 0.08421053, 0.09473684,\n",
       "       0.10526316, 0.11578947, 0.12631579, 0.13684211, 0.14736842,\n",
       "       0.15789474, 0.16842105, 0.17894737, 0.18947368, 0.2       ,\n",
       "       0.23333333, 0.26666667, 0.3       , 0.33333333, 0.36666667,\n",
       "       0.4       , 0.43333333, 0.46666667, 0.5       ])"
      ]
     },
     "execution_count": 13,
     "metadata": {},
     "output_type": "execute_result"
    }
   ],
   "source": [
    "# scores,scores_rand=lasso_cv_plus_model_selection(cp[cp_features],l1k[l],k_fold,group_labels)\n",
    "alphas = np.linspace(0, 0.2, 20)\n",
    "np.concatenate((alphas,np.linspace(0.2, 0.5, 10)[1:]))\n",
    "# np.logspace(-4, -0.5, 30)"
   ]
  },
  {
   "cell_type": "code",
   "execution_count": 10,
   "metadata": {},
   "outputs": [
    {
     "data": {
      "text/plain": [
       "202870_s_at   -16.070872\n",
       "209899_s_at   -10.784372\n",
       "203315_at      -7.462818\n",
       "204126_s_at    -6.800885\n",
       "201323_at      -6.340889\n",
       "                 ...    \n",
       "201870_at       0.398052\n",
       "209875_s_at     0.413801\n",
       "210986_s_at     0.474941\n",
       "210719_s_at     0.509600\n",
       "201032_at       0.511457\n",
       "Length: 978, dtype: float64"
      ]
     },
     "execution_count": 10,
     "metadata": {},
     "output_type": "execute_result"
    }
   ],
   "source": [
    "# np.linspace(0, 1, 10)\n",
    "# scores_rand\n",
    "pred_df.mean().sort_values()"
   ]
  },
  {
   "cell_type": "code",
   "execution_count": 21,
   "metadata": {},
   "outputs": [
    {
     "data": {
      "text/plain": [
       "array([0.57400963, 0.58238021, 0.58851821, 0.54148807, 0.6773486 ,\n",
       "       0.5438055 , 0.64596831, 0.2438296 , 0.52226319])"
      ]
     },
     "execution_count": 21,
     "metadata": {},
     "output_type": "execute_result"
    }
   ],
   "source": [
    "np.array(scores)"
   ]
  },
  {
   "cell_type": "code",
   "execution_count": 24,
   "metadata": {},
   "outputs": [
    {
     "data": {
      "text/plain": [
       "array([0.61805801, 0.61410161, 0.71590492, 0.5401769 , 0.7256939 ,\n",
       "       0.6572162 , 0.62939806, 0.35729642, 0.54652747])"
      ]
     },
     "execution_count": 24,
     "metadata": {},
     "output_type": "execute_result"
    }
   ],
   "source": [
    "np.array(scores)"
   ]
  },
  {
   "cell_type": "code",
   "execution_count": 18,
   "metadata": {},
   "outputs": [
    {
     "name": "stderr",
     "output_type": "stream",
     "text": [
      "/home/ubuntu/anaconda3/lib/python3.8/site-packages/seaborn/distributions.py:2551: FutureWarning: `distplot` is a deprecated function and will be removed in a future version. Please adapt your code to use either `displot` (a figure-level function with similar flexibility) or `histplot` (an axes-level function for histograms).\n",
      "  warnings.warn(msg, FutureWarning)\n"
     ]
    },
    {
     "name": "stdout",
     "output_type": "stream",
     "text": [
      "-0.0008916206554699711\n"
     ]
    },
    {
     "data": {
      "text/plain": [
       "(-0.5, 0.5)"
      ]
     },
     "execution_count": 18,
     "metadata": {},
     "output_type": "execute_result"
    },
    {
     "data": {
      "image/png": "[encoded data removed]",
      "text/plain": [
       "<Figure size 432x288 with 1 Axes>"
      ]
     },
     "metadata": {},
     "output_type": "display_data"
    }
   ],
   "source": [
    "# pred_scoress=d_to_pl[d_to_pl[\"d\"]==\"n-folds\"][\"pred score\"].values\n",
    "#         pred_scoress=res_sheet[res_sheet['d']=='n-folds'][\"pred score\"].values\n",
    "# rand_scoress=d_to_pl[d_to_pl[\"d\"]==\"random\"][\"pred score\"].values\n",
    "#         rand_scoress=res_sheet[res_sheet['d']=='random'][\"pred score\"].values\n",
    "sns.distplot(meltedPredDF['pred score'].values,kde=False,hist=True,bins=200,norm_hist=True,color='r')\n",
    "sns.distplot(meltedPredDF_rand['pred score'].values,kde=False,hist=True,bins=200,label='random',norm_hist=True)\n",
    "print(np.percentile(meltedPredDF_rand['pred score'].values,90))\n",
    "# plt.xlim(-1,1)\n",
    "plt.xlim(-.5,.5)"
   ]
  },
  {
   "cell_type": "code",
   "execution_count": null,
   "metadata": {},
   "outputs": [],
   "source": [
    "# meltedPredDF.groupby()"
   ]
  },
  {
   "cell_type": "markdown",
   "metadata": {},
   "source": [
    "## Prediction of single CP features based on the full GE profiles"
   ]
  },
  {
   "cell_type": "code",
   "execution_count": null,
   "metadata": {},
   "outputs": [],
   "source": []
  },
  {
   "cell_type": "markdown",
   "metadata": {},
   "source": [
    "## What are the Genes invloved in predicting a CP feature"
   ]
  },
  {
   "cell_type": "code",
   "execution_count": 56,
   "metadata": {},
   "outputs": [
    {
     "name": "stderr",
     "output_type": "stream",
     "text": [
      "/home/ubuntu/anaconda3/lib/python3.8/site-packages/IPython/core/interactiveshell.py:3263: DtypeWarning: Columns (1023,1028) have mixed types.Specify dtype option on import or set low_memory=False.\n",
      "  if (await self.run_code(code, result,  async_=asy)):\n"
     ]
    },
    {
     "name": "stdout",
     "output_type": "stream",
     "text": [
      "LUAD: Replicate Level Shapes (nSamples x nFeatures): cp:  6144 , 1569 ,  l1k:  4232 , 978\n",
      "l1k n of rep:  8.0\n",
      "cp n of rep:  8.0\n",
      "CP: from  593  to  364\n",
      "l1k: from  529  to  275\n",
      "CP and l1k high rep overlap:  197\n",
      "Treatment Level Shapes (nSamples x nFeatures+metadata): (198, 1572) (198, 979) Merged Profiles Shape: (198, 2550)\n"
     ]
    },
    {
     "name": "stderr",
     "output_type": "stream",
     "text": [
      "<ipython-input-56-3b040fbf9824>:43: SettingWithCopyWarning: \n",
      "A value is trying to be set on a copy of a slice from a DataFrame.\n",
      "Try using .loc[row_indexer,col_indexer] = value instead\n",
      "\n",
      "See the caveats in the documentation: https://pandas.pydata.org/pandas-docs/stable/user_guide/indexing.html#returning-a-view-versus-a-copy\n",
      "  cp['Compounds']=cp['PERT']\n",
      "<ipython-input-56-3b040fbf9824>:44: SettingWithCopyWarning: \n",
      "A value is trying to be set on a copy of a slice from a DataFrame.\n",
      "Try using .loc[row_indexer,col_indexer] = value instead\n",
      "\n",
      "See the caveats in the documentation: https://pandas.pydata.org/pandas-docs/stable/user_guide/indexing.html#returning-a-view-versus-a-copy\n",
      "  l1k['Compounds']=l1k['PERT']\n"
     ]
    },
    {
     "name": "stdout",
     "output_type": "stream",
     "text": [
      "Cytoplasm_AreaShape_Zernike_9_3\n"
     ]
    },
    {
     "data": {
      "image/png": "[encoded data removed]",
      "text/plain": [
       "<Figure size 576x396 with 1 Axes>"
      ]
     },
     "metadata": {},
     "output_type": "display_data"
    },
    {
     "name": "stdout",
     "output_type": "stream",
     "text": [
      "Cells_RadialDistribution_RadialCV_Mito_1of4\n"
     ]
    },
    {
     "data": {
      "image/png": "[encoded data removed]",
      "text/plain": [
       "<Figure size 576x396 with 1 Axes>"
      ]
     },
     "metadata": {},
     "output_type": "display_data"
    },
    {
     "name": "stdout",
     "output_type": "stream",
     "text": [
      "Cytoplasm_Granularity_3_RNA\n"
     ]
    },
    {
     "data": {
      "image/png": "[encoded data removed]",
      "text/plain": [
       "<Figure size 576x396 with 1 Axes>"
      ]
     },
     "metadata": {},
     "output_type": "display_data"
    }
   ],
   "source": [
    "if which_dataset_to_use==\"genetic\":\n",
    "    dataset='LUAD';\n",
    "elif which_dataset_to_use==\"chemical\":\n",
    "    dataset='LINCS';    \n",
    "\n",
    "\n",
    "################################################\n",
    "pertColName='PERT'\n",
    "\n",
    "mergProf_repLevel,mergProf_treatLevel,cp_features,l1k_features=\\\n",
    "readMergedProfiles(procProf_dir,dataset,'normalized','treatment',1,'highRepOverlap');\n",
    "\n",
    "\n",
    "l1k=mergProf_treatLevel[[pertColName]+l1k_features]\n",
    "cp=mergProf_treatLevel[[pertColName]+cp_features]\n",
    "\n",
    "\n",
    "if dataset=='LINCS':     \n",
    "    cp['Compounds']=cp['PERT'].str[0:13]\n",
    "    l1k['Compounds']=l1k['PERT'].str[0:13]\n",
    "else:\n",
    "    cp['Compounds']=cp['PERT']\n",
    "    l1k['Compounds']=l1k['PERT']      \n",
    "\n",
    "\n",
    "scaler_ge = preprocessing.StandardScaler()\n",
    "scaler_cp = preprocessing.StandardScaler()\n",
    "l1k_scaled=l1k.copy()\n",
    "l1k_scaled[l1k_features] = scaler_ge.fit_transform(l1k[l1k_features].values)\n",
    "cp_scaled=cp.copy()\n",
    "cp_scaled[cp_features] = scaler_cp.fit_transform(cp[cp_features].values.astype('float64'))\n",
    "\n",
    "\n",
    "model='Lasso'\n",
    "\n",
    "if 1:\n",
    "    cp=cp_scaled.copy()\n",
    "    l1k=l1k_scaled.copy()\n",
    "\n",
    "##############################\n",
    "k_fold=10\n",
    "pred_df=pd.DataFrame(index=range(k_fold),columns=cp_features_under_test)\n",
    "pred_df_rand=pd.DataFrame(index=range(k_fold),columns=cp_features_under_test)\n",
    "\n",
    "meta=pd.read_csv(\"/home/ubuntu/bucket/projects/2018_04_20_Rosetta/workspace/metadata/affy_probe_gene_mapping.txt\",delimiter=\"\\t\",header=None, names=[\"probe_id\", \"gene\"])\n",
    "meta_gene_probID=meta.set_index('probe_id')\n",
    "d = dict(zip(meta_gene_probID.index, meta_gene_probID['gene']))\n",
    "l1k_features_gn=[d[l] for l in l1k_features]\n",
    "l1k = l1k.rename(columns=d)    \n",
    "\n",
    "for c in cp_test_feats:\n",
    "    print(c)\n",
    "#     vv=linear_model_feature_ranking(l1k[l1k_features],cp[c],k_fold,group_labels,l1k_features_gn)\n",
    "    from sklearn.ensemble import RandomForestClassifier\n",
    "#     from yellowbrick.datasets import load_occupancy\n",
    "    from yellowbrick.model_selection import FeatureImportances\n",
    "    # Load the classification data set\n",
    "    model = linear_model.LinearRegression()\n",
    "    model.fit(l1k[l1k_features_gn],cp[c])\n",
    "#     model = RandomForestClassifier(n_estimators=10)\n",
    "#     viz = FeatureImportances(model,topn=20)\n",
    "    viz = FeatureImportances(linear_model.Lasso(),relative=True, topn=20)\n",
    "\n",
    "    viz.fit(l1k[l1k_features_gn],cp[c])\n",
    "    viz.show()\n",
    "    \n",
    "    \n",
    "    \n",
    "#     sfkdna\n",
    "\n",
    "\n",
    "# filename=results_dir+'/SingleCPfeatPred/scores.xlsx'\n",
    "\n",
    "# profTypeAbbrev=''.join([s[0] for s in profileType.split('_')])        \n",
    "\n",
    "# saveAsNewSheetToExistingFile(filename,pd.concat([meltedPredDF,meltedPredDF_rand],ignore_index=True),\\\n",
    "#                              model+'-'+dataset+'-'+profTypeAbbrev+'-'+f+'-'+str(k_fold)+'-ht')\n",
    "\n",
    "\n",
    "    \n",
    "#     return \n",
    "\n",
    "# with Pool(10) as p:\n",
    "#     p.map(f, datasets)        "
   ]
  },
  {
   "cell_type": "code",
   "execution_count": 65,
   "metadata": {},
   "outputs": [
    {
     "name": "stdout",
     "output_type": "stream",
     "text": [
      "Cytoplasm_AreaShape_Zernike_9_3\n"
     ]
    },
    {
     "name": "stderr",
     "output_type": "stream",
     "text": [
      "/home/ubuntu/anaconda3/lib/python3.8/site-packages/sklearn/linear_model/_coordinate_descent.py:530: ConvergenceWarning: Objective did not converge. You might want to increase the number of iterations. Duality gap: 0.4025574500339738, tolerance: 0.0198\n",
      "  model = cd_fast.enet_coordinate_descent(\n"
     ]
    },
    {
     "data": {
      "image/png": "[encoded data removed]",
      "text/plain": [
       "<Figure size 576x396 with 1 Axes>"
      ]
     },
     "metadata": {},
     "output_type": "display_data"
    },
    {
     "name": "stdout",
     "output_type": "stream",
     "text": [
      "Cells_RadialDistribution_RadialCV_Mito_1of4\n"
     ]
    },
    {
     "name": "stderr",
     "output_type": "stream",
     "text": [
      "/home/ubuntu/anaconda3/lib/python3.8/site-packages/sklearn/linear_model/_coordinate_descent.py:530: ConvergenceWarning: Objective did not converge. You might want to increase the number of iterations. Duality gap: 0.3805892404270581, tolerance: 0.0198\n",
      "  model = cd_fast.enet_coordinate_descent(\n"
     ]
    },
    {
     "data": {
      "image/png": "[encoded data removed]",
      "text/plain": [
       "<Figure size 576x396 with 1 Axes>"
      ]
     },
     "metadata": {},
     "output_type": "display_data"
    },
    {
     "name": "stdout",
     "output_type": "stream",
     "text": [
      "Cytoplasm_Granularity_3_RNA\n"
     ]
    },
    {
     "name": "stderr",
     "output_type": "stream",
     "text": [
      "/home/ubuntu/anaconda3/lib/python3.8/site-packages/sklearn/linear_model/_coordinate_descent.py:530: ConvergenceWarning: Objective did not converge. You might want to increase the number of iterations. Duality gap: 0.44310869502935485, tolerance: 0.0198\n",
      "  model = cd_fast.enet_coordinate_descent(\n"
     ]
    },
    {
     "data": {
      "image/png": "[encoded data removed]",
      "text/plain": [
       "<Figure size 576x396 with 1 Axes>"
      ]
     },
     "metadata": {},
     "output_type": "display_data"
    }
   ],
   "source": [
    "for c in cp_test_feats:\n",
    "    print(c)\n",
    "#     vv=linear_model_feature_ranking(l1k[l1k_features],cp[c],k_fold,group_labels,l1k_features_gn)\n",
    "    from sklearn.ensemble import RandomForestClassifier\n",
    "#     from yellowbrick.datasets import load_occupancy\n",
    "    from yellowbrick.model_selection import FeatureImportances\n",
    "    # Load the classification data set\n",
    "    model = linear_model.LinearRegression()\n",
    "    model.fit(l1k[l1k_features_gn],cp[c])\n",
    "#     model = RandomForestClassifier(n_estimators=10)\n",
    "#     viz = FeatureImportances(model,topn=20)\n",
    "    viz = FeatureImportances(linear_model.Lasso(alpha=0.001), labels=l1k_features_gn, relative=False,topn=20)\n",
    "\n",
    "    viz.fit(l1k[l1k_features_gn],cp[c])\n",
    "    viz.show()\n",
    "    "
   ]
  },
  {
   "cell_type": "code",
   "execution_count": 52,
   "metadata": {},
   "outputs": [
    {
     "name": "stdout",
     "output_type": "stream",
     "text": [
      "Cytoplasm_AreaShape_Zernike_9_3\n"
     ]
    },
    {
     "data": {
      "image/png": "[encoded data removed]",
      "text/plain": [
       "<Figure size 576x396 with 1 Axes>"
      ]
     },
     "metadata": {},
     "output_type": "display_data"
    },
    {
     "name": "stdout",
     "output_type": "stream",
     "text": [
      "Cells_RadialDistribution_RadialCV_Mito_1of4\n"
     ]
    },
    {
     "data": {
      "image/png": "[encoded data removed]",
      "text/plain": [
       "<Figure size 576x396 with 1 Axes>"
      ]
     },
     "metadata": {},
     "output_type": "display_data"
    },
    {
     "name": "stdout",
     "output_type": "stream",
     "text": [
      "Cytoplasm_Granularity_3_RNA\n"
     ]
    },
    {
     "data": {
      "image/png": "[encoded data removed]",
      "text/plain": [
       "<Figure size 576x396 with 1 Axes>"
      ]
     },
     "metadata": {},
     "output_type": "display_data"
    }
   ],
   "source": [
    "for c in cp_test_feats:\n",
    "    print(c)\n",
    "#     vv=linear_model_feature_ranking(l1k[l1k_features],cp[c],k_fold,group_labels,l1k_features_gn)\n",
    "    from sklearn.ensemble import RandomForestClassifier\n",
    "#     from yellowbrick.datasets import load_occupancy\n",
    "    from yellowbrick.model_selection import FeatureImportances\n",
    "    # Load the classification data set\n",
    "    model = linear_model.LinearRegression()\n",
    "    model.fit(l1k[l1k_features_gn],cp[c])\n",
    "#     model = RandomForestClassifier(n_estimators=10)\n",
    "    viz = FeatureImportances(model,topn=20)\n",
    "    viz.fit(l1k[l1k_features_gn],cp[c])\n",
    "    viz.show()"
   ]
  },
  {
   "cell_type": "code",
   "execution_count": 45,
   "metadata": {},
   "outputs": [
    {
     "data": {
      "text/plain": [
       "array([ 2.04549485e-02, -7.58797258e-03, -7.65245729e-04,  2.51112155e-02,\n",
       "       -2.75239315e-02,  5.74351496e-03,  3.31342225e-02,  1.29870440e-02,\n",
       "       -1.41858151e-03,  5.27273014e-03,  1.69722116e-02, -1.36293560e-02,\n",
       "       -8.89495854e-03,  3.97604096e-03, -2.00692265e-03, -1.11933227e-02,\n",
       "        1.11683725e-02, -2.82688920e-02,  3.42782326e-02,  7.60963438e-04,\n",
       "       -1.38756711e-02, -3.02794474e-02,  1.23271704e-02,  6.29606745e-03,\n",
       "       -1.07477992e-03, -3.35177765e-03,  3.57036660e-03,  2.97115049e-02,\n",
       "        3.87158360e-03,  7.05514328e-03, -1.22376331e-02,  1.81075143e-02,\n",
       "       -2.36721469e-02, -4.42699142e-03,  4.76125635e-03,  6.61868718e-03,\n",
       "        2.46233716e-02, -7.14407848e-03,  1.14308704e-02,  1.81832635e-02,\n",
       "       -1.74531616e-02,  1.98633531e-03,  6.14022010e-03,  8.82097239e-03,\n",
       "        1.25800985e-02,  8.55867962e-03, -1.25744066e-02,  4.90408702e-03,\n",
       "       -1.53986968e-02,  1.82150587e-02,  1.31252853e-02,  5.94574280e-03,\n",
       "        7.28085736e-03, -1.19151453e-02, -5.05910390e-03,  8.80279692e-03,\n",
       "       -1.48137096e-02,  9.00835372e-03,  3.26146241e-02, -1.45633653e-02,\n",
       "        2.57932518e-03,  1.27022859e-03,  1.60145280e-02,  5.97560008e-04,\n",
       "       -1.22940583e-02,  4.10363458e-03, -6.22458683e-03,  1.64479423e-02,\n",
       "       -1.61871879e-02,  1.62204729e-02,  3.91796333e-03,  1.76487683e-02,\n",
       "       -1.87613544e-02,  1.68150585e-02,  1.77833660e-02,  1.02527393e-02,\n",
       "        5.48271790e-03, -1.12329776e-02,  1.64215369e-03,  1.66924791e-02,\n",
       "       -2.15903921e-02, -1.52174518e-02,  1.11727795e-03,  8.12382825e-03,\n",
       "       -1.82206247e-04,  1.97714767e-02, -2.05752995e-02,  3.83096833e-03,\n",
       "       -1.89960850e-02,  1.76034566e-02,  1.66035271e-02, -4.04013762e-02,\n",
       "        1.65595254e-02, -1.53966482e-02, -2.76626759e-03, -5.64631843e-03,\n",
       "        1.55595221e-02,  2.58734306e-03,  6.10286213e-03, -7.51399896e-03,\n",
       "       -2.85555321e-02,  1.46057994e-02,  3.15482058e-03, -1.36281758e-02,\n",
       "       -9.35753301e-03, -1.05529789e-02,  2.80838266e-03,  3.73334523e-03,\n",
       "        1.31013428e-02, -8.13154924e-03, -1.52701220e-02, -2.37180814e-02,\n",
       "       -2.48642035e-02, -4.93790087e-03,  1.91867597e-03, -7.21496573e-04,\n",
       "        3.76696170e-02,  2.75103611e-02, -2.48370229e-02, -8.39746350e-03,\n",
       "        2.33073715e-03, -6.57760076e-03,  3.39746755e-03,  2.06060302e-02,\n",
       "       -1.12436008e-02,  5.66850725e-03, -2.58588417e-03,  2.39973449e-02,\n",
       "       -6.62847095e-04, -5.20948685e-03,  8.73589199e-03,  8.46253786e-03,\n",
       "        8.61761147e-03,  7.37281915e-03,  1.05161624e-02,  5.24189886e-03,\n",
       "        9.65337156e-03, -1.35886694e-02,  1.75757308e-02, -6.05831028e-03,\n",
       "       -3.08843711e-03, -1.51807642e-02, -7.80721577e-03, -1.17023582e-02,\n",
       "       -7.56038177e-03,  6.83740863e-03,  6.11942490e-03, -2.25050733e-02,\n",
       "       -2.63941935e-02, -1.97995594e-02, -1.94988591e-02,  6.08417038e-03,\n",
       "        1.81664673e-02,  1.79084285e-02, -7.96964611e-04, -1.55301464e-02,\n",
       "        1.10976551e-02,  2.55099843e-03,  1.42341095e-02, -1.55465600e-02,\n",
       "        2.51018586e-02, -5.00882853e-02, -5.69974161e-03,  1.26311954e-02,\n",
       "       -7.25232550e-03,  1.91081392e-02, -6.70523338e-03,  6.52525138e-03,\n",
       "       -1.39785513e-02,  1.17889324e-02, -8.90032909e-03,  5.78100906e-03,\n",
       "       -1.55418838e-02,  1.17502911e-02, -3.40746788e-02, -3.82670932e-03,\n",
       "       -2.07241721e-02, -1.05597675e-02,  8.62033608e-03,  5.27929206e-03,\n",
       "       -8.02446131e-04, -4.07807557e-03,  1.10870197e-03,  9.00807657e-03,\n",
       "       -1.12521431e-03, -2.51866421e-02,  1.47582835e-03, -1.29142601e-02,\n",
       "        6.13791692e-03, -2.25216792e-02, -3.13364810e-03,  4.98709865e-02,\n",
       "       -4.80791366e-03,  1.02424647e-02,  7.43167885e-03,  5.90405363e-03,\n",
       "        2.25099135e-02,  1.29788429e-02, -2.53542508e-03,  8.87410587e-03,\n",
       "       -8.51450129e-03,  6.53172122e-04, -1.19832987e-02,  1.76373553e-02,\n",
       "        1.01691753e-02,  4.54842007e-03, -3.03798399e-02, -6.30561576e-03,\n",
       "       -1.33474414e-02,  1.65448736e-02,  1.76090981e-02,  1.44977004e-02,\n",
       "        1.44505245e-02,  1.90477358e-03, -1.68953488e-03, -1.33881307e-02,\n",
       "        2.35953264e-02,  3.18117101e-02,  8.21025612e-03,  1.33333567e-02,\n",
       "        4.99954476e-03, -1.67845552e-02, -1.14324415e-02, -7.03208353e-03,\n",
       "       -2.83836006e-02,  1.78160460e-03,  2.74173956e-03, -4.39174654e-03,\n",
       "        3.67735279e-03,  1.10472282e-02, -4.72982577e-03,  1.27762446e-02,\n",
       "       -3.19051827e-02,  1.40894505e-04, -1.84523323e-02,  4.47911017e-03,\n",
       "        5.62619828e-03, -1.32005131e-02, -1.79342051e-02,  1.69881305e-02,\n",
       "       -2.39550453e-03, -1.32662446e-02, -1.38257704e-02, -1.12890201e-02,\n",
       "       -1.22144802e-02,  1.24752927e-03,  1.52577235e-02,  9.45851294e-03,\n",
       "       -2.14185699e-02,  1.05216893e-02, -1.15254542e-02, -5.32975590e-03,\n",
       "        3.64834486e-03, -1.32618597e-03, -3.93064121e-03, -1.29796855e-02,\n",
       "       -1.32656159e-02,  1.39130688e-02, -3.37921121e-06,  8.38170110e-03,\n",
       "        2.50726693e-02,  6.32198951e-03, -5.35738600e-03,  1.71063301e-04,\n",
       "       -3.08828108e-02, -2.66302584e-02,  5.63524839e-03,  1.76597024e-02,\n",
       "       -5.99378878e-03,  1.64360085e-03,  2.63905174e-03, -5.60967741e-03,\n",
       "        8.52343484e-03,  2.07178738e-02, -2.70876009e-03,  9.34991643e-03,\n",
       "        2.69459200e-02,  1.03715061e-03,  2.70053367e-02, -3.30856828e-03,\n",
       "       -1.82318474e-03, -6.09903942e-03,  8.82437184e-03,  1.38619615e-02,\n",
       "        1.27001766e-02, -6.53900921e-03,  5.18675577e-03,  3.34211527e-03,\n",
       "        1.35781885e-02, -2.13469629e-02,  5.58968876e-03, -2.15487864e-02,\n",
       "       -3.32260783e-02,  1.67814130e-03, -1.52542776e-02,  1.82946285e-02,\n",
       "       -2.53919965e-02, -3.02057706e-02, -1.51498885e-02,  1.24632991e-02,\n",
       "       -7.85238120e-03,  5.63141191e-03,  1.32779554e-02, -7.39331392e-03,\n",
       "        1.79424883e-02, -7.75120687e-03,  1.87393944e-02, -6.47712428e-04,\n",
       "        4.25064907e-03,  1.90686298e-02,  7.21503186e-03, -4.65894977e-03,\n",
       "        1.05616055e-02,  8.22374805e-03, -9.87142250e-04, -1.19928696e-02,\n",
       "       -1.45152734e-02, -1.58170157e-02,  1.80318518e-02, -4.76437538e-03,\n",
       "       -1.91607726e-03, -5.27208995e-03, -1.46531135e-04,  1.47754576e-02,\n",
       "        1.21482121e-02,  5.35631492e-02,  3.66418630e-03,  2.05686619e-02,\n",
       "       -5.53890850e-03,  4.17602743e-03,  1.67660176e-02,  1.12429764e-02,\n",
       "       -2.27604924e-02, -3.83690984e-03,  1.00183493e-02, -4.92510068e-03,\n",
       "       -4.19870168e-02,  4.00166088e-03,  6.38636197e-03, -9.67495197e-03,\n",
       "       -2.66380854e-02, -1.30598117e-02,  1.43323366e-02, -2.86773824e-02,\n",
       "       -1.15344532e-02, -5.54542997e-03, -1.33736525e-02,  1.03606112e-02,\n",
       "        1.45081208e-02,  1.27392833e-03,  2.08888011e-02, -1.36930776e-02,\n",
       "       -1.72778813e-02,  1.43204307e-02,  2.55749826e-02,  5.13560026e-04,\n",
       "       -1.67617324e-02, -3.81002180e-02,  3.33187988e-03,  8.02399796e-03,\n",
       "        1.71684940e-02,  5.53858381e-03, -3.62542915e-03, -3.80753489e-03,\n",
       "        3.08259761e-03, -6.27457225e-03,  1.17363573e-02,  1.76630036e-04,\n",
       "        9.50250629e-03, -3.68167358e-04, -5.55893078e-03, -2.34411657e-02,\n",
       "       -5.22807487e-03, -8.77845831e-03,  1.53161447e-02,  2.57116117e-02,\n",
       "        2.69283128e-02, -2.48859941e-03,  1.03242550e-02,  1.37246529e-02,\n",
       "        9.00146201e-03,  9.04704652e-03,  2.33354260e-02, -1.10254918e-02,\n",
       "        6.40646572e-03, -3.22755962e-03, -4.17157317e-03,  3.19662462e-02,\n",
       "       -1.33693252e-02, -8.23810937e-03, -3.01086819e-04, -1.41112839e-02,\n",
       "       -2.84902571e-03,  2.08669589e-02, -1.31675831e-02,  3.49210859e-02,\n",
       "        5.40500456e-03, -1.89393583e-02,  1.35460317e-02, -2.66422167e-03,\n",
       "        1.13346416e-02, -3.21601885e-03,  2.06410772e-02, -5.99582584e-03,\n",
       "       -6.58859675e-03,  1.59780420e-02,  1.08928502e-02,  6.41338109e-03,\n",
       "       -5.46874493e-03,  9.03040949e-03,  1.39662658e-02, -1.42392500e-02,\n",
       "        1.14768485e-03,  2.95893400e-02,  4.34095833e-03, -1.37093717e-02,\n",
       "        6.58773953e-03, -1.62385744e-03, -4.51274500e-03,  9.39416791e-03,\n",
       "        1.13124307e-02, -5.12758066e-04,  6.96356742e-03,  7.54157026e-03,\n",
       "       -2.39760341e-02, -1.90625659e-02,  2.09655433e-02, -2.92252935e-02,\n",
       "        1.23617503e-02, -1.07976572e-02, -1.75791238e-03, -3.40257689e-03,\n",
       "        6.30448771e-03, -1.42423834e-02, -6.93034251e-03, -2.59808513e-03,\n",
       "        8.16530983e-03,  1.08627067e-02, -1.76569580e-02,  3.18471918e-02,\n",
       "        1.02312870e-02,  2.26841220e-02,  1.44382428e-02,  7.37966204e-04,\n",
       "        6.82187696e-04,  1.32822129e-02,  1.27556277e-02,  2.59069514e-03,\n",
       "        3.29835063e-03,  4.63055124e-03,  2.21164796e-03,  3.64225303e-04,\n",
       "       -7.62628411e-03,  1.46920468e-02,  1.97134595e-02,  2.10171763e-02,\n",
       "        1.15069619e-02,  5.57154328e-03,  3.16730469e-03,  1.18175699e-02,\n",
       "       -2.25039161e-02,  1.04894378e-02,  1.20870811e-02,  1.29238261e-02,\n",
       "        2.88936883e-02, -2.11063517e-02, -4.22484140e-03, -1.41302505e-02,\n",
       "       -7.56620974e-03,  4.73992730e-03, -1.44106615e-02, -1.36981722e-02,\n",
       "       -9.56250547e-03,  9.46618066e-03,  8.27995446e-03,  9.23610690e-03,\n",
       "        1.19886669e-02,  1.14024763e-02, -9.93038712e-03, -1.69082490e-02,\n",
       "        1.68136878e-04,  1.17504953e-02, -3.38044882e-02, -1.91424835e-03,\n",
       "       -1.46937743e-03,  1.32690158e-02, -8.43593670e-03, -2.42632991e-03,\n",
       "       -9.18025655e-03,  5.95781749e-03, -1.55376952e-02, -2.44258201e-02,\n",
       "       -1.08341546e-02,  1.63939679e-02, -2.26109239e-04,  1.97798894e-02,\n",
       "       -1.84552642e-02, -2.57426146e-03,  2.62070928e-04,  9.78468970e-03,\n",
       "       -2.33876675e-02, -1.21636914e-02,  2.15392052e-02,  1.82095251e-02,\n",
       "       -1.60787369e-03,  1.67607610e-02, -1.53318647e-02, -5.83812943e-03,\n",
       "        1.25920435e-03, -2.19691238e-02,  5.52397954e-03, -7.46659855e-04,\n",
       "        1.47073877e-02,  7.22860023e-03, -1.80862104e-02, -1.45658258e-02,\n",
       "       -6.34298199e-03, -7.50833773e-03,  8.75082703e-03,  1.18646092e-02,\n",
       "       -1.16243715e-02, -1.58630247e-02, -5.86050103e-04,  4.02080823e-03,\n",
       "       -2.75463185e-03,  1.31358086e-02,  1.40906517e-02, -6.09935483e-03,\n",
       "       -1.85148990e-02, -1.05564039e-02, -2.16854869e-02, -4.89182516e-03,\n",
       "       -1.11138479e-02, -2.14124551e-02, -4.16090088e-03,  1.38505811e-02,\n",
       "        2.38492685e-02,  3.06488905e-03, -1.85216179e-02,  2.53456225e-02,\n",
       "       -8.57565195e-03, -8.48293495e-03,  2.64143413e-02,  2.21196736e-02,\n",
       "        7.91281240e-03,  2.20225812e-02, -9.84227115e-03, -1.01355341e-02,\n",
       "        9.94465259e-03,  6.46932236e-03,  3.81735697e-03, -1.20192145e-02,\n",
       "        5.00875230e-03, -6.53980460e-03, -2.23122420e-03, -7.25968253e-03,\n",
       "        2.31200212e-02,  9.38962733e-03,  7.89558793e-03, -8.67677847e-03,\n",
       "       -1.87628037e-03,  1.66520819e-02, -3.41505326e-02,  1.76487437e-02,\n",
       "        1.48371025e-02, -3.32270218e-02, -6.91949248e-03, -5.32507527e-03,\n",
       "       -1.37843582e-02, -1.79178226e-02,  5.13735759e-03, -3.21160987e-02,\n",
       "       -1.49840825e-02,  1.35597505e-02, -1.25745115e-03, -4.27356244e-03,\n",
       "       -1.78745896e-02,  8.79409670e-03,  8.01400683e-03, -2.40416925e-02,\n",
       "       -4.97248385e-04,  6.17652259e-03,  4.90240413e-03,  2.22480976e-02,\n",
       "        1.70546968e-02, -9.12414690e-03,  5.61420151e-03,  3.02002996e-02,\n",
       "        1.41023028e-02, -1.01216199e-02, -6.60232942e-03,  2.42028163e-02,\n",
       "       -1.24013222e-02, -1.79752028e-04,  1.23708721e-02, -2.15378521e-02,\n",
       "        4.29844654e-03,  8.17326087e-03,  3.34805533e-02,  1.10009843e-03,\n",
       "        1.26283690e-02, -1.04559944e-02, -1.85982531e-02, -1.27869683e-03,\n",
       "       -6.62975330e-04, -2.87914148e-02, -1.50257386e-02, -1.11371323e-02,\n",
       "        5.43326234e-03,  4.19961400e-03,  1.73045491e-02,  1.09734235e-02,\n",
       "       -1.88040051e-02,  1.86300900e-02, -1.08081095e-03, -1.07226190e-02,\n",
       "        1.06432616e-02,  7.34208778e-03, -3.01497607e-02,  2.40632055e-04,\n",
       "       -2.28563791e-02, -1.79972211e-02,  2.55295245e-02, -3.92411407e-03,\n",
       "       -1.45556294e-02, -1.61795407e-02, -3.32314140e-02, -1.24283387e-02,\n",
       "        9.70679239e-04,  9.42947865e-03, -3.34515195e-02,  2.07219421e-02,\n",
       "        6.27394394e-03,  7.54775352e-03, -2.25399614e-02,  1.13107860e-02,\n",
       "        8.33442776e-03, -2.79678175e-02, -1.76393127e-02, -1.67990545e-03,\n",
       "       -2.30162619e-02,  9.78874193e-03, -2.71488135e-03, -1.23252537e-02,\n",
       "       -2.93679874e-02,  3.72803994e-03, -8.34311337e-03,  2.28907625e-03,\n",
       "       -1.42559009e-02, -8.32601347e-03,  1.69484908e-02,  9.31804135e-03,\n",
       "        1.74473589e-02,  1.25177197e-02, -2.32268135e-02, -1.39904752e-02,\n",
       "        3.49168706e-03, -2.83085894e-03, -4.37621136e-04, -1.91010353e-02,\n",
       "       -2.25081884e-02,  1.05419683e-02, -5.07631515e-03,  9.08582586e-03,\n",
       "        2.02823785e-02, -4.30628414e-03, -1.78603560e-02,  1.98217422e-02,\n",
       "       -6.63065399e-04, -9.45303726e-03, -1.33924078e-02,  2.11122104e-02,\n",
       "        1.64276541e-02, -2.55712078e-03, -1.88010751e-02, -1.34049242e-02,\n",
       "       -1.78655481e-02,  1.23727098e-02, -1.58553292e-02, -4.05773589e-04,\n",
       "       -9.00875055e-03, -3.48074380e-03, -1.66373037e-02,  1.74007632e-04,\n",
       "       -9.18962291e-03,  2.77734089e-02,  1.25406574e-02,  1.62056581e-03,\n",
       "       -1.47940766e-02, -1.53224979e-02,  7.34162461e-03,  1.37384395e-02,\n",
       "       -2.00322338e-02,  1.77862161e-02,  4.22406143e-03, -2.53473775e-02,\n",
       "       -3.91700449e-03,  1.75020204e-03, -3.10359436e-03, -6.91273278e-03,\n",
       "       -5.08345889e-03,  7.73882700e-03, -3.24736889e-03,  6.61998718e-03,\n",
       "       -3.84245119e-02,  2.96651777e-02,  1.82560010e-02,  3.01586142e-03,\n",
       "        4.52408065e-03,  4.66419823e-04,  3.37592531e-02, -8.94631883e-03,\n",
       "       -1.46648030e-02, -4.85551439e-03, -6.39599260e-03, -1.60601185e-02,\n",
       "        1.88637224e-02,  5.90026608e-04,  3.94327541e-03, -5.73429238e-03,\n",
       "       -8.34635233e-03, -2.48141744e-02, -5.22229052e-03,  3.23673481e-02,\n",
       "        7.31831284e-03,  2.06741225e-02, -6.35990452e-03, -2.20508187e-02,\n",
       "        4.55036003e-03, -1.03702000e-02, -5.23352933e-03,  1.79198017e-02,\n",
       "        1.55064574e-02, -2.14950887e-02, -2.70095907e-02,  1.87681877e-03,\n",
       "       -1.59357173e-03, -2.06138568e-02,  1.16132823e-02,  5.16271172e-03,\n",
       "        2.29753623e-02,  1.96907289e-03,  1.54055648e-05,  1.26262193e-04,\n",
       "       -3.59594632e-03,  2.05352602e-02,  6.84992054e-03, -2.72603901e-03,\n",
       "        1.72829034e-03, -1.44164126e-02,  1.23783867e-02, -3.52306198e-03,\n",
       "        1.90836705e-02,  6.08800865e-03, -1.97995050e-02,  2.74608063e-03,\n",
       "        1.20419733e-02, -5.00755852e-03, -1.51800429e-02, -4.74073116e-03,\n",
       "        1.15089107e-02, -1.23232732e-02, -1.25298937e-03,  4.95347250e-04,\n",
       "       -2.10238259e-02, -1.62180654e-02,  6.90082288e-03, -4.39095181e-03,\n",
       "       -3.84101604e-02,  2.04054407e-02, -3.13130333e-02,  5.03332873e-02,\n",
       "       -3.55264329e-03, -2.56633076e-02, -2.88987780e-03, -1.73222060e-02,\n",
       "       -1.52082867e-02, -7.08445678e-03,  1.81884108e-03, -2.62205948e-02,\n",
       "       -5.93372954e-03, -2.99177695e-03,  7.59690618e-03,  3.25757616e-02,\n",
       "       -2.45803761e-02,  9.07740167e-03, -4.00735443e-03,  2.19853549e-04,\n",
       "        1.72134406e-02, -4.04349242e-03, -5.67468787e-03, -3.70853093e-03,\n",
       "        9.52499030e-03, -3.35304287e-03, -2.25610911e-02,  7.25030541e-03,\n",
       "       -1.49251429e-02,  1.84327533e-02,  4.01044831e-03,  2.17667338e-03,\n",
       "       -3.42372844e-03,  1.02258855e-02, -2.49592231e-03,  2.83620376e-03,\n",
       "       -4.49007754e-03,  1.22842821e-02, -3.24838191e-03,  5.96702189e-03,\n",
       "       -1.50497614e-02, -9.81771246e-03, -3.61439774e-02,  2.53289033e-02,\n",
       "        6.12661258e-03,  2.41687921e-02,  5.58414352e-03,  1.72807874e-02,\n",
       "       -2.64004495e-02,  9.13055255e-03,  8.57578200e-03,  9.08365721e-03,\n",
       "        7.51251832e-03,  1.90571779e-02, -2.14306860e-03,  2.26873177e-04,\n",
       "        1.37568359e-02, -1.50951679e-02,  2.33192745e-02, -1.55548711e-02,\n",
       "        1.88444579e-03,  1.44291317e-02,  1.23295262e-02,  2.97677687e-02,\n",
       "       -1.79670070e-02, -4.07488754e-02,  1.29659721e-02,  1.81046872e-02,\n",
       "       -8.02656991e-03,  5.34485396e-03,  9.98643038e-03,  1.21191395e-02,\n",
       "        7.67968561e-03,  4.03871853e-03, -8.82207470e-04, -1.11534434e-02,\n",
       "       -1.42319579e-03,  1.04112869e-03, -1.53773353e-02,  3.18138059e-03,\n",
       "       -1.06253314e-02,  9.87794501e-03, -9.96975937e-03,  2.14509496e-02,\n",
       "       -8.24283020e-03, -7.65291484e-03,  5.66111178e-03, -2.01545257e-02,\n",
       "        9.85810413e-03, -9.72673576e-03,  8.78930697e-03,  1.80266575e-02,\n",
       "        9.16759535e-03, -2.18415670e-02,  2.06940947e-02,  1.28138699e-02,\n",
       "       -1.48353503e-02, -1.57294945e-03, -1.91328581e-03, -7.15650492e-03,\n",
       "       -6.15635981e-03,  1.01250010e-02,  7.12667934e-03, -1.24778972e-02,\n",
       "        7.21140112e-03,  2.17717768e-02, -1.30792248e-02, -2.66234726e-03,\n",
       "       -1.42475958e-02,  1.57395634e-03, -1.80476846e-02,  7.52256730e-03,\n",
       "        2.67988596e-04,  2.43313680e-02,  1.07414288e-02,  2.04742520e-02,\n",
       "        2.36879517e-02,  4.54562226e-04,  5.01326393e-03,  6.92450960e-03,\n",
       "       -8.52124441e-04,  2.76274642e-04,  3.66774113e-03,  1.46513270e-02,\n",
       "       -1.67438548e-02, -6.58225889e-03, -4.70240594e-03,  4.54461677e-03,\n",
       "       -5.71044798e-03,  1.38649442e-02, -1.63032809e-03,  2.22667773e-03,\n",
       "        1.95227697e-02, -9.16281882e-03,  1.18950901e-02, -5.50762556e-03,\n",
       "       -1.58276083e-02,  1.39235526e-02,  4.68506637e-03,  1.67368866e-03,\n",
       "       -1.55347943e-02,  4.76225798e-03,  1.13920839e-02, -2.56844864e-02,\n",
       "        3.72254196e-03, -6.74135812e-03,  1.17623319e-02, -8.26177355e-03,\n",
       "       -3.10145052e-03,  1.24887415e-02,  9.43719681e-03, -1.28155723e-02,\n",
       "       -3.66115864e-03,  9.99645784e-04,  2.21241924e-03, -1.58335615e-02,\n",
       "       -5.32701723e-04, -1.18303676e-02,  1.23229062e-02,  1.00014243e-02,\n",
       "       -1.35410736e-02, -7.78633399e-03,  9.28091911e-03,  1.45057382e-02,\n",
       "       -2.85450133e-02,  1.38008975e-02, -8.38230604e-03, -2.71165890e-02,\n",
       "        4.90790225e-03,  1.96267921e-02, -1.82729283e-02,  1.89252195e-02,\n",
       "       -4.96633596e-03, -3.88849605e-03, -1.05181620e-02, -4.97794969e-02,\n",
       "        8.15667068e-03, -4.91718780e-03,  2.64121099e-02, -1.93407978e-02,\n",
       "        1.07910200e-02,  2.31487043e-02, -3.34607090e-02, -1.63580007e-03,\n",
       "        3.04708367e-03,  3.27199630e-03,  1.19398454e-02,  6.80727650e-03,\n",
       "        2.83654886e-04, -1.85993724e-02, -2.11748868e-02, -8.55298597e-04,\n",
       "        2.19316533e-02, -6.21701371e-03,  3.93233559e-03,  5.82463815e-03,\n",
       "        2.69933725e-03, -1.93632694e-02,  1.82993724e-02,  3.83451894e-03,\n",
       "       -1.02602024e-04, -1.15849666e-02,  2.19595671e-02, -5.25726581e-03,\n",
       "       -4.97698272e-03,  1.38588560e-02,  1.37468180e-02, -5.58478871e-03,\n",
       "       -3.40275541e-02,  1.79884523e-02])"
      ]
     },
     "execution_count": 45,
     "metadata": {},
     "output_type": "execute_result"
    }
   ],
   "source": [
    "vv"
   ]
  },
  {
   "cell_type": "code",
   "execution_count": 33,
   "metadata": {},
   "outputs": [],
   "source": [
    "# cp_features.index(cp_test_feats[2])\n",
    "vv1,vv2=linear_model_feature_ranking(l1k[l1k_features],cp[c],k_fold,group_labels,l1k_features_gn)"
   ]
  },
  {
   "cell_type": "code",
   "execution_count": 42,
   "metadata": {},
   "outputs": [
    {
     "data": {
      "text/plain": [
       "-3.379211214103549e-06"
      ]
     },
     "execution_count": 42,
     "metadata": {},
     "output_type": "execute_result"
    }
   ],
   "source": [
    "vv1[258]"
   ]
  },
  {
   "cell_type": "code",
   "execution_count": 41,
   "metadata": {},
   "outputs": [
    {
     "data": {
      "text/plain": [
       "(array([258, 742, 968, 743, 233, 322, 480, 263, 683, 367, 593,  84, 787,\n",
       "        494, 823, 619, 498, 880, 889, 956, 390, 451, 369, 679, 658, 885,\n",
       "        709, 763, 580, 421, 355, 924, 522, 717,  63, 307, 201, 128, 604,\n",
       "        668, 444, 115, 443, 511,  19,   2, 154, 180, 888, 959, 842, 628,\n",
       "        314, 921, 277, 845,  24, 614, 599, 182,  82, 184, 412, 245, 762,\n",
       "        574, 508,  61, 349, 603, 253,   8, 844, 484, 186, 865, 877, 736,\n",
       "        504, 687, 417, 898, 951,  78, 269, 907, 293, 639, 214, 748, 697,\n",
       "        430, 225, 778, 280, 560, 735, 828, 213, 866, 483, 320, 114, 741,\n",
       "         41,  14, 822, 799, 450, 922, 899, 554, 647, 120, 240, 487, 377,\n",
       "        802, 198, 157, 673, 497,  60, 126,  97, 447, 435, 270, 875, 399,\n",
       "        964, 274, 642, 747, 226, 755, 524,  94, 106, 657, 803, 392, 774,\n",
       "        781, 707, 952, 537, 364, 140, 916, 698, 190, 102, 458, 847, 401,\n",
       "        385, 702, 806, 953, 448, 279, 358, 287,  25, 793, 122, 431, 800,\n",
       "        681, 656, 751, 772,  26, 744, 362, 252, 920, 326, 890, 228, 791,\n",
       "        912, 645, 107, 363, 550, 175,  87, 967, 333,  28, 941, 696,  70,\n",
       "        623, 254, 962, 718,  13, 337, 786, 798, 523, 841, 789, 181,  65,\n",
       "        534, 386, 329, 609, 694, 466, 308, 575, 596, 665, 414, 767, 227,\n",
       "         33, 235, 804, 418, 708, 895, 205, 728, 449, 311, 906, 894, 230,\n",
       "        469, 759,  34, 909, 319, 192, 713, 531, 582,  47, 936, 945, 335,\n",
       "        113, 940, 972, 220, 757, 552, 886,  54, 662, 700, 570, 739, 286,\n",
       "        129, 722, 372, 730, 135, 971, 321,   9, 179, 567, 251, 837, 262,\n",
       "        396, 608, 408,  76, 903, 510, 361, 328, 345, 370, 457, 814, 975,\n",
       "        290, 271, 586, 236, 301, 266,  95, 854, 125, 790, 162, 896, 719,\n",
       "          5, 171, 963, 507, 195, 780,  51, 489, 807, 268, 403, 139, 151,\n",
       "        753, 281, 527,  98, 146, 812, 188,  42, 868, 581, 961,  66, 632,\n",
       "        365,  23, 432, 207, 261, 516, 726, 338, 714, 384, 407, 549, 167,\n",
       "        285, 553, 121, 893, 416, 404, 590,  35, 703, 166, 913, 955, 145,\n",
       "        746, 766, 699, 566, 887, 434, 422, 223,  29, 777, 870,  37, 867,\n",
       "        872, 310, 513, 795, 164, 555,  52, 724, 690, 617, 133, 303, 194,\n",
       "        517, 820,  99, 879, 423, 633, 144, 468,   1, 782, 452, 853, 840,\n",
       "        701, 305, 929, 142, 300, 558, 544, 578, 359, 836,  83, 109, 944,\n",
       "        436, 597, 218, 313, 389, 852, 915, 474, 649, 636, 646, 720, 259,\n",
       "        934, 119, 486, 131, 541, 200, 272,  45, 540, 818, 132, 178, 559,\n",
       "        130, 518, 373, 858, 577,  55,  43, 282, 199,  12, 170, 711, 380,\n",
       "        183,  57, 680, 409, 381, 785, 819, 663, 585, 817, 901, 860, 488,\n",
       "        684, 475, 930, 651, 275, 104, 557, 419, 629, 918, 669, 247, 473,\n",
       "        368, 792, 472, 136, 339, 857, 499, 641, 809, 546, 856, 849, 478,\n",
       "        548, 850, 838, 927, 334, 589, 869, 547, 204, 801, 440, 193,  75,\n",
       "        378, 347, 729, 601, 461, 134, 942, 249, 661, 105, 529, 177, 312,\n",
       "        848, 616, 615, 882, 948, 429, 492, 437, 406, 611, 383, 229, 156,\n",
       "        532, 607, 843,  16,  15,  77, 331, 124, 243, 635, 420, 400, 910,\n",
       "        477,  38, 222, 456, 760, 250, 344, 969, 738, 520, 143, 366, 173,\n",
       "        481, 914, 169, 459, 925, 519, 902,  53, 954, 202, 476, 315, 551,\n",
       "        756, 462, 839, 324, 501, 244,  30, 805,  64, 926, 761, 643,  22,\n",
       "        830, 428, 594, 677, 750, 592, 627, 299, 871, 917, 653, 686,  46,\n",
       "         44, 600, 163, 284, 446, 231, 863, 919, 187, 463, 834, 197, 255,\n",
       "          7, 341, 874, 108,  50, 525, 394, 237, 256, 241, 485, 302, 445,\n",
       "        219, 208, 388, 346, 215, 670, 675, 928, 398, 573, 288, 137, 103,\n",
       "         11, 351, 471, 415, 379, 691, 974, 824, 568, 933, 242, 535, 973,\n",
       "        283, 897,  20, 257, 905, 410, 168, 655, 526, 588, 391, 467, 158,\n",
       "        411, 433, 876, 648, 353, 342, 470, 749, 829, 442, 212, 211, 931,\n",
       "        348, 316, 624,  59, 515, 101, 891, 712, 453, 512, 323, 688,  56,\n",
       "        864, 564, 796, 572, 606, 808, 825, 298, 758, 141, 776,  81, 294,\n",
       "        246, 110, 374, 689, 506, 846,  93,  48, 732, 155, 908, 490, 172,\n",
       "        159, 827,  96, 317, 904, 923, 678, 521, 405,  62, 715, 625,  68,\n",
       "        765,  69, 493, 672,  67, 209,  92,  90, 682, 561,  79, 892, 505,\n",
       "        356, 330, 221,  73, 479, 650,  10, 239, 584, 360, 788, 352, 815,\n",
       "        610, 775, 652,  40, 138,  89, 210, 203, 638, 563,  71, 438, 267,\n",
       "         74, 693, 666, 676, 576, 153, 569, 731, 238, 304, 832, 977, 621,\n",
       "        859, 318, 878, 514, 835,  31, 152,  39, 503,  49, 706, 938, 295,\n",
       "        966, 797, 234, 496, 528, 538, 602, 957, 613, 306,  72, 674, 612,\n",
       "        716, 939, 397,  88, 821, 425, 309, 752, 659, 165, 947, 965, 150,\n",
       "        900, 937, 454,  85, 495, 754, 149, 667, 692, 855, 664, 769,   0,\n",
       "        883, 745, 327,  86, 123, 737, 402, 725, 862, 273, 631, 176, 393,\n",
       "        350, 426, 455, 764, 465, 671, 958, 289, 533, 248, 851, 733, 595,\n",
       "        502, 291,  80, 530, 873, 861, 960, 970, 509, 545, 727, 543, 583,\n",
       "        460, 147, 660, 196, 189, 634, 794, 441, 332, 620, 740, 640, 556,\n",
       "        949, 654, 826, 382, 500, 371, 216,  32, 884, 111, 536, 424, 127,\n",
       "        579, 813, 591, 881, 491, 784,  36, 721, 118, 112, 260, 160,   3,\n",
       "        185, 811, 539, 695, 296, 622, 354, 773, 911, 375, 779, 148, 816,\n",
       "        946, 542, 265, 340, 376, 276, 278, 734, 935, 117,   4, 685, 637,\n",
       "         17, 224, 932, 100, 343, 605, 464, 427, 644, 413, 705,  27, 831,\n",
       "        618, 587, 297,  21, 206, 264, 770, 217, 439, 232, 387, 571, 723,\n",
       "        783,  58,   6, 292, 565, 626, 630, 950, 598, 710, 482, 976, 174,\n",
       "        562,  18, 395, 810, 116, 357, 768, 704,  91, 833, 336, 943, 191,\n",
       "        161, 771, 325]),\n",
       " array([488, 392, 396, 413, 414, 425, 432, 434, 442, 447, 386, 452, 456,\n",
       "        466, 476, 478, 481, 483, 491, 493, 502, 455, 381, 367, 331, 135,\n",
       "        148, 150, 153, 164, 165, 173, 174, 183, 189, 209, 217, 229, 232,\n",
       "        250, 289, 295, 297, 310, 325, 330, 506, 114, 522, 557, 855, 870,\n",
       "        871, 883, 885, 890, 901, 910, 913, 852, 923, 937, 945, 952, 955,\n",
       "        958, 964, 970, 973, 975, 927, 842, 820, 806, 560, 566, 574, 577,\n",
       "        581, 584, 586, 604, 617, 633, 659, 690, 694, 709, 721, 726, 754,\n",
       "        775, 797, 798, 805, 554, 100, 977,  23,   3,  79,  66,  19,  40,\n",
       "          7,  20,  42, 826, 788, 160, 185, 234,  86, 371, 931, 205, 550,\n",
       "        389, 475, 523, 969, 947, 816, 625, 227, 243, 141, 535, 467,  59,\n",
       "        262, 764,  96, 526, 597, 940, 569, 583,  56, 850, 824, 462, 686,\n",
       "        108, 663, 137, 769, 382, 561, 914, 219, 552, 248, 404, 247, 528,\n",
       "        438, 729, 779,  62, 123,  54, 575, 541, 766,  94, 214,  75, 637,\n",
       "        451,  88, 316, 589,  63, 397, 490, 570, 567, 401, 555, 533, 713,\n",
       "        696, 204, 763, 162, 834, 540, 166, 313, 546, 710, 807, 556, 673,\n",
       "        190, 421, 271, 159, 781, 642,  10, 487, 791, 600, 431, 836, 922,\n",
       "        934, 626, 784,  13, 385, 946, 747, 453, 687, 938, 177, 412, 544,\n",
       "        634, 682, 298,  74, 539,  51, 336, 186, 279, 623, 102, 835,  47,\n",
       "        719, 441, 961, 437, 445, 640, 163, 643, 920, 787, 666, 647, 542,\n",
       "        353, 727, 410, 951, 317,  27, 364, 235, 346, 739, 368, 427, 603,\n",
       "        161, 338, 602, 670, 700, 953, 605, 573, 498, 301, 711,  35, 812,\n",
       "         22,  64, 307,   6, 915, 406, 846, 349,  46, 373, 684, 259, 191,\n",
       "        942, 976, 509, 874, 841, 638, 265, 422, 249, 463, 864, 314, 409,\n",
       "        337, 886, 611, 226, 738, 510, 518, 435, 225, 193, 933, 312, 495,\n",
       "         31, 782,  83, 815, 352,  38, 424, 768, 501,  73,  25,  71, 671,\n",
       "        255, 459, 771,   2,  90, 403, 595, 288, 831, 882, 856, 327, 615,\n",
       "        956, 695, 145, 800, 714, 751, 752, 632,  11, 935,  21, 628, 730,\n",
       "        591, 362, 610, 819, 285, 489, 292, 321, 941,  26, 344, 728, 309,\n",
       "        436, 525, 304, 873, 315, 884,  34, 178, 241, 708, 620, 258, 151,\n",
       "        536, 394,  30, 904, 748, 332,  65, 780, 545, 120, 786, 660, 724,\n",
       "        266, 175, 486, 599, 237, 320, 242, 339, 155, 962, 302, 868, 286,\n",
       "         17, 168, 268, 228, 176, 118, 504, 305, 629, 667, 876, 658, 811,\n",
       "        282, 356, 238, 393,  92, 448, 675, 954, 220, 458, 905, 283, 202,\n",
       "        867, 428, 125, 685, 616, 715, 869, 363, 965,  57, 892, 128, 823,\n",
       "        817, 351, 514, 758, 716,   9, 669, 278, 712,  43, 218, 532, 847,\n",
       "        206, 182, 849, 559, 505, 607, 891,  89, 306, 366, 537, 104, 326,\n",
       "        825,  53, 895, 106, 222, 692, 672, 903, 840, 948, 777, 810, 762,\n",
       "        277, 196, 576,  67, 733, 319, 783, 374, 387, 433, 357, 365, 921,\n",
       "         15, 390, 405, 290,  18, 444, 429, 872, 538, 563, 756,  24, 648,\n",
       "        971, 887, 897, 664, 598, 792, 139, 912, 500, 236, 473, 767, 263,\n",
       "        121, 723, 950, 117,  68, 877, 564, 215,   8, 370, 388,  16, 134,\n",
       "        750, 361, 838, 112, 457, 907, 668, 804,  69, 521, 794, 354, 333,\n",
       "        618,  28, 181, 828, 439, 511, 192, 606, 311, 549, 296, 636, 299,\n",
       "        968, 251, 790, 651, 795, 639, 184, 822, 440, 399, 551, 423, 755,\n",
       "        341, 508, 926, 943,  87, 793, 568, 171,  78, 928, 548, 547, 959,\n",
       "        827, 677, 376,  45, 731, 813, 809, 212, 776, 194, 144, 704, 902,\n",
       "        744, 274,  58, 233,  80,  99, 843, 635, 936, 329, 741, 240,  52,\n",
       "        372,  55, 142, 172, 649, 888, 342, 468, 644, 949, 527, 761, 199,\n",
       "        929, 395, 681, 893, 967, 273,  93, 578, 571, 323, 572, 195, 641,\n",
       "        398, 126, 624, 829, 129, 860, 655, 736, 558, 380, 697, 778, 507,\n",
       "        613, 460, 627, 359, 531, 127,  50, 753, 801, 239,   4, 601, 270,\n",
       "        925, 858, 480, 254, 211, 609, 683,  97, 707, 718, 318, 612, 383,\n",
       "        400,   1, 231, 146, 107, 110, 513, 590, 737, 774, 830, 703, 158,\n",
       "        253, 587, 585, 257, 688, 276,  41, 851, 705, 224, 861, 662,  14,\n",
       "        264, 492, 654, 469, 740, 519, 280, 678, 122, 294, 101, 760, 799,\n",
       "        471, 702, 419, 833, 520, 328, 722, 524, 291, 957, 223, 562, 698,\n",
       "        944,  12, 608, 866, 415, 646, 272, 203, 621, 878, 839, 167, 742,\n",
       "        960, 821, 974, 116, 221, 749, 156, 665, 656, 530, 477, 735, 152,\n",
       "        516, 785,   0, 918, 275, 446, 269, 881, 169, 111,  36, 281, 619,\n",
       "        378, 207, 631, 340, 293, 391,  48, 676, 407, 854, 379, 131, 334,\n",
       "        630, 188, 287, 450, 479, 197, 472, 512, 418, 924, 898, 592, 140,\n",
       "        208, 680, 622, 865, 808,  95, 138, 515, 919,  77, 252, 497, 650,\n",
       "        103, 384, 154, 653, 911, 260, 734, 720, 593, 896, 170, 464, 420,\n",
       "         81, 759, 201, 972, 862, 661, 674,  29, 375, 485, 132, 614,  82,\n",
       "        216, 256, 701, 588, 109,  70, 857, 693, 416, 796, 757, 411, 699,\n",
       "        358,  72, 932, 324, 596, 267, 179, 417, 402, 900, 496, 814, 246,\n",
       "        725, 909, 565, 465, 916,  39, 494, 691, 743, 300,  33, 124,  32,\n",
       "        889, 426, 244, 553, 803, 706, 408, 930, 470, 746, 529, 343, 377,\n",
       "        594, 534, 187, 657, 454,  85, 732, 859, 261, 818, 848, 652, 579,\n",
       "        303, 880, 147, 149, 966, 503, 348,  84, 308, 908, 355, 645, 157,\n",
       "        770, 350, 200, 322, 335,   5, 449, 430, 832,  44, 837, 484,  98,\n",
       "        917, 717, 845,  60, 802, 689, 369, 482, 213, 245, 284, 136, 474,\n",
       "        582, 906, 360, 119,  37, 773, 879, 461, 133, 853, 499, 963, 345,\n",
       "        210,  91, 939, 347, 198,  61, 115, 679, 443, 875, 230, 580, 130,\n",
       "        863,  49, 105, 789, 113, 517, 899, 894, 765, 745,  76, 844, 543,\n",
       "        772, 180, 143]))"
      ]
     },
     "execution_count": 41,
     "metadata": {},
     "output_type": "execute_result"
    }
   ],
   "source": [
    "np.argsort(abs(vv1)),np.argsort(abs(vv2))"
   ]
  },
  {
   "cell_type": "code",
   "execution_count": 20,
   "metadata": {},
   "outputs": [],
   "source": [
    "meta=pd.read_csv(\"/home/ubuntu/bucket/projects/2018_04_20_Rosetta/workspace/metadata/affy_probe_gene_mapping.txt\",delimiter=\"\\t\",header=None, names=[\"probe_id\", \"gene\"])\n",
    "meta_gene_probID=meta.set_index('probe_id')\n",
    "d = dict(zip(meta_gene_probID.index, meta_gene_probID['gene']))\n",
    "l1k_features_gn=[d[l] for l in l1k_features]"
   ]
  },
  {
   "cell_type": "code",
   "execution_count": 21,
   "metadata": {},
   "outputs": [
    {
     "data": {
      "text/plain": [
       "['PSME1',\n",
       " 'CISD1',\n",
       " 'LOC100133724///VDAC1',\n",
       " 'SORBS3',\n",
       " 'SPDEF',\n",
       " 'ATF1',\n",
       " 'SPAG4',\n",
       " 'E2F2',\n",
       " 'RHEB',\n",
       " 'IGF1R',\n",
       " 'SLC5A6',\n",
       " 'FOXO3',\n",
       " 'RGS2',\n",
       " 'GSTM2',\n",
       " 'SCYL3',\n",
       " 'RHOA',\n",
       " 'TBX2',\n",
       " 'DNAJA3',\n",
       " 'IL1B',\n",
       " 'ASAH1',\n",
       " 'DCUN1D4',\n",
       " 'DYRK3',\n",
       " 'RALA',\n",
       " 'ARHGEF12',\n",
       " 'POLG2',\n",
       " 'SOX2',\n",
       " 'TRAPPC3',\n",
       " 'SERPINE1',\n",
       " 'TCFL5',\n",
       " 'CRK',\n",
       " 'HLA-DMA',\n",
       " 'EGF',\n",
       " 'RBM34',\n",
       " 'ITGB1BP1',\n",
       " 'SPTLC2',\n",
       " 'ACLY',\n",
       " 'APP',\n",
       " 'RAD51C',\n",
       " 'TSKU',\n",
       " 'SMC1A',\n",
       " 'TMEM2',\n",
       " 'NOS3',\n",
       " 'YME1L1',\n",
       " 'ACAA1',\n",
       " 'CSNK1A1',\n",
       " 'HSPA8',\n",
       " 'NFATC4',\n",
       " 'CCNB1',\n",
       " 'TBP',\n",
       " 'SLC2A6',\n",
       " 'WFS1',\n",
       " 'EZH2',\n",
       " 'UBE3B',\n",
       " 'ICAM3',\n",
       " 'NPDC1',\n",
       " 'ALDH7A1',\n",
       " 'BRCA1',\n",
       " 'NFATC3',\n",
       " 'PSMD4',\n",
       " 'PCNA',\n",
       " 'PHKG2',\n",
       " 'ETV1',\n",
       " 'POLR2I',\n",
       " 'JARID1B',\n",
       " 'PSMB8',\n",
       " 'AKAP8L',\n",
       " 'COG4',\n",
       " 'MCM3',\n",
       " 'PLEKHJ1',\n",
       " 'HAT1',\n",
       " 'TERT',\n",
       " 'G3BP1',\n",
       " 'SNX13',\n",
       " 'PAK4',\n",
       " 'TPD52L2',\n",
       " 'DPH2',\n",
       " 'PIH1D1',\n",
       " 'PRKCQ',\n",
       " 'SNX6',\n",
       " 'EED',\n",
       " 'SHB',\n",
       " 'UTP14A',\n",
       " 'WIPF2',\n",
       " 'NENF',\n",
       " 'TSEN2',\n",
       " 'RPN1',\n",
       " 'SUV39H1',\n",
       " 'C2CD2L',\n",
       " 'LYPLA1',\n",
       " 'BIRC2',\n",
       " 'GABPB1',\n",
       " 'MAP2K5',\n",
       " 'POLR2K',\n",
       " 'PTK2B',\n",
       " 'PUF60',\n",
       " 'DHRS7',\n",
       " 'PAF1',\n",
       " 'ARID5B',\n",
       " 'POLR1C',\n",
       " 'PAK1',\n",
       " 'RUVBL1',\n",
       " 'AKT1',\n",
       " 'CDC42',\n",
       " 'IGHMBP2',\n",
       " 'SENP6',\n",
       " 'ADO',\n",
       " 'HSPB1',\n",
       " 'EBP',\n",
       " 'TCTN1',\n",
       " 'AKR7A2',\n",
       " 'CASK',\n",
       " 'PPP2R5E',\n",
       " 'KIAA0409',\n",
       " 'LAMA3',\n",
       " 'PIK3C3',\n",
       " 'BHLHE40',\n",
       " 'CCNE2',\n",
       " 'BDH1',\n",
       " 'FEZ2',\n",
       " 'IKBKAP',\n",
       " 'SH3BP5',\n",
       " 'PPP2R5A',\n",
       " 'SGCB',\n",
       " 'EML3',\n",
       " 'ENOPH1',\n",
       " 'BIRC5',\n",
       " 'CNOT4',\n",
       " 'EPRS',\n",
       " 'SNAP25',\n",
       " 'JMJD6',\n",
       " 'PAX8',\n",
       " 'CBLB',\n",
       " 'SLC35F2',\n",
       " 'ANO10',\n",
       " 'PDS5A',\n",
       " 'DFFB',\n",
       " 'STUB1',\n",
       " 'PGAM1',\n",
       " 'TGFB3',\n",
       " 'BAD',\n",
       " 'XBP1',\n",
       " 'NMT1',\n",
       " 'PSMD10',\n",
       " 'ARFIP2',\n",
       " 'RAB11FIP2',\n",
       " 'FPGS',\n",
       " 'STAMBP',\n",
       " 'PRKX',\n",
       " 'RNH1',\n",
       " 'ATG3',\n",
       " 'FAH',\n",
       " 'NCK1',\n",
       " 'PLP2',\n",
       " 'CFLAR',\n",
       " 'SOX4',\n",
       " 'HEATR1',\n",
       " 'TESK1',\n",
       " 'HN1L',\n",
       " 'WDR7',\n",
       " 'AKAP8',\n",
       " 'RRAGA',\n",
       " 'ELOVL6',\n",
       " 'SLC1A4',\n",
       " 'ACBD3',\n",
       " 'GRWD1',\n",
       " 'PMAIP1',\n",
       " 'STAT1',\n",
       " 'FOXJ3',\n",
       " 'TWF2',\n",
       " 'HDAC6',\n",
       " 'MTERFD1',\n",
       " 'CCND1',\n",
       " 'CHIC2',\n",
       " 'PXN',\n",
       " 'USP7',\n",
       " 'NOSIP',\n",
       " 'PHKB',\n",
       " 'DLD',\n",
       " 'NFKBIB',\n",
       " 'CASC3',\n",
       " 'IDE',\n",
       " 'CD40',\n",
       " 'MLEC',\n",
       " 'GLI2',\n",
       " 'PRPF4',\n",
       " 'MELK',\n",
       " 'USP22',\n",
       " 'DAXX',\n",
       " 'TMED10',\n",
       " 'CHERP',\n",
       " 'SMAD3',\n",
       " 'OXA1L',\n",
       " 'PIK3CA',\n",
       " 'SNX7',\n",
       " 'TRAPPC6A',\n",
       " 'ATP2C1',\n",
       " 'CDCA4',\n",
       " 'TBC1D9B',\n",
       " 'USP14',\n",
       " 'APPBP2',\n",
       " 'CDC20',\n",
       " 'NARFL',\n",
       " 'RPS6',\n",
       " 'DDX42',\n",
       " 'ECH1',\n",
       " 'HDAC2',\n",
       " 'IKBKE',\n",
       " 'CCL2',\n",
       " 'DFFA',\n",
       " 'MRPL19',\n",
       " 'WDTC1',\n",
       " 'PLSCR3',\n",
       " 'SUZ12',\n",
       " 'CSNK2A2',\n",
       " 'H2AFV',\n",
       " 'NUSAP1',\n",
       " 'TICAM1',\n",
       " 'FAM69A',\n",
       " 'KIAA0100',\n",
       " 'PAICS',\n",
       " 'SRC',\n",
       " 'BMP4',\n",
       " 'CDK2',\n",
       " 'EDN1',\n",
       " 'XPO7',\n",
       " 'FAIM',\n",
       " 'KIAA0494',\n",
       " 'PXMP2',\n",
       " 'SQSTM1',\n",
       " 'HIF1A',\n",
       " 'TIMM17B',\n",
       " 'STXBP2',\n",
       " 'WRB',\n",
       " 'ETFB',\n",
       " 'MNAT1',\n",
       " 'CAMSAP1L1',\n",
       " 'HPRT1',\n",
       " 'ARNT2',\n",
       " 'RRS1',\n",
       " 'ADAT1',\n",
       " 'SPAG7',\n",
       " 'MAPK1IP1L',\n",
       " 'SCAND1',\n",
       " 'MFSD10',\n",
       " 'MSH6',\n",
       " 'COPS7A',\n",
       " 'UBE2C',\n",
       " 'FIS1',\n",
       " 'HS2ST1',\n",
       " 'NUDT9',\n",
       " 'TXLNA',\n",
       " 'CSRP1',\n",
       " 'DNAJB1',\n",
       " 'METRN',\n",
       " 'TOPBP1',\n",
       " 'ABCF1',\n",
       " 'TCTA',\n",
       " 'LGMN',\n",
       " 'TLK2',\n",
       " 'KIAA1033',\n",
       " 'PTGS2',\n",
       " 'DNAJB6',\n",
       " 'PLA2G4A',\n",
       " 'MAT2A',\n",
       " 'TLR4',\n",
       " 'HMGCS1',\n",
       " 'MBTPS1',\n",
       " 'SPRED2',\n",
       " 'ZNF274',\n",
       " 'CLIC4',\n",
       " 'MAP7',\n",
       " 'CHAC1',\n",
       " 'EIF4G1',\n",
       " 'BTK',\n",
       " 'GNAS',\n",
       " 'MYL9',\n",
       " 'TEX10',\n",
       " 'PSMD2',\n",
       " 'ZNF586',\n",
       " 'CLTC',\n",
       " 'IKZF1',\n",
       " 'APBB2',\n",
       " 'HSD17B10',\n",
       " 'RNF167',\n",
       " 'STX1A',\n",
       " 'ALDOA',\n",
       " 'EPHA3',\n",
       " 'STAT5B',\n",
       " 'TXNDC9',\n",
       " 'CCNA2',\n",
       " 'VGLL4',\n",
       " 'CASP10',\n",
       " 'SDHB',\n",
       " 'ETS1',\n",
       " 'YTHDF1',\n",
       " 'FOXO4',\n",
       " 'LSM5',\n",
       " 'TOMM34',\n",
       " 'ZMYM2',\n",
       " 'CHMP6',\n",
       " 'KIAA0907',\n",
       " 'CASP7',\n",
       " 'HK1',\n",
       " 'POLS',\n",
       " 'PIGB',\n",
       " 'CHEK2',\n",
       " 'PLOD3',\n",
       " 'ACD',\n",
       " 'TRAK2',\n",
       " 'SUPV3L1',\n",
       " 'VAPB',\n",
       " 'GPATCH8',\n",
       " 'HSPD1',\n",
       " 'BUB1B',\n",
       " 'TGFBR2',\n",
       " 'MRPL12',\n",
       " 'NOTCH1',\n",
       " 'NP',\n",
       " 'SHC1',\n",
       " 'ARPP-19',\n",
       " 'CEBPA',\n",
       " 'PSMF1',\n",
       " 'RTN2',\n",
       " 'NPEPL1',\n",
       " 'USP1',\n",
       " 'RPA1',\n",
       " 'SIRT3',\n",
       " 'KLHDC2',\n",
       " 'UBQLN2',\n",
       " 'DMTF1',\n",
       " 'SCARB1',\n",
       " 'CLPX',\n",
       " 'TPM1',\n",
       " 'TM9SF2',\n",
       " 'TXNL4B',\n",
       " 'ATF6',\n",
       " 'ATAD4',\n",
       " 'NUP88',\n",
       " 'ST6GALNAC2',\n",
       " 'ADH5',\n",
       " 'FUT1',\n",
       " 'GOLT1B',\n",
       " 'PRUNE',\n",
       " 'PPOX',\n",
       " 'SYPL1',\n",
       " 'CANT1',\n",
       " 'ZNF451',\n",
       " 'HOMER2',\n",
       " 'RALB',\n",
       " 'CLTB',\n",
       " 'TRIM13',\n",
       " 'FBXO7',\n",
       " 'PHKA1',\n",
       " 'CYCS',\n",
       " 'PPARD',\n",
       " 'ENOSF1',\n",
       " 'MAP4K4',\n",
       " 'PAN2',\n",
       " 'STAT3',\n",
       " 'LIG1',\n",
       " 'PPIC',\n",
       " 'EIF5',\n",
       " 'GNB5',\n",
       " 'GNAI1',\n",
       " 'INSIG1',\n",
       " 'DNMT3A',\n",
       " 'TM9SF3',\n",
       " 'CCDC86',\n",
       " 'HIST2H2BE',\n",
       " 'S100A4',\n",
       " 'SLC25A14',\n",
       " 'KTN1',\n",
       " 'TBXA2R',\n",
       " 'ARHGAP1',\n",
       " 'FBXO11',\n",
       " 'HERPUD1',\n",
       " 'LPAR2',\n",
       " 'COASY',\n",
       " 'RPL39L',\n",
       " 'BPHL',\n",
       " 'RASA1',\n",
       " 'ATMIN',\n",
       " 'MAPKAPK3',\n",
       " 'CASP3',\n",
       " 'MBOAT7',\n",
       " 'PNKP',\n",
       " 'PSME2',\n",
       " 'NISCH',\n",
       " 'SLC35A3',\n",
       " 'CPSF4',\n",
       " 'LSR',\n",
       " 'COPB2',\n",
       " 'MEF2C',\n",
       " 'GADD45A',\n",
       " 'JARID1A',\n",
       " 'FAM63A',\n",
       " 'SMNDC1',\n",
       " 'NUDCD3',\n",
       " 'RAB4A',\n",
       " 'FGFR2',\n",
       " 'IFRD2',\n",
       " 'BACE2',\n",
       " 'HMGCR',\n",
       " 'LYN',\n",
       " 'SLC35B1',\n",
       " 'ISOC1',\n",
       " 'TIMP2',\n",
       " 'DUSP3',\n",
       " 'LSM6',\n",
       " 'CALM1///CALM2///CALM3',\n",
       " 'RAGE',\n",
       " 'PPP1R13B',\n",
       " 'SACM1L',\n",
       " 'DNAJB2',\n",
       " 'TCERG1',\n",
       " 'CERK',\n",
       " 'KIAA0196',\n",
       " 'DNM1',\n",
       " 'LAP3',\n",
       " 'DDIT4',\n",
       " 'MAPKAPK5',\n",
       " 'ALAS1',\n",
       " 'HDGFRP3',\n",
       " 'PAFAH1B1',\n",
       " 'PRKCH',\n",
       " 'PSRC1',\n",
       " 'RAB21',\n",
       " 'ERO1L',\n",
       " 'PSIP1',\n",
       " 'APOE',\n",
       " 'CREB1',\n",
       " 'MBNL2',\n",
       " 'RBM15B',\n",
       " 'PACSIN3',\n",
       " 'TOMM70A',\n",
       " 'CBR1',\n",
       " 'MTA1',\n",
       " 'MACF1',\n",
       " 'PRKCD',\n",
       " 'CCNA1',\n",
       " 'PIK3R4',\n",
       " 'CSNK1E',\n",
       " 'HIST1H2BK',\n",
       " 'JUN',\n",
       " 'PCCB',\n",
       " 'STAP2',\n",
       " 'TMEM50A',\n",
       " 'PMM2',\n",
       " 'SCCPDH',\n",
       " 'HSD17B11',\n",
       " 'TSC22D3',\n",
       " 'FBXL12',\n",
       " 'TFAP2A',\n",
       " 'WDR61',\n",
       " 'ZNF395',\n",
       " 'FAS',\n",
       " 'VPS72',\n",
       " 'CENPE',\n",
       " 'CLSTN1',\n",
       " 'CREG1',\n",
       " 'MAPK9',\n",
       " 'PRR7',\n",
       " 'SKP1',\n",
       " 'POP4',\n",
       " 'TMEM110',\n",
       " 'NFE2L2',\n",
       " 'ZNF589',\n",
       " 'BAX',\n",
       " 'BLCAP',\n",
       " 'CNDP2',\n",
       " 'FAM20B',\n",
       " 'PROS1',\n",
       " 'TNIP1',\n",
       " 'CRKL',\n",
       " 'P4HTM',\n",
       " 'REEP5',\n",
       " 'ZNF318',\n",
       " 'BZW2',\n",
       " 'FDFT1',\n",
       " 'CGRRF1',\n",
       " 'TRAP1',\n",
       " 'AMDHD2',\n",
       " 'GTF2A2',\n",
       " 'PEX11A',\n",
       " 'PSMD9',\n",
       " 'GFOD1',\n",
       " 'MTFR1',\n",
       " 'PECR',\n",
       " 'UBE2A',\n",
       " 'NIT1',\n",
       " 'SOCS2',\n",
       " 'SYNGR3',\n",
       " 'ZDHHC6',\n",
       " 'ITGAE',\n",
       " 'NFKB2',\n",
       " 'STK25',\n",
       " 'TMEM5',\n",
       " 'ABCF3',\n",
       " 'ATP5S',\n",
       " 'FCHO1',\n",
       " 'NGRN',\n",
       " 'HOXA5',\n",
       " 'OXSR1',\n",
       " 'GRN',\n",
       " 'SMARCC1',\n",
       " 'NUP85',\n",
       " 'PAK6',\n",
       " 'GHR',\n",
       " 'GTPBP8',\n",
       " 'GLOD4',\n",
       " 'PTK2',\n",
       " 'CDK4',\n",
       " 'EPN2',\n",
       " 'CCDC90A',\n",
       " 'IL4R',\n",
       " 'KIAA0528',\n",
       " 'PRKAG2',\n",
       " 'KIT',\n",
       " 'MRPS16',\n",
       " 'PTPRC',\n",
       " 'RPS5',\n",
       " 'NOL3',\n",
       " 'PSMG1',\n",
       " 'NR1H2',\n",
       " 'TMEM97',\n",
       " 'LRRC41',\n",
       " 'PLS1',\n",
       " 'DUSP22',\n",
       " 'KIAA1279',\n",
       " 'RPS6KA1',\n",
       " 'TCEAL4',\n",
       " 'DCK',\n",
       " 'NUP133',\n",
       " 'NUP62',\n",
       " 'TRIM2',\n",
       " 'SNCA',\n",
       " 'SPTAN1',\n",
       " 'MALT1',\n",
       " 'VPS28',\n",
       " 'LRRC16A',\n",
       " 'YKT6',\n",
       " 'CHP',\n",
       " 'KIF2C',\n",
       " 'NNT',\n",
       " 'NR2F6',\n",
       " 'COL1A1',\n",
       " 'EXOSC4',\n",
       " 'CDC25A',\n",
       " 'PDLIM1',\n",
       " 'CRELD2',\n",
       " 'TP53',\n",
       " 'IQGAP1',\n",
       " 'RRP12',\n",
       " 'ACAT2',\n",
       " 'EGR1',\n",
       " 'MUC1',\n",
       " 'THAP11',\n",
       " 'AURKB',\n",
       " 'CEBPD',\n",
       " 'HSPA4',\n",
       " 'MAST2',\n",
       " 'DHDDS',\n",
       " 'TOP2A',\n",
       " 'GADD45B',\n",
       " 'NCK2',\n",
       " 'AURKA',\n",
       " 'KIAA0355',\n",
       " 'B3GNT1',\n",
       " 'DYNLT3',\n",
       " 'CDK5R1',\n",
       " 'CHMP4A',\n",
       " 'IPO13',\n",
       " 'SCP2',\n",
       " 'ITFG1',\n",
       " 'RAD9A',\n",
       " 'DRAP1',\n",
       " 'SPP1',\n",
       " 'HYOU1',\n",
       " 'PCMT1',\n",
       " 'FOS',\n",
       " 'FYN',\n",
       " 'MCOLN1',\n",
       " 'MYC',\n",
       " 'ID2',\n",
       " 'POLB',\n",
       " 'CETN3',\n",
       " 'KCNK1',\n",
       " 'AXIN1',\n",
       " 'SMC4',\n",
       " 'RAI14',\n",
       " 'SMARCD2',\n",
       " 'DNAJC15',\n",
       " 'MPZL1',\n",
       " 'HOXA10',\n",
       " 'NRAS',\n",
       " 'CASP2',\n",
       " 'EBNA1BP2',\n",
       " 'CTNND1',\n",
       " 'TATDN2',\n",
       " 'LRPAP1',\n",
       " 'ZNF131',\n",
       " 'BNIP3L',\n",
       " 'HOOK2',\n",
       " 'ERBB2',\n",
       " 'TBPL1',\n",
       " 'INTS3',\n",
       " 'RAE1',\n",
       " 'CDC2',\n",
       " 'RFNG',\n",
       " 'MICALL1',\n",
       " 'SLC35A1',\n",
       " 'KLHL21',\n",
       " 'NIPSNAP1',\n",
       " 'BCL7B',\n",
       " 'TLE1',\n",
       " 'FZD7',\n",
       " 'TIMELESS',\n",
       " 'COG2',\n",
       " 'DHX29',\n",
       " 'MMP2',\n",
       " 'MRPS2',\n",
       " 'KCTD5',\n",
       " 'TCEA2',\n",
       " 'CNPY3',\n",
       " 'FHL2',\n",
       " 'ADAM10',\n",
       " 'FKBP4',\n",
       " 'CD58',\n",
       " 'MYST3',\n",
       " 'CDK7',\n",
       " 'KIF5C',\n",
       " 'HMG20B',\n",
       " 'MAP3K4',\n",
       " 'PIN1',\n",
       " 'ZFP36',\n",
       " 'INPP1',\n",
       " 'LAGE3',\n",
       " 'RAC2',\n",
       " 'TNFRSF21',\n",
       " 'HMOX1',\n",
       " 'KIF14',\n",
       " 'COL4A1',\n",
       " 'DUSP6',\n",
       " 'CYB561',\n",
       " 'EPB41L2',\n",
       " 'GNAI2',\n",
       " 'HTRA1',\n",
       " 'TSTA3',\n",
       " 'WASF3',\n",
       " 'DNMT1',\n",
       " 'TSPAN6',\n",
       " 'FBXO21',\n",
       " 'RAB27A',\n",
       " 'DDR1',\n",
       " 'PPP2R3C',\n",
       " 'ADRB2',\n",
       " 'LPGAT1',\n",
       " 'DUSP11',\n",
       " 'GRB10',\n",
       " 'MMP1',\n",
       " 'TP53BP2',\n",
       " 'CDKN1A',\n",
       " 'ZW10',\n",
       " 'CORO1A',\n",
       " 'TJP1',\n",
       " 'ABCB6',\n",
       " 'XPNPEP1',\n",
       " 'MAMLD1',\n",
       " 'MTHFD2',\n",
       " 'DSG2',\n",
       " 'PRAF2',\n",
       " 'DNTTIP2',\n",
       " 'SLC27A3',\n",
       " 'CD97',\n",
       " 'HTATSF1',\n",
       " 'IL13RA1',\n",
       " 'NCAPD2',\n",
       " 'AGL',\n",
       " 'TMEM109',\n",
       " 'CDC25B',\n",
       " 'ICAM1',\n",
       " 'GATA3',\n",
       " 'NUP93',\n",
       " 'PLA2G15',\n",
       " 'RPA3',\n",
       " 'PIP4K2B',\n",
       " 'TES',\n",
       " 'MYCBP2',\n",
       " 'SPR',\n",
       " 'PGRMC1',\n",
       " 'RELB',\n",
       " 'AARS',\n",
       " 'EPHB2',\n",
       " 'GPC1',\n",
       " 'RPIA',\n",
       " 'ELAC2',\n",
       " 'GPR56',\n",
       " 'NVL',\n",
       " 'PLSCR1',\n",
       " 'CHEK1',\n",
       " 'CTSL1',\n",
       " 'CTSD',\n",
       " 'ME2',\n",
       " 'ARHGEF2',\n",
       " 'PDGFA',\n",
       " 'ILK',\n",
       " 'WDR67',\n",
       " 'NFIL3',\n",
       " 'RFC2',\n",
       " 'ARL4C',\n",
       " 'TIMM9',\n",
       " 'CPNE3',\n",
       " 'ORC1L',\n",
       " 'C5',\n",
       " 'PARP2',\n",
       " 'FASTKD5',\n",
       " 'SCRN1',\n",
       " 'MAN2B1',\n",
       " 'PTPLAD1',\n",
       " 'MSRA',\n",
       " 'NFKBIA',\n",
       " 'DCTD',\n",
       " 'SYNE2',\n",
       " 'MBNL1',\n",
       " 'UBE3C',\n",
       " 'CCDC92',\n",
       " 'MYCBP',\n",
       " 'CXCL2',\n",
       " 'PTPN1',\n",
       " 'BRP44',\n",
       " 'TIMM22',\n",
       " 'ATF5',\n",
       " 'ECD',\n",
       " 'CIRBP',\n",
       " 'NSDHL',\n",
       " 'ADI1',\n",
       " 'NFKBIE',\n",
       " 'CABC1',\n",
       " 'PRSS23',\n",
       " 'CCNH',\n",
       " 'GDPD5',\n",
       " 'P4HA2',\n",
       " 'TARBP1',\n",
       " 'ATP6V0B',\n",
       " 'RBKS',\n",
       " 'CAPN1',\n",
       " 'JMJD1A',\n",
       " 'BID',\n",
       " 'STXBP1',\n",
       " 'ITGB5',\n",
       " 'MTF2',\n",
       " 'HLA-DRA',\n",
       " 'SLC11A2',\n",
       " 'PDIA5',\n",
       " 'PIK3C2B',\n",
       " 'RAP1GAP',\n",
       " 'SLC25A46',\n",
       " 'CDC2L6',\n",
       " 'NOLC1',\n",
       " 'CAT',\n",
       " 'KIAA0753',\n",
       " 'DUSP14',\n",
       " 'MYST4',\n",
       " 'CHN1',\n",
       " 'HMGA2',\n",
       " 'IGFBP3',\n",
       " 'MAPK13',\n",
       " 'TRIB1',\n",
       " 'UFM1',\n",
       " 'GNA15',\n",
       " 'TP53BP1',\n",
       " 'FRS2',\n",
       " 'IARS2',\n",
       " 'BECN1',\n",
       " 'GATA2',\n",
       " 'KDELR2',\n",
       " 'RALGDS',\n",
       " 'ELAVL1',\n",
       " 'NRIP1',\n",
       " 'CCNB2',\n",
       " 'IFNAR1',\n",
       " 'LOC284889///MIF',\n",
       " 'RNPS1',\n",
       " 'DAG1',\n",
       " 'SATB1',\n",
       " 'ARID4B',\n",
       " 'IGF2BP2',\n",
       " 'GSTZ1',\n",
       " 'IGF2R',\n",
       " 'SESN1',\n",
       " 'TIPARP',\n",
       " 'CRTAP',\n",
       " 'SPEN',\n",
       " 'GMNN',\n",
       " 'PFKL',\n",
       " 'CYTH1',\n",
       " 'PDHX',\n",
       " 'DENND2D',\n",
       " 'PRCP',\n",
       " 'CTTN',\n",
       " 'SMARCA4',\n",
       " 'PYGL',\n",
       " 'UBR7',\n",
       " 'GRB7',\n",
       " 'RPA2',\n",
       " 'CD44',\n",
       " 'ERBB3',\n",
       " 'GTF2E2',\n",
       " 'VAV3',\n",
       " 'ABHD6///LOC643635',\n",
       " 'ANXA7',\n",
       " 'MAPKAPK2',\n",
       " 'TXNRD1',\n",
       " 'CAB39',\n",
       " 'FZD1',\n",
       " 'CRYZ',\n",
       " 'TIAM1',\n",
       " 'DNM1L',\n",
       " 'GAA',\n",
       " 'DERA',\n",
       " 'SKIV2L',\n",
       " 'BLMH',\n",
       " 'PTPRK',\n",
       " 'HERC6',\n",
       " 'RRP1B',\n",
       " 'MKNK1',\n",
       " 'TSPAN3',\n",
       " 'ACOT9',\n",
       " 'PIK3R3',\n",
       " 'KEAP1',\n",
       " 'ST3GAL5',\n",
       " 'CTNNAL1',\n",
       " 'TFDP1',\n",
       " 'ABHD4',\n",
       " 'SMC3',\n",
       " 'INPP4B',\n",
       " 'LBR',\n",
       " 'PPIE',\n",
       " 'ZMIZ1',\n",
       " 'PPARG',\n",
       " 'TERF2IP',\n",
       " 'BNIP3',\n",
       " 'RPP38',\n",
       " 'BCL2',\n",
       " 'CAST',\n",
       " 'BAG3',\n",
       " 'RBM6',\n",
       " 'CSK',\n",
       " 'GNA11',\n",
       " 'ALDOC',\n",
       " 'TOR1A',\n",
       " 'SLC25A13',\n",
       " 'UBE2L6',\n",
       " 'SYK',\n",
       " 'TSPAN4',\n",
       " 'NR3C1',\n",
       " 'PCBD1',\n",
       " 'ICMT',\n",
       " 'TRIB3',\n",
       " 'EIF4EBP1',\n",
       " 'PHF15',\n",
       " 'CXCR4',\n",
       " 'GNPDA1',\n",
       " 'CCND3',\n",
       " 'FKBP14',\n",
       " 'CIAPIN1',\n",
       " 'NUCB2',\n",
       " 'COG7',\n",
       " 'RSU1',\n",
       " 'PTPN6',\n",
       " 'TUBB6',\n",
       " 'ABL1',\n",
       " 'DUSP4',\n",
       " 'CCNF',\n",
       " 'PTPN12',\n",
       " 'HSPA1A///HSPA1B',\n",
       " 'PCK2',\n",
       " 'FAM57A',\n",
       " 'RB1',\n",
       " 'EVL',\n",
       " 'GFPT1',\n",
       " 'BLVRA',\n",
       " 'GPER',\n",
       " 'EAPP',\n",
       " 'S100A13',\n",
       " 'EXT1',\n",
       " 'MYBL2',\n",
       " 'POLE2',\n",
       " 'STX4',\n",
       " 'PLCB3',\n",
       " 'TMCO1',\n",
       " 'C2CD2',\n",
       " 'PARP1',\n",
       " 'ANKRD10',\n",
       " 'CCDC85B',\n",
       " 'DDB2',\n",
       " 'DDX10',\n",
       " 'BAMBI',\n",
       " 'CEP57',\n",
       " 'HADH',\n",
       " 'RAB31',\n",
       " 'ABCC5',\n",
       " 'GLRX',\n",
       " 'MVP',\n",
       " 'RFC5',\n",
       " 'HES1',\n",
       " 'STMN1',\n",
       " 'GALE',\n",
       " 'KLHL9',\n",
       " 'PTPRF',\n",
       " 'UBE2J1',\n",
       " 'PGM1',\n",
       " 'SLC37A4',\n",
       " 'LOXL1',\n",
       " 'PLK1',\n",
       " 'MYO10',\n",
       " 'TUSC4',\n",
       " 'LIPA',\n",
       " 'PWP1',\n",
       " 'PHGDH',\n",
       " 'PLEKHM1',\n",
       " 'ST7',\n",
       " 'VAT1',\n",
       " 'IKBKB',\n",
       " 'KIF20A',\n",
       " 'CDH3',\n",
       " 'PCM1',\n",
       " 'IER3',\n",
       " 'SSBP2',\n",
       " 'FAT1',\n",
       " 'SNX11',\n",
       " 'RNMT',\n",
       " 'SFN',\n",
       " 'EGFR',\n",
       " 'RFX5',\n",
       " 'NET1',\n",
       " 'PKIG',\n",
       " 'DECR1',\n",
       " 'FSD1',\n",
       " 'ATP6V1D',\n",
       " 'CDK6',\n",
       " 'CDC45L',\n",
       " 'NPC1',\n",
       " 'EDEM1',\n",
       " 'MEST',\n",
       " 'MYLK',\n",
       " 'PAFAH1B3',\n",
       " 'CALU',\n",
       " 'USP6NL',\n",
       " 'LGALS8',\n",
       " 'NT5DC2',\n",
       " 'CP110',\n",
       " 'LRP10',\n",
       " 'ATP1B1',\n",
       " 'STK10',\n",
       " 'OXCT1',\n",
       " 'UGDH',\n",
       " 'SLC25A4',\n",
       " 'SQRDL',\n",
       " 'HEBP1',\n",
       " 'PSMB10',\n",
       " 'ASCC3',\n",
       " 'FGFR4',\n",
       " 'CDKN2A',\n",
       " 'TRAM2',\n",
       " 'ATP11B',\n",
       " 'PYCR1',\n",
       " 'CD320',\n",
       " 'NCOA3',\n",
       " 'CDKN1B',\n",
       " 'POLD4',\n",
       " 'FOSL1',\n",
       " 'MLLT11',\n",
       " 'CEBPZ',\n",
       " 'PRKACA',\n",
       " 'GAPDH',\n",
       " 'CBR3',\n",
       " 'LYRM1']"
      ]
     },
     "execution_count": 21,
     "metadata": {},
     "output_type": "execute_result"
    }
   ],
   "source": [
    "l1k_features_gn"
   ]
  },
  {
   "cell_type": "code",
   "execution_count": 17,
   "metadata": {},
   "outputs": [
    {
     "name": "stdout",
     "output_type": "stream",
     "text": [
      "[<Worksheet \"Lasso-TAORF\">, <Worksheet \"Lasso-LUAD\">, <Worksheet \"Lasso-LINCS\">, <Worksheet \"Lasso-CDRP\">, <Worksheet \"Lasso-random\">, <Worksheet \"Lasso-TAORF-all\">, <Worksheet \"Lasso-LUAD-all\">, <Worksheet \"Lasso-LINCS-all\">, <Worksheet \"Lasso-CDRP-all\">, <Worksheet \"Lasso-random-all\">, <Worksheet \"Lasso-TAORF-fSel\">, <Worksheet \"Lasso-LINCS-fSel\">, <Worksheet \"Lasso-CDRP-bio-fSel\">, <Worksheet \"Lasso-CDRP-bio-fSel-dists\">, <Worksheet \"Lasso-LUAD-fSel-dists\">, <Worksheet \"Lasso-LINCS-fSel-dists\">, <Worksheet \"Lasso-TAORF-fSel-dists\">, <Worksheet \"MLP-TAORF-fSel-dists-filt\">, <Worksheet \"MLP-LUAD-fSel-dists-filt\">, <Worksheet \"Lasso-CDRP-bio-fSel-dists-2\">, <Worksheet \"MLP-LINCS-fSel-dists-filt\">, <Worksheet \"Lasso-LUAD-fSel-dists-filt\">, <Worksheet \"Lasso-TAORF-fSel-dists-filt\">, <Worksheet \"Lasso-LINCS-fSel-dists-filt\">, <Worksheet \"MLP-TAORF-fSel-dists\">, <Worksheet \"MLP-LUAD-fSel-dists\">, <Worksheet \"MLP-CDRP-bio-fSel-dists-2\">]\n"
     ]
    }
   ],
   "source": [
    "saveAsNewSheetToExistingFile(filename,pd.concat([meltedPredDF,meltedPredDF_rand],ignore_index=True),\\\n",
    "                             model+'-'+dataset+'-fSel-dists')"
   ]
  },
  {
   "cell_type": "markdown",
   "metadata": {},
   "source": [
    "### Single Gene prediction cross validation"
   ]
  },
  {
   "cell_type": "code",
   "execution_count": null,
   "metadata": {},
   "outputs": [],
   "source": []
  },
  {
   "cell_type": "markdown",
   "metadata": {},
   "source": [
    "### Single CP feature prediction cross validation"
   ]
  },
  {
   "cell_type": "code",
   "execution_count": null,
   "metadata": {},
   "outputs": [],
   "source": []
  },
  {
   "cell_type": "code",
   "execution_count": 26,
   "metadata": {},
   "outputs": [
    {
     "data": {
      "text/plain": [
       "'LINCS'"
      ]
     },
     "execution_count": 26,
     "metadata": {},
     "output_type": "execute_result"
    }
   ],
   "source": [
    "dataset"
   ]
  },
  {
   "cell_type": "markdown",
   "metadata": {
    "heading_collapsed": true
   },
   "source": [
    "### CP Category specific scores for single gene prediction"
   ]
  },
  {
   "cell_type": "code",
   "execution_count": 72,
   "metadata": {
    "hidden": true
   },
   "outputs": [],
   "source": [
    "# relationMat_mpCat.isnull(axis=1)\n",
    "# Channelss=['DNA','RNA','AGP','Mito','ER']\n",
    "# featureGroups=['Texture','Intensity','RadialDistribution']\n",
    "# cp.columns[cp.columns.str.contains(Channelss[0]) &\\\n",
    "#                cp.columns.str.contains(featureGroups[2]) &\\\n",
    "#                cp.columns.str.contains(\"Cells_|Cytoplasm_|Nuclei_\")].tolist()"
   ]
  },
  {
   "cell_type": "code",
   "execution_count": 74,
   "metadata": {
    "hidden": true
   },
   "outputs": [
    {
     "data": {
      "text/plain": [
       "['DNA_Texture',\n",
       " 'DNA_Intensity',\n",
       " 'RNA_Texture',\n",
       " 'RNA_Intensity',\n",
       " 'RNA_RadialDistribution',\n",
       " 'AGP_Texture',\n",
       " 'AGP_Intensity',\n",
       " 'AGP_RadialDistribution',\n",
       " 'Mito_Texture',\n",
       " 'Mito_Intensity',\n",
       " 'Mito_RadialDistribution',\n",
       " 'ER_Texture',\n",
       " 'ER_Intensity',\n",
       " 'ER_RadialDistribution',\n",
       " 'Nuclei_AreaShape',\n",
       " 'Cytoplasm_AreaShape',\n",
       " 'Cells_AreaShape']"
      ]
     },
     "execution_count": 74,
     "metadata": {},
     "output_type": "execute_result"
    }
   ],
   "source": [
    "relationMat_mpCat.columns[~relationMat_mpCat.isna().any()].tolist()"
   ]
  },
  {
   "cell_type": "code",
   "execution_count": 110,
   "metadata": {
    "hidden": true
   },
   "outputs": [],
   "source": [
    "k_fold=10\n",
    "Channelss=['DNA','RNA','AGP','Mito','ER']\n",
    "featureGroups=['Texture','Intensity','RadialDistribution']\n",
    "relationMat_mpCat=pd.DataFrame(index=l1k_features)\n",
    "for ch in range(len(Channelss)):\n",
    "    for f in range(len(featureGroups)):    \n",
    "        selectedCols=cp.columns[cp.columns.str.contains(Channelss[ch]) &\\\n",
    "                       cp.columns.str.contains(featureGroups[f]) &\\\n",
    "                       cp.columns.str.contains(\"Cells_|Cytoplasm_|Nuclei_\")].tolist();\n",
    "        for l in l1k_features:\n",
    "            scores,scores_rand=lasso_cv(cp[selectedCols],l1k[l],k_fold)\n",
    "        \n",
    "            relationMat_mpCat.loc[l,Channelss[ch]+'_'+featureGroups[f]]=np.median(scores)\n",
    "\n",
    "Channelss=['Nuclei','Cytoplasm','Cells']\n",
    "featureGroups=['AreaShape']\n",
    "\n",
    "for ch in range(len(Channelss)):\n",
    "    for f in range(len(featureGroups)):    \n",
    "        selectedCols=cp.columns[cp.columns.str.contains(Channelss[ch]) &\\\n",
    "                       cp.columns.str.contains(featureGroups[f]) &\\\n",
    "                       cp.columns.str.contains(\"Cells_|Cytoplasm_|Nuclei_\")].tolist();\n",
    "        for l in l1k_features:\n",
    "            scores,scores_rand=lasso_cv(cp[selectedCols],l1k[l],k_fold)\n",
    "        \n",
    "            relationMat_mpCat.loc[l,Channelss[ch]+'_'+featureGroups[f]]=np.median(scores)\n",
    "            \n",
    "########################### mapping prob_ids to genes names    \n",
    "meta=pd.read_csv(\"/home/ubuntu/bucket/projects/2018_04_20_Rosetta/workspace/metadata/affy_probe_gene_mapping.txt\",delimiter=\"\\t\",header=None, names=[\"probe_id\", \"gene\"])\n",
    "meta_gene_probID=meta.set_index('probe_id')\n",
    "d = dict(zip(meta_gene_probID.index, meta_gene_probID['gene']))\n",
    "relationMat_mpCat = relationMat_mpCat.rename(index=d)    \n"
   ]
  },
  {
   "cell_type": "code",
   "execution_count": 111,
   "metadata": {
    "hidden": true
   },
   "outputs": [
    {
     "data": {
      "text/plain": [
       "(91, 18)"
      ]
     },
     "execution_count": 111,
     "metadata": {},
     "output_type": "execute_result"
    }
   ],
   "source": [
    "relationMat_mpCat=relationMat_mpCat[relationMat_mpCat.columns[~relationMat_mpCat.isna().any()].tolist()]\n",
    "topGenes_df=relationMat_mpCat[relationMat_mpCat.max(axis=1)>0.1]#.head()\n",
    "topGenes_df2=relationMat_mpCat[relationMat_mpCat.max(axis=1)>0.5]#.head()\n",
    "topGenes_df2.shape"
   ]
  },
  {
   "cell_type": "code",
   "execution_count": 196,
   "metadata": {
    "hidden": true
   },
   "outputs": [],
   "source": [
    "topGenes_mito_radial=relationMat_mpCat[relationMat_mpCat[\"Mito_RadialDistribution\"].abs()>0.6]"
   ]
  },
  {
   "cell_type": "code",
   "execution_count": 87,
   "metadata": {
    "hidden": true,
    "scrolled": false
   },
   "outputs": [
    {
     "data": {
      "image/png": "[encoded data removed]",
      "text/plain": [
       "<Figure size 3600x360 with 4 Axes>"
      ]
     },
     "metadata": {
      "needs_background": "light"
     },
     "output_type": "display_data"
    }
   ],
   "source": [
    "# plt.figure()\n",
    "# f, axes = plt.subplots(figsize=(15,4))\n",
    "# ax = sns.heatmap(topGenes_df)\n",
    "clustergrid=sns.clustermap(topGenes_df.T,xticklabels=1,yticklabels=1,figsize=(50, 5),cmap=\"coolwarm\",cbar_pos=(1, 0.2, .03, .4))\n"
   ]
  },
  {
   "cell_type": "code",
   "execution_count": 79,
   "metadata": {
    "hidden": true,
    "scrolled": false
   },
   "outputs": [
    {
     "data": {
      "image/png": "[encoded data removed]",
      "text/plain": [
       "<Figure size 936x360 with 4 Axes>"
      ]
     },
     "metadata": {
      "needs_background": "light"
     },
     "output_type": "display_data"
    }
   ],
   "source": [
    "# clustergrid=sns.clustermap(topGenes_df2.T,xticklabels=1,yticklabels=1,figsize=(10, 5),cmap=\"vlag\",\\\n",
    "#                            vmin=-1, vmax=1,cbar_pos=(1, 0.2, .03, .4))\n",
    "%matplotlib inline\n",
    "clustergrid=sns.clustermap(topGenes_df2.T,xticklabels=1,yticklabels=1,figsize=(13, 5),cmap=\"vlag\",\\\n",
    "                           vmin=-1, vmax=1,cbar_pos=(1, 0.2, .03, .4))\n",
    "clustergrid.savefig('../../results/cpCategoriesHM-'+dataset+'.png', format='png',dpi=100)"
   ]
  },
  {
   "cell_type": "code",
   "execution_count": 116,
   "metadata": {
    "hidden": true
   },
   "outputs": [
    {
     "data": {
      "image/png": "[encoded data removed]",
      "text/plain": [
       "<Figure size 1440x360 with 4 Axes>"
      ]
     },
     "metadata": {
      "needs_background": "light"
     },
     "output_type": "display_data"
    }
   ],
   "source": [
    "%matplotlib inline\n",
    "clustergrid=sns.clustermap(topGenes_df2.T,xticklabels=1,yticklabels=1,figsize=(20, 5),cmap=\"vlag\",\\\n",
    "                           vmin=0, vmax=0.8,cbar_pos=(1, 0.2, .03, .4))\n",
    "# clustergrid.savefig('../../results/cpCategoriesHM-'+dataset+'.png', format='png',dpi=100)"
   ]
  },
  {
   "cell_type": "code",
   "execution_count": null,
   "metadata": {
    "hidden": true
   },
   "outputs": [],
   "source": [
    "# Replicate correlations in different channels\n",
    "Channelss=['DNA','Protein','Mito','ER']\n",
    "featureGroups=['Texture','Intensity','RadialDistribution']\n",
    "# Channelss=['DNA']\n",
    "# featureGroups=['Texture','Intensity']\n",
    "fig, axes = plt.subplots(4,3,sharey='row', figsize=(8,10))\n",
    "for ch in range(len(Channelss)):\n",
    "    for f in range(len(featureGroups)):    \n",
    "        colss=df_meanPrepCorr.columns[df_meanPrepCorr.columns.str.contains(Channelss[ch]) &\\\n",
    "                                   df_meanPrepCorr.columns.str.contains(featureGroups[f]) &\\\n",
    "                          df_meanPrepCorr.columns.str.contains(\"Cells_|Cytoplasm_|Nuclei_\")].tolist();\n",
    "#         print(colss)\n",
    "        repCC,randCC=utils.meanProfileAnalysis.categoricalRepCor(df_meanPrepCorr,'Metadata_Sample',colss,0);\n",
    "#         sns.kdeplot(repCC, bw=.1,ax=axes[ch,f]);\n",
    "#         sns.kdeplot(randCC, bw=.1,ax=axes[ch,f]);\n",
    "        sns.distplot(randCC,kde=True,hist=True,bins=12,label=\"random pairs\",ax=axes[ch,f],norm_hist=True);\n",
    "    #         sns.kdeplot(randCC, bw=.2, label=\"random pairs\",ax=axes[i])\n",
    "        sns.distplot(repCC,kde=True,hist=True,bins=12,label=\"replicate pairs\",ax=axes[ch,f],norm_hist=True);        \n",
    "        \n",
    "        \n",
    "#         perc5=np.percentile(repCC, 15);axes[i,j].axvline(x=0,linestyle=':');        \n",
    "        axes[ch,f].set_title(featureGroups[f]);\n",
    "#         axes[i,j].get_yaxis().set_visible(False)\n",
    "#         axes[i,j].get_xaxis().set_visible(False)\n",
    "        axes[ch,0].set_ylabel(Channelss[ch]);\n",
    "\n"
   ]
  },
  {
   "cell_type": "code",
   "execution_count": null,
   "metadata": {
    "hidden": true
   },
   "outputs": [],
   "source": [
    "Channelss=['Nuclei','Cytoplasm','Cells']\n",
    "featureGroups=['AreaShape']\n",
    "# Channelss=['DNA']\n",
    "# featureGroups=['Texture','Intensity']\n",
    "fig, axes = plt.subplots(1,3,sharey='row', figsize=(8,3))\n",
    "for ch in range(len(Channelss)):\n",
    "    for f in range(len(featureGroups)):    \n",
    "        colss=df_meanPrepCorr.columns[df_meanPrepCorr.columns.str.contains(Channelss[ch]) &\\\n",
    "                                   df_meanPrepCorr.columns.str.contains(featureGroups[f]) &\\\n",
    "                          df_meanPrepCorr.columns.str.contains(\"Cells_|Cytoplasm_|Nuclei_\")].tolist();\n",
    "#         print(colss)\n",
    "        repCC,randCC=utils.meanProfileAnalysis.categoricalRepCor(df_meanPrepCorr,'Metadata_Sample',colss,0);\n",
    "\n",
    "        sns.distplot(randCC,kde=True,hist=True,bins=12,label=\"random pairs\",ax=axes[ch],norm_hist=True);\n",
    "    #         sns.kdeplot(randCC, bw=.2, label=\"random pairs\",ax=axes[i])\n",
    "        sns.distplot(repCC,kde=True,hist=True,bins=12,label=\"replicate pairs\",ax=axes[ch],norm_hist=True);                \n",
    "        \n",
    "#         perc5=np.percentile(repCC, 15);axes[i,j].axvline(x=0,linestyle=':');        \n",
    "        axes[ch].set_title(Channelss[ch]);\n",
    "\n",
    "        axes[0].set_ylabel(featureGroups[f]);\n"
   ]
  },
  {
   "cell_type": "code",
   "execution_count": 212,
   "metadata": {
    "hidden": true
   },
   "outputs": [
    {
     "data": {
      "image/png": "[encoded data removed]",
      "text/plain": [
       "<Figure size 1440x360 with 4 Axes>"
      ]
     },
     "metadata": {
      "needs_background": "light"
     },
     "output_type": "display_data"
    }
   ],
   "source": [
    "topGenes_mito_radial=relationMat_mpCat[relationMat_mpCat[\"Mito_RadialDistribution\"]>0.6]#[[\"Mito_RadialDistribution\"]]\n",
    "clustergrid=sns.clustermap(topGenes_mito_radial.T,xticklabels=1,yticklabels=1,figsize=(20, 5),cmap=\"vlag\",\\\n",
    "                           vmin=-0.8, vmax=0.8,cbar_pos=(1, 0.2, .03, .4))"
   ]
  },
  {
   "cell_type": "code",
   "execution_count": 215,
   "metadata": {
    "hidden": true
   },
   "outputs": [
    {
     "data": {
      "text/plain": [
       "array(['RAE1', 'MAN2B1', 'YKT6', 'LBR', 'BIRC5', 'CCNA2', 'POLE2', 'MYL9',\n",
       "       'DNAJB2', 'USP1', 'CDC25A', 'DCK', 'TPM1', 'COL4A1', 'UBE2C',\n",
       "       'CDKN1A', 'SERPINE1', 'SLC2A6', 'GADD45A', 'CDC2'], dtype=object)"
      ]
     },
     "execution_count": 215,
     "metadata": {},
     "output_type": "execute_result"
    }
   ],
   "source": [
    "topGenes_mito_radial.sort_values(by='Mito_RadialDistribution').index.values"
   ]
  },
  {
   "cell_type": "code",
   "execution_count": null,
   "metadata": {
    "hidden": true
   },
   "outputs": [],
   "source": []
  },
  {
   "cell_type": "code",
   "execution_count": null,
   "metadata": {
    "hidden": true
   },
   "outputs": [],
   "source": []
  }
 ],
 "metadata": {
  "kernelspec": {
   "display_name": "Python 3",
   "language": "python",
   "name": "python3"
  },
  "language_info": {
   "codemirror_mode": {
    "name": "ipython",
    "version": 3
   },
   "file_extension": ".py",
   "mimetype": "text/x-python",
   "name": "python",
   "nbconvert_exporter": "python",
   "pygments_lexer": "ipython3",
   "version": "3.8.3"
  },
  "latex_envs": {
   "LaTeX_envs_menu_present": true,
   "autoclose": false,
   "autocomplete": true,
   "bibliofile": "biblio.bib",
   "cite_by": "apalike",
   "current_citInitial": 1,
   "eqLabelWithNumbers": true,
   "eqNumInitial": 1,
   "hotkeys": {
    "equation": "Ctrl-E",
    "itemize": "Ctrl-I"
   },
   "labels_anchors": false,
   "latex_user_defs": false,
   "report_style_numbering": false,
   "user_envs_cfg": false
  },
  "varInspector": {
   "cols": {
    "lenName": 16,
    "lenType": 16,
    "lenVar": 40
   },
   "kernels_config": {
    "python": {
     "delete_cmd_postfix": "",
     "delete_cmd_prefix": "del ",
     "library": "var_list.py",
     "varRefreshCmd": "print(var_dic_list())"
    },
    "r": {
     "delete_cmd_postfix": ") ",
     "delete_cmd_prefix": "rm(",
     "library": "var_list.r",
     "varRefreshCmd": "cat(var_dic_list()) "
    }
   },
   "position": {
    "height": "438.212px",
    "left": "1507.78px",
    "right": "20px",
    "top": "120px",
    "width": "350px"
   },
   "types_to_exclude": [
    "module",
    "function",
    "builtin_function_or_method",
    "instance",
    "_Feature"
   ],
   "window_display": false
  }
 },
 "nbformat": 4,
 "nbformat_minor": 2
}
