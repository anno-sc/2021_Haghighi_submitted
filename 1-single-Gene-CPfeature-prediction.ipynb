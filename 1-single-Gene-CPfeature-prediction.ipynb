{
 "cells": [
  {
   "cell_type": "code",
   "execution_count": 1,
   "metadata": {},
   "outputs": [],
   "source": [
    "%matplotlib inline\n",
    "%load_ext autoreload\n",
    "%autoreload 2\n",
    "from comet_ml import Experiment\n",
    "import numpy as np\n",
    "import scipy.spatial\n",
    "import pandas as pd\n",
    "import comet_ml\n",
    "import sklearn.decomposition\n",
    "import matplotlib.pyplot as plt\n",
    "# import keras\n",
    "from sklearn import preprocessing\n",
    "from sklearn.metrics import pairwise_distances,mean_absolute_error, mean_squared_error\n",
    "import matplotlib.pyplot as plt\n",
    "import seaborn as sns\n",
    "from utils.readProfiles import readMergedProfiles\n",
    "from utils.pred_models import *\n",
    "from utils.saveAsNewSheetToExistingFile import saveAsNewSheetToExistingFile\n",
    "from multiprocessing import Pool\n",
    "\n",
    "sns.set_style(\"whitegrid\")\n",
    "# from utils import networksEvol, tsne, readProfiles\n",
    "import umap"
   ]
  },
  {
   "cell_type": "code",
   "execution_count": null,
   "metadata": {},
   "outputs": [],
   "source": []
  },
  {
   "cell_type": "markdown",
   "metadata": {},
   "source": [
    "# Load data\n",
    "\n",
    "\n",
    "\n",
    "- CDRP-BBBC047-Bray-CP-GE (Cell line: U2OS):\n",
    "    * There are 30,430 and 21,782 unique compounds for CP and GE datasets, respectively.\n",
    "    * Median number of replicates for each dataset is as follows: CP: ~4 , GE: ~3. \n",
    "    * 20,358 compounds are present in both datasets.\n",
    "    * Replicate Level Shapes (nSamples x nFeatures): cp:  (153386 , 1783) ,  ge:  (68120 , 977)\n",
    "    * Treatment Level Shapes (nSamples x nFeatures): cp:  (30430, 1786)   ,  ge:  (21782, 981) \n",
    "    * Merged Profiles Shape:                              (20358, 2766)\n",
    "    * High Rep corr: CP: 30618 to 7892, l1k: 21069 to 2870, overlap:  3\n",
    "    \n",
    "    \n",
    "- CDRPBIO-BBBC036-Bray-CP-GE (Cell line: U2OS):\n",
    "    * There are 30,430 and 21,782 unique compounds for CP and GE datasets, respectively.\n",
    "    * Median number of replicates for each dataset is as follows: CP: ~4 , GE: ~3. \n",
    "    * 20,358 compounds are present in both datasets.\n",
    "    * Replicate Level Shapes (nSamples x nFeatures): cp:  (153386 , 1783) ,  ge:  (68120 , 977)\n",
    "    * Treatment Level Shapes (nSamples x nFeatures): cp:  (30430, 1786)   ,  ge:  (21782, 981) \n",
    "    * Merged Profiles Shape:                   \n",
    "    * High Rep corr: CP: 2239 to 312, l1k: 1535 to 448, overlap:  131\n",
    "\n",
    "\n",
    "- LUAD-BBBC041-Caicedo-CP-GE (Cell line: A549) : \n",
    "    * There are 593 and 529 unique alleles for CP and GE datasets, respectively.\n",
    "    * Median number of replicates for each dataset is as follows: CP: ~8, GE: ~8.\n",
    "    * 525 alleles are present in both datasets.\n",
    "    * Replicate Level Shapes (nSamples x nFeatures): cp:  (6144 , 1783) ,  ge:  (4232 , 978)\n",
    "    * Treatment Level Shapes (nSamples x nFeatures): cp: (593, 1786) , ge: (529, 979) \n",
    "    * Merged Profiles Shape:                             (525, 2764)    \n",
    "    * High Rep corr: CP: x to x, l1k: x to x, overlap:  x    \n",
    "    \n",
    "    \n",
    "- TA-ORF-BBBC037-Rohban-CP-GE (Cell line: U2OS) :\n",
    "    * There are 299 and 226 number of unique compounds for CP and GE datasets respectively.\n",
    "    * Median number of replicates for each dataset is as follows: CP: ~5 , GE: ~2.\n",
    "    * 188 alleles are present in both datasets.\n",
    "    * Replicate Level Shapes (nSamples x nFeatures):         cp: (1920 , 1783) ,  ge: (729 , 978)\n",
    "    * Treatment Level Shapes (nSamples x nFeatures+metadata):cp: (323, 1784)   ,  ge: (328, 979)\n",
    "    * Merged Profiles Shape:                                     (149, 2762)\n",
    "    * High Rep corr: CP: x to x, l1k: x to x, overlap:  x    \n",
    "    \n",
    "    \n",
    "- LINCS-Pilot1-CP-GE (Cell line: A549) :\n",
    "    * There are 1570 unique compounds across 7 doses for CP dataset\n",
    "    * There are x unique compounds across 7 doses for GE dataset\n",
    "    * Median number of replicates for each dataset is as follows: CP: ~5 , GE: ~3.\n",
    "    * 6984 \"compounds-dose\" are present in both datasets. \n",
    "    * Replicate Level Shapes (nSamples x nFeatures):         cp: (52223 , 1747) ,  ge: (27837 , 978)\n",
    "    * Treatment Level Shapes (nSamples x nFeatures+metadata):cp: (9394, 1748)   ,  ge: (8370, 979)\n",
    "    * Merged Profiles Shape:                                     (6984, 2726)\n",
    "    * High Rep corr: CP: 9394 to 4647, l1k: 8369  to  2338, overlap:  1140\n",
    "    "
   ]
  },
  {
   "cell_type": "markdown",
   "metadata": {},
   "source": [
    "#### Paths"
   ]
  },
  {
   "cell_type": "code",
   "execution_count": 2,
   "metadata": {},
   "outputs": [],
   "source": [
    "procProf_dir='/home/ubuntu/datasetsbucket/Rosetta-GE-CP/'\n",
    "# procProf_dir='/home/ubuntu/bucket/projects/2018_04_20_Rosetta/workspace/'\n",
    "metadata_dir='/home/ubuntu/bucket/projects/2018_04_20_Rosetta/workspace/metadata/'\n",
    "results_dir='./results/'\n"
   ]
  },
  {
   "cell_type": "code",
   "execution_count": null,
   "metadata": {},
   "outputs": [],
   "source": []
  },
  {
   "cell_type": "markdown",
   "metadata": {},
   "source": [
    "## Prediction of single GE expression levels based on the full CP profiles"
   ]
  },
  {
   "cell_type": "code",
   "execution_count": null,
   "metadata": {
    "scrolled": false
   },
   "outputs": [
    {
     "name": "stderr",
     "output_type": "stream",
     "text": [
      "/home/ubuntu/anaconda3/lib/python3.8/site-packages/IPython/core/interactiveshell.py:3263: DtypeWarning: Columns (1023,1028) have mixed types.Specify dtype option on import or set low_memory=False.\n",
      "  if (await self.run_code(code, result,  async_=asy)):\n"
     ]
    },
    {
     "name": "stdout",
     "output_type": "stream",
     "text": [
      "LUAD: Replicate Level Shapes (nSamples x nFeatures): cp:  6144 , 291 ,  l1k:  4232 , 978\n",
      "l1k n of rep:  8.0\n",
      "cp n of rep:  8.0\n",
      "CP: from  593  to  364\n",
      "l1k: from  529  to  275\n",
      "CP and l1k high rep overlap:  197\n",
      "Treatment Level Shapes (nSamples x nFeatures+metadata): (198, 294) (198, 979) Merged Profiles Shape: (198, 1272)\n"
     ]
    },
    {
     "name": "stderr",
     "output_type": "stream",
     "text": [
      "<ipython-input-3-df63df882351>:46: SettingWithCopyWarning: \n",
      "A value is trying to be set on a copy of a slice from a DataFrame.\n",
      "Try using .loc[row_indexer,col_indexer] = value instead\n",
      "\n",
      "See the caveats in the documentation: https://pandas.pydata.org/pandas-docs/stable/user_guide/indexing.html#returning-a-view-versus-a-copy\n",
      "  cp['Compounds']=cp['PERT']\n",
      "<ipython-input-3-df63df882351>:47: SettingWithCopyWarning: \n",
      "A value is trying to be set on a copy of a slice from a DataFrame.\n",
      "Try using .loc[row_indexer,col_indexer] = value instead\n",
      "\n",
      "See the caveats in the documentation: https://pandas.pydata.org/pandas-docs/stable/user_guide/indexing.html#returning-a-view-versus-a-copy\n",
      "  l1k['Compounds']=l1k['PERT']\n"
     ]
    },
    {
     "name": "stdout",
     "output_type": "stream",
     "text": [
      "{'activation': 'tanh', 'alpha': 0.05, 'early_stopping': False, 'hidden_layer_sizes': (500,)}\n"
     ]
    },
    {
     "name": "stderr",
     "output_type": "stream",
     "text": [
      "/home/ubuntu/anaconda3/lib/python3.8/site-packages/sklearn/neural_network/_multilayer_perceptron.py:614: ConvergenceWarning: Stochastic Optimizer: Maximum iterations (200) reached and the optimization hasn't converged yet.\n",
      "  warnings.warn(\n"
     ]
    },
    {
     "name": "stdout",
     "output_type": "stream",
     "text": [
      "{'activation': 'relu', 'alpha': 0.2, 'early_stopping': False, 'hidden_layer_sizes': (200,)}\n",
      "{'activation': 'tanh', 'alpha': 0.05, 'early_stopping': False, 'hidden_layer_sizes': (200,)}\n",
      "{'activation': 'tanh', 'alpha': 0.0001, 'early_stopping': False, 'hidden_layer_sizes': (200,)}\n"
     ]
    },
    {
     "name": "stderr",
     "output_type": "stream",
     "text": [
      "/home/ubuntu/anaconda3/lib/python3.8/site-packages/sklearn/neural_network/_multilayer_perceptron.py:614: ConvergenceWarning: Stochastic Optimizer: Maximum iterations (200) reached and the optimization hasn't converged yet.\n",
      "  warnings.warn(\n"
     ]
    },
    {
     "name": "stdout",
     "output_type": "stream",
     "text": [
      "{'activation': 'relu', 'alpha': 0.01, 'early_stopping': False, 'hidden_layer_sizes': (10, 30, 10)}\n"
     ]
    },
    {
     "name": "stderr",
     "output_type": "stream",
     "text": [
      "/home/ubuntu/anaconda3/lib/python3.8/site-packages/sklearn/neural_network/_multilayer_perceptron.py:614: ConvergenceWarning: Stochastic Optimizer: Maximum iterations (200) reached and the optimization hasn't converged yet.\n",
      "  warnings.warn(\n"
     ]
    },
    {
     "name": "stdout",
     "output_type": "stream",
     "text": [
      "{'activation': 'logistic', 'alpha': 0.05, 'early_stopping': False, 'hidden_layer_sizes': (50, 10)}\n"
     ]
    },
    {
     "name": "stderr",
     "output_type": "stream",
     "text": [
      "/home/ubuntu/anaconda3/lib/python3.8/site-packages/sklearn/neural_network/_multilayer_perceptron.py:614: ConvergenceWarning: Stochastic Optimizer: Maximum iterations (200) reached and the optimization hasn't converged yet.\n",
      "  warnings.warn(\n"
     ]
    },
    {
     "name": "stdout",
     "output_type": "stream",
     "text": [
      "{'activation': 'tanh', 'alpha': 0.2, 'early_stopping': False, 'hidden_layer_sizes': (500,)}\n"
     ]
    },
    {
     "name": "stderr",
     "output_type": "stream",
     "text": [
      "/home/ubuntu/anaconda3/lib/python3.8/site-packages/sklearn/neural_network/_multilayer_perceptron.py:614: ConvergenceWarning: Stochastic Optimizer: Maximum iterations (200) reached and the optimization hasn't converged yet.\n",
      "  warnings.warn(\n"
     ]
    },
    {
     "name": "stdout",
     "output_type": "stream",
     "text": [
      "{'activation': 'tanh', 'alpha': 0.2, 'early_stopping': False, 'hidden_layer_sizes': (50,)}\n"
     ]
    },
    {
     "name": "stderr",
     "output_type": "stream",
     "text": [
      "/home/ubuntu/anaconda3/lib/python3.8/site-packages/sklearn/neural_network/_multilayer_perceptron.py:614: ConvergenceWarning: Stochastic Optimizer: Maximum iterations (200) reached and the optimization hasn't converged yet.\n",
      "  warnings.warn(\n"
     ]
    },
    {
     "name": "stdout",
     "output_type": "stream",
     "text": [
      "{'activation': 'relu', 'alpha': 0.01, 'early_stopping': False, 'hidden_layer_sizes': (10, 30, 10)}\n",
      "{'activation': 'relu', 'alpha': 0.01, 'early_stopping': False, 'hidden_layer_sizes': (200,)}\n",
      "{'activation': 'relu', 'alpha': 0.05, 'early_stopping': False, 'hidden_layer_sizes': (50,)}\n",
      "{'activation': 'relu', 'alpha': 0.0001, 'early_stopping': False, 'hidden_layer_sizes': (500,)}\n",
      "{'activation': 'relu', 'alpha': 0.1, 'early_stopping': False, 'hidden_layer_sizes': (50,)}\n"
     ]
    },
    {
     "name": "stderr",
     "output_type": "stream",
     "text": [
      "/home/ubuntu/anaconda3/lib/python3.8/site-packages/sklearn/neural_network/_multilayer_perceptron.py:614: ConvergenceWarning: Stochastic Optimizer: Maximum iterations (200) reached and the optimization hasn't converged yet.\n",
      "  warnings.warn(\n"
     ]
    },
    {
     "name": "stdout",
     "output_type": "stream",
     "text": [
      "{'activation': 'relu', 'alpha': 0.2, 'early_stopping': False, 'hidden_layer_sizes': (500,)}\n",
      "{'activation': 'relu', 'alpha': 0.0001, 'early_stopping': False, 'hidden_layer_sizes': (500,)}\n"
     ]
    },
    {
     "name": "stderr",
     "output_type": "stream",
     "text": [
      "/home/ubuntu/anaconda3/lib/python3.8/site-packages/sklearn/neural_network/_multilayer_perceptron.py:614: ConvergenceWarning: Stochastic Optimizer: Maximum iterations (200) reached and the optimization hasn't converged yet.\n",
      "  warnings.warn(\n"
     ]
    },
    {
     "name": "stdout",
     "output_type": "stream",
     "text": [
      "{'activation': 'relu', 'alpha': 0.2, 'early_stopping': False, 'hidden_layer_sizes': (500,)}\n",
      "{'activation': 'relu', 'alpha': 0.0001, 'early_stopping': False, 'hidden_layer_sizes': (200,)}\n",
      "{'activation': 'relu', 'alpha': 0.1, 'early_stopping': False, 'hidden_layer_sizes': (50,)}\n",
      "{'activation': 'tanh', 'alpha': 0.01, 'early_stopping': True, 'hidden_layer_sizes': (10, 30, 10)}\n",
      "{'activation': 'logistic', 'alpha': 0.1, 'early_stopping': True, 'hidden_layer_sizes': (50, 10)}\n",
      "{'activation': 'logistic', 'alpha': 0.2, 'early_stopping': True, 'hidden_layer_sizes': (50, 10)}\n",
      "{'activation': 'logistic', 'alpha': 0.1, 'early_stopping': True, 'hidden_layer_sizes': (50, 10)}\n",
      "{'activation': 'logistic', 'alpha': 0.01, 'early_stopping': True, 'hidden_layer_sizes': (50,)}\n",
      "{'activation': 'logistic', 'alpha': 0.0001, 'early_stopping': True, 'hidden_layer_sizes': (50, 10)}\n",
      "{'activation': 'logistic', 'alpha': 0.0001, 'early_stopping': True, 'hidden_layer_sizes': (50, 10)}\n",
      "{'activation': 'logistic', 'alpha': 0.2, 'early_stopping': True, 'hidden_layer_sizes': (10, 30, 10)}\n",
      "{'activation': 'logistic', 'alpha': 0.2, 'early_stopping': True, 'hidden_layer_sizes': (50, 10)}\n",
      "{'activation': 'logistic', 'alpha': 0.05, 'early_stopping': True, 'hidden_layer_sizes': (50,)}\n"
     ]
    },
    {
     "name": "stderr",
     "output_type": "stream",
     "text": [
      "/home/ubuntu/anaconda3/lib/python3.8/site-packages/sklearn/neural_network/_multilayer_perceptron.py:614: ConvergenceWarning: Stochastic Optimizer: Maximum iterations (200) reached and the optimization hasn't converged yet.\n",
      "  warnings.warn(\n"
     ]
    },
    {
     "name": "stdout",
     "output_type": "stream",
     "text": [
      "{'activation': 'logistic', 'alpha': 0.2, 'early_stopping': False, 'hidden_layer_sizes': (50, 10, 10)}\n",
      "{'activation': 'logistic', 'alpha': 0.01, 'early_stopping': True, 'hidden_layer_sizes': (10, 30, 10)}\n",
      "{'activation': 'tanh', 'alpha': 0.1, 'early_stopping': True, 'hidden_layer_sizes': (50, 10)}\n"
     ]
    },
    {
     "name": "stderr",
     "output_type": "stream",
     "text": [
      "/home/ubuntu/anaconda3/lib/python3.8/site-packages/sklearn/neural_network/_multilayer_perceptron.py:614: ConvergenceWarning: Stochastic Optimizer: Maximum iterations (200) reached and the optimization hasn't converged yet.\n",
      "  warnings.warn(\n"
     ]
    },
    {
     "name": "stdout",
     "output_type": "stream",
     "text": [
      "{'activation': 'logistic', 'alpha': 0.05, 'early_stopping': False, 'hidden_layer_sizes': (50, 10, 10)}\n",
      "{'activation': 'tanh', 'alpha': 0.01, 'early_stopping': True, 'hidden_layer_sizes': (50, 10)}\n",
      "{'activation': 'tanh', 'alpha': 0.01, 'early_stopping': True, 'hidden_layer_sizes': (10, 30, 10)}\n",
      "{'activation': 'tanh', 'alpha': 0.1, 'early_stopping': True, 'hidden_layer_sizes': (50, 10, 10)}\n"
     ]
    },
    {
     "name": "stderr",
     "output_type": "stream",
     "text": [
      "/home/ubuntu/anaconda3/lib/python3.8/site-packages/sklearn/neural_network/_multilayer_perceptron.py:614: ConvergenceWarning: Stochastic Optimizer: Maximum iterations (200) reached and the optimization hasn't converged yet.\n",
      "  warnings.warn(\n"
     ]
    },
    {
     "name": "stdout",
     "output_type": "stream",
     "text": [
      "{'activation': 'logistic', 'alpha': 0.2, 'early_stopping': True, 'hidden_layer_sizes': (50, 10, 10)}\n",
      "{'activation': 'relu', 'alpha': 0.1, 'early_stopping': True, 'hidden_layer_sizes': (10, 30, 10)}\n"
     ]
    },
    {
     "name": "stderr",
     "output_type": "stream",
     "text": [
      "/home/ubuntu/anaconda3/lib/python3.8/site-packages/sklearn/neural_network/_multilayer_perceptron.py:614: ConvergenceWarning: Stochastic Optimizer: Maximum iterations (200) reached and the optimization hasn't converged yet.\n",
      "  warnings.warn(\n"
     ]
    },
    {
     "name": "stdout",
     "output_type": "stream",
     "text": [
      "{'activation': 'logistic', 'alpha': 0.2, 'early_stopping': False, 'hidden_layer_sizes': (10, 30, 10)}\n",
      "{'activation': 'logistic', 'alpha': 0.1, 'early_stopping': True, 'hidden_layer_sizes': (50,)}\n",
      "{'activation': 'logistic', 'alpha': 0.0001, 'early_stopping': True, 'hidden_layer_sizes': (50,)}\n",
      "{'activation': 'tanh', 'alpha': 0.1, 'early_stopping': True, 'hidden_layer_sizes': (50, 10, 10)}\n"
     ]
    },
    {
     "name": "stderr",
     "output_type": "stream",
     "text": [
      "/home/ubuntu/anaconda3/lib/python3.8/site-packages/sklearn/neural_network/_multilayer_perceptron.py:614: ConvergenceWarning: Stochastic Optimizer: Maximum iterations (200) reached and the optimization hasn't converged yet.\n",
      "  warnings.warn(\n"
     ]
    },
    {
     "name": "stdout",
     "output_type": "stream",
     "text": [
      "{'activation': 'logistic', 'alpha': 0.01, 'early_stopping': True, 'hidden_layer_sizes': (50, 10, 10)}\n",
      "{'activation': 'logistic', 'alpha': 0.05, 'early_stopping': True, 'hidden_layer_sizes': (200,)}\n",
      "{'activation': 'relu', 'alpha': 0.05, 'early_stopping': True, 'hidden_layer_sizes': (50, 10, 10)}\n"
     ]
    },
    {
     "name": "stderr",
     "output_type": "stream",
     "text": [
      "/home/ubuntu/anaconda3/lib/python3.8/site-packages/sklearn/neural_network/_multilayer_perceptron.py:614: ConvergenceWarning: Stochastic Optimizer: Maximum iterations (200) reached and the optimization hasn't converged yet.\n",
      "  warnings.warn(\n"
     ]
    },
    {
     "name": "stdout",
     "output_type": "stream",
     "text": [
      "{'activation': 'logistic', 'alpha': 0.01, 'early_stopping': True, 'hidden_layer_sizes': (50, 10)}\n"
     ]
    },
    {
     "name": "stderr",
     "output_type": "stream",
     "text": [
      "/home/ubuntu/anaconda3/lib/python3.8/site-packages/sklearn/neural_network/_multilayer_perceptron.py:614: ConvergenceWarning: Stochastic Optimizer: Maximum iterations (200) reached and the optimization hasn't converged yet.\n",
      "  warnings.warn(\n"
     ]
    },
    {
     "name": "stdout",
     "output_type": "stream",
     "text": [
      "{'activation': 'relu', 'alpha': 0.0001, 'early_stopping': False, 'hidden_layer_sizes': (10, 30, 10)}\n",
      "{'activation': 'tanh', 'alpha': 0.1, 'early_stopping': False, 'hidden_layer_sizes': (200,)}\n",
      "{'activation': 'tanh', 'alpha': 0.1, 'early_stopping': True, 'hidden_layer_sizes': (200,)}\n",
      "{'activation': 'logistic', 'alpha': 0.1, 'early_stopping': True, 'hidden_layer_sizes': (200,)}\n",
      "{'activation': 'tanh', 'alpha': 0.01, 'early_stopping': False, 'hidden_layer_sizes': (50,)}\n"
     ]
    },
    {
     "name": "stderr",
     "output_type": "stream",
     "text": [
      "/home/ubuntu/anaconda3/lib/python3.8/site-packages/sklearn/neural_network/_multilayer_perceptron.py:614: ConvergenceWarning: Stochastic Optimizer: Maximum iterations (200) reached and the optimization hasn't converged yet.\n",
      "  warnings.warn(\n"
     ]
    },
    {
     "name": "stdout",
     "output_type": "stream",
     "text": [
      "{'activation': 'tanh', 'alpha': 0.05, 'early_stopping': False, 'hidden_layer_sizes': (10, 30, 10)}\n"
     ]
    },
    {
     "name": "stderr",
     "output_type": "stream",
     "text": [
      "/home/ubuntu/anaconda3/lib/python3.8/site-packages/sklearn/neural_network/_multilayer_perceptron.py:614: ConvergenceWarning: Stochastic Optimizer: Maximum iterations (200) reached and the optimization hasn't converged yet.\n",
      "  warnings.warn(\n"
     ]
    },
    {
     "name": "stdout",
     "output_type": "stream",
     "text": [
      "{'activation': 'relu', 'alpha': 0.01, 'early_stopping': False, 'hidden_layer_sizes': (50, 10, 10)}\n",
      "{'activation': 'logistic', 'alpha': 0.0001, 'early_stopping': True, 'hidden_layer_sizes': (500,)}\n"
     ]
    },
    {
     "name": "stderr",
     "output_type": "stream",
     "text": [
      "/home/ubuntu/anaconda3/lib/python3.8/site-packages/sklearn/neural_network/_multilayer_perceptron.py:614: ConvergenceWarning: Stochastic Optimizer: Maximum iterations (200) reached and the optimization hasn't converged yet.\n",
      "  warnings.warn(\n"
     ]
    },
    {
     "name": "stdout",
     "output_type": "stream",
     "text": [
      "{'activation': 'tanh', 'alpha': 0.0001, 'early_stopping': False, 'hidden_layer_sizes': (10, 30, 10)}\n",
      "{'activation': 'logistic', 'alpha': 0.05, 'early_stopping': True, 'hidden_layer_sizes': (50,)}\n",
      "{'activation': 'logistic', 'alpha': 0.2, 'early_stopping': True, 'hidden_layer_sizes': (10, 30, 10)}\n",
      "{'activation': 'relu', 'alpha': 0.05, 'early_stopping': True, 'hidden_layer_sizes': (10, 30, 10)}\n",
      "{'activation': 'relu', 'alpha': 0.05, 'early_stopping': True, 'hidden_layer_sizes': (50, 10, 10)}\n",
      "{'activation': 'logistic', 'alpha': 0.01, 'early_stopping': True, 'hidden_layer_sizes': (50,)}\n"
     ]
    },
    {
     "name": "stderr",
     "output_type": "stream",
     "text": [
      "/home/ubuntu/anaconda3/lib/python3.8/site-packages/sklearn/neural_network/_multilayer_perceptron.py:614: ConvergenceWarning: Stochastic Optimizer: Maximum iterations (200) reached and the optimization hasn't converged yet.\n",
      "  warnings.warn(\n"
     ]
    },
    {
     "name": "stdout",
     "output_type": "stream",
     "text": [
      "{'activation': 'logistic', 'alpha': 0.2, 'early_stopping': False, 'hidden_layer_sizes': (50, 10, 10)}\n",
      "{'activation': 'relu', 'alpha': 0.0001, 'early_stopping': True, 'hidden_layer_sizes': (50, 10, 10)}\n",
      "{'activation': 'logistic', 'alpha': 0.0001, 'early_stopping': True, 'hidden_layer_sizes': (200,)}\n",
      "{'activation': 'logistic', 'alpha': 0.2, 'early_stopping': True, 'hidden_layer_sizes': (200,)}\n",
      "{'activation': 'relu', 'alpha': 0.01, 'early_stopping': True, 'hidden_layer_sizes': (50, 10)}\n"
     ]
    },
    {
     "name": "stderr",
     "output_type": "stream",
     "text": [
      "/home/ubuntu/anaconda3/lib/python3.8/site-packages/sklearn/neural_network/_multilayer_perceptron.py:614: ConvergenceWarning: Stochastic Optimizer: Maximum iterations (200) reached and the optimization hasn't converged yet.\n",
      "  warnings.warn(\n"
     ]
    },
    {
     "name": "stdout",
     "output_type": "stream",
     "text": [
      "{'activation': 'logistic', 'alpha': 0.2, 'early_stopping': False, 'hidden_layer_sizes': (10, 30, 10)}\n",
      "{'activation': 'tanh', 'alpha': 0.1, 'early_stopping': True, 'hidden_layer_sizes': (50, 10, 10)}\n"
     ]
    },
    {
     "name": "stderr",
     "output_type": "stream",
     "text": [
      "/home/ubuntu/anaconda3/lib/python3.8/site-packages/sklearn/neural_network/_multilayer_perceptron.py:614: ConvergenceWarning: Stochastic Optimizer: Maximum iterations (200) reached and the optimization hasn't converged yet.\n",
      "  warnings.warn(\n"
     ]
    },
    {
     "name": "stdout",
     "output_type": "stream",
     "text": [
      "{'activation': 'logistic', 'alpha': 0.05, 'early_stopping': False, 'hidden_layer_sizes': (50, 10, 10)}\n",
      "{'activation': 'tanh', 'alpha': 0.01, 'early_stopping': True, 'hidden_layer_sizes': (500,)}\n",
      "{'activation': 'tanh', 'alpha': 0.2, 'early_stopping': True, 'hidden_layer_sizes': (10, 30, 10)}\n",
      "{'activation': 'relu', 'alpha': 0.0001, 'early_stopping': True, 'hidden_layer_sizes': (50, 10)}\n"
     ]
    },
    {
     "name": "stderr",
     "output_type": "stream",
     "text": [
      "/home/ubuntu/anaconda3/lib/python3.8/site-packages/sklearn/neural_network/_multilayer_perceptron.py:614: ConvergenceWarning: Stochastic Optimizer: Maximum iterations (200) reached and the optimization hasn't converged yet.\n",
      "  warnings.warn(\n"
     ]
    },
    {
     "name": "stdout",
     "output_type": "stream",
     "text": [
      "{'activation': 'logistic', 'alpha': 0.1, 'early_stopping': False, 'hidden_layer_sizes': (50, 10, 10)}\n"
     ]
    },
    {
     "name": "stderr",
     "output_type": "stream",
     "text": [
      "/home/ubuntu/anaconda3/lib/python3.8/site-packages/sklearn/neural_network/_multilayer_perceptron.py:614: ConvergenceWarning: Stochastic Optimizer: Maximum iterations (200) reached and the optimization hasn't converged yet.\n",
      "  warnings.warn(\n"
     ]
    },
    {
     "name": "stdout",
     "output_type": "stream",
     "text": [
      "{'activation': 'logistic', 'alpha': 0.01, 'early_stopping': False, 'hidden_layer_sizes': (50, 10)}\n"
     ]
    },
    {
     "name": "stderr",
     "output_type": "stream",
     "text": [
      "/home/ubuntu/anaconda3/lib/python3.8/site-packages/sklearn/neural_network/_multilayer_perceptron.py:614: ConvergenceWarning: Stochastic Optimizer: Maximum iterations (200) reached and the optimization hasn't converged yet.\n",
      "  warnings.warn(\n"
     ]
    },
    {
     "name": "stdout",
     "output_type": "stream",
     "text": [
      "{'activation': 'logistic', 'alpha': 0.2, 'early_stopping': False, 'hidden_layer_sizes': (50, 10, 10)}\n"
     ]
    },
    {
     "name": "stderr",
     "output_type": "stream",
     "text": [
      "/home/ubuntu/anaconda3/lib/python3.8/site-packages/sklearn/neural_network/_multilayer_perceptron.py:614: ConvergenceWarning: Stochastic Optimizer: Maximum iterations (200) reached and the optimization hasn't converged yet.\n",
      "  warnings.warn(\n"
     ]
    },
    {
     "name": "stdout",
     "output_type": "stream",
     "text": [
      "{'activation': 'logistic', 'alpha': 0.1, 'early_stopping': False, 'hidden_layer_sizes': (50, 10, 10)}\n"
     ]
    },
    {
     "name": "stderr",
     "output_type": "stream",
     "text": [
      "/home/ubuntu/anaconda3/lib/python3.8/site-packages/sklearn/neural_network/_multilayer_perceptron.py:614: ConvergenceWarning: Stochastic Optimizer: Maximum iterations (200) reached and the optimization hasn't converged yet.\n",
      "  warnings.warn(\n"
     ]
    },
    {
     "name": "stdout",
     "output_type": "stream",
     "text": [
      "{'activation': 'logistic', 'alpha': 0.2, 'early_stopping': False, 'hidden_layer_sizes': (50, 10, 10)}\n"
     ]
    },
    {
     "name": "stderr",
     "output_type": "stream",
     "text": [
      "/home/ubuntu/anaconda3/lib/python3.8/site-packages/sklearn/neural_network/_multilayer_perceptron.py:614: ConvergenceWarning: Stochastic Optimizer: Maximum iterations (200) reached and the optimization hasn't converged yet.\n",
      "  warnings.warn(\n"
     ]
    },
    {
     "name": "stdout",
     "output_type": "stream",
     "text": [
      "{'activation': 'logistic', 'alpha': 0.01, 'early_stopping': False, 'hidden_layer_sizes': (50, 10)}\n"
     ]
    },
    {
     "name": "stderr",
     "output_type": "stream",
     "text": [
      "/home/ubuntu/anaconda3/lib/python3.8/site-packages/sklearn/neural_network/_multilayer_perceptron.py:614: ConvergenceWarning: Stochastic Optimizer: Maximum iterations (200) reached and the optimization hasn't converged yet.\n",
      "  warnings.warn(\n"
     ]
    },
    {
     "name": "stdout",
     "output_type": "stream",
     "text": [
      "{'activation': 'logistic', 'alpha': 0.01, 'early_stopping': False, 'hidden_layer_sizes': (50, 10, 10)}\n"
     ]
    },
    {
     "name": "stderr",
     "output_type": "stream",
     "text": [
      "/home/ubuntu/anaconda3/lib/python3.8/site-packages/sklearn/neural_network/_multilayer_perceptron.py:614: ConvergenceWarning: Stochastic Optimizer: Maximum iterations (200) reached and the optimization hasn't converged yet.\n",
      "  warnings.warn(\n"
     ]
    },
    {
     "name": "stdout",
     "output_type": "stream",
     "text": [
      "{'activation': 'logistic', 'alpha': 0.2, 'early_stopping': False, 'hidden_layer_sizes': (50, 10, 10)}\n",
      "{'activation': 'logistic', 'alpha': 0.0001, 'early_stopping': True, 'hidden_layer_sizes': (50, 10)}\n"
     ]
    },
    {
     "name": "stderr",
     "output_type": "stream",
     "text": [
      "/home/ubuntu/anaconda3/lib/python3.8/site-packages/sklearn/neural_network/_multilayer_perceptron.py:614: ConvergenceWarning: Stochastic Optimizer: Maximum iterations (200) reached and the optimization hasn't converged yet.\n",
      "  warnings.warn(\n"
     ]
    },
    {
     "name": "stdout",
     "output_type": "stream",
     "text": [
      "{'activation': 'logistic', 'alpha': 0.05, 'early_stopping': False, 'hidden_layer_sizes': (50, 10, 10)}\n"
     ]
    },
    {
     "name": "stderr",
     "output_type": "stream",
     "text": [
      "/home/ubuntu/anaconda3/lib/python3.8/site-packages/sklearn/neural_network/_multilayer_perceptron.py:614: ConvergenceWarning: Stochastic Optimizer: Maximum iterations (200) reached and the optimization hasn't converged yet.\n",
      "  warnings.warn(\n"
     ]
    },
    {
     "name": "stdout",
     "output_type": "stream",
     "text": [
      "{'activation': 'logistic', 'alpha': 0.05, 'early_stopping': True, 'hidden_layer_sizes': (50, 10)}\n",
      "{'activation': 'logistic', 'alpha': 0.1, 'early_stopping': True, 'hidden_layer_sizes': (50, 10)}\n"
     ]
    },
    {
     "name": "stderr",
     "output_type": "stream",
     "text": [
      "/home/ubuntu/anaconda3/lib/python3.8/site-packages/sklearn/neural_network/_multilayer_perceptron.py:614: ConvergenceWarning: Stochastic Optimizer: Maximum iterations (200) reached and the optimization hasn't converged yet.\n",
      "  warnings.warn(\n"
     ]
    },
    {
     "name": "stdout",
     "output_type": "stream",
     "text": [
      "{'activation': 'logistic', 'alpha': 0.01, 'early_stopping': False, 'hidden_layer_sizes': (50, 10, 10)}\n",
      "{'activation': 'logistic', 'alpha': 0.1, 'early_stopping': True, 'hidden_layer_sizes': (50,)}\n",
      "{'activation': 'logistic', 'alpha': 0.0001, 'early_stopping': True, 'hidden_layer_sizes': (500,)}\n",
      "{'activation': 'logistic', 'alpha': 0.2, 'early_stopping': True, 'hidden_layer_sizes': (200,)}\n"
     ]
    },
    {
     "name": "stderr",
     "output_type": "stream",
     "text": [
      "/home/ubuntu/anaconda3/lib/python3.8/site-packages/sklearn/neural_network/_multilayer_perceptron.py:614: ConvergenceWarning: Stochastic Optimizer: Maximum iterations (200) reached and the optimization hasn't converged yet.\n",
      "  warnings.warn(\n"
     ]
    },
    {
     "name": "stdout",
     "output_type": "stream",
     "text": [
      "{'activation': 'logistic', 'alpha': 0.2, 'early_stopping': False, 'hidden_layer_sizes': (50, 10, 10)}\n"
     ]
    },
    {
     "name": "stderr",
     "output_type": "stream",
     "text": [
      "/home/ubuntu/anaconda3/lib/python3.8/site-packages/sklearn/neural_network/_multilayer_perceptron.py:614: ConvergenceWarning: Stochastic Optimizer: Maximum iterations (200) reached and the optimization hasn't converged yet.\n",
      "  warnings.warn(\n"
     ]
    },
    {
     "name": "stdout",
     "output_type": "stream",
     "text": [
      "{'activation': 'logistic', 'alpha': 0.1, 'early_stopping': False, 'hidden_layer_sizes': (50, 10)}\n",
      "{'activation': 'logistic', 'alpha': 0.2, 'early_stopping': True, 'hidden_layer_sizes': (50,)}\n"
     ]
    },
    {
     "name": "stderr",
     "output_type": "stream",
     "text": [
      "/home/ubuntu/anaconda3/lib/python3.8/site-packages/sklearn/neural_network/_multilayer_perceptron.py:614: ConvergenceWarning: Stochastic Optimizer: Maximum iterations (200) reached and the optimization hasn't converged yet.\n",
      "  warnings.warn(\n"
     ]
    },
    {
     "name": "stdout",
     "output_type": "stream",
     "text": [
      "{'activation': 'logistic', 'alpha': 0.2, 'early_stopping': False, 'hidden_layer_sizes': (50, 10)}\n"
     ]
    },
    {
     "name": "stderr",
     "output_type": "stream",
     "text": [
      "/home/ubuntu/anaconda3/lib/python3.8/site-packages/sklearn/neural_network/_multilayer_perceptron.py:614: ConvergenceWarning: Stochastic Optimizer: Maximum iterations (200) reached and the optimization hasn't converged yet.\n",
      "  warnings.warn(\n"
     ]
    },
    {
     "name": "stdout",
     "output_type": "stream",
     "text": [
      "{'activation': 'logistic', 'alpha': 0.05, 'early_stopping': False, 'hidden_layer_sizes': (10, 30, 10)}\n"
     ]
    },
    {
     "name": "stderr",
     "output_type": "stream",
     "text": [
      "/home/ubuntu/anaconda3/lib/python3.8/site-packages/sklearn/neural_network/_multilayer_perceptron.py:614: ConvergenceWarning: Stochastic Optimizer: Maximum iterations (200) reached and the optimization hasn't converged yet.\n",
      "  warnings.warn(\n"
     ]
    },
    {
     "name": "stdout",
     "output_type": "stream",
     "text": [
      "{'activation': 'logistic', 'alpha': 0.2, 'early_stopping': False, 'hidden_layer_sizes': (50, 10, 10)}\n"
     ]
    },
    {
     "name": "stderr",
     "output_type": "stream",
     "text": [
      "/home/ubuntu/anaconda3/lib/python3.8/site-packages/sklearn/neural_network/_multilayer_perceptron.py:614: ConvergenceWarning: Stochastic Optimizer: Maximum iterations (200) reached and the optimization hasn't converged yet.\n",
      "  warnings.warn(\n"
     ]
    },
    {
     "name": "stdout",
     "output_type": "stream",
     "text": [
      "{'activation': 'logistic', 'alpha': 0.05, 'early_stopping': False, 'hidden_layer_sizes': (10, 30, 10)}\n"
     ]
    },
    {
     "name": "stderr",
     "output_type": "stream",
     "text": [
      "/home/ubuntu/anaconda3/lib/python3.8/site-packages/sklearn/neural_network/_multilayer_perceptron.py:614: ConvergenceWarning: Stochastic Optimizer: Maximum iterations (200) reached and the optimization hasn't converged yet.\n",
      "  warnings.warn(\n"
     ]
    },
    {
     "name": "stdout",
     "output_type": "stream",
     "text": [
      "{'activation': 'logistic', 'alpha': 0.05, 'early_stopping': False, 'hidden_layer_sizes': (50, 10, 10)}\n"
     ]
    },
    {
     "name": "stderr",
     "output_type": "stream",
     "text": [
      "/home/ubuntu/anaconda3/lib/python3.8/site-packages/sklearn/neural_network/_multilayer_perceptron.py:614: ConvergenceWarning: Stochastic Optimizer: Maximum iterations (200) reached and the optimization hasn't converged yet.\n",
      "  warnings.warn(\n"
     ]
    },
    {
     "name": "stdout",
     "output_type": "stream",
     "text": [
      "{'activation': 'logistic', 'alpha': 0.0001, 'early_stopping': False, 'hidden_layer_sizes': (50, 10)}\n"
     ]
    },
    {
     "name": "stderr",
     "output_type": "stream",
     "text": [
      "/home/ubuntu/anaconda3/lib/python3.8/site-packages/sklearn/neural_network/_multilayer_perceptron.py:614: ConvergenceWarning: Stochastic Optimizer: Maximum iterations (200) reached and the optimization hasn't converged yet.\n",
      "  warnings.warn(\n"
     ]
    },
    {
     "name": "stdout",
     "output_type": "stream",
     "text": [
      "{'activation': 'logistic', 'alpha': 0.2, 'early_stopping': False, 'hidden_layer_sizes': (50, 10, 10)}\n"
     ]
    },
    {
     "name": "stderr",
     "output_type": "stream",
     "text": [
      "/home/ubuntu/anaconda3/lib/python3.8/site-packages/sklearn/neural_network/_multilayer_perceptron.py:614: ConvergenceWarning: Stochastic Optimizer: Maximum iterations (200) reached and the optimization hasn't converged yet.\n",
      "  warnings.warn(\n"
     ]
    },
    {
     "name": "stdout",
     "output_type": "stream",
     "text": [
      "{'activation': 'logistic', 'alpha': 0.0001, 'early_stopping': False, 'hidden_layer_sizes': (50, 10, 10)}\n"
     ]
    },
    {
     "name": "stderr",
     "output_type": "stream",
     "text": [
      "/home/ubuntu/anaconda3/lib/python3.8/site-packages/sklearn/neural_network/_multilayer_perceptron.py:614: ConvergenceWarning: Stochastic Optimizer: Maximum iterations (200) reached and the optimization hasn't converged yet.\n",
      "  warnings.warn(\n"
     ]
    },
    {
     "name": "stdout",
     "output_type": "stream",
     "text": [
      "{'activation': 'logistic', 'alpha': 0.05, 'early_stopping': False, 'hidden_layer_sizes': (50, 10)}\n"
     ]
    },
    {
     "name": "stderr",
     "output_type": "stream",
     "text": [
      "/home/ubuntu/anaconda3/lib/python3.8/site-packages/sklearn/neural_network/_multilayer_perceptron.py:614: ConvergenceWarning: Stochastic Optimizer: Maximum iterations (200) reached and the optimization hasn't converged yet.\n",
      "  warnings.warn(\n"
     ]
    },
    {
     "name": "stdout",
     "output_type": "stream",
     "text": [
      "{'activation': 'logistic', 'alpha': 0.2, 'early_stopping': False, 'hidden_layer_sizes': (50, 10, 10)}\n",
      "{'activation': 'logistic', 'alpha': 0.0001, 'early_stopping': True, 'hidden_layer_sizes': (500,)}\n",
      "{'activation': 'logistic', 'alpha': 0.2, 'early_stopping': True, 'hidden_layer_sizes': (50,)}\n",
      "{'activation': 'logistic', 'alpha': 0.2, 'early_stopping': True, 'hidden_layer_sizes': (50, 10)}\n",
      "{'activation': 'logistic', 'alpha': 0.0001, 'early_stopping': True, 'hidden_layer_sizes': (50,)}\n",
      "{'activation': 'logistic', 'alpha': 0.2, 'early_stopping': True, 'hidden_layer_sizes': (200,)}\n",
      "{'activation': 'tanh', 'alpha': 0.0001, 'early_stopping': True, 'hidden_layer_sizes': (50, 10)}\n",
      "{'activation': 'logistic', 'alpha': 0.05, 'early_stopping': True, 'hidden_layer_sizes': (50,)}\n",
      "{'activation': 'logistic', 'alpha': 0.1, 'early_stopping': True, 'hidden_layer_sizes': (200,)}\n",
      "{'activation': 'logistic', 'alpha': 0.05, 'early_stopping': True, 'hidden_layer_sizes': (50, 10)}\n",
      "{'activation': 'tanh', 'alpha': 0.01, 'early_stopping': False, 'hidden_layer_sizes': (200,)}\n",
      "{'activation': 'tanh', 'alpha': 0.0001, 'early_stopping': False, 'hidden_layer_sizes': (500,)}\n"
     ]
    },
    {
     "name": "stderr",
     "output_type": "stream",
     "text": [
      "/home/ubuntu/anaconda3/lib/python3.8/site-packages/sklearn/neural_network/_multilayer_perceptron.py:614: ConvergenceWarning: Stochastic Optimizer: Maximum iterations (200) reached and the optimization hasn't converged yet.\n",
      "  warnings.warn(\n"
     ]
    },
    {
     "name": "stdout",
     "output_type": "stream",
     "text": [
      "{'activation': 'tanh', 'alpha': 0.2, 'early_stopping': False, 'hidden_layer_sizes': (200,)}\n",
      "{'activation': 'tanh', 'alpha': 0.1, 'early_stopping': False, 'hidden_layer_sizes': (200,)}\n",
      "{'activation': 'relu', 'alpha': 0.01, 'early_stopping': True, 'hidden_layer_sizes': (200,)}\n"
     ]
    },
    {
     "name": "stderr",
     "output_type": "stream",
     "text": [
      "/home/ubuntu/anaconda3/lib/python3.8/site-packages/sklearn/neural_network/_multilayer_perceptron.py:614: ConvergenceWarning: Stochastic Optimizer: Maximum iterations (200) reached and the optimization hasn't converged yet.\n",
      "  warnings.warn(\n"
     ]
    },
    {
     "name": "stdout",
     "output_type": "stream",
     "text": [
      "{'activation': 'tanh', 'alpha': 0.1, 'early_stopping': False, 'hidden_layer_sizes': (500,)}\n"
     ]
    },
    {
     "name": "stderr",
     "output_type": "stream",
     "text": [
      "/home/ubuntu/anaconda3/lib/python3.8/site-packages/sklearn/neural_network/_multilayer_perceptron.py:614: ConvergenceWarning: Stochastic Optimizer: Maximum iterations (200) reached and the optimization hasn't converged yet.\n",
      "  warnings.warn(\n"
     ]
    },
    {
     "name": "stdout",
     "output_type": "stream",
     "text": [
      "{'activation': 'tanh', 'alpha': 0.1, 'early_stopping': False, 'hidden_layer_sizes': (500,)}\n",
      "{'activation': 'tanh', 'alpha': 0.0001, 'early_stopping': False, 'hidden_layer_sizes': (50,)}\n",
      "{'activation': 'tanh', 'alpha': 0.0001, 'early_stopping': False, 'hidden_layer_sizes': (200,)}\n",
      "{'activation': 'logistic', 'alpha': 0.05, 'early_stopping': True, 'hidden_layer_sizes': (200,)}\n",
      "{'activation': 'logistic', 'alpha': 0.05, 'early_stopping': True, 'hidden_layer_sizes': (50, 10)}\n",
      "{'activation': 'logistic', 'alpha': 0.1, 'early_stopping': True, 'hidden_layer_sizes': (50, 10, 10)}\n",
      "{'activation': 'logistic', 'alpha': 0.0001, 'early_stopping': True, 'hidden_layer_sizes': (200,)}\n",
      "{'activation': 'logistic', 'alpha': 0.2, 'early_stopping': True, 'hidden_layer_sizes': (50, 10)}\n",
      "{'activation': 'logistic', 'alpha': 0.05, 'early_stopping': True, 'hidden_layer_sizes': (10, 30, 10)}\n",
      "{'activation': 'logistic', 'alpha': 0.1, 'early_stopping': True, 'hidden_layer_sizes': (50, 10)}\n",
      "{'activation': 'logistic', 'alpha': 0.01, 'early_stopping': True, 'hidden_layer_sizes': (50, 10, 10)}\n",
      "{'activation': 'logistic', 'alpha': 0.05, 'early_stopping': True, 'hidden_layer_sizes': (50,)}\n"
     ]
    },
    {
     "name": "stderr",
     "output_type": "stream",
     "text": [
      "/home/ubuntu/anaconda3/lib/python3.8/site-packages/sklearn/neural_network/_multilayer_perceptron.py:614: ConvergenceWarning: Stochastic Optimizer: Maximum iterations (200) reached and the optimization hasn't converged yet.\n",
      "  warnings.warn(\n"
     ]
    },
    {
     "name": "stdout",
     "output_type": "stream",
     "text": [
      "{'activation': 'logistic', 'alpha': 0.05, 'early_stopping': False, 'hidden_layer_sizes': (10, 30, 10)}\n"
     ]
    },
    {
     "name": "stderr",
     "output_type": "stream",
     "text": [
      "/home/ubuntu/anaconda3/lib/python3.8/site-packages/sklearn/neural_network/_multilayer_perceptron.py:614: ConvergenceWarning: Stochastic Optimizer: Maximum iterations (200) reached and the optimization hasn't converged yet.\n",
      "  warnings.warn(\n"
     ]
    },
    {
     "name": "stdout",
     "output_type": "stream",
     "text": [
      "{'activation': 'logistic', 'alpha': 0.1, 'early_stopping': False, 'hidden_layer_sizes': (50, 10)}\n"
     ]
    },
    {
     "name": "stderr",
     "output_type": "stream",
     "text": [
      "/home/ubuntu/anaconda3/lib/python3.8/site-packages/sklearn/neural_network/_multilayer_perceptron.py:614: ConvergenceWarning: Stochastic Optimizer: Maximum iterations (200) reached and the optimization hasn't converged yet.\n",
      "  warnings.warn(\n"
     ]
    },
    {
     "name": "stdout",
     "output_type": "stream",
     "text": [
      "{'activation': 'logistic', 'alpha': 0.2, 'early_stopping': False, 'hidden_layer_sizes': (50, 10)}\n"
     ]
    },
    {
     "name": "stderr",
     "output_type": "stream",
     "text": [
      "/home/ubuntu/anaconda3/lib/python3.8/site-packages/sklearn/neural_network/_multilayer_perceptron.py:614: ConvergenceWarning: Stochastic Optimizer: Maximum iterations (200) reached and the optimization hasn't converged yet.\n",
      "  warnings.warn(\n"
     ]
    },
    {
     "name": "stdout",
     "output_type": "stream",
     "text": [
      "{'activation': 'logistic', 'alpha': 0.01, 'early_stopping': False, 'hidden_layer_sizes': (50, 10)}\n"
     ]
    },
    {
     "name": "stderr",
     "output_type": "stream",
     "text": [
      "/home/ubuntu/anaconda3/lib/python3.8/site-packages/sklearn/neural_network/_multilayer_perceptron.py:614: ConvergenceWarning: Stochastic Optimizer: Maximum iterations (200) reached and the optimization hasn't converged yet.\n",
      "  warnings.warn(\n"
     ]
    },
    {
     "name": "stdout",
     "output_type": "stream",
     "text": [
      "{'activation': 'logistic', 'alpha': 0.05, 'early_stopping': False, 'hidden_layer_sizes': (50, 10)}\n"
     ]
    },
    {
     "name": "stderr",
     "output_type": "stream",
     "text": [
      "/home/ubuntu/anaconda3/lib/python3.8/site-packages/sklearn/neural_network/_multilayer_perceptron.py:614: ConvergenceWarning: Stochastic Optimizer: Maximum iterations (200) reached and the optimization hasn't converged yet.\n",
      "  warnings.warn(\n"
     ]
    },
    {
     "name": "stdout",
     "output_type": "stream",
     "text": [
      "{'activation': 'logistic', 'alpha': 0.1, 'early_stopping': False, 'hidden_layer_sizes': (50, 10)}\n"
     ]
    },
    {
     "name": "stderr",
     "output_type": "stream",
     "text": [
      "/home/ubuntu/anaconda3/lib/python3.8/site-packages/sklearn/neural_network/_multilayer_perceptron.py:614: ConvergenceWarning: Stochastic Optimizer: Maximum iterations (200) reached and the optimization hasn't converged yet.\n",
      "  warnings.warn(\n"
     ]
    },
    {
     "name": "stdout",
     "output_type": "stream",
     "text": [
      "{'activation': 'logistic', 'alpha': 0.1, 'early_stopping': False, 'hidden_layer_sizes': (50, 10)}\n"
     ]
    },
    {
     "name": "stderr",
     "output_type": "stream",
     "text": [
      "/home/ubuntu/anaconda3/lib/python3.8/site-packages/sklearn/neural_network/_multilayer_perceptron.py:614: ConvergenceWarning: Stochastic Optimizer: Maximum iterations (200) reached and the optimization hasn't converged yet.\n",
      "  warnings.warn(\n"
     ]
    },
    {
     "name": "stdout",
     "output_type": "stream",
     "text": [
      "{'activation': 'logistic', 'alpha': 0.0001, 'early_stopping': False, 'hidden_layer_sizes': (50, 10)}\n",
      "{'activation': 'logistic', 'alpha': 0.2, 'early_stopping': True, 'hidden_layer_sizes': (50, 10)}\n"
     ]
    },
    {
     "name": "stderr",
     "output_type": "stream",
     "text": [
      "/home/ubuntu/anaconda3/lib/python3.8/site-packages/sklearn/neural_network/_multilayer_perceptron.py:614: ConvergenceWarning: Stochastic Optimizer: Maximum iterations (200) reached and the optimization hasn't converged yet.\n",
      "  warnings.warn(\n"
     ]
    },
    {
     "name": "stdout",
     "output_type": "stream",
     "text": [
      "{'activation': 'logistic', 'alpha': 0.2, 'early_stopping': False, 'hidden_layer_sizes': (10, 30, 10)}\n",
      "{'activation': 'logistic', 'alpha': 0.2, 'early_stopping': True, 'hidden_layer_sizes': (50, 10, 10)}\n"
     ]
    },
    {
     "name": "stderr",
     "output_type": "stream",
     "text": [
      "/home/ubuntu/anaconda3/lib/python3.8/site-packages/sklearn/neural_network/_multilayer_perceptron.py:614: ConvergenceWarning: Stochastic Optimizer: Maximum iterations (200) reached and the optimization hasn't converged yet.\n",
      "  warnings.warn(\n"
     ]
    },
    {
     "name": "stdout",
     "output_type": "stream",
     "text": [
      "{'activation': 'logistic', 'alpha': 0.1, 'early_stopping': False, 'hidden_layer_sizes': (50, 10, 10)}\n",
      "{'activation': 'logistic', 'alpha': 0.1, 'early_stopping': True, 'hidden_layer_sizes': (50, 10)}\n"
     ]
    },
    {
     "name": "stderr",
     "output_type": "stream",
     "text": [
      "/home/ubuntu/anaconda3/lib/python3.8/site-packages/sklearn/neural_network/_multilayer_perceptron.py:614: ConvergenceWarning: Stochastic Optimizer: Maximum iterations (200) reached and the optimization hasn't converged yet.\n",
      "  warnings.warn(\n"
     ]
    },
    {
     "name": "stdout",
     "output_type": "stream",
     "text": [
      "{'activation': 'logistic', 'alpha': 0.2, 'early_stopping': False, 'hidden_layer_sizes': (10, 30, 10)}\n",
      "{'activation': 'logistic', 'alpha': 0.0001, 'early_stopping': True, 'hidden_layer_sizes': (50, 10, 10)}\n"
     ]
    },
    {
     "name": "stderr",
     "output_type": "stream",
     "text": [
      "/home/ubuntu/anaconda3/lib/python3.8/site-packages/sklearn/neural_network/_multilayer_perceptron.py:614: ConvergenceWarning: Stochastic Optimizer: Maximum iterations (200) reached and the optimization hasn't converged yet.\n",
      "  warnings.warn(\n"
     ]
    },
    {
     "name": "stdout",
     "output_type": "stream",
     "text": [
      "{'activation': 'logistic', 'alpha': 0.0001, 'early_stopping': False, 'hidden_layer_sizes': (50, 10, 10)}\n"
     ]
    },
    {
     "name": "stderr",
     "output_type": "stream",
     "text": [
      "/home/ubuntu/anaconda3/lib/python3.8/site-packages/sklearn/neural_network/_multilayer_perceptron.py:614: ConvergenceWarning: Stochastic Optimizer: Maximum iterations (200) reached and the optimization hasn't converged yet.\n",
      "  warnings.warn(\n"
     ]
    },
    {
     "name": "stdout",
     "output_type": "stream",
     "text": [
      "{'activation': 'logistic', 'alpha': 0.01, 'early_stopping': False, 'hidden_layer_sizes': (50, 10, 10)}\n"
     ]
    },
    {
     "name": "stderr",
     "output_type": "stream",
     "text": [
      "/home/ubuntu/anaconda3/lib/python3.8/site-packages/sklearn/neural_network/_multilayer_perceptron.py:614: ConvergenceWarning: Stochastic Optimizer: Maximum iterations (200) reached and the optimization hasn't converged yet.\n",
      "  warnings.warn(\n"
     ]
    },
    {
     "name": "stdout",
     "output_type": "stream",
     "text": [
      "{'activation': 'logistic', 'alpha': 0.01, 'early_stopping': False, 'hidden_layer_sizes': (10, 30, 10)}\n",
      "{'activation': 'logistic', 'alpha': 0.05, 'early_stopping': True, 'hidden_layer_sizes': (200,)}\n",
      "{'activation': 'logistic', 'alpha': 0.05, 'early_stopping': True, 'hidden_layer_sizes': (50, 10)}\n",
      "{'activation': 'logistic', 'alpha': 0.1, 'early_stopping': True, 'hidden_layer_sizes': (200,)}\n",
      "{'activation': 'logistic', 'alpha': 0.2, 'early_stopping': True, 'hidden_layer_sizes': (50, 10)}\n",
      "{'activation': 'logistic', 'alpha': 0.0001, 'early_stopping': True, 'hidden_layer_sizes': (50, 10)}\n",
      "{'activation': 'relu', 'alpha': 0.01, 'early_stopping': True, 'hidden_layer_sizes': (50, 10, 10)}\n",
      "{'activation': 'tanh', 'alpha': 0.0001, 'early_stopping': True, 'hidden_layer_sizes': (10, 30, 10)}\n",
      "{'activation': 'logistic', 'alpha': 0.1, 'early_stopping': True, 'hidden_layer_sizes': (50, 10)}\n",
      "{'activation': 'logistic', 'alpha': 0.05, 'early_stopping': True, 'hidden_layer_sizes': (50, 10)}\n",
      "{'activation': 'logistic', 'alpha': 0.2, 'early_stopping': True, 'hidden_layer_sizes': (200,)}\n",
      "{'activation': 'logistic', 'alpha': 0.1, 'early_stopping': True, 'hidden_layer_sizes': (500,)}\n",
      "{'activation': 'logistic', 'alpha': 0.05, 'early_stopping': True, 'hidden_layer_sizes': (500,)}\n",
      "{'activation': 'logistic', 'alpha': 0.05, 'early_stopping': True, 'hidden_layer_sizes': (200,)}\n",
      "{'activation': 'logistic', 'alpha': 0.1, 'early_stopping': True, 'hidden_layer_sizes': (200,)}\n",
      "{'activation': 'logistic', 'alpha': 0.01, 'early_stopping': True, 'hidden_layer_sizes': (200,)}\n",
      "{'activation': 'logistic', 'alpha': 0.1, 'early_stopping': True, 'hidden_layer_sizes': (200,)}\n",
      "{'activation': 'tanh', 'alpha': 0.05, 'early_stopping': True, 'hidden_layer_sizes': (200,)}\n",
      "{'activation': 'logistic', 'alpha': 0.01, 'early_stopping': True, 'hidden_layer_sizes': (200,)}\n"
     ]
    },
    {
     "name": "stderr",
     "output_type": "stream",
     "text": [
      "/home/ubuntu/anaconda3/lib/python3.8/site-packages/sklearn/neural_network/_multilayer_perceptron.py:614: ConvergenceWarning: Stochastic Optimizer: Maximum iterations (200) reached and the optimization hasn't converged yet.\n",
      "  warnings.warn(\n"
     ]
    },
    {
     "name": "stdout",
     "output_type": "stream",
     "text": [
      "{'activation': 'logistic', 'alpha': 0.1, 'early_stopping': True, 'hidden_layer_sizes': (50, 10, 10)}\n",
      "{'activation': 'relu', 'alpha': 0.0001, 'early_stopping': True, 'hidden_layer_sizes': (10, 30, 10)}\n",
      "{'activation': 'logistic', 'alpha': 0.1, 'early_stopping': True, 'hidden_layer_sizes': (10, 30, 10)}\n",
      "{'activation': 'logistic', 'alpha': 0.0001, 'early_stopping': True, 'hidden_layer_sizes': (10, 30, 10)}\n",
      "{'activation': 'tanh', 'alpha': 0.1, 'early_stopping': True, 'hidden_layer_sizes': (10, 30, 10)}\n",
      "{'activation': 'logistic', 'alpha': 0.1, 'early_stopping': True, 'hidden_layer_sizes': (50, 10)}\n",
      "{'activation': 'logistic', 'alpha': 0.01, 'early_stopping': True, 'hidden_layer_sizes': (50, 10, 10)}\n",
      "{'activation': 'logistic', 'alpha': 0.0001, 'early_stopping': True, 'hidden_layer_sizes': (10, 30, 10)}\n",
      "{'activation': 'tanh', 'alpha': 0.2, 'early_stopping': True, 'hidden_layer_sizes': (50, 10)}\n",
      "{'activation': 'logistic', 'alpha': 0.01, 'early_stopping': True, 'hidden_layer_sizes': (50, 10, 10)}\n",
      "{'activation': 'logistic', 'alpha': 0.0001, 'early_stopping': True, 'hidden_layer_sizes': (50, 10)}\n",
      "{'activation': 'logistic', 'alpha': 0.01, 'early_stopping': True, 'hidden_layer_sizes': (10, 30, 10)}\n",
      "{'activation': 'logistic', 'alpha': 0.0001, 'early_stopping': True, 'hidden_layer_sizes': (10, 30, 10)}\n",
      "{'activation': 'logistic', 'alpha': 0.2, 'early_stopping': True, 'hidden_layer_sizes': (10, 30, 10)}\n",
      "{'activation': 'logistic', 'alpha': 0.05, 'early_stopping': True, 'hidden_layer_sizes': (50, 10, 10)}\n",
      "{'activation': 'logistic', 'alpha': 0.2, 'early_stopping': True, 'hidden_layer_sizes': (10, 30, 10)}\n",
      "{'activation': 'tanh', 'alpha': 0.1, 'early_stopping': True, 'hidden_layer_sizes': (50, 10, 10)}\n",
      "{'activation': 'logistic', 'alpha': 0.05, 'early_stopping': True, 'hidden_layer_sizes': (10, 30, 10)}\n",
      "{'activation': 'logistic', 'alpha': 0.01, 'early_stopping': True, 'hidden_layer_sizes': (500,)}\n",
      "{'activation': 'logistic', 'alpha': 0.0001, 'early_stopping': True, 'hidden_layer_sizes': (50,)}\n"
     ]
    },
    {
     "name": "stderr",
     "output_type": "stream",
     "text": [
      "/home/ubuntu/anaconda3/lib/python3.8/site-packages/sklearn/neural_network/_multilayer_perceptron.py:614: ConvergenceWarning: Stochastic Optimizer: Maximum iterations (200) reached and the optimization hasn't converged yet.\n",
      "  warnings.warn(\n"
     ]
    },
    {
     "name": "stdout",
     "output_type": "stream",
     "text": [
      "{'activation': 'logistic', 'alpha': 0.01, 'early_stopping': False, 'hidden_layer_sizes': (50, 10, 10)}\n",
      "{'activation': 'logistic', 'alpha': 0.2, 'early_stopping': True, 'hidden_layer_sizes': (500,)}\n",
      "{'activation': 'logistic', 'alpha': 0.2, 'early_stopping': True, 'hidden_layer_sizes': (200,)}\n",
      "{'activation': 'logistic', 'alpha': 0.2, 'early_stopping': True, 'hidden_layer_sizes': (200,)}\n",
      "{'activation': 'logistic', 'alpha': 0.0001, 'early_stopping': True, 'hidden_layer_sizes': (50, 10)}\n",
      "{'activation': 'logistic', 'alpha': 0.2, 'early_stopping': True, 'hidden_layer_sizes': (200,)}\n",
      "{'activation': 'logistic', 'alpha': 0.05, 'early_stopping': True, 'hidden_layer_sizes': (50, 10)}\n",
      "{'activation': 'logistic', 'alpha': 0.05, 'early_stopping': True, 'hidden_layer_sizes': (50, 10)}\n",
      "{'activation': 'logistic', 'alpha': 0.0001, 'early_stopping': True, 'hidden_layer_sizes': (50, 10)}\n"
     ]
    },
    {
     "name": "stderr",
     "output_type": "stream",
     "text": [
      "/home/ubuntu/anaconda3/lib/python3.8/site-packages/sklearn/neural_network/_multilayer_perceptron.py:614: ConvergenceWarning: Stochastic Optimizer: Maximum iterations (200) reached and the optimization hasn't converged yet.\n",
      "  warnings.warn(\n"
     ]
    },
    {
     "name": "stdout",
     "output_type": "stream",
     "text": [
      "{'activation': 'logistic', 'alpha': 0.05, 'early_stopping': True, 'hidden_layer_sizes': (10, 30, 10)}\n",
      "{'activation': 'tanh', 'alpha': 0.01, 'early_stopping': True, 'hidden_layer_sizes': (10, 30, 10)}\n",
      "{'activation': 'logistic', 'alpha': 0.2, 'early_stopping': True, 'hidden_layer_sizes': (50, 10)}\n",
      "{'activation': 'tanh', 'alpha': 0.2, 'early_stopping': True, 'hidden_layer_sizes': (10, 30, 10)}\n",
      "{'activation': 'logistic', 'alpha': 0.01, 'early_stopping': True, 'hidden_layer_sizes': (50,)}\n",
      "{'activation': 'logistic', 'alpha': 0.01, 'early_stopping': True, 'hidden_layer_sizes': (50,)}\n",
      "{'activation': 'logistic', 'alpha': 0.1, 'early_stopping': True, 'hidden_layer_sizes': (50, 10)}\n",
      "{'activation': 'logistic', 'alpha': 0.0001, 'early_stopping': True, 'hidden_layer_sizes': (50,)}\n"
     ]
    },
    {
     "name": "stderr",
     "output_type": "stream",
     "text": [
      "/home/ubuntu/anaconda3/lib/python3.8/site-packages/sklearn/neural_network/_multilayer_perceptron.py:614: ConvergenceWarning: Stochastic Optimizer: Maximum iterations (200) reached and the optimization hasn't converged yet.\n",
      "  warnings.warn(\n"
     ]
    },
    {
     "name": "stdout",
     "output_type": "stream",
     "text": [
      "{'activation': 'logistic', 'alpha': 0.05, 'early_stopping': True, 'hidden_layer_sizes': (50, 10)}\n",
      "{'activation': 'logistic', 'alpha': 0.2, 'early_stopping': True, 'hidden_layer_sizes': (500,)}\n",
      "{'activation': 'logistic', 'alpha': 0.01, 'early_stopping': True, 'hidden_layer_sizes': (50,)}\n",
      "{'activation': 'logistic', 'alpha': 0.0001, 'early_stopping': True, 'hidden_layer_sizes': (200,)}\n",
      "{'activation': 'logistic', 'alpha': 0.05, 'early_stopping': True, 'hidden_layer_sizes': (200,)}\n",
      "{'activation': 'tanh', 'alpha': 0.2, 'early_stopping': True, 'hidden_layer_sizes': (50, 10, 10)}\n",
      "{'activation': 'logistic', 'alpha': 0.01, 'early_stopping': True, 'hidden_layer_sizes': (50,)}\n",
      "{'activation': 'logistic', 'alpha': 0.1, 'early_stopping': True, 'hidden_layer_sizes': (50,)}\n",
      "{'activation': 'logistic', 'alpha': 0.05, 'early_stopping': True, 'hidden_layer_sizes': (200,)}\n",
      "{'activation': 'logistic', 'alpha': 0.01, 'early_stopping': True, 'hidden_layer_sizes': (500,)}\n",
      "{'activation': 'logistic', 'alpha': 0.0001, 'early_stopping': True, 'hidden_layer_sizes': (200,)}\n",
      "{'activation': 'logistic', 'alpha': 0.1, 'early_stopping': True, 'hidden_layer_sizes': (200,)}\n"
     ]
    },
    {
     "name": "stderr",
     "output_type": "stream",
     "text": [
      "/home/ubuntu/anaconda3/lib/python3.8/site-packages/sklearn/neural_network/_multilayer_perceptron.py:614: ConvergenceWarning: Stochastic Optimizer: Maximum iterations (200) reached and the optimization hasn't converged yet.\n",
      "  warnings.warn(\n"
     ]
    },
    {
     "name": "stdout",
     "output_type": "stream",
     "text": [
      "{'activation': 'logistic', 'alpha': 0.01, 'early_stopping': True, 'hidden_layer_sizes': (50,)}\n",
      "{'activation': 'logistic', 'alpha': 0.05, 'early_stopping': True, 'hidden_layer_sizes': (200,)}\n",
      "{'activation': 'logistic', 'alpha': 0.0001, 'early_stopping': True, 'hidden_layer_sizes': (50,)}\n",
      "{'activation': 'logistic', 'alpha': 0.2, 'early_stopping': True, 'hidden_layer_sizes': (200,)}\n",
      "{'activation': 'logistic', 'alpha': 0.2, 'early_stopping': True, 'hidden_layer_sizes': (50, 10)}\n",
      "{'activation': 'relu', 'alpha': 0.1, 'early_stopping': True, 'hidden_layer_sizes': (10, 30, 10)}\n"
     ]
    },
    {
     "name": "stderr",
     "output_type": "stream",
     "text": [
      "/home/ubuntu/anaconda3/lib/python3.8/site-packages/sklearn/neural_network/_multilayer_perceptron.py:614: ConvergenceWarning: Stochastic Optimizer: Maximum iterations (200) reached and the optimization hasn't converged yet.\n",
      "  warnings.warn(\n"
     ]
    },
    {
     "name": "stdout",
     "output_type": "stream",
     "text": [
      "{'activation': 'relu', 'alpha': 0.0001, 'early_stopping': False, 'hidden_layer_sizes': (10, 30, 10)}\n",
      "{'activation': 'relu', 'alpha': 0.0001, 'early_stopping': True, 'hidden_layer_sizes': (10, 30, 10)}\n",
      "{'activation': 'logistic', 'alpha': 0.2, 'early_stopping': True, 'hidden_layer_sizes': (50, 10)}\n",
      "{'activation': 'relu', 'alpha': 0.01, 'early_stopping': True, 'hidden_layer_sizes': (10, 30, 10)}\n",
      "{'activation': 'logistic', 'alpha': 0.1, 'early_stopping': True, 'hidden_layer_sizes': (50,)}\n",
      "{'activation': 'logistic', 'alpha': 0.2, 'early_stopping': True, 'hidden_layer_sizes': (50, 10)}\n"
     ]
    },
    {
     "name": "stderr",
     "output_type": "stream",
     "text": [
      "/home/ubuntu/anaconda3/lib/python3.8/site-packages/sklearn/neural_network/_multilayer_perceptron.py:614: ConvergenceWarning: Stochastic Optimizer: Maximum iterations (200) reached and the optimization hasn't converged yet.\n",
      "  warnings.warn(\n"
     ]
    },
    {
     "name": "stdout",
     "output_type": "stream",
     "text": [
      "{'activation': 'logistic', 'alpha': 0.1, 'early_stopping': False, 'hidden_layer_sizes': (50, 10)}\n",
      "{'activation': 'logistic', 'alpha': 0.2, 'early_stopping': True, 'hidden_layer_sizes': (50, 10)}\n",
      "{'activation': 'tanh', 'alpha': 0.05, 'early_stopping': True, 'hidden_layer_sizes': (50,)}\n",
      "{'activation': 'tanh', 'alpha': 0.1, 'early_stopping': True, 'hidden_layer_sizes': (10, 30, 10)}\n",
      "{'activation': 'relu', 'alpha': 0.05, 'early_stopping': True, 'hidden_layer_sizes': (10, 30, 10)}\n"
     ]
    },
    {
     "name": "stderr",
     "output_type": "stream",
     "text": [
      "/home/ubuntu/anaconda3/lib/python3.8/site-packages/sklearn/neural_network/_multilayer_perceptron.py:614: ConvergenceWarning: Stochastic Optimizer: Maximum iterations (200) reached and the optimization hasn't converged yet.\n",
      "  warnings.warn(\n"
     ]
    },
    {
     "name": "stdout",
     "output_type": "stream",
     "text": [
      "{'activation': 'logistic', 'alpha': 0.2, 'early_stopping': True, 'hidden_layer_sizes': (50, 10)}\n",
      "{'activation': 'relu', 'alpha': 0.01, 'early_stopping': True, 'hidden_layer_sizes': (10, 30, 10)}\n",
      "{'activation': 'tanh', 'alpha': 0.1, 'early_stopping': True, 'hidden_layer_sizes': (10, 30, 10)}\n",
      "{'activation': 'relu', 'alpha': 0.2, 'early_stopping': True, 'hidden_layer_sizes': (50, 10, 10)}\n",
      "{'activation': 'relu', 'alpha': 0.2, 'early_stopping': True, 'hidden_layer_sizes': (50, 10, 10)}\n",
      "{'activation': 'relu', 'alpha': 0.0001, 'early_stopping': True, 'hidden_layer_sizes': (10, 30, 10)}\n",
      "{'activation': 'tanh', 'alpha': 0.0001, 'early_stopping': True, 'hidden_layer_sizes': (500,)}\n",
      "{'activation': 'logistic', 'alpha': 0.1, 'early_stopping': True, 'hidden_layer_sizes': (50,)}\n",
      "{'activation': 'logistic', 'alpha': 0.01, 'early_stopping': True, 'hidden_layer_sizes': (500,)}\n",
      "{'activation': 'relu', 'alpha': 0.0001, 'early_stopping': True, 'hidden_layer_sizes': (500,)}\n",
      "{'activation': 'logistic', 'alpha': 0.0001, 'early_stopping': True, 'hidden_layer_sizes': (500,)}\n",
      "{'activation': 'logistic', 'alpha': 0.0001, 'early_stopping': True, 'hidden_layer_sizes': (500,)}\n",
      "{'activation': 'relu', 'alpha': 0.2, 'early_stopping': True, 'hidden_layer_sizes': (200,)}\n"
     ]
    },
    {
     "name": "stderr",
     "output_type": "stream",
     "text": [
      "/home/ubuntu/anaconda3/lib/python3.8/site-packages/sklearn/neural_network/_multilayer_perceptron.py:614: ConvergenceWarning: Stochastic Optimizer: Maximum iterations (200) reached and the optimization hasn't converged yet.\n",
      "  warnings.warn(\n"
     ]
    },
    {
     "name": "stdout",
     "output_type": "stream",
     "text": [
      "{'activation': 'tanh', 'alpha': 0.01, 'early_stopping': False, 'hidden_layer_sizes': (50, 10, 10)}\n"
     ]
    },
    {
     "name": "stderr",
     "output_type": "stream",
     "text": [
      "/home/ubuntu/anaconda3/lib/python3.8/site-packages/sklearn/neural_network/_multilayer_perceptron.py:614: ConvergenceWarning: Stochastic Optimizer: Maximum iterations (200) reached and the optimization hasn't converged yet.\n",
      "  warnings.warn(\n"
     ]
    },
    {
     "name": "stdout",
     "output_type": "stream",
     "text": [
      "{'activation': 'relu', 'alpha': 0.0001, 'early_stopping': False, 'hidden_layer_sizes': (10, 30, 10)}\n",
      "{'activation': 'logistic', 'alpha': 0.1, 'early_stopping': True, 'hidden_layer_sizes': (50,)}\n",
      "{'activation': 'logistic', 'alpha': 0.0001, 'early_stopping': True, 'hidden_layer_sizes': (50,)}\n",
      "{'activation': 'relu', 'alpha': 0.0001, 'early_stopping': True, 'hidden_layer_sizes': (50, 10, 10)}\n",
      "{'activation': 'logistic', 'alpha': 0.2, 'early_stopping': True, 'hidden_layer_sizes': (50,)}\n",
      "{'activation': 'logistic', 'alpha': 0.2, 'early_stopping': True, 'hidden_layer_sizes': (200,)}\n",
      "{'activation': 'logistic', 'alpha': 0.0001, 'early_stopping': True, 'hidden_layer_sizes': (50,)}\n",
      "{'activation': 'logistic', 'alpha': 0.2, 'early_stopping': True, 'hidden_layer_sizes': (50,)}\n",
      "{'activation': 'logistic', 'alpha': 0.05, 'early_stopping': True, 'hidden_layer_sizes': (200,)}\n",
      "{'activation': 'logistic', 'alpha': 0.1, 'early_stopping': True, 'hidden_layer_sizes': (50,)}\n",
      "{'activation': 'tanh', 'alpha': 0.2, 'early_stopping': True, 'hidden_layer_sizes': (50, 10, 10)}\n",
      "{'activation': 'tanh', 'alpha': 0.2, 'early_stopping': True, 'hidden_layer_sizes': (50, 10, 10)}\n",
      "{'activation': 'tanh', 'alpha': 0.01, 'early_stopping': True, 'hidden_layer_sizes': (10, 30, 10)}\n"
     ]
    },
    {
     "name": "stderr",
     "output_type": "stream",
     "text": [
      "/home/ubuntu/anaconda3/lib/python3.8/site-packages/sklearn/neural_network/_multilayer_perceptron.py:614: ConvergenceWarning: Stochastic Optimizer: Maximum iterations (200) reached and the optimization hasn't converged yet.\n",
      "  warnings.warn(\n"
     ]
    },
    {
     "name": "stdout",
     "output_type": "stream",
     "text": [
      "{'activation': 'logistic', 'alpha': 0.0001, 'early_stopping': False, 'hidden_layer_sizes': (10, 30, 10)}\n",
      "{'activation': 'tanh', 'alpha': 0.2, 'early_stopping': True, 'hidden_layer_sizes': (10, 30, 10)}\n",
      "{'activation': 'tanh', 'alpha': 0.01, 'early_stopping': True, 'hidden_layer_sizes': (10, 30, 10)}\n",
      "{'activation': 'logistic', 'alpha': 0.0001, 'early_stopping': True, 'hidden_layer_sizes': (50, 10)}\n",
      "{'activation': 'logistic', 'alpha': 0.1, 'early_stopping': True, 'hidden_layer_sizes': (50, 10)}\n",
      "{'activation': 'logistic', 'alpha': 0.0001, 'early_stopping': True, 'hidden_layer_sizes': (50, 10)}\n",
      "{'activation': 'tanh', 'alpha': 0.1, 'early_stopping': True, 'hidden_layer_sizes': (200,)}\n"
     ]
    },
    {
     "name": "stderr",
     "output_type": "stream",
     "text": [
      "/home/ubuntu/anaconda3/lib/python3.8/site-packages/sklearn/neural_network/_multilayer_perceptron.py:614: ConvergenceWarning: Stochastic Optimizer: Maximum iterations (200) reached and the optimization hasn't converged yet.\n",
      "  warnings.warn(\n"
     ]
    },
    {
     "name": "stdout",
     "output_type": "stream",
     "text": [
      "{'activation': 'logistic', 'alpha': 0.0001, 'early_stopping': False, 'hidden_layer_sizes': (10, 30, 10)}\n"
     ]
    },
    {
     "name": "stderr",
     "output_type": "stream",
     "text": [
      "/home/ubuntu/anaconda3/lib/python3.8/site-packages/sklearn/neural_network/_multilayer_perceptron.py:614: ConvergenceWarning: Stochastic Optimizer: Maximum iterations (200) reached and the optimization hasn't converged yet.\n",
      "  warnings.warn(\n"
     ]
    },
    {
     "name": "stdout",
     "output_type": "stream",
     "text": [
      "{'activation': 'logistic', 'alpha': 0.05, 'early_stopping': False, 'hidden_layer_sizes': (10, 30, 10)}\n",
      "{'activation': 'tanh', 'alpha': 0.05, 'early_stopping': True, 'hidden_layer_sizes': (50, 10, 10)}\n"
     ]
    },
    {
     "name": "stderr",
     "output_type": "stream",
     "text": [
      "/home/ubuntu/anaconda3/lib/python3.8/site-packages/sklearn/neural_network/_multilayer_perceptron.py:614: ConvergenceWarning: Stochastic Optimizer: Maximum iterations (200) reached and the optimization hasn't converged yet.\n",
      "  warnings.warn(\n"
     ]
    },
    {
     "name": "stdout",
     "output_type": "stream",
     "text": [
      "{'activation': 'logistic', 'alpha': 0.05, 'early_stopping': True, 'hidden_layer_sizes': (50, 10)}\n"
     ]
    },
    {
     "name": "stderr",
     "output_type": "stream",
     "text": [
      "/home/ubuntu/anaconda3/lib/python3.8/site-packages/sklearn/neural_network/_multilayer_perceptron.py:614: ConvergenceWarning: Stochastic Optimizer: Maximum iterations (200) reached and the optimization hasn't converged yet.\n",
      "  warnings.warn(\n"
     ]
    },
    {
     "name": "stdout",
     "output_type": "stream",
     "text": [
      "{'activation': 'logistic', 'alpha': 0.2, 'early_stopping': True, 'hidden_layer_sizes': (50, 10, 10)}\n",
      "{'activation': 'logistic', 'alpha': 0.1, 'early_stopping': True, 'hidden_layer_sizes': (10, 30, 10)}\n"
     ]
    },
    {
     "name": "stderr",
     "output_type": "stream",
     "text": [
      "/home/ubuntu/anaconda3/lib/python3.8/site-packages/sklearn/neural_network/_multilayer_perceptron.py:614: ConvergenceWarning: Stochastic Optimizer: Maximum iterations (200) reached and the optimization hasn't converged yet.\n",
      "  warnings.warn(\n"
     ]
    },
    {
     "name": "stdout",
     "output_type": "stream",
     "text": [
      "{'activation': 'tanh', 'alpha': 0.01, 'early_stopping': False, 'hidden_layer_sizes': (50,)}\n"
     ]
    },
    {
     "name": "stderr",
     "output_type": "stream",
     "text": [
      "/home/ubuntu/anaconda3/lib/python3.8/site-packages/sklearn/neural_network/_multilayer_perceptron.py:614: ConvergenceWarning: Stochastic Optimizer: Maximum iterations (200) reached and the optimization hasn't converged yet.\n",
      "  warnings.warn(\n"
     ]
    },
    {
     "name": "stdout",
     "output_type": "stream",
     "text": [
      "{'activation': 'logistic', 'alpha': 0.05, 'early_stopping': False, 'hidden_layer_sizes': (10, 30, 10)}\n",
      "{'activation': 'logistic', 'alpha': 0.2, 'early_stopping': True, 'hidden_layer_sizes': (200,)}\n",
      "{'activation': 'logistic', 'alpha': 0.01, 'early_stopping': True, 'hidden_layer_sizes': (50,)}\n",
      "{'activation': 'logistic', 'alpha': 0.0001, 'early_stopping': True, 'hidden_layer_sizes': (50,)}\n"
     ]
    },
    {
     "name": "stderr",
     "output_type": "stream",
     "text": [
      "/home/ubuntu/anaconda3/lib/python3.8/site-packages/sklearn/neural_network/_multilayer_perceptron.py:614: ConvergenceWarning: Stochastic Optimizer: Maximum iterations (200) reached and the optimization hasn't converged yet.\n",
      "  warnings.warn(\n"
     ]
    },
    {
     "name": "stdout",
     "output_type": "stream",
     "text": [
      "{'activation': 'logistic', 'alpha': 0.2, 'early_stopping': True, 'hidden_layer_sizes': (50, 10)}\n",
      "{'activation': 'logistic', 'alpha': 0.1, 'early_stopping': True, 'hidden_layer_sizes': (50,)}\n",
      "{'activation': 'logistic', 'alpha': 0.2, 'early_stopping': True, 'hidden_layer_sizes': (200,)}\n",
      "{'activation': 'logistic', 'alpha': 0.1, 'early_stopping': True, 'hidden_layer_sizes': (200,)}\n",
      "{'activation': 'tanh', 'alpha': 0.0001, 'early_stopping': True, 'hidden_layer_sizes': (10, 30, 10)}\n"
     ]
    },
    {
     "name": "stderr",
     "output_type": "stream",
     "text": [
      "/home/ubuntu/anaconda3/lib/python3.8/site-packages/sklearn/neural_network/_multilayer_perceptron.py:614: ConvergenceWarning: Stochastic Optimizer: Maximum iterations (200) reached and the optimization hasn't converged yet.\n",
      "  warnings.warn(\n"
     ]
    },
    {
     "name": "stdout",
     "output_type": "stream",
     "text": [
      "{'activation': 'logistic', 'alpha': 0.0001, 'early_stopping': True, 'hidden_layer_sizes': (50, 10)}\n",
      "{'activation': 'logistic', 'alpha': 0.0001, 'early_stopping': True, 'hidden_layer_sizes': (50, 10)}\n"
     ]
    },
    {
     "name": "stderr",
     "output_type": "stream",
     "text": [
      "/home/ubuntu/anaconda3/lib/python3.8/site-packages/sklearn/neural_network/_multilayer_perceptron.py:614: ConvergenceWarning: Stochastic Optimizer: Maximum iterations (200) reached and the optimization hasn't converged yet.\n",
      "  warnings.warn(\n"
     ]
    },
    {
     "name": "stdout",
     "output_type": "stream",
     "text": [
      "{'activation': 'logistic', 'alpha': 0.01, 'early_stopping': False, 'hidden_layer_sizes': (50, 10, 10)}\n",
      "{'activation': 'relu', 'alpha': 0.05, 'early_stopping': True, 'hidden_layer_sizes': (50, 10, 10)}\n",
      "{'activation': 'logistic', 'alpha': 0.1, 'early_stopping': True, 'hidden_layer_sizes': (50, 10)}\n",
      "{'activation': 'tanh', 'alpha': 0.2, 'early_stopping': True, 'hidden_layer_sizes': (10, 30, 10)}\n",
      "{'activation': 'tanh', 'alpha': 0.05, 'early_stopping': True, 'hidden_layer_sizes': (10, 30, 10)}\n",
      "{'activation': 'relu', 'alpha': 0.01, 'early_stopping': True, 'hidden_layer_sizes': (10, 30, 10)}\n",
      "{'activation': 'logistic', 'alpha': 0.0001, 'early_stopping': True, 'hidden_layer_sizes': (50, 10)}\n",
      "{'activation': 'logistic', 'alpha': 0.0001, 'early_stopping': True, 'hidden_layer_sizes': (50, 10)}\n",
      "{'activation': 'logistic', 'alpha': 0.0001, 'early_stopping': True, 'hidden_layer_sizes': (50,)}\n",
      "{'activation': 'relu', 'alpha': 0.0001, 'early_stopping': True, 'hidden_layer_sizes': (10, 30, 10)}\n",
      "{'activation': 'tanh', 'alpha': 0.1, 'early_stopping': True, 'hidden_layer_sizes': (10, 30, 10)}\n",
      "{'activation': 'tanh', 'alpha': 0.05, 'early_stopping': True, 'hidden_layer_sizes': (50,)}\n",
      "{'activation': 'logistic', 'alpha': 0.0001, 'early_stopping': True, 'hidden_layer_sizes': (50,)}\n",
      "{'activation': 'logistic', 'alpha': 0.2, 'early_stopping': True, 'hidden_layer_sizes': (200,)}\n",
      "{'activation': 'logistic', 'alpha': 0.0001, 'early_stopping': True, 'hidden_layer_sizes': (50,)}\n",
      "{'activation': 'logistic', 'alpha': 0.1, 'early_stopping': True, 'hidden_layer_sizes': (200,)}\n",
      "{'activation': 'relu', 'alpha': 0.1, 'early_stopping': True, 'hidden_layer_sizes': (10, 30, 10)}\n",
      "{'activation': 'tanh', 'alpha': 0.2, 'early_stopping': True, 'hidden_layer_sizes': (50, 10)}\n"
     ]
    },
    {
     "name": "stderr",
     "output_type": "stream",
     "text": [
      "/home/ubuntu/anaconda3/lib/python3.8/site-packages/sklearn/neural_network/_multilayer_perceptron.py:614: ConvergenceWarning: Stochastic Optimizer: Maximum iterations (200) reached and the optimization hasn't converged yet.\n",
      "  warnings.warn(\n"
     ]
    },
    {
     "name": "stdout",
     "output_type": "stream",
     "text": [
      "{'activation': 'tanh', 'alpha': 0.1, 'early_stopping': False, 'hidden_layer_sizes': (200,)}\n",
      "{'activation': 'logistic', 'alpha': 0.05, 'early_stopping': True, 'hidden_layer_sizes': (50,)}\n"
     ]
    },
    {
     "name": "stderr",
     "output_type": "stream",
     "text": [
      "/home/ubuntu/anaconda3/lib/python3.8/site-packages/sklearn/neural_network/_multilayer_perceptron.py:614: ConvergenceWarning: Stochastic Optimizer: Maximum iterations (200) reached and the optimization hasn't converged yet.\n",
      "  warnings.warn(\n"
     ]
    },
    {
     "name": "stdout",
     "output_type": "stream",
     "text": [
      "{'activation': 'tanh', 'alpha': 0.2, 'early_stopping': False, 'hidden_layer_sizes': (50, 10, 10)}\n"
     ]
    },
    {
     "name": "stderr",
     "output_type": "stream",
     "text": [
      "/home/ubuntu/anaconda3/lib/python3.8/site-packages/sklearn/neural_network/_multilayer_perceptron.py:614: ConvergenceWarning: Stochastic Optimizer: Maximum iterations (200) reached and the optimization hasn't converged yet.\n",
      "  warnings.warn(\n"
     ]
    },
    {
     "name": "stdout",
     "output_type": "stream",
     "text": [
      "{'activation': 'relu', 'alpha': 0.01, 'early_stopping': False, 'hidden_layer_sizes': (10, 30, 10)}\n",
      "{'activation': 'logistic', 'alpha': 0.1, 'early_stopping': True, 'hidden_layer_sizes': (50, 10)}\n",
      "{'activation': 'tanh', 'alpha': 0.0001, 'early_stopping': True, 'hidden_layer_sizes': (10, 30, 10)}\n"
     ]
    },
    {
     "name": "stderr",
     "output_type": "stream",
     "text": [
      "/home/ubuntu/anaconda3/lib/python3.8/site-packages/sklearn/neural_network/_multilayer_perceptron.py:614: ConvergenceWarning: Stochastic Optimizer: Maximum iterations (200) reached and the optimization hasn't converged yet.\n",
      "  warnings.warn(\n"
     ]
    },
    {
     "name": "stdout",
     "output_type": "stream",
     "text": [
      "{'activation': 'tanh', 'alpha': 0.01, 'early_stopping': False, 'hidden_layer_sizes': (50,)}\n"
     ]
    },
    {
     "name": "stderr",
     "output_type": "stream",
     "text": [
      "/home/ubuntu/anaconda3/lib/python3.8/site-packages/sklearn/neural_network/_multilayer_perceptron.py:614: ConvergenceWarning: Stochastic Optimizer: Maximum iterations (200) reached and the optimization hasn't converged yet.\n",
      "  warnings.warn(\n"
     ]
    },
    {
     "name": "stdout",
     "output_type": "stream",
     "text": [
      "{'activation': 'logistic', 'alpha': 0.05, 'early_stopping': True, 'hidden_layer_sizes': (50, 10, 10)}\n",
      "{'activation': 'logistic', 'alpha': 0.01, 'early_stopping': True, 'hidden_layer_sizes': (50,)}\n",
      "{'activation': 'logistic', 'alpha': 0.2, 'early_stopping': True, 'hidden_layer_sizes': (200,)}\n",
      "{'activation': 'logistic', 'alpha': 0.1, 'early_stopping': True, 'hidden_layer_sizes': (50,)}\n",
      "{'activation': 'logistic', 'alpha': 0.01, 'early_stopping': True, 'hidden_layer_sizes': (200,)}\n",
      "{'activation': 'logistic', 'alpha': 0.2, 'early_stopping': True, 'hidden_layer_sizes': (500,)}\n",
      "{'activation': 'logistic', 'alpha': 0.01, 'early_stopping': True, 'hidden_layer_sizes': (200,)}\n",
      "{'activation': 'logistic', 'alpha': 0.1, 'early_stopping': True, 'hidden_layer_sizes': (50,)}\n",
      "{'activation': 'logistic', 'alpha': 0.1, 'early_stopping': True, 'hidden_layer_sizes': (50, 10, 10)}\n",
      "{'activation': 'logistic', 'alpha': 0.1, 'early_stopping': True, 'hidden_layer_sizes': (50,)}\n",
      "{'activation': 'logistic', 'alpha': 0.0001, 'early_stopping': True, 'hidden_layer_sizes': (50, 10)}\n",
      "{'activation': 'logistic', 'alpha': 0.0001, 'early_stopping': True, 'hidden_layer_sizes': (50, 10, 10)}\n",
      "{'activation': 'logistic', 'alpha': 0.1, 'early_stopping': True, 'hidden_layer_sizes': (200,)}\n",
      "{'activation': 'tanh', 'alpha': 0.0001, 'early_stopping': True, 'hidden_layer_sizes': (10, 30, 10)}\n",
      "{'activation': 'logistic', 'alpha': 0.0001, 'early_stopping': True, 'hidden_layer_sizes': (50, 10)}\n",
      "{'activation': 'logistic', 'alpha': 0.2, 'early_stopping': True, 'hidden_layer_sizes': (50, 10, 10)}\n",
      "{'activation': 'logistic', 'alpha': 0.1, 'early_stopping': True, 'hidden_layer_sizes': (200,)}\n",
      "{'activation': 'logistic', 'alpha': 0.01, 'early_stopping': True, 'hidden_layer_sizes': (50, 10, 10)}\n",
      "{'activation': 'logistic', 'alpha': 0.05, 'early_stopping': True, 'hidden_layer_sizes': (50, 10)}\n"
     ]
    },
    {
     "name": "stderr",
     "output_type": "stream",
     "text": [
      "/home/ubuntu/anaconda3/lib/python3.8/site-packages/sklearn/neural_network/_multilayer_perceptron.py:614: ConvergenceWarning: Stochastic Optimizer: Maximum iterations (200) reached and the optimization hasn't converged yet.\n",
      "  warnings.warn(\n"
     ]
    },
    {
     "name": "stdout",
     "output_type": "stream",
     "text": [
      "{'activation': 'logistic', 'alpha': 0.1, 'early_stopping': False, 'hidden_layer_sizes': (50, 10, 10)}\n"
     ]
    },
    {
     "name": "stderr",
     "output_type": "stream",
     "text": [
      "/home/ubuntu/anaconda3/lib/python3.8/site-packages/sklearn/neural_network/_multilayer_perceptron.py:614: ConvergenceWarning: Stochastic Optimizer: Maximum iterations (200) reached and the optimization hasn't converged yet.\n",
      "  warnings.warn(\n"
     ]
    },
    {
     "name": "stdout",
     "output_type": "stream",
     "text": [
      "{'activation': 'relu', 'alpha': 0.1, 'early_stopping': False, 'hidden_layer_sizes': (50, 10, 10)}\n",
      "{'activation': 'relu', 'alpha': 0.1, 'early_stopping': True, 'hidden_layer_sizes': (10, 30, 10)}\n",
      "{'activation': 'relu', 'alpha': 0.01, 'early_stopping': True, 'hidden_layer_sizes': (10, 30, 10)}\n",
      "{'activation': 'tanh', 'alpha': 0.1, 'early_stopping': True, 'hidden_layer_sizes': (10, 30, 10)}\n",
      "{'activation': 'logistic', 'alpha': 0.0001, 'early_stopping': True, 'hidden_layer_sizes': (50, 10)}\n",
      "{'activation': 'logistic', 'alpha': 0.0001, 'early_stopping': True, 'hidden_layer_sizes': (50,)}\n"
     ]
    },
    {
     "name": "stderr",
     "output_type": "stream",
     "text": [
      "/home/ubuntu/anaconda3/lib/python3.8/site-packages/sklearn/neural_network/_multilayer_perceptron.py:614: ConvergenceWarning: Stochastic Optimizer: Maximum iterations (200) reached and the optimization hasn't converged yet.\n",
      "  warnings.warn(\n"
     ]
    },
    {
     "name": "stdout",
     "output_type": "stream",
     "text": [
      "{'activation': 'tanh', 'alpha': 0.1, 'early_stopping': False, 'hidden_layer_sizes': (10, 30, 10)}\n"
     ]
    },
    {
     "name": "stderr",
     "output_type": "stream",
     "text": [
      "/home/ubuntu/anaconda3/lib/python3.8/site-packages/sklearn/neural_network/_multilayer_perceptron.py:614: ConvergenceWarning: Stochastic Optimizer: Maximum iterations (200) reached and the optimization hasn't converged yet.\n",
      "  warnings.warn(\n"
     ]
    },
    {
     "name": "stdout",
     "output_type": "stream",
     "text": [
      "{'activation': 'logistic', 'alpha': 0.1, 'early_stopping': False, 'hidden_layer_sizes': (50,)}\n"
     ]
    },
    {
     "name": "stderr",
     "output_type": "stream",
     "text": [
      "/home/ubuntu/anaconda3/lib/python3.8/site-packages/sklearn/neural_network/_multilayer_perceptron.py:614: ConvergenceWarning: Stochastic Optimizer: Maximum iterations (200) reached and the optimization hasn't converged yet.\n",
      "  warnings.warn(\n"
     ]
    },
    {
     "name": "stdout",
     "output_type": "stream",
     "text": [
      "{'activation': 'logistic', 'alpha': 0.1, 'early_stopping': False, 'hidden_layer_sizes': (500,)}\n"
     ]
    },
    {
     "name": "stderr",
     "output_type": "stream",
     "text": [
      "/home/ubuntu/anaconda3/lib/python3.8/site-packages/sklearn/neural_network/_multilayer_perceptron.py:614: ConvergenceWarning: Stochastic Optimizer: Maximum iterations (200) reached and the optimization hasn't converged yet.\n",
      "  warnings.warn(\n"
     ]
    },
    {
     "name": "stdout",
     "output_type": "stream",
     "text": [
      "{'activation': 'logistic', 'alpha': 0.0001, 'early_stopping': False, 'hidden_layer_sizes': (500,)}\n"
     ]
    },
    {
     "name": "stderr",
     "output_type": "stream",
     "text": [
      "/home/ubuntu/anaconda3/lib/python3.8/site-packages/sklearn/neural_network/_multilayer_perceptron.py:614: ConvergenceWarning: Stochastic Optimizer: Maximum iterations (200) reached and the optimization hasn't converged yet.\n",
      "  warnings.warn(\n"
     ]
    },
    {
     "name": "stdout",
     "output_type": "stream",
     "text": [
      "{'activation': 'logistic', 'alpha': 0.2, 'early_stopping': False, 'hidden_layer_sizes': (500,)}\n"
     ]
    },
    {
     "name": "stderr",
     "output_type": "stream",
     "text": [
      "/home/ubuntu/anaconda3/lib/python3.8/site-packages/sklearn/neural_network/_multilayer_perceptron.py:614: ConvergenceWarning: Stochastic Optimizer: Maximum iterations (200) reached and the optimization hasn't converged yet.\n",
      "  warnings.warn(\n"
     ]
    },
    {
     "name": "stdout",
     "output_type": "stream",
     "text": [
      "{'activation': 'logistic', 'alpha': 0.0001, 'early_stopping': False, 'hidden_layer_sizes': (500,)}\n"
     ]
    },
    {
     "name": "stderr",
     "output_type": "stream",
     "text": [
      "/home/ubuntu/anaconda3/lib/python3.8/site-packages/sklearn/neural_network/_multilayer_perceptron.py:614: ConvergenceWarning: Stochastic Optimizer: Maximum iterations (200) reached and the optimization hasn't converged yet.\n",
      "  warnings.warn(\n"
     ]
    },
    {
     "name": "stdout",
     "output_type": "stream",
     "text": [
      "{'activation': 'logistic', 'alpha': 0.01, 'early_stopping': False, 'hidden_layer_sizes': (500,)}\n"
     ]
    },
    {
     "name": "stderr",
     "output_type": "stream",
     "text": [
      "/home/ubuntu/anaconda3/lib/python3.8/site-packages/sklearn/neural_network/_multilayer_perceptron.py:614: ConvergenceWarning: Stochastic Optimizer: Maximum iterations (200) reached and the optimization hasn't converged yet.\n",
      "  warnings.warn(\n"
     ]
    },
    {
     "name": "stdout",
     "output_type": "stream",
     "text": [
      "{'activation': 'logistic', 'alpha': 0.1, 'early_stopping': False, 'hidden_layer_sizes': (500,)}\n"
     ]
    },
    {
     "name": "stderr",
     "output_type": "stream",
     "text": [
      "/home/ubuntu/anaconda3/lib/python3.8/site-packages/sklearn/neural_network/_multilayer_perceptron.py:614: ConvergenceWarning: Stochastic Optimizer: Maximum iterations (200) reached and the optimization hasn't converged yet.\n",
      "  warnings.warn(\n"
     ]
    },
    {
     "name": "stdout",
     "output_type": "stream",
     "text": [
      "{'activation': 'logistic', 'alpha': 0.01, 'early_stopping': False, 'hidden_layer_sizes': (500,)}\n"
     ]
    },
    {
     "name": "stderr",
     "output_type": "stream",
     "text": [
      "/home/ubuntu/anaconda3/lib/python3.8/site-packages/sklearn/neural_network/_multilayer_perceptron.py:614: ConvergenceWarning: Stochastic Optimizer: Maximum iterations (200) reached and the optimization hasn't converged yet.\n",
      "  warnings.warn(\n"
     ]
    },
    {
     "name": "stdout",
     "output_type": "stream",
     "text": [
      "{'activation': 'logistic', 'alpha': 0.01, 'early_stopping': False, 'hidden_layer_sizes': (500,)}\n"
     ]
    },
    {
     "name": "stderr",
     "output_type": "stream",
     "text": [
      "/home/ubuntu/anaconda3/lib/python3.8/site-packages/sklearn/neural_network/_multilayer_perceptron.py:614: ConvergenceWarning: Stochastic Optimizer: Maximum iterations (200) reached and the optimization hasn't converged yet.\n",
      "  warnings.warn(\n"
     ]
    },
    {
     "name": "stdout",
     "output_type": "stream",
     "text": [
      "{'activation': 'logistic', 'alpha': 0.2, 'early_stopping': False, 'hidden_layer_sizes': (500,)}\n"
     ]
    },
    {
     "name": "stderr",
     "output_type": "stream",
     "text": [
      "/home/ubuntu/anaconda3/lib/python3.8/site-packages/sklearn/neural_network/_multilayer_perceptron.py:614: ConvergenceWarning: Stochastic Optimizer: Maximum iterations (200) reached and the optimization hasn't converged yet.\n",
      "  warnings.warn(\n"
     ]
    },
    {
     "name": "stdout",
     "output_type": "stream",
     "text": [
      "{'activation': 'logistic', 'alpha': 0.1, 'early_stopping': True, 'hidden_layer_sizes': (10, 30, 10)}\n",
      "{'activation': 'logistic', 'alpha': 0.0001, 'early_stopping': True, 'hidden_layer_sizes': (50,)}\n"
     ]
    },
    {
     "name": "stderr",
     "output_type": "stream",
     "text": [
      "/home/ubuntu/anaconda3/lib/python3.8/site-packages/sklearn/neural_network/_multilayer_perceptron.py:614: ConvergenceWarning: Stochastic Optimizer: Maximum iterations (200) reached and the optimization hasn't converged yet.\n",
      "  warnings.warn(\n"
     ]
    },
    {
     "name": "stdout",
     "output_type": "stream",
     "text": [
      "{'activation': 'logistic', 'alpha': 0.1, 'early_stopping': False, 'hidden_layer_sizes': (50, 10, 10)}\n",
      "{'activation': 'relu', 'alpha': 0.0001, 'early_stopping': True, 'hidden_layer_sizes': (50, 10, 10)}\n",
      "{'activation': 'logistic', 'alpha': 0.0001, 'early_stopping': True, 'hidden_layer_sizes': (50, 10, 10)}\n"
     ]
    },
    {
     "name": "stderr",
     "output_type": "stream",
     "text": [
      "/home/ubuntu/anaconda3/lib/python3.8/site-packages/sklearn/neural_network/_multilayer_perceptron.py:614: ConvergenceWarning: Stochastic Optimizer: Maximum iterations (200) reached and the optimization hasn't converged yet.\n",
      "  warnings.warn(\n"
     ]
    },
    {
     "name": "stdout",
     "output_type": "stream",
     "text": [
      "{'activation': 'logistic', 'alpha': 0.2, 'early_stopping': False, 'hidden_layer_sizes': (10, 30, 10)}\n",
      "{'activation': 'logistic', 'alpha': 0.0001, 'early_stopping': True, 'hidden_layer_sizes': (10, 30, 10)}\n",
      "{'activation': 'logistic', 'alpha': 0.01, 'early_stopping': True, 'hidden_layer_sizes': (50, 10, 10)}\n"
     ]
    },
    {
     "name": "stderr",
     "output_type": "stream",
     "text": [
      "/home/ubuntu/anaconda3/lib/python3.8/site-packages/sklearn/neural_network/_multilayer_perceptron.py:614: ConvergenceWarning: Stochastic Optimizer: Maximum iterations (200) reached and the optimization hasn't converged yet.\n",
      "  warnings.warn(\n"
     ]
    },
    {
     "name": "stdout",
     "output_type": "stream",
     "text": [
      "{'activation': 'tanh', 'alpha': 0.01, 'early_stopping': False, 'hidden_layer_sizes': (50,)}\n",
      "{'activation': 'relu', 'alpha': 0.0001, 'early_stopping': True, 'hidden_layer_sizes': (50, 10)}\n",
      "{'activation': 'relu', 'alpha': 0.1, 'early_stopping': True, 'hidden_layer_sizes': (10, 30, 10)}\n"
     ]
    },
    {
     "name": "stderr",
     "output_type": "stream",
     "text": [
      "/home/ubuntu/anaconda3/lib/python3.8/site-packages/sklearn/neural_network/_multilayer_perceptron.py:614: ConvergenceWarning: Stochastic Optimizer: Maximum iterations (200) reached and the optimization hasn't converged yet.\n",
      "  warnings.warn(\n"
     ]
    },
    {
     "name": "stdout",
     "output_type": "stream",
     "text": [
      "{'activation': 'relu', 'alpha': 0.05, 'early_stopping': False, 'hidden_layer_sizes': (10, 30, 10)}\n",
      "{'activation': 'relu', 'alpha': 0.0001, 'early_stopping': True, 'hidden_layer_sizes': (50, 10, 10)}\n",
      "{'activation': 'relu', 'alpha': 0.1, 'early_stopping': False, 'hidden_layer_sizes': (50, 10, 10)}\n",
      "{'activation': 'tanh', 'alpha': 0.1, 'early_stopping': False, 'hidden_layer_sizes': (50,)}\n"
     ]
    },
    {
     "name": "stderr",
     "output_type": "stream",
     "text": [
      "/home/ubuntu/anaconda3/lib/python3.8/site-packages/sklearn/neural_network/_multilayer_perceptron.py:614: ConvergenceWarning: Stochastic Optimizer: Maximum iterations (200) reached and the optimization hasn't converged yet.\n",
      "  warnings.warn(\n"
     ]
    },
    {
     "name": "stdout",
     "output_type": "stream",
     "text": [
      "{'activation': 'relu', 'alpha': 0.2, 'early_stopping': True, 'hidden_layer_sizes': (50, 10, 10)}\n",
      "{'activation': 'relu', 'alpha': 0.01, 'early_stopping': True, 'hidden_layer_sizes': (50, 10, 10)}\n",
      "{'activation': 'relu', 'alpha': 0.01, 'early_stopping': True, 'hidden_layer_sizes': (50, 10, 10)}\n",
      "{'activation': 'logistic', 'alpha': 0.1, 'early_stopping': True, 'hidden_layer_sizes': (50,)}\n",
      "{'activation': 'relu', 'alpha': 0.05, 'early_stopping': True, 'hidden_layer_sizes': (50, 10)}\n",
      "{'activation': 'tanh', 'alpha': 0.1, 'early_stopping': True, 'hidden_layer_sizes': (200,)}\n",
      "{'activation': 'logistic', 'alpha': 0.0001, 'early_stopping': True, 'hidden_layer_sizes': (500,)}\n",
      "{'activation': 'logistic', 'alpha': 0.2, 'early_stopping': True, 'hidden_layer_sizes': (50, 10)}\n",
      "{'activation': 'logistic', 'alpha': 0.2, 'early_stopping': True, 'hidden_layer_sizes': (200,)}\n",
      "{'activation': 'relu', 'alpha': 0.2, 'early_stopping': True, 'hidden_layer_sizes': (50, 10, 10)}\n",
      "{'activation': 'logistic', 'alpha': 0.01, 'early_stopping': True, 'hidden_layer_sizes': (500,)}\n",
      "{'activation': 'logistic', 'alpha': 0.2, 'early_stopping': True, 'hidden_layer_sizes': (50,)}\n"
     ]
    },
    {
     "name": "stderr",
     "output_type": "stream",
     "text": [
      "/home/ubuntu/anaconda3/lib/python3.8/site-packages/sklearn/neural_network/_multilayer_perceptron.py:614: ConvergenceWarning: Stochastic Optimizer: Maximum iterations (200) reached and the optimization hasn't converged yet.\n",
      "  warnings.warn(\n"
     ]
    },
    {
     "name": "stdout",
     "output_type": "stream",
     "text": [
      "{'activation': 'logistic', 'alpha': 0.1, 'early_stopping': True, 'hidden_layer_sizes': (50, 10)}\n",
      "{'activation': 'logistic', 'alpha': 0.1, 'early_stopping': True, 'hidden_layer_sizes': (50, 10)}\n",
      "{'activation': 'relu', 'alpha': 0.1, 'early_stopping': False, 'hidden_layer_sizes': (50, 10)}\n"
     ]
    },
    {
     "name": "stderr",
     "output_type": "stream",
     "text": [
      "/home/ubuntu/anaconda3/lib/python3.8/site-packages/sklearn/neural_network/_multilayer_perceptron.py:614: ConvergenceWarning: Stochastic Optimizer: Maximum iterations (200) reached and the optimization hasn't converged yet.\n",
      "  warnings.warn(\n"
     ]
    },
    {
     "name": "stdout",
     "output_type": "stream",
     "text": [
      "{'activation': 'logistic', 'alpha': 0.0001, 'early_stopping': False, 'hidden_layer_sizes': (50, 10, 10)}\n"
     ]
    },
    {
     "name": "stderr",
     "output_type": "stream",
     "text": [
      "/home/ubuntu/anaconda3/lib/python3.8/site-packages/sklearn/neural_network/_multilayer_perceptron.py:614: ConvergenceWarning: Stochastic Optimizer: Maximum iterations (200) reached and the optimization hasn't converged yet.\n",
      "  warnings.warn(\n"
     ]
    },
    {
     "name": "stdout",
     "output_type": "stream",
     "text": [
      "{'activation': 'logistic', 'alpha': 0.2, 'early_stopping': False, 'hidden_layer_sizes': (50, 10, 10)}\n",
      "{'activation': 'relu', 'alpha': 0.0001, 'early_stopping': True, 'hidden_layer_sizes': (50, 10, 10)}\n"
     ]
    },
    {
     "name": "stderr",
     "output_type": "stream",
     "text": [
      "/home/ubuntu/anaconda3/lib/python3.8/site-packages/sklearn/neural_network/_multilayer_perceptron.py:614: ConvergenceWarning: Stochastic Optimizer: Maximum iterations (200) reached and the optimization hasn't converged yet.\n",
      "  warnings.warn(\n"
     ]
    },
    {
     "name": "stdout",
     "output_type": "stream",
     "text": [
      "{'activation': 'logistic', 'alpha': 0.01, 'early_stopping': False, 'hidden_layer_sizes': (50, 10, 10)}\n",
      "{'activation': 'relu', 'alpha': 0.05, 'early_stopping': True, 'hidden_layer_sizes': (200,)}\n",
      "{'activation': 'logistic', 'alpha': 0.05, 'early_stopping': True, 'hidden_layer_sizes': (50, 10)}\n",
      "{'activation': 'logistic', 'alpha': 0.0001, 'early_stopping': True, 'hidden_layer_sizes': (50, 10)}\n",
      "{'activation': 'logistic', 'alpha': 0.01, 'early_stopping': True, 'hidden_layer_sizes': (50, 10, 10)}\n"
     ]
    },
    {
     "name": "stderr",
     "output_type": "stream",
     "text": [
      "/home/ubuntu/anaconda3/lib/python3.8/site-packages/sklearn/neural_network/_multilayer_perceptron.py:614: ConvergenceWarning: Stochastic Optimizer: Maximum iterations (200) reached and the optimization hasn't converged yet.\n",
      "  warnings.warn(\n"
     ]
    },
    {
     "name": "stdout",
     "output_type": "stream",
     "text": [
      "{'activation': 'logistic', 'alpha': 0.01, 'early_stopping': True, 'hidden_layer_sizes': (10, 30, 10)}\n",
      "{'activation': 'logistic', 'alpha': 0.01, 'early_stopping': True, 'hidden_layer_sizes': (50, 10, 10)}\n",
      "{'activation': 'logistic', 'alpha': 0.1, 'early_stopping': True, 'hidden_layer_sizes': (50, 10, 10)}\n",
      "{'activation': 'logistic', 'alpha': 0.01, 'early_stopping': True, 'hidden_layer_sizes': (10, 30, 10)}\n",
      "{'activation': 'logistic', 'alpha': 0.0001, 'early_stopping': True, 'hidden_layer_sizes': (50, 10, 10)}\n",
      "{'activation': 'logistic', 'alpha': 0.01, 'early_stopping': True, 'hidden_layer_sizes': (50, 10)}\n",
      "{'activation': 'relu', 'alpha': 0.05, 'early_stopping': True, 'hidden_layer_sizes': (10, 30, 10)}\n",
      "{'activation': 'logistic', 'alpha': 0.2, 'early_stopping': True, 'hidden_layer_sizes': (50,)}\n",
      "{'activation': 'logistic', 'alpha': 0.1, 'early_stopping': True, 'hidden_layer_sizes': (50,)}\n",
      "{'activation': 'logistic', 'alpha': 0.01, 'early_stopping': True, 'hidden_layer_sizes': (200,)}\n",
      "{'activation': 'logistic', 'alpha': 0.0001, 'early_stopping': True, 'hidden_layer_sizes': (50,)}\n",
      "{'activation': 'logistic', 'alpha': 0.2, 'early_stopping': True, 'hidden_layer_sizes': (50,)}\n",
      "{'activation': 'logistic', 'alpha': 0.01, 'early_stopping': True, 'hidden_layer_sizes': (500,)}\n",
      "{'activation': 'tanh', 'alpha': 0.0001, 'early_stopping': True, 'hidden_layer_sizes': (50, 10)}\n",
      "{'activation': 'logistic', 'alpha': 0.05, 'early_stopping': True, 'hidden_layer_sizes': (50,)}\n",
      "{'activation': 'logistic', 'alpha': 0.01, 'early_stopping': True, 'hidden_layer_sizes': (500,)}\n"
     ]
    },
    {
     "name": "stderr",
     "output_type": "stream",
     "text": [
      "/home/ubuntu/anaconda3/lib/python3.8/site-packages/sklearn/neural_network/_multilayer_perceptron.py:614: ConvergenceWarning: Stochastic Optimizer: Maximum iterations (200) reached and the optimization hasn't converged yet.\n",
      "  warnings.warn(\n"
     ]
    },
    {
     "name": "stdout",
     "output_type": "stream",
     "text": [
      "{'activation': 'logistic', 'alpha': 0.2, 'early_stopping': False, 'hidden_layer_sizes': (50, 10, 10)}\n"
     ]
    },
    {
     "name": "stderr",
     "output_type": "stream",
     "text": [
      "/home/ubuntu/anaconda3/lib/python3.8/site-packages/sklearn/neural_network/_multilayer_perceptron.py:614: ConvergenceWarning: Stochastic Optimizer: Maximum iterations (200) reached and the optimization hasn't converged yet.\n",
      "  warnings.warn(\n"
     ]
    },
    {
     "name": "stdout",
     "output_type": "stream",
     "text": [
      "{'activation': 'logistic', 'alpha': 0.2, 'early_stopping': False, 'hidden_layer_sizes': (50, 10, 10)}\n"
     ]
    },
    {
     "name": "stderr",
     "output_type": "stream",
     "text": [
      "/home/ubuntu/anaconda3/lib/python3.8/site-packages/sklearn/neural_network/_multilayer_perceptron.py:614: ConvergenceWarning: Stochastic Optimizer: Maximum iterations (200) reached and the optimization hasn't converged yet.\n",
      "  warnings.warn(\n"
     ]
    },
    {
     "name": "stdout",
     "output_type": "stream",
     "text": [
      "{'activation': 'logistic', 'alpha': 0.0001, 'early_stopping': False, 'hidden_layer_sizes': (10, 30, 10)}\n",
      "{'activation': 'logistic', 'alpha': 0.05, 'early_stopping': True, 'hidden_layer_sizes': (50, 10, 10)}\n"
     ]
    },
    {
     "name": "stderr",
     "output_type": "stream",
     "text": [
      "/home/ubuntu/anaconda3/lib/python3.8/site-packages/sklearn/neural_network/_multilayer_perceptron.py:614: ConvergenceWarning: Stochastic Optimizer: Maximum iterations (200) reached and the optimization hasn't converged yet.\n",
      "  warnings.warn(\n"
     ]
    },
    {
     "name": "stdout",
     "output_type": "stream",
     "text": [
      "{'activation': 'logistic', 'alpha': 0.05, 'early_stopping': False, 'hidden_layer_sizes': (10, 30, 10)}\n"
     ]
    },
    {
     "name": "stderr",
     "output_type": "stream",
     "text": [
      "/home/ubuntu/anaconda3/lib/python3.8/site-packages/sklearn/neural_network/_multilayer_perceptron.py:614: ConvergenceWarning: Stochastic Optimizer: Maximum iterations (200) reached and the optimization hasn't converged yet.\n",
      "  warnings.warn(\n"
     ]
    },
    {
     "name": "stdout",
     "output_type": "stream",
     "text": [
      "{'activation': 'logistic', 'alpha': 0.2, 'early_stopping': True, 'hidden_layer_sizes': (50, 10)}\n",
      "{'activation': 'logistic', 'alpha': 0.1, 'early_stopping': True, 'hidden_layer_sizes': (50, 10, 10)}\n"
     ]
    },
    {
     "name": "stderr",
     "output_type": "stream",
     "text": [
      "/home/ubuntu/anaconda3/lib/python3.8/site-packages/sklearn/neural_network/_multilayer_perceptron.py:614: ConvergenceWarning: Stochastic Optimizer: Maximum iterations (200) reached and the optimization hasn't converged yet.\n",
      "  warnings.warn(\n"
     ]
    },
    {
     "name": "stdout",
     "output_type": "stream",
     "text": [
      "{'activation': 'logistic', 'alpha': 0.1, 'early_stopping': False, 'hidden_layer_sizes': (50, 10, 10)}\n"
     ]
    },
    {
     "name": "stderr",
     "output_type": "stream",
     "text": [
      "/home/ubuntu/anaconda3/lib/python3.8/site-packages/sklearn/neural_network/_multilayer_perceptron.py:614: ConvergenceWarning: Stochastic Optimizer: Maximum iterations (200) reached and the optimization hasn't converged yet.\n",
      "  warnings.warn(\n"
     ]
    },
    {
     "name": "stdout",
     "output_type": "stream",
     "text": [
      "{'activation': 'logistic', 'alpha': 0.05, 'early_stopping': False, 'hidden_layer_sizes': (50, 10, 10)}\n",
      "{'activation': 'logistic', 'alpha': 0.1, 'early_stopping': True, 'hidden_layer_sizes': (500,)}\n",
      "{'activation': 'logistic', 'alpha': 0.05, 'early_stopping': True, 'hidden_layer_sizes': (50,)}\n",
      "{'activation': 'logistic', 'alpha': 0.05, 'early_stopping': True, 'hidden_layer_sizes': (50,)}\n",
      "{'activation': 'tanh', 'alpha': 0.1, 'early_stopping': True, 'hidden_layer_sizes': (10, 30, 10)}\n",
      "{'activation': 'tanh', 'alpha': 0.01, 'early_stopping': True, 'hidden_layer_sizes': (50, 10, 10)}\n",
      "{'activation': 'logistic', 'alpha': 0.2, 'early_stopping': True, 'hidden_layer_sizes': (50, 10)}\n",
      "{'activation': 'logistic', 'alpha': 0.0001, 'early_stopping': True, 'hidden_layer_sizes': (200,)}\n",
      "{'activation': 'logistic', 'alpha': 0.01, 'early_stopping': True, 'hidden_layer_sizes': (50, 10)}\n",
      "{'activation': 'logistic', 'alpha': 0.01, 'early_stopping': True, 'hidden_layer_sizes': (500,)}\n",
      "{'activation': 'logistic', 'alpha': 0.01, 'early_stopping': True, 'hidden_layer_sizes': (50,)}\n",
      "{'activation': 'tanh', 'alpha': 0.2, 'early_stopping': True, 'hidden_layer_sizes': (50, 10, 10)}\n",
      "{'activation': 'logistic', 'alpha': 0.1, 'early_stopping': True, 'hidden_layer_sizes': (200,)}\n",
      "{'activation': 'logistic', 'alpha': 0.01, 'early_stopping': True, 'hidden_layer_sizes': (50, 10)}\n",
      "{'activation': 'logistic', 'alpha': 0.2, 'early_stopping': True, 'hidden_layer_sizes': (50,)}\n",
      "{'activation': 'logistic', 'alpha': 0.01, 'early_stopping': True, 'hidden_layer_sizes': (50, 10)}\n",
      "{'activation': 'logistic', 'alpha': 0.01, 'early_stopping': True, 'hidden_layer_sizes': (50, 10)}\n"
     ]
    },
    {
     "name": "stderr",
     "output_type": "stream",
     "text": [
      "/home/ubuntu/anaconda3/lib/python3.8/site-packages/sklearn/neural_network/_multilayer_perceptron.py:614: ConvergenceWarning: Stochastic Optimizer: Maximum iterations (200) reached and the optimization hasn't converged yet.\n",
      "  warnings.warn(\n"
     ]
    },
    {
     "name": "stdout",
     "output_type": "stream",
     "text": [
      "{'activation': 'logistic', 'alpha': 0.0001, 'early_stopping': True, 'hidden_layer_sizes': (50, 10)}\n",
      "{'activation': 'tanh', 'alpha': 0.05, 'early_stopping': True, 'hidden_layer_sizes': (10, 30, 10)}\n",
      "{'activation': 'logistic', 'alpha': 0.2, 'early_stopping': True, 'hidden_layer_sizes': (50, 10)}\n",
      "{'activation': 'logistic', 'alpha': 0.2, 'early_stopping': True, 'hidden_layer_sizes': (500,)}\n",
      "{'activation': 'tanh', 'alpha': 0.2, 'early_stopping': True, 'hidden_layer_sizes': (50, 10, 10)}\n",
      "{'activation': 'relu', 'alpha': 0.2, 'early_stopping': True, 'hidden_layer_sizes': (10, 30, 10)}\n",
      "{'activation': 'logistic', 'alpha': 0.05, 'early_stopping': True, 'hidden_layer_sizes': (200,)}\n",
      "{'activation': 'logistic', 'alpha': 0.1, 'early_stopping': True, 'hidden_layer_sizes': (50, 10)}\n",
      "{'activation': 'relu', 'alpha': 0.0001, 'early_stopping': True, 'hidden_layer_sizes': (10, 30, 10)}\n",
      "{'activation': 'tanh', 'alpha': 0.0001, 'early_stopping': True, 'hidden_layer_sizes': (10, 30, 10)}\n",
      "{'activation': 'relu', 'alpha': 0.1, 'early_stopping': True, 'hidden_layer_sizes': (10, 30, 10)}\n",
      "{'activation': 'relu', 'alpha': 0.0001, 'early_stopping': True, 'hidden_layer_sizes': (10, 30, 10)}\n",
      "{'activation': 'logistic', 'alpha': 0.05, 'early_stopping': True, 'hidden_layer_sizes': (50, 10)}\n",
      "{'activation': 'tanh', 'alpha': 0.0001, 'early_stopping': True, 'hidden_layer_sizes': (50, 10, 10)}\n",
      "{'activation': 'tanh', 'alpha': 0.01, 'early_stopping': True, 'hidden_layer_sizes': (50, 10)}\n",
      "{'activation': 'tanh', 'alpha': 0.2, 'early_stopping': True, 'hidden_layer_sizes': (50, 10)}\n",
      "{'activation': 'logistic', 'alpha': 0.0001, 'early_stopping': True, 'hidden_layer_sizes': (500,)}\n",
      "{'activation': 'tanh', 'alpha': 0.01, 'early_stopping': True, 'hidden_layer_sizes': (50, 10)}\n",
      "{'activation': 'tanh', 'alpha': 0.2, 'early_stopping': True, 'hidden_layer_sizes': (10, 30, 10)}\n",
      "{'activation': 'logistic', 'alpha': 0.01, 'early_stopping': True, 'hidden_layer_sizes': (50,)}\n",
      "{'activation': 'logistic', 'alpha': 0.2, 'early_stopping': True, 'hidden_layer_sizes': (200,)}\n",
      "{'activation': 'logistic', 'alpha': 0.01, 'early_stopping': True, 'hidden_layer_sizes': (50,)}\n",
      "{'activation': 'logistic', 'alpha': 0.1, 'early_stopping': True, 'hidden_layer_sizes': (500,)}\n"
     ]
    },
    {
     "name": "stderr",
     "output_type": "stream",
     "text": [
      "/home/ubuntu/anaconda3/lib/python3.8/site-packages/sklearn/neural_network/_multilayer_perceptron.py:614: ConvergenceWarning: Stochastic Optimizer: Maximum iterations (200) reached and the optimization hasn't converged yet.\n",
      "  warnings.warn(\n"
     ]
    },
    {
     "name": "stdout",
     "output_type": "stream",
     "text": [
      "{'activation': 'logistic', 'alpha': 0.1, 'early_stopping': False, 'hidden_layer_sizes': (50, 10)}\n"
     ]
    },
    {
     "name": "stderr",
     "output_type": "stream",
     "text": [
      "/home/ubuntu/anaconda3/lib/python3.8/site-packages/sklearn/neural_network/_multilayer_perceptron.py:614: ConvergenceWarning: Stochastic Optimizer: Maximum iterations (200) reached and the optimization hasn't converged yet.\n",
      "  warnings.warn(\n"
     ]
    },
    {
     "name": "stdout",
     "output_type": "stream",
     "text": [
      "{'activation': 'logistic', 'alpha': 0.05, 'early_stopping': False, 'hidden_layer_sizes': (50,)}\n"
     ]
    },
    {
     "name": "stderr",
     "output_type": "stream",
     "text": [
      "/home/ubuntu/anaconda3/lib/python3.8/site-packages/sklearn/neural_network/_multilayer_perceptron.py:614: ConvergenceWarning: Stochastic Optimizer: Maximum iterations (200) reached and the optimization hasn't converged yet.\n",
      "  warnings.warn(\n"
     ]
    },
    {
     "name": "stdout",
     "output_type": "stream",
     "text": [
      "{'activation': 'logistic', 'alpha': 0.0001, 'early_stopping': False, 'hidden_layer_sizes': (50,)}\n",
      "{'activation': 'logistic', 'alpha': 0.0001, 'early_stopping': True, 'hidden_layer_sizes': (200,)}\n"
     ]
    },
    {
     "name": "stderr",
     "output_type": "stream",
     "text": [
      "/home/ubuntu/anaconda3/lib/python3.8/site-packages/sklearn/neural_network/_multilayer_perceptron.py:614: ConvergenceWarning: Stochastic Optimizer: Maximum iterations (200) reached and the optimization hasn't converged yet.\n",
      "  warnings.warn(\n"
     ]
    },
    {
     "name": "stdout",
     "output_type": "stream",
     "text": [
      "{'activation': 'logistic', 'alpha': 0.2, 'early_stopping': False, 'hidden_layer_sizes': (50,)}\n"
     ]
    },
    {
     "name": "stderr",
     "output_type": "stream",
     "text": [
      "/home/ubuntu/anaconda3/lib/python3.8/site-packages/sklearn/neural_network/_multilayer_perceptron.py:614: ConvergenceWarning: Stochastic Optimizer: Maximum iterations (200) reached and the optimization hasn't converged yet.\n",
      "  warnings.warn(\n"
     ]
    },
    {
     "name": "stdout",
     "output_type": "stream",
     "text": [
      "{'activation': 'logistic', 'alpha': 0.2, 'early_stopping': False, 'hidden_layer_sizes': (50, 10)}\n",
      "{'activation': 'relu', 'alpha': 0.1, 'early_stopping': True, 'hidden_layer_sizes': (10, 30, 10)}\n"
     ]
    },
    {
     "name": "stderr",
     "output_type": "stream",
     "text": [
      "/home/ubuntu/anaconda3/lib/python3.8/site-packages/sklearn/neural_network/_multilayer_perceptron.py:614: ConvergenceWarning: Stochastic Optimizer: Maximum iterations (200) reached and the optimization hasn't converged yet.\n",
      "  warnings.warn(\n"
     ]
    },
    {
     "name": "stdout",
     "output_type": "stream",
     "text": [
      "{'activation': 'logistic', 'alpha': 0.2, 'early_stopping': True, 'hidden_layer_sizes': (50, 10, 10)}\n",
      "{'activation': 'tanh', 'alpha': 0.1, 'early_stopping': True, 'hidden_layer_sizes': (10, 30, 10)}\n",
      "{'activation': 'tanh', 'alpha': 0.2, 'early_stopping': True, 'hidden_layer_sizes': (10, 30, 10)}\n",
      "{'activation': 'logistic', 'alpha': 0.01, 'early_stopping': True, 'hidden_layer_sizes': (200,)}\n"
     ]
    },
    {
     "name": "stderr",
     "output_type": "stream",
     "text": [
      "/home/ubuntu/anaconda3/lib/python3.8/site-packages/sklearn/neural_network/_multilayer_perceptron.py:614: ConvergenceWarning: Stochastic Optimizer: Maximum iterations (200) reached and the optimization hasn't converged yet.\n",
      "  warnings.warn(\n"
     ]
    },
    {
     "name": "stdout",
     "output_type": "stream",
     "text": [
      "{'activation': 'logistic', 'alpha': 0.0001, 'early_stopping': False, 'hidden_layer_sizes': (10, 30, 10)}\n",
      "{'activation': 'tanh', 'alpha': 0.2, 'early_stopping': True, 'hidden_layer_sizes': (50, 10, 10)}\n",
      "{'activation': 'tanh', 'alpha': 0.2, 'early_stopping': True, 'hidden_layer_sizes': (10, 30, 10)}\n"
     ]
    },
    {
     "name": "stderr",
     "output_type": "stream",
     "text": [
      "/home/ubuntu/anaconda3/lib/python3.8/site-packages/sklearn/neural_network/_multilayer_perceptron.py:614: ConvergenceWarning: Stochastic Optimizer: Maximum iterations (200) reached and the optimization hasn't converged yet.\n",
      "  warnings.warn(\n"
     ]
    },
    {
     "name": "stdout",
     "output_type": "stream",
     "text": [
      "{'activation': 'logistic', 'alpha': 0.2, 'early_stopping': False, 'hidden_layer_sizes': (10, 30, 10)}\n",
      "{'activation': 'relu', 'alpha': 0.01, 'early_stopping': True, 'hidden_layer_sizes': (10, 30, 10)}\n",
      "{'activation': 'logistic', 'alpha': 0.05, 'early_stopping': True, 'hidden_layer_sizes': (200,)}\n",
      "{'activation': 'relu', 'alpha': 0.01, 'early_stopping': True, 'hidden_layer_sizes': (50, 10, 10)}\n",
      "{'activation': 'relu', 'alpha': 0.2, 'early_stopping': True, 'hidden_layer_sizes': (10, 30, 10)}\n",
      "{'activation': 'relu', 'alpha': 0.0001, 'early_stopping': True, 'hidden_layer_sizes': (10, 30, 10)}\n"
     ]
    },
    {
     "name": "stderr",
     "output_type": "stream",
     "text": [
      "/home/ubuntu/anaconda3/lib/python3.8/site-packages/sklearn/neural_network/_multilayer_perceptron.py:614: ConvergenceWarning: Stochastic Optimizer: Maximum iterations (200) reached and the optimization hasn't converged yet.\n",
      "  warnings.warn(\n"
     ]
    },
    {
     "name": "stdout",
     "output_type": "stream",
     "text": [
      "{'activation': 'logistic', 'alpha': 0.1, 'early_stopping': True, 'hidden_layer_sizes': (50, 10)}\n",
      "{'activation': 'logistic', 'alpha': 0.0001, 'early_stopping': True, 'hidden_layer_sizes': (200,)}\n"
     ]
    },
    {
     "name": "stderr",
     "output_type": "stream",
     "text": [
      "/home/ubuntu/anaconda3/lib/python3.8/site-packages/sklearn/neural_network/_multilayer_perceptron.py:614: ConvergenceWarning: Stochastic Optimizer: Maximum iterations (200) reached and the optimization hasn't converged yet.\n",
      "  warnings.warn(\n"
     ]
    },
    {
     "name": "stdout",
     "output_type": "stream",
     "text": [
      "{'activation': 'relu', 'alpha': 0.01, 'early_stopping': False, 'hidden_layer_sizes': (10, 30, 10)}\n",
      "{'activation': 'logistic', 'alpha': 0.0001, 'early_stopping': True, 'hidden_layer_sizes': (200,)}\n",
      "{'activation': 'logistic', 'alpha': 0.01, 'early_stopping': True, 'hidden_layer_sizes': (200,)}\n"
     ]
    },
    {
     "name": "stderr",
     "output_type": "stream",
     "text": [
      "/home/ubuntu/anaconda3/lib/python3.8/site-packages/sklearn/neural_network/_multilayer_perceptron.py:614: ConvergenceWarning: Stochastic Optimizer: Maximum iterations (200) reached and the optimization hasn't converged yet.\n",
      "  warnings.warn(\n"
     ]
    },
    {
     "name": "stdout",
     "output_type": "stream",
     "text": [
      "{'activation': 'logistic', 'alpha': 0.0001, 'early_stopping': False, 'hidden_layer_sizes': (50, 10)}\n",
      "{'activation': 'tanh', 'alpha': 0.01, 'early_stopping': True, 'hidden_layer_sizes': (10, 30, 10)}\n",
      "{'activation': 'logistic', 'alpha': 0.0001, 'early_stopping': True, 'hidden_layer_sizes': (500,)}\n",
      "{'activation': 'tanh', 'alpha': 0.01, 'early_stopping': True, 'hidden_layer_sizes': (10, 30, 10)}\n"
     ]
    },
    {
     "name": "stderr",
     "output_type": "stream",
     "text": [
      "/home/ubuntu/anaconda3/lib/python3.8/site-packages/sklearn/neural_network/_multilayer_perceptron.py:614: ConvergenceWarning: Stochastic Optimizer: Maximum iterations (200) reached and the optimization hasn't converged yet.\n",
      "  warnings.warn(\n"
     ]
    },
    {
     "name": "stdout",
     "output_type": "stream",
     "text": [
      "{'activation': 'logistic', 'alpha': 0.0001, 'early_stopping': False, 'hidden_layer_sizes': (50, 10)}\n"
     ]
    },
    {
     "name": "stderr",
     "output_type": "stream",
     "text": [
      "/home/ubuntu/anaconda3/lib/python3.8/site-packages/sklearn/neural_network/_multilayer_perceptron.py:614: ConvergenceWarning: Stochastic Optimizer: Maximum iterations (200) reached and the optimization hasn't converged yet.\n",
      "  warnings.warn(\n"
     ]
    },
    {
     "name": "stdout",
     "output_type": "stream",
     "text": [
      "{'activation': 'logistic', 'alpha': 0.05, 'early_stopping': False, 'hidden_layer_sizes': (10, 30, 10)}\n",
      "{'activation': 'tanh', 'alpha': 0.2, 'early_stopping': True, 'hidden_layer_sizes': (500,)}\n",
      "{'activation': 'logistic', 'alpha': 0.01, 'early_stopping': True, 'hidden_layer_sizes': (500,)}\n",
      "{'activation': 'relu', 'alpha': 0.0001, 'early_stopping': True, 'hidden_layer_sizes': (10, 30, 10)}\n",
      "{'activation': 'relu', 'alpha': 0.2, 'early_stopping': True, 'hidden_layer_sizes': (10, 30, 10)}\n"
     ]
    },
    {
     "name": "stderr",
     "output_type": "stream",
     "text": [
      "/home/ubuntu/anaconda3/lib/python3.8/site-packages/sklearn/neural_network/_multilayer_perceptron.py:614: ConvergenceWarning: Stochastic Optimizer: Maximum iterations (200) reached and the optimization hasn't converged yet.\n",
      "  warnings.warn(\n"
     ]
    },
    {
     "name": "stdout",
     "output_type": "stream",
     "text": [
      "{'activation': 'logistic', 'alpha': 0.1, 'early_stopping': False, 'hidden_layer_sizes': (10, 30, 10)}\n"
     ]
    },
    {
     "name": "stderr",
     "output_type": "stream",
     "text": [
      "/home/ubuntu/anaconda3/lib/python3.8/site-packages/sklearn/neural_network/_multilayer_perceptron.py:614: ConvergenceWarning: Stochastic Optimizer: Maximum iterations (200) reached and the optimization hasn't converged yet.\n",
      "  warnings.warn(\n"
     ]
    },
    {
     "name": "stdout",
     "output_type": "stream",
     "text": [
      "{'activation': 'logistic', 'alpha': 0.0001, 'early_stopping': True, 'hidden_layer_sizes': (50, 10, 10)}\n",
      "{'activation': 'logistic', 'alpha': 0.2, 'early_stopping': True, 'hidden_layer_sizes': (10, 30, 10)}\n",
      "{'activation': 'logistic', 'alpha': 0.0001, 'early_stopping': True, 'hidden_layer_sizes': (50, 10, 10)}\n"
     ]
    },
    {
     "name": "stderr",
     "output_type": "stream",
     "text": [
      "/home/ubuntu/anaconda3/lib/python3.8/site-packages/sklearn/neural_network/_multilayer_perceptron.py:614: ConvergenceWarning: Stochastic Optimizer: Maximum iterations (200) reached and the optimization hasn't converged yet.\n",
      "  warnings.warn(\n"
     ]
    },
    {
     "name": "stdout",
     "output_type": "stream",
     "text": [
      "{'activation': 'tanh', 'alpha': 0.0001, 'early_stopping': False, 'hidden_layer_sizes': (50,)}\n"
     ]
    },
    {
     "name": "stderr",
     "output_type": "stream",
     "text": [
      "/home/ubuntu/anaconda3/lib/python3.8/site-packages/sklearn/neural_network/_multilayer_perceptron.py:614: ConvergenceWarning: Stochastic Optimizer: Maximum iterations (200) reached and the optimization hasn't converged yet.\n",
      "  warnings.warn(\n"
     ]
    },
    {
     "name": "stdout",
     "output_type": "stream",
     "text": [
      "{'activation': 'logistic', 'alpha': 0.0001, 'early_stopping': False, 'hidden_layer_sizes': (50, 10, 10)}\n",
      "{'activation': 'relu', 'alpha': 0.0001, 'early_stopping': True, 'hidden_layer_sizes': (50, 10, 10)}\n",
      "{'activation': 'tanh', 'alpha': 0.2, 'early_stopping': True, 'hidden_layer_sizes': (10, 30, 10)}\n",
      "{'activation': 'tanh', 'alpha': 0.05, 'early_stopping': True, 'hidden_layer_sizes': (50, 10, 10)}\n",
      "{'activation': 'logistic', 'alpha': 0.0001, 'early_stopping': True, 'hidden_layer_sizes': (50, 10)}\n",
      "{'activation': 'relu', 'alpha': 0.2, 'early_stopping': True, 'hidden_layer_sizes': (10, 30, 10)}\n",
      "{'activation': 'relu', 'alpha': 0.2, 'early_stopping': True, 'hidden_layer_sizes': (10, 30, 10)}\n",
      "{'activation': 'tanh', 'alpha': 0.1, 'early_stopping': True, 'hidden_layer_sizes': (50, 10, 10)}\n"
     ]
    },
    {
     "name": "stderr",
     "output_type": "stream",
     "text": [
      "/home/ubuntu/anaconda3/lib/python3.8/site-packages/sklearn/neural_network/_multilayer_perceptron.py:614: ConvergenceWarning: Stochastic Optimizer: Maximum iterations (200) reached and the optimization hasn't converged yet.\n",
      "  warnings.warn(\n"
     ]
    },
    {
     "name": "stdout",
     "output_type": "stream",
     "text": [
      "{'activation': 'logistic', 'alpha': 0.2, 'early_stopping': False, 'hidden_layer_sizes': (50, 10, 10)}\n",
      "{'activation': 'tanh', 'alpha': 0.05, 'early_stopping': True, 'hidden_layer_sizes': (10, 30, 10)}\n",
      "{'activation': 'logistic', 'alpha': 0.2, 'early_stopping': True, 'hidden_layer_sizes': (50,)}\n"
     ]
    },
    {
     "name": "stderr",
     "output_type": "stream",
     "text": [
      "/home/ubuntu/anaconda3/lib/python3.8/site-packages/sklearn/neural_network/_multilayer_perceptron.py:614: ConvergenceWarning: Stochastic Optimizer: Maximum iterations (200) reached and the optimization hasn't converged yet.\n",
      "  warnings.warn(\n"
     ]
    },
    {
     "name": "stdout",
     "output_type": "stream",
     "text": [
      "{'activation': 'logistic', 'alpha': 0.05, 'early_stopping': False, 'hidden_layer_sizes': (10, 30, 10)}\n"
     ]
    },
    {
     "name": "stderr",
     "output_type": "stream",
     "text": [
      "/home/ubuntu/anaconda3/lib/python3.8/site-packages/sklearn/neural_network/_multilayer_perceptron.py:614: ConvergenceWarning: Stochastic Optimizer: Maximum iterations (200) reached and the optimization hasn't converged yet.\n",
      "  warnings.warn(\n"
     ]
    },
    {
     "name": "stdout",
     "output_type": "stream",
     "text": [
      "{'activation': 'logistic', 'alpha': 0.01, 'early_stopping': False, 'hidden_layer_sizes': (10, 30, 10)}\n"
     ]
    },
    {
     "name": "stderr",
     "output_type": "stream",
     "text": [
      "/home/ubuntu/anaconda3/lib/python3.8/site-packages/sklearn/neural_network/_multilayer_perceptron.py:614: ConvergenceWarning: Stochastic Optimizer: Maximum iterations (200) reached and the optimization hasn't converged yet.\n",
      "  warnings.warn(\n"
     ]
    },
    {
     "name": "stdout",
     "output_type": "stream",
     "text": [
      "{'activation': 'logistic', 'alpha': 0.1, 'early_stopping': True, 'hidden_layer_sizes': (50, 10, 10)}\n"
     ]
    },
    {
     "name": "stderr",
     "output_type": "stream",
     "text": [
      "/home/ubuntu/anaconda3/lib/python3.8/site-packages/sklearn/neural_network/_multilayer_perceptron.py:614: ConvergenceWarning: Stochastic Optimizer: Maximum iterations (200) reached and the optimization hasn't converged yet.\n",
      "  warnings.warn(\n"
     ]
    },
    {
     "name": "stdout",
     "output_type": "stream",
     "text": [
      "{'activation': 'logistic', 'alpha': 0.01, 'early_stopping': False, 'hidden_layer_sizes': (50, 10, 10)}\n"
     ]
    },
    {
     "name": "stderr",
     "output_type": "stream",
     "text": [
      "/home/ubuntu/anaconda3/lib/python3.8/site-packages/sklearn/neural_network/_multilayer_perceptron.py:614: ConvergenceWarning: Stochastic Optimizer: Maximum iterations (200) reached and the optimization hasn't converged yet.\n",
      "  warnings.warn(\n"
     ]
    },
    {
     "name": "stdout",
     "output_type": "stream",
     "text": [
      "{'activation': 'logistic', 'alpha': 0.1, 'early_stopping': False, 'hidden_layer_sizes': (50, 10, 10)}\n"
     ]
    },
    {
     "name": "stderr",
     "output_type": "stream",
     "text": [
      "/home/ubuntu/anaconda3/lib/python3.8/site-packages/sklearn/neural_network/_multilayer_perceptron.py:614: ConvergenceWarning: Stochastic Optimizer: Maximum iterations (200) reached and the optimization hasn't converged yet.\n",
      "  warnings.warn(\n"
     ]
    },
    {
     "name": "stdout",
     "output_type": "stream",
     "text": [
      "{'activation': 'logistic', 'alpha': 0.2, 'early_stopping': False, 'hidden_layer_sizes': (50, 10, 10)}\n"
     ]
    },
    {
     "name": "stderr",
     "output_type": "stream",
     "text": [
      "/home/ubuntu/anaconda3/lib/python3.8/site-packages/sklearn/neural_network/_multilayer_perceptron.py:614: ConvergenceWarning: Stochastic Optimizer: Maximum iterations (200) reached and the optimization hasn't converged yet.\n",
      "  warnings.warn(\n"
     ]
    },
    {
     "name": "stdout",
     "output_type": "stream",
     "text": [
      "{'activation': 'logistic', 'alpha': 0.0001, 'early_stopping': False, 'hidden_layer_sizes': (50, 10, 10)}\n"
     ]
    },
    {
     "name": "stderr",
     "output_type": "stream",
     "text": [
      "/home/ubuntu/anaconda3/lib/python3.8/site-packages/sklearn/neural_network/_multilayer_perceptron.py:614: ConvergenceWarning: Stochastic Optimizer: Maximum iterations (200) reached and the optimization hasn't converged yet.\n",
      "  warnings.warn(\n"
     ]
    },
    {
     "name": "stdout",
     "output_type": "stream",
     "text": [
      "{'activation': 'logistic', 'alpha': 0.2, 'early_stopping': False, 'hidden_layer_sizes': (50, 10, 10)}\n"
     ]
    },
    {
     "name": "stderr",
     "output_type": "stream",
     "text": [
      "/home/ubuntu/anaconda3/lib/python3.8/site-packages/sklearn/neural_network/_multilayer_perceptron.py:614: ConvergenceWarning: Stochastic Optimizer: Maximum iterations (200) reached and the optimization hasn't converged yet.\n",
      "  warnings.warn(\n"
     ]
    },
    {
     "name": "stdout",
     "output_type": "stream",
     "text": [
      "{'activation': 'logistic', 'alpha': 0.0001, 'early_stopping': False, 'hidden_layer_sizes': (50, 10, 10)}\n",
      "{'activation': 'logistic', 'alpha': 0.2, 'early_stopping': True, 'hidden_layer_sizes': (50, 10, 10)}\n"
     ]
    },
    {
     "name": "stderr",
     "output_type": "stream",
     "text": [
      "/home/ubuntu/anaconda3/lib/python3.8/site-packages/sklearn/neural_network/_multilayer_perceptron.py:614: ConvergenceWarning: Stochastic Optimizer: Maximum iterations (200) reached and the optimization hasn't converged yet.\n",
      "  warnings.warn(\n"
     ]
    },
    {
     "name": "stdout",
     "output_type": "stream",
     "text": [
      "{'activation': 'logistic', 'alpha': 0.1, 'early_stopping': False, 'hidden_layer_sizes': (50, 10, 10)}\n",
      "{'activation': 'logistic', 'alpha': 0.01, 'early_stopping': True, 'hidden_layer_sizes': (50, 10, 10)}\n"
     ]
    },
    {
     "name": "stderr",
     "output_type": "stream",
     "text": [
      "/home/ubuntu/anaconda3/lib/python3.8/site-packages/sklearn/neural_network/_multilayer_perceptron.py:614: ConvergenceWarning: Stochastic Optimizer: Maximum iterations (200) reached and the optimization hasn't converged yet.\n",
      "  warnings.warn(\n"
     ]
    },
    {
     "name": "stdout",
     "output_type": "stream",
     "text": [
      "{'activation': 'logistic', 'alpha': 0.2, 'early_stopping': False, 'hidden_layer_sizes': (50, 10, 10)}\n"
     ]
    },
    {
     "name": "stderr",
     "output_type": "stream",
     "text": [
      "/home/ubuntu/anaconda3/lib/python3.8/site-packages/sklearn/neural_network/_multilayer_perceptron.py:614: ConvergenceWarning: Stochastic Optimizer: Maximum iterations (200) reached and the optimization hasn't converged yet.\n",
      "  warnings.warn(\n"
     ]
    },
    {
     "name": "stdout",
     "output_type": "stream",
     "text": [
      "{'activation': 'logistic', 'alpha': 0.1, 'early_stopping': False, 'hidden_layer_sizes': (50, 10, 10)}\n",
      "{'activation': 'logistic', 'alpha': 0.05, 'early_stopping': True, 'hidden_layer_sizes': (50, 10, 10)}\n",
      "{'activation': 'logistic', 'alpha': 0.2, 'early_stopping': True, 'hidden_layer_sizes': (200,)}\n",
      "{'activation': 'logistic', 'alpha': 0.1, 'early_stopping': True, 'hidden_layer_sizes': (500,)}\n",
      "{'activation': 'logistic', 'alpha': 0.0001, 'early_stopping': True, 'hidden_layer_sizes': (50, 10, 10)}\n",
      "{'activation': 'logistic', 'alpha': 0.1, 'early_stopping': True, 'hidden_layer_sizes': (50, 10)}\n"
     ]
    },
    {
     "name": "stderr",
     "output_type": "stream",
     "text": [
      "/home/ubuntu/anaconda3/lib/python3.8/site-packages/sklearn/neural_network/_multilayer_perceptron.py:614: ConvergenceWarning: Stochastic Optimizer: Maximum iterations (200) reached and the optimization hasn't converged yet.\n",
      "  warnings.warn(\n"
     ]
    },
    {
     "name": "stdout",
     "output_type": "stream",
     "text": [
      "{'activation': 'logistic', 'alpha': 0.1, 'early_stopping': False, 'hidden_layer_sizes': (10, 30, 10)}\n",
      "{'activation': 'relu', 'alpha': 0.1, 'early_stopping': True, 'hidden_layer_sizes': (10, 30, 10)}\n",
      "{'activation': 'logistic', 'alpha': 0.2, 'early_stopping': True, 'hidden_layer_sizes': (50, 10)}\n",
      "{'activation': 'logistic', 'alpha': 0.0001, 'early_stopping': True, 'hidden_layer_sizes': (50, 10)}\n",
      "{'activation': 'logistic', 'alpha': 0.1, 'early_stopping': True, 'hidden_layer_sizes': (50,)}\n"
     ]
    },
    {
     "name": "stderr",
     "output_type": "stream",
     "text": [
      "/home/ubuntu/anaconda3/lib/python3.8/site-packages/sklearn/neural_network/_multilayer_perceptron.py:614: ConvergenceWarning: Stochastic Optimizer: Maximum iterations (200) reached and the optimization hasn't converged yet.\n",
      "  warnings.warn(\n"
     ]
    },
    {
     "name": "stdout",
     "output_type": "stream",
     "text": [
      "{'activation': 'logistic', 'alpha': 0.01, 'early_stopping': False, 'hidden_layer_sizes': (10, 30, 10)}\n",
      "{'activation': 'tanh', 'alpha': 0.01, 'early_stopping': True, 'hidden_layer_sizes': (50, 10)}\n",
      "{'activation': 'logistic', 'alpha': 0.05, 'early_stopping': True, 'hidden_layer_sizes': (200,)}\n",
      "{'activation': 'logistic', 'alpha': 0.1, 'early_stopping': True, 'hidden_layer_sizes': (50,)}\n"
     ]
    },
    {
     "name": "stderr",
     "output_type": "stream",
     "text": [
      "/home/ubuntu/anaconda3/lib/python3.8/site-packages/sklearn/neural_network/_multilayer_perceptron.py:614: ConvergenceWarning: Stochastic Optimizer: Maximum iterations (200) reached and the optimization hasn't converged yet.\n",
      "  warnings.warn(\n"
     ]
    },
    {
     "name": "stdout",
     "output_type": "stream",
     "text": [
      "{'activation': 'logistic', 'alpha': 0.05, 'early_stopping': False, 'hidden_layer_sizes': (50, 10)}\n"
     ]
    },
    {
     "name": "stderr",
     "output_type": "stream",
     "text": [
      "/home/ubuntu/anaconda3/lib/python3.8/site-packages/sklearn/neural_network/_multilayer_perceptron.py:614: ConvergenceWarning: Stochastic Optimizer: Maximum iterations (200) reached and the optimization hasn't converged yet.\n",
      "  warnings.warn(\n"
     ]
    },
    {
     "name": "stdout",
     "output_type": "stream",
     "text": [
      "{'activation': 'logistic', 'alpha': 0.05, 'early_stopping': False, 'hidden_layer_sizes': (50, 10, 10)}\n"
     ]
    },
    {
     "name": "stderr",
     "output_type": "stream",
     "text": [
      "/home/ubuntu/anaconda3/lib/python3.8/site-packages/sklearn/neural_network/_multilayer_perceptron.py:614: ConvergenceWarning: Stochastic Optimizer: Maximum iterations (200) reached and the optimization hasn't converged yet.\n",
      "  warnings.warn(\n"
     ]
    },
    {
     "name": "stdout",
     "output_type": "stream",
     "text": [
      "{'activation': 'logistic', 'alpha': 0.2, 'early_stopping': False, 'hidden_layer_sizes': (50, 10)}\n"
     ]
    },
    {
     "name": "stderr",
     "output_type": "stream",
     "text": [
      "/home/ubuntu/anaconda3/lib/python3.8/site-packages/sklearn/neural_network/_multilayer_perceptron.py:614: ConvergenceWarning: Stochastic Optimizer: Maximum iterations (200) reached and the optimization hasn't converged yet.\n",
      "  warnings.warn(\n"
     ]
    },
    {
     "name": "stdout",
     "output_type": "stream",
     "text": [
      "{'activation': 'logistic', 'alpha': 0.2, 'early_stopping': False, 'hidden_layer_sizes': (50, 10, 10)}\n"
     ]
    },
    {
     "name": "stderr",
     "output_type": "stream",
     "text": [
      "/home/ubuntu/anaconda3/lib/python3.8/site-packages/sklearn/neural_network/_multilayer_perceptron.py:614: ConvergenceWarning: Stochastic Optimizer: Maximum iterations (200) reached and the optimization hasn't converged yet.\n",
      "  warnings.warn(\n"
     ]
    },
    {
     "name": "stdout",
     "output_type": "stream",
     "text": [
      "{'activation': 'logistic', 'alpha': 0.2, 'early_stopping': False, 'hidden_layer_sizes': (10, 30, 10)}\n"
     ]
    },
    {
     "name": "stderr",
     "output_type": "stream",
     "text": [
      "/home/ubuntu/anaconda3/lib/python3.8/site-packages/sklearn/neural_network/_multilayer_perceptron.py:614: ConvergenceWarning: Stochastic Optimizer: Maximum iterations (200) reached and the optimization hasn't converged yet.\n",
      "  warnings.warn(\n"
     ]
    },
    {
     "name": "stdout",
     "output_type": "stream",
     "text": [
      "{'activation': 'logistic', 'alpha': 0.2, 'early_stopping': False, 'hidden_layer_sizes': (10, 30, 10)}\n"
     ]
    },
    {
     "name": "stderr",
     "output_type": "stream",
     "text": [
      "/home/ubuntu/anaconda3/lib/python3.8/site-packages/sklearn/neural_network/_multilayer_perceptron.py:614: ConvergenceWarning: Stochastic Optimizer: Maximum iterations (200) reached and the optimization hasn't converged yet.\n",
      "  warnings.warn(\n"
     ]
    },
    {
     "name": "stdout",
     "output_type": "stream",
     "text": [
      "{'activation': 'logistic', 'alpha': 0.2, 'early_stopping': False, 'hidden_layer_sizes': (50, 10)}\n"
     ]
    },
    {
     "name": "stderr",
     "output_type": "stream",
     "text": [
      "/home/ubuntu/anaconda3/lib/python3.8/site-packages/sklearn/neural_network/_multilayer_perceptron.py:614: ConvergenceWarning: Stochastic Optimizer: Maximum iterations (200) reached and the optimization hasn't converged yet.\n",
      "  warnings.warn(\n"
     ]
    },
    {
     "name": "stdout",
     "output_type": "stream",
     "text": [
      "{'activation': 'logistic', 'alpha': 0.1, 'early_stopping': False, 'hidden_layer_sizes': (50, 10, 10)}\n",
      "{'activation': 'logistic', 'alpha': 0.05, 'early_stopping': True, 'hidden_layer_sizes': (50,)}\n",
      "{'activation': 'logistic', 'alpha': 0.1, 'early_stopping': True, 'hidden_layer_sizes': (10, 30, 10)}\n",
      "{'activation': 'logistic', 'alpha': 0.2, 'early_stopping': True, 'hidden_layer_sizes': (10, 30, 10)}\n",
      "{'activation': 'logistic', 'alpha': 0.01, 'early_stopping': True, 'hidden_layer_sizes': (10, 30, 10)}\n",
      "{'activation': 'logistic', 'alpha': 0.05, 'early_stopping': True, 'hidden_layer_sizes': (10, 30, 10)}\n"
     ]
    },
    {
     "name": "stderr",
     "output_type": "stream",
     "text": [
      "/home/ubuntu/anaconda3/lib/python3.8/site-packages/sklearn/neural_network/_multilayer_perceptron.py:614: ConvergenceWarning: Stochastic Optimizer: Maximum iterations (200) reached and the optimization hasn't converged yet.\n",
      "  warnings.warn(\n"
     ]
    },
    {
     "name": "stdout",
     "output_type": "stream",
     "text": [
      "{'activation': 'logistic', 'alpha': 0.1, 'early_stopping': True, 'hidden_layer_sizes': (50, 10)}\n"
     ]
    },
    {
     "name": "stderr",
     "output_type": "stream",
     "text": [
      "/home/ubuntu/anaconda3/lib/python3.8/site-packages/sklearn/neural_network/_multilayer_perceptron.py:614: ConvergenceWarning: Stochastic Optimizer: Maximum iterations (200) reached and the optimization hasn't converged yet.\n",
      "  warnings.warn(\n"
     ]
    },
    {
     "name": "stdout",
     "output_type": "stream",
     "text": [
      "{'activation': 'logistic', 'alpha': 0.01, 'early_stopping': True, 'hidden_layer_sizes': (50, 10, 10)}\n",
      "{'activation': 'logistic', 'alpha': 0.0001, 'early_stopping': True, 'hidden_layer_sizes': (50, 10, 10)}\n",
      "{'activation': 'logistic', 'alpha': 0.05, 'early_stopping': True, 'hidden_layer_sizes': (10, 30, 10)}\n",
      "{'activation': 'relu', 'alpha': 0.05, 'early_stopping': False, 'hidden_layer_sizes': (500,)}\n",
      "{'activation': 'relu', 'alpha': 0.01, 'early_stopping': False, 'hidden_layer_sizes': (500,)}\n",
      "{'activation': 'relu', 'alpha': 0.05, 'early_stopping': False, 'hidden_layer_sizes': (50, 10, 10)}\n"
     ]
    },
    {
     "name": "stderr",
     "output_type": "stream",
     "text": [
      "/home/ubuntu/anaconda3/lib/python3.8/site-packages/sklearn/neural_network/_multilayer_perceptron.py:614: ConvergenceWarning: Stochastic Optimizer: Maximum iterations (200) reached and the optimization hasn't converged yet.\n",
      "  warnings.warn(\n"
     ]
    },
    {
     "name": "stdout",
     "output_type": "stream",
     "text": [
      "{'activation': 'logistic', 'alpha': 0.2, 'early_stopping': False, 'hidden_layer_sizes': (500,)}\n"
     ]
    },
    {
     "name": "stderr",
     "output_type": "stream",
     "text": [
      "/home/ubuntu/anaconda3/lib/python3.8/site-packages/sklearn/neural_network/_multilayer_perceptron.py:614: ConvergenceWarning: Stochastic Optimizer: Maximum iterations (200) reached and the optimization hasn't converged yet.\n",
      "  warnings.warn(\n"
     ]
    },
    {
     "name": "stdout",
     "output_type": "stream",
     "text": [
      "{'activation': 'relu', 'alpha': 0.2, 'early_stopping': False, 'hidden_layer_sizes': (10, 30, 10)}\n",
      "{'activation': 'logistic', 'alpha': 0.05, 'early_stopping': True, 'hidden_layer_sizes': (500,)}\n",
      "{'activation': 'logistic', 'alpha': 0.1, 'early_stopping': True, 'hidden_layer_sizes': (200,)}\n"
     ]
    },
    {
     "name": "stderr",
     "output_type": "stream",
     "text": [
      "/home/ubuntu/anaconda3/lib/python3.8/site-packages/sklearn/neural_network/_multilayer_perceptron.py:614: ConvergenceWarning: Stochastic Optimizer: Maximum iterations (200) reached and the optimization hasn't converged yet.\n",
      "  warnings.warn(\n"
     ]
    },
    {
     "name": "stdout",
     "output_type": "stream",
     "text": [
      "{'activation': 'logistic', 'alpha': 0.2, 'early_stopping': False, 'hidden_layer_sizes': (500,)}\n"
     ]
    },
    {
     "name": "stderr",
     "output_type": "stream",
     "text": [
      "/home/ubuntu/anaconda3/lib/python3.8/site-packages/sklearn/neural_network/_multilayer_perceptron.py:614: ConvergenceWarning: Stochastic Optimizer: Maximum iterations (200) reached and the optimization hasn't converged yet.\n",
      "  warnings.warn(\n"
     ]
    },
    {
     "name": "stdout",
     "output_type": "stream",
     "text": [
      "{'activation': 'relu', 'alpha': 0.2, 'early_stopping': False, 'hidden_layer_sizes': (10, 30, 10)}\n",
      "{'activation': 'logistic', 'alpha': 0.2, 'early_stopping': True, 'hidden_layer_sizes': (50,)}\n",
      "{'activation': 'logistic', 'alpha': 0.0001, 'early_stopping': True, 'hidden_layer_sizes': (500,)}\n",
      "{'activation': 'logistic', 'alpha': 0.1, 'early_stopping': True, 'hidden_layer_sizes': (200,)}\n",
      "{'activation': 'logistic', 'alpha': 0.0001, 'early_stopping': True, 'hidden_layer_sizes': (200,)}\n",
      "{'activation': 'logistic', 'alpha': 0.01, 'early_stopping': True, 'hidden_layer_sizes': (200,)}\n",
      "{'activation': 'logistic', 'alpha': 0.01, 'early_stopping': True, 'hidden_layer_sizes': (200,)}\n",
      "{'activation': 'logistic', 'alpha': 0.1, 'early_stopping': True, 'hidden_layer_sizes': (50,)}\n",
      "{'activation': 'relu', 'alpha': 0.01, 'early_stopping': True, 'hidden_layer_sizes': (50, 10, 10)}\n",
      "{'activation': 'logistic', 'alpha': 0.01, 'early_stopping': True, 'hidden_layer_sizes': (50,)}\n",
      "{'activation': 'logistic', 'alpha': 0.2, 'early_stopping': True, 'hidden_layer_sizes': (50, 10)}\n",
      "{'activation': 'logistic', 'alpha': 0.05, 'early_stopping': True, 'hidden_layer_sizes': (50, 10)}\n",
      "{'activation': 'logistic', 'alpha': 0.1, 'early_stopping': True, 'hidden_layer_sizes': (50, 10)}\n",
      "{'activation': 'relu', 'alpha': 0.01, 'early_stopping': True, 'hidden_layer_sizes': (10, 30, 10)}\n",
      "{'activation': 'logistic', 'alpha': 0.01, 'early_stopping': True, 'hidden_layer_sizes': (200,)}\n",
      "{'activation': 'logistic', 'alpha': 0.05, 'early_stopping': True, 'hidden_layer_sizes': (50, 10)}\n",
      "{'activation': 'logistic', 'alpha': 0.05, 'early_stopping': True, 'hidden_layer_sizes': (50, 10)}\n",
      "{'activation': 'relu', 'alpha': 0.2, 'early_stopping': True, 'hidden_layer_sizes': (10, 30, 10)}\n",
      "{'activation': 'relu', 'alpha': 0.2, 'early_stopping': True, 'hidden_layer_sizes': (10, 30, 10)}\n"
     ]
    },
    {
     "name": "stderr",
     "output_type": "stream",
     "text": [
      "/home/ubuntu/anaconda3/lib/python3.8/site-packages/sklearn/neural_network/_multilayer_perceptron.py:614: ConvergenceWarning: Stochastic Optimizer: Maximum iterations (200) reached and the optimization hasn't converged yet.\n",
      "  warnings.warn(\n"
     ]
    },
    {
     "name": "stdout",
     "output_type": "stream",
     "text": [
      "{'activation': 'logistic', 'alpha': 0.2, 'early_stopping': False, 'hidden_layer_sizes': (10, 30, 10)}\n"
     ]
    },
    {
     "name": "stderr",
     "output_type": "stream",
     "text": [
      "/home/ubuntu/anaconda3/lib/python3.8/site-packages/sklearn/neural_network/_multilayer_perceptron.py:614: ConvergenceWarning: Stochastic Optimizer: Maximum iterations (200) reached and the optimization hasn't converged yet.\n",
      "  warnings.warn(\n"
     ]
    },
    {
     "name": "stdout",
     "output_type": "stream",
     "text": [
      "{'activation': 'logistic', 'alpha': 0.05, 'early_stopping': False, 'hidden_layer_sizes': (10, 30, 10)}\n"
     ]
    },
    {
     "name": "stderr",
     "output_type": "stream",
     "text": [
      "/home/ubuntu/anaconda3/lib/python3.8/site-packages/sklearn/neural_network/_multilayer_perceptron.py:614: ConvergenceWarning: Stochastic Optimizer: Maximum iterations (200) reached and the optimization hasn't converged yet.\n",
      "  warnings.warn(\n"
     ]
    },
    {
     "name": "stdout",
     "output_type": "stream",
     "text": [
      "{'activation': 'logistic', 'alpha': 0.01, 'early_stopping': False, 'hidden_layer_sizes': (10, 30, 10)}\n"
     ]
    },
    {
     "name": "stderr",
     "output_type": "stream",
     "text": [
      "/home/ubuntu/anaconda3/lib/python3.8/site-packages/sklearn/neural_network/_multilayer_perceptron.py:614: ConvergenceWarning: Stochastic Optimizer: Maximum iterations (200) reached and the optimization hasn't converged yet.\n",
      "  warnings.warn(\n"
     ]
    },
    {
     "name": "stdout",
     "output_type": "stream",
     "text": [
      "{'activation': 'logistic', 'alpha': 0.2, 'early_stopping': False, 'hidden_layer_sizes': (10, 30, 10)}\n"
     ]
    },
    {
     "name": "stderr",
     "output_type": "stream",
     "text": [
      "/home/ubuntu/anaconda3/lib/python3.8/site-packages/sklearn/neural_network/_multilayer_perceptron.py:614: ConvergenceWarning: Stochastic Optimizer: Maximum iterations (200) reached and the optimization hasn't converged yet.\n",
      "  warnings.warn(\n"
     ]
    },
    {
     "name": "stdout",
     "output_type": "stream",
     "text": [
      "{'activation': 'logistic', 'alpha': 0.2, 'early_stopping': False, 'hidden_layer_sizes': (10, 30, 10)}\n"
     ]
    },
    {
     "name": "stderr",
     "output_type": "stream",
     "text": [
      "/home/ubuntu/anaconda3/lib/python3.8/site-packages/sklearn/neural_network/_multilayer_perceptron.py:614: ConvergenceWarning: Stochastic Optimizer: Maximum iterations (200) reached and the optimization hasn't converged yet.\n",
      "  warnings.warn(\n"
     ]
    },
    {
     "name": "stdout",
     "output_type": "stream",
     "text": [
      "{'activation': 'logistic', 'alpha': 0.0001, 'early_stopping': False, 'hidden_layer_sizes': (10, 30, 10)}\n",
      "{'activation': 'logistic', 'alpha': 0.0001, 'early_stopping': True, 'hidden_layer_sizes': (50, 10, 10)}\n"
     ]
    },
    {
     "name": "stderr",
     "output_type": "stream",
     "text": [
      "/home/ubuntu/anaconda3/lib/python3.8/site-packages/sklearn/neural_network/_multilayer_perceptron.py:614: ConvergenceWarning: Stochastic Optimizer: Maximum iterations (200) reached and the optimization hasn't converged yet.\n",
      "  warnings.warn(\n"
     ]
    },
    {
     "name": "stdout",
     "output_type": "stream",
     "text": [
      "{'activation': 'logistic', 'alpha': 0.0001, 'early_stopping': False, 'hidden_layer_sizes': (50, 10, 10)}\n"
     ]
    },
    {
     "name": "stderr",
     "output_type": "stream",
     "text": [
      "/home/ubuntu/anaconda3/lib/python3.8/site-packages/sklearn/neural_network/_multilayer_perceptron.py:614: ConvergenceWarning: Stochastic Optimizer: Maximum iterations (200) reached and the optimization hasn't converged yet.\n",
      "  warnings.warn(\n"
     ]
    },
    {
     "name": "stdout",
     "output_type": "stream",
     "text": [
      "{'activation': 'logistic', 'alpha': 0.2, 'early_stopping': False, 'hidden_layer_sizes': (10, 30, 10)}\n"
     ]
    },
    {
     "name": "stderr",
     "output_type": "stream",
     "text": [
      "/home/ubuntu/anaconda3/lib/python3.8/site-packages/sklearn/neural_network/_multilayer_perceptron.py:614: ConvergenceWarning: Stochastic Optimizer: Maximum iterations (200) reached and the optimization hasn't converged yet.\n",
      "  warnings.warn(\n"
     ]
    },
    {
     "name": "stdout",
     "output_type": "stream",
     "text": [
      "{'activation': 'logistic', 'alpha': 0.01, 'early_stopping': True, 'hidden_layer_sizes': (10, 30, 10)}\n",
      "{'activation': 'logistic', 'alpha': 0.1, 'early_stopping': True, 'hidden_layer_sizes': (50, 10, 10)}\n"
     ]
    },
    {
     "name": "stderr",
     "output_type": "stream",
     "text": [
      "/home/ubuntu/anaconda3/lib/python3.8/site-packages/sklearn/neural_network/_multilayer_perceptron.py:614: ConvergenceWarning: Stochastic Optimizer: Maximum iterations (200) reached and the optimization hasn't converged yet.\n",
      "  warnings.warn(\n"
     ]
    },
    {
     "name": "stdout",
     "output_type": "stream",
     "text": [
      "{'activation': 'logistic', 'alpha': 0.2, 'early_stopping': False, 'hidden_layer_sizes': (50, 10, 10)}\n",
      "{'activation': 'logistic', 'alpha': 0.01, 'early_stopping': True, 'hidden_layer_sizes': (50, 10, 10)}\n",
      "{'activation': 'relu', 'alpha': 0.01, 'early_stopping': True, 'hidden_layer_sizes': (50, 10, 10)}\n"
     ]
    },
    {
     "name": "stderr",
     "output_type": "stream",
     "text": [
      "/home/ubuntu/anaconda3/lib/python3.8/site-packages/sklearn/neural_network/_multilayer_perceptron.py:614: ConvergenceWarning: Stochastic Optimizer: Maximum iterations (200) reached and the optimization hasn't converged yet.\n",
      "  warnings.warn(\n"
     ]
    },
    {
     "name": "stdout",
     "output_type": "stream",
     "text": [
      "{'activation': 'relu', 'alpha': 0.1, 'early_stopping': False, 'hidden_layer_sizes': (50, 10)}\n"
     ]
    },
    {
     "name": "stderr",
     "output_type": "stream",
     "text": [
      "/home/ubuntu/anaconda3/lib/python3.8/site-packages/sklearn/neural_network/_multilayer_perceptron.py:614: ConvergenceWarning: Stochastic Optimizer: Maximum iterations (200) reached and the optimization hasn't converged yet.\n",
      "  warnings.warn(\n"
     ]
    },
    {
     "name": "stdout",
     "output_type": "stream",
     "text": [
      "{'activation': 'logistic', 'alpha': 0.05, 'early_stopping': True, 'hidden_layer_sizes': (10, 30, 10)}\n",
      "{'activation': 'logistic', 'alpha': 0.1, 'early_stopping': True, 'hidden_layer_sizes': (50, 10, 10)}\n",
      "{'activation': 'logistic', 'alpha': 0.05, 'early_stopping': True, 'hidden_layer_sizes': (200,)}\n"
     ]
    },
    {
     "name": "stderr",
     "output_type": "stream",
     "text": [
      "/home/ubuntu/anaconda3/lib/python3.8/site-packages/sklearn/neural_network/_multilayer_perceptron.py:614: ConvergenceWarning: Stochastic Optimizer: Maximum iterations (200) reached and the optimization hasn't converged yet.\n",
      "  warnings.warn(\n"
     ]
    },
    {
     "name": "stdout",
     "output_type": "stream",
     "text": [
      "{'activation': 'logistic', 'alpha': 0.2, 'early_stopping': True, 'hidden_layer_sizes': (50, 10)}\n",
      "{'activation': 'logistic', 'alpha': 0.2, 'early_stopping': True, 'hidden_layer_sizes': (50, 10)}\n",
      "{'activation': 'logistic', 'alpha': 0.01, 'early_stopping': True, 'hidden_layer_sizes': (50, 10)}\n"
     ]
    },
    {
     "name": "stderr",
     "output_type": "stream",
     "text": [
      "/home/ubuntu/anaconda3/lib/python3.8/site-packages/sklearn/neural_network/_multilayer_perceptron.py:614: ConvergenceWarning: Stochastic Optimizer: Maximum iterations (200) reached and the optimization hasn't converged yet.\n",
      "  warnings.warn(\n"
     ]
    },
    {
     "name": "stdout",
     "output_type": "stream",
     "text": [
      "{'activation': 'logistic', 'alpha': 0.05, 'early_stopping': False, 'hidden_layer_sizes': (10, 30, 10)}\n"
     ]
    },
    {
     "name": "stderr",
     "output_type": "stream",
     "text": [
      "/home/ubuntu/anaconda3/lib/python3.8/site-packages/sklearn/neural_network/_multilayer_perceptron.py:614: ConvergenceWarning: Stochastic Optimizer: Maximum iterations (200) reached and the optimization hasn't converged yet.\n",
      "  warnings.warn(\n"
     ]
    },
    {
     "name": "stdout",
     "output_type": "stream",
     "text": [
      "{'activation': 'logistic', 'alpha': 0.0001, 'early_stopping': True, 'hidden_layer_sizes': (50, 10, 10)}\n"
     ]
    },
    {
     "name": "stderr",
     "output_type": "stream",
     "text": [
      "/home/ubuntu/anaconda3/lib/python3.8/site-packages/sklearn/neural_network/_multilayer_perceptron.py:614: ConvergenceWarning: Stochastic Optimizer: Maximum iterations (200) reached and the optimization hasn't converged yet.\n",
      "  warnings.warn(\n"
     ]
    },
    {
     "name": "stdout",
     "output_type": "stream",
     "text": [
      "{'activation': 'logistic', 'alpha': 0.2, 'early_stopping': False, 'hidden_layer_sizes': (10, 30, 10)}\n"
     ]
    },
    {
     "name": "stderr",
     "output_type": "stream",
     "text": [
      "/home/ubuntu/anaconda3/lib/python3.8/site-packages/sklearn/neural_network/_multilayer_perceptron.py:614: ConvergenceWarning: Stochastic Optimizer: Maximum iterations (200) reached and the optimization hasn't converged yet.\n",
      "  warnings.warn(\n"
     ]
    },
    {
     "name": "stdout",
     "output_type": "stream",
     "text": [
      "{'activation': 'logistic', 'alpha': 0.05, 'early_stopping': False, 'hidden_layer_sizes': (50, 10, 10)}\n"
     ]
    },
    {
     "name": "stderr",
     "output_type": "stream",
     "text": [
      "/home/ubuntu/anaconda3/lib/python3.8/site-packages/sklearn/neural_network/_multilayer_perceptron.py:614: ConvergenceWarning: Stochastic Optimizer: Maximum iterations (200) reached and the optimization hasn't converged yet.\n",
      "  warnings.warn(\n"
     ]
    },
    {
     "name": "stdout",
     "output_type": "stream",
     "text": [
      "{'activation': 'logistic', 'alpha': 0.01, 'early_stopping': False, 'hidden_layer_sizes': (50, 10, 10)}\n",
      "{'activation': 'logistic', 'alpha': 0.2, 'early_stopping': True, 'hidden_layer_sizes': (200,)}\n",
      "{'activation': 'logistic', 'alpha': 0.1, 'early_stopping': True, 'hidden_layer_sizes': (200,)}\n",
      "{'activation': 'logistic', 'alpha': 0.05, 'early_stopping': True, 'hidden_layer_sizes': (50, 10)}\n",
      "{'activation': 'logistic', 'alpha': 0.05, 'early_stopping': True, 'hidden_layer_sizes': (50, 10)}\n",
      "{'activation': 'logistic', 'alpha': 0.01, 'early_stopping': True, 'hidden_layer_sizes': (50, 10, 10)}\n",
      "{'activation': 'logistic', 'alpha': 0.05, 'early_stopping': True, 'hidden_layer_sizes': (500,)}\n",
      "{'activation': 'logistic', 'alpha': 0.1, 'early_stopping': True, 'hidden_layer_sizes': (500,)}\n",
      "{'activation': 'logistic', 'alpha': 0.01, 'early_stopping': True, 'hidden_layer_sizes': (50, 10)}\n",
      "{'activation': 'logistic', 'alpha': 0.1, 'early_stopping': True, 'hidden_layer_sizes': (50, 10)}\n",
      "{'activation': 'logistic', 'alpha': 0.05, 'early_stopping': True, 'hidden_layer_sizes': (50, 10)}\n",
      "{'activation': 'relu', 'alpha': 0.1, 'early_stopping': True, 'hidden_layer_sizes': (10, 30, 10)}\n",
      "{'activation': 'tanh', 'alpha': 0.01, 'early_stopping': True, 'hidden_layer_sizes': (50, 10, 10)}\n",
      "{'activation': 'relu', 'alpha': 0.0001, 'early_stopping': True, 'hidden_layer_sizes': (10, 30, 10)}\n"
     ]
    },
    {
     "name": "stderr",
     "output_type": "stream",
     "text": [
      "/home/ubuntu/anaconda3/lib/python3.8/site-packages/sklearn/neural_network/_multilayer_perceptron.py:614: ConvergenceWarning: Stochastic Optimizer: Maximum iterations (200) reached and the optimization hasn't converged yet.\n",
      "  warnings.warn(\n"
     ]
    },
    {
     "name": "stdout",
     "output_type": "stream",
     "text": [
      "{'activation': 'logistic', 'alpha': 0.0001, 'early_stopping': True, 'hidden_layer_sizes': (50, 10, 10)}\n",
      "{'activation': 'tanh', 'alpha': 0.0001, 'early_stopping': True, 'hidden_layer_sizes': (10, 30, 10)}\n",
      "{'activation': 'relu', 'alpha': 0.01, 'early_stopping': True, 'hidden_layer_sizes': (10, 30, 10)}\n",
      "{'activation': 'relu', 'alpha': 0.01, 'early_stopping': True, 'hidden_layer_sizes': (50, 10, 10)}\n",
      "{'activation': 'relu', 'alpha': 0.2, 'early_stopping': True, 'hidden_layer_sizes': (50, 10, 10)}\n",
      "{'activation': 'logistic', 'alpha': 0.1, 'early_stopping': True, 'hidden_layer_sizes': (10, 30, 10)}\n",
      "{'activation': 'tanh', 'alpha': 0.05, 'early_stopping': True, 'hidden_layer_sizes': (10, 30, 10)}\n",
      "{'activation': 'tanh', 'alpha': 0.01, 'early_stopping': True, 'hidden_layer_sizes': (50, 10, 10)}\n",
      "{'activation': 'relu', 'alpha': 0.2, 'early_stopping': True, 'hidden_layer_sizes': (10, 30, 10)}\n",
      "{'activation': 'tanh', 'alpha': 0.2, 'early_stopping': True, 'hidden_layer_sizes': (50, 10, 10)}\n"
     ]
    },
    {
     "name": "stderr",
     "output_type": "stream",
     "text": [
      "/home/ubuntu/anaconda3/lib/python3.8/site-packages/sklearn/neural_network/_multilayer_perceptron.py:614: ConvergenceWarning: Stochastic Optimizer: Maximum iterations (200) reached and the optimization hasn't converged yet.\n",
      "  warnings.warn(\n"
     ]
    },
    {
     "name": "stdout",
     "output_type": "stream",
     "text": [
      "{'activation': 'logistic', 'alpha': 0.1, 'early_stopping': False, 'hidden_layer_sizes': (50, 10, 10)}\n",
      "{'activation': 'logistic', 'alpha': 0.0001, 'early_stopping': True, 'hidden_layer_sizes': (50,)}\n"
     ]
    },
    {
     "name": "stderr",
     "output_type": "stream",
     "text": [
      "/home/ubuntu/anaconda3/lib/python3.8/site-packages/sklearn/neural_network/_multilayer_perceptron.py:614: ConvergenceWarning: Stochastic Optimizer: Maximum iterations (200) reached and the optimization hasn't converged yet.\n",
      "  warnings.warn(\n"
     ]
    },
    {
     "name": "stdout",
     "output_type": "stream",
     "text": [
      "{'activation': 'logistic', 'alpha': 0.0001, 'early_stopping': False, 'hidden_layer_sizes': (50, 10)}\n",
      "{'activation': 'logistic', 'alpha': 0.1, 'early_stopping': True, 'hidden_layer_sizes': (50, 10)}\n",
      "{'activation': 'relu', 'alpha': 0.2, 'early_stopping': True, 'hidden_layer_sizes': (10, 30, 10)}\n"
     ]
    },
    {
     "name": "stderr",
     "output_type": "stream",
     "text": [
      "/home/ubuntu/anaconda3/lib/python3.8/site-packages/sklearn/neural_network/_multilayer_perceptron.py:614: ConvergenceWarning: Stochastic Optimizer: Maximum iterations (200) reached and the optimization hasn't converged yet.\n",
      "  warnings.warn(\n"
     ]
    },
    {
     "name": "stdout",
     "output_type": "stream",
     "text": [
      "{'activation': 'logistic', 'alpha': 0.0001, 'early_stopping': False, 'hidden_layer_sizes': (10, 30, 10)}\n",
      "{'activation': 'relu', 'alpha': 0.05, 'early_stopping': True, 'hidden_layer_sizes': (10, 30, 10)}\n"
     ]
    },
    {
     "name": "stderr",
     "output_type": "stream",
     "text": [
      "/home/ubuntu/anaconda3/lib/python3.8/site-packages/sklearn/neural_network/_multilayer_perceptron.py:614: ConvergenceWarning: Stochastic Optimizer: Maximum iterations (200) reached and the optimization hasn't converged yet.\n",
      "  warnings.warn(\n"
     ]
    },
    {
     "name": "stdout",
     "output_type": "stream",
     "text": [
      "{'activation': 'logistic', 'alpha': 0.1, 'early_stopping': False, 'hidden_layer_sizes': (10, 30, 10)}\n"
     ]
    },
    {
     "name": "stderr",
     "output_type": "stream",
     "text": [
      "/home/ubuntu/anaconda3/lib/python3.8/site-packages/sklearn/neural_network/_multilayer_perceptron.py:614: ConvergenceWarning: Stochastic Optimizer: Maximum iterations (200) reached and the optimization hasn't converged yet.\n",
      "  warnings.warn(\n"
     ]
    },
    {
     "name": "stdout",
     "output_type": "stream",
     "text": [
      "{'activation': 'logistic', 'alpha': 0.0001, 'early_stopping': False, 'hidden_layer_sizes': (10, 30, 10)}\n"
     ]
    },
    {
     "name": "stderr",
     "output_type": "stream",
     "text": [
      "/home/ubuntu/anaconda3/lib/python3.8/site-packages/sklearn/neural_network/_multilayer_perceptron.py:614: ConvergenceWarning: Stochastic Optimizer: Maximum iterations (200) reached and the optimization hasn't converged yet.\n",
      "  warnings.warn(\n"
     ]
    },
    {
     "name": "stdout",
     "output_type": "stream",
     "text": [
      "{'activation': 'logistic', 'alpha': 0.05, 'early_stopping': False, 'hidden_layer_sizes': (10, 30, 10)}\n",
      "{'activation': 'tanh', 'alpha': 0.05, 'early_stopping': True, 'hidden_layer_sizes': (10, 30, 10)}\n",
      "{'activation': 'logistic', 'alpha': 0.01, 'early_stopping': True, 'hidden_layer_sizes': (10, 30, 10)}\n"
     ]
    },
    {
     "name": "stderr",
     "output_type": "stream",
     "text": [
      "/home/ubuntu/anaconda3/lib/python3.8/site-packages/sklearn/neural_network/_multilayer_perceptron.py:614: ConvergenceWarning: Stochastic Optimizer: Maximum iterations (200) reached and the optimization hasn't converged yet.\n",
      "  warnings.warn(\n"
     ]
    },
    {
     "name": "stdout",
     "output_type": "stream",
     "text": [
      "{'activation': 'logistic', 'alpha': 0.01, 'early_stopping': True, 'hidden_layer_sizes': (50, 10, 10)}\n",
      "{'activation': 'logistic', 'alpha': 0.0001, 'early_stopping': True, 'hidden_layer_sizes': (50, 10, 10)}\n",
      "{'activation': 'logistic', 'alpha': 0.1, 'early_stopping': True, 'hidden_layer_sizes': (50, 10)}\n",
      "{'activation': 'logistic', 'alpha': 0.05, 'early_stopping': True, 'hidden_layer_sizes': (50, 10)}\n",
      "{'activation': 'logistic', 'alpha': 0.1, 'early_stopping': True, 'hidden_layer_sizes': (50, 10)}\n",
      "{'activation': 'logistic', 'alpha': 0.2, 'early_stopping': True, 'hidden_layer_sizes': (50, 10)}\n",
      "{'activation': 'logistic', 'alpha': 0.01, 'early_stopping': True, 'hidden_layer_sizes': (50, 10)}\n",
      "{'activation': 'logistic', 'alpha': 0.1, 'early_stopping': True, 'hidden_layer_sizes': (50, 10)}\n",
      "{'activation': 'logistic', 'alpha': 0.01, 'early_stopping': True, 'hidden_layer_sizes': (50, 10)}\n",
      "{'activation': 'logistic', 'alpha': 0.05, 'early_stopping': True, 'hidden_layer_sizes': (50, 10)}\n",
      "{'activation': 'logistic', 'alpha': 0.01, 'early_stopping': True, 'hidden_layer_sizes': (50,)}\n",
      "{'activation': 'logistic', 'alpha': 0.05, 'early_stopping': True, 'hidden_layer_sizes': (50,)}\n",
      "{'activation': 'logistic', 'alpha': 0.1, 'early_stopping': True, 'hidden_layer_sizes': (50, 10)}\n",
      "{'activation': 'logistic', 'alpha': 0.0001, 'early_stopping': True, 'hidden_layer_sizes': (50,)}\n",
      "{'activation': 'logistic', 'alpha': 0.1, 'early_stopping': True, 'hidden_layer_sizes': (50,)}\n",
      "{'activation': 'logistic', 'alpha': 0.2, 'early_stopping': True, 'hidden_layer_sizes': (50,)}\n",
      "{'activation': 'tanh', 'alpha': 0.2, 'early_stopping': True, 'hidden_layer_sizes': (10, 30, 10)}\n",
      "{'activation': 'tanh', 'alpha': 0.2, 'early_stopping': True, 'hidden_layer_sizes': (10, 30, 10)}\n",
      "{'activation': 'logistic', 'alpha': 0.1, 'early_stopping': True, 'hidden_layer_sizes': (50,)}\n",
      "{'activation': 'logistic', 'alpha': 0.2, 'early_stopping': True, 'hidden_layer_sizes': (50, 10)}\n",
      "{'activation': 'logistic', 'alpha': 0.1, 'early_stopping': True, 'hidden_layer_sizes': (50,)}\n",
      "{'activation': 'relu', 'alpha': 0.05, 'early_stopping': True, 'hidden_layer_sizes': (10, 30, 10)}\n",
      "{'activation': 'logistic', 'alpha': 0.2, 'early_stopping': True, 'hidden_layer_sizes': (50,)}\n",
      "{'activation': 'logistic', 'alpha': 0.1, 'early_stopping': True, 'hidden_layer_sizes': (50,)}\n",
      "{'activation': 'logistic', 'alpha': 0.0001, 'early_stopping': True, 'hidden_layer_sizes': (500,)}\n",
      "{'activation': 'logistic', 'alpha': 0.2, 'early_stopping': True, 'hidden_layer_sizes': (500,)}\n",
      "{'activation': 'logistic', 'alpha': 0.0001, 'early_stopping': True, 'hidden_layer_sizes': (200,)}\n",
      "{'activation': 'logistic', 'alpha': 0.05, 'early_stopping': True, 'hidden_layer_sizes': (200,)}\n",
      "{'activation': 'logistic', 'alpha': 0.2, 'early_stopping': True, 'hidden_layer_sizes': (50,)}\n"
     ]
    },
    {
     "name": "stderr",
     "output_type": "stream",
     "text": [
      "/home/ubuntu/anaconda3/lib/python3.8/site-packages/sklearn/neural_network/_multilayer_perceptron.py:614: ConvergenceWarning: Stochastic Optimizer: Maximum iterations (200) reached and the optimization hasn't converged yet.\n",
      "  warnings.warn(\n"
     ]
    },
    {
     "name": "stdout",
     "output_type": "stream",
     "text": [
      "{'activation': 'logistic', 'alpha': 0.0001, 'early_stopping': False, 'hidden_layer_sizes': (50,)}\n"
     ]
    },
    {
     "name": "stderr",
     "output_type": "stream",
     "text": [
      "/home/ubuntu/anaconda3/lib/python3.8/site-packages/sklearn/neural_network/_multilayer_perceptron.py:614: ConvergenceWarning: Stochastic Optimizer: Maximum iterations (200) reached and the optimization hasn't converged yet.\n",
      "  warnings.warn(\n"
     ]
    },
    {
     "name": "stdout",
     "output_type": "stream",
     "text": [
      "{'activation': 'logistic', 'alpha': 0.01, 'early_stopping': False, 'hidden_layer_sizes': (50,)}\n",
      "{'activation': 'tanh', 'alpha': 0.2, 'early_stopping': True, 'hidden_layer_sizes': (10, 30, 10)}\n"
     ]
    },
    {
     "name": "stderr",
     "output_type": "stream",
     "text": [
      "/home/ubuntu/anaconda3/lib/python3.8/site-packages/sklearn/neural_network/_multilayer_perceptron.py:614: ConvergenceWarning: Stochastic Optimizer: Maximum iterations (200) reached and the optimization hasn't converged yet.\n",
      "  warnings.warn(\n"
     ]
    },
    {
     "name": "stdout",
     "output_type": "stream",
     "text": [
      "{'activation': 'logistic', 'alpha': 0.1, 'early_stopping': False, 'hidden_layer_sizes': (50, 10)}\n"
     ]
    },
    {
     "name": "stderr",
     "output_type": "stream",
     "text": [
      "/home/ubuntu/anaconda3/lib/python3.8/site-packages/sklearn/neural_network/_multilayer_perceptron.py:614: ConvergenceWarning: Stochastic Optimizer: Maximum iterations (200) reached and the optimization hasn't converged yet.\n",
      "  warnings.warn(\n"
     ]
    },
    {
     "name": "stdout",
     "output_type": "stream",
     "text": [
      "{'activation': 'logistic', 'alpha': 0.01, 'early_stopping': False, 'hidden_layer_sizes': (10, 30, 10)}\n"
     ]
    },
    {
     "name": "stderr",
     "output_type": "stream",
     "text": [
      "/home/ubuntu/anaconda3/lib/python3.8/site-packages/sklearn/neural_network/_multilayer_perceptron.py:614: ConvergenceWarning: Stochastic Optimizer: Maximum iterations (200) reached and the optimization hasn't converged yet.\n",
      "  warnings.warn(\n"
     ]
    },
    {
     "name": "stdout",
     "output_type": "stream",
     "text": [
      "{'activation': 'logistic', 'alpha': 0.0001, 'early_stopping': False, 'hidden_layer_sizes': (50, 10, 10)}\n"
     ]
    },
    {
     "name": "stderr",
     "output_type": "stream",
     "text": [
      "/home/ubuntu/anaconda3/lib/python3.8/site-packages/sklearn/neural_network/_multilayer_perceptron.py:614: ConvergenceWarning: Stochastic Optimizer: Maximum iterations (200) reached and the optimization hasn't converged yet.\n",
      "  warnings.warn(\n"
     ]
    },
    {
     "name": "stdout",
     "output_type": "stream",
     "text": [
      "{'activation': 'logistic', 'alpha': 0.01, 'early_stopping': False, 'hidden_layer_sizes': (50,)}\n",
      "{'activation': 'tanh', 'alpha': 0.05, 'early_stopping': True, 'hidden_layer_sizes': (50, 10, 10)}\n"
     ]
    },
    {
     "name": "stderr",
     "output_type": "stream",
     "text": [
      "/home/ubuntu/anaconda3/lib/python3.8/site-packages/sklearn/neural_network/_multilayer_perceptron.py:614: ConvergenceWarning: Stochastic Optimizer: Maximum iterations (200) reached and the optimization hasn't converged yet.\n",
      "  warnings.warn(\n"
     ]
    },
    {
     "name": "stdout",
     "output_type": "stream",
     "text": [
      "{'activation': 'logistic', 'alpha': 0.05, 'early_stopping': False, 'hidden_layer_sizes': (50,)}\n",
      "{'activation': 'logistic', 'alpha': 0.01, 'early_stopping': True, 'hidden_layer_sizes': (50, 10)}\n",
      "{'activation': 'logistic', 'alpha': 0.05, 'early_stopping': True, 'hidden_layer_sizes': (50, 10)}\n",
      "{'activation': 'logistic', 'alpha': 0.2, 'early_stopping': True, 'hidden_layer_sizes': (50,)}\n",
      "{'activation': 'logistic', 'alpha': 0.2, 'early_stopping': True, 'hidden_layer_sizes': (50, 10)}\n",
      "{'activation': 'logistic', 'alpha': 0.05, 'early_stopping': True, 'hidden_layer_sizes': (50, 10)}\n",
      "{'activation': 'logistic', 'alpha': 0.1, 'early_stopping': True, 'hidden_layer_sizes': (10, 30, 10)}\n",
      "{'activation': 'logistic', 'alpha': 0.2, 'early_stopping': True, 'hidden_layer_sizes': (10, 30, 10)}\n"
     ]
    },
    {
     "name": "stderr",
     "output_type": "stream",
     "text": [
      "/home/ubuntu/anaconda3/lib/python3.8/site-packages/sklearn/neural_network/_multilayer_perceptron.py:614: ConvergenceWarning: Stochastic Optimizer: Maximum iterations (200) reached and the optimization hasn't converged yet.\n",
      "  warnings.warn(\n"
     ]
    },
    {
     "name": "stdout",
     "output_type": "stream",
     "text": [
      "{'activation': 'logistic', 'alpha': 0.05, 'early_stopping': True, 'hidden_layer_sizes': (50, 10, 10)}\n",
      "{'activation': 'relu', 'alpha': 0.1, 'early_stopping': True, 'hidden_layer_sizes': (10, 30, 10)}\n"
     ]
    },
    {
     "name": "stderr",
     "output_type": "stream",
     "text": [
      "/home/ubuntu/anaconda3/lib/python3.8/site-packages/sklearn/neural_network/_multilayer_perceptron.py:614: ConvergenceWarning: Stochastic Optimizer: Maximum iterations (200) reached and the optimization hasn't converged yet.\n",
      "  warnings.warn(\n"
     ]
    },
    {
     "name": "stdout",
     "output_type": "stream",
     "text": [
      "{'activation': 'logistic', 'alpha': 0.1, 'early_stopping': False, 'hidden_layer_sizes': (50, 10, 10)}\n",
      "{'activation': 'logistic', 'alpha': 0.05, 'early_stopping': True, 'hidden_layer_sizes': (50, 10)}\n"
     ]
    },
    {
     "name": "stderr",
     "output_type": "stream",
     "text": [
      "/home/ubuntu/anaconda3/lib/python3.8/site-packages/sklearn/neural_network/_multilayer_perceptron.py:614: ConvergenceWarning: Stochastic Optimizer: Maximum iterations (200) reached and the optimization hasn't converged yet.\n",
      "  warnings.warn(\n"
     ]
    },
    {
     "name": "stdout",
     "output_type": "stream",
     "text": [
      "{'activation': 'logistic', 'alpha': 0.2, 'early_stopping': False, 'hidden_layer_sizes': (50, 10, 10)}\n"
     ]
    },
    {
     "name": "stderr",
     "output_type": "stream",
     "text": [
      "/home/ubuntu/anaconda3/lib/python3.8/site-packages/sklearn/neural_network/_multilayer_perceptron.py:614: ConvergenceWarning: Stochastic Optimizer: Maximum iterations (200) reached and the optimization hasn't converged yet.\n",
      "  warnings.warn(\n"
     ]
    },
    {
     "name": "stdout",
     "output_type": "stream",
     "text": [
      "{'activation': 'logistic', 'alpha': 0.05, 'early_stopping': False, 'hidden_layer_sizes': (50, 10, 10)}\n",
      "{'activation': 'logistic', 'alpha': 0.01, 'early_stopping': True, 'hidden_layer_sizes': (50, 10)}\n",
      "{'activation': 'relu', 'alpha': 0.01, 'early_stopping': True, 'hidden_layer_sizes': (50, 10, 10)}\n"
     ]
    },
    {
     "name": "stderr",
     "output_type": "stream",
     "text": [
      "/home/ubuntu/anaconda3/lib/python3.8/site-packages/sklearn/neural_network/_multilayer_perceptron.py:614: ConvergenceWarning: Stochastic Optimizer: Maximum iterations (200) reached and the optimization hasn't converged yet.\n",
      "  warnings.warn(\n"
     ]
    },
    {
     "name": "stdout",
     "output_type": "stream",
     "text": [
      "{'activation': 'logistic', 'alpha': 0.2, 'early_stopping': False, 'hidden_layer_sizes': (50, 10, 10)}\n"
     ]
    },
    {
     "name": "stderr",
     "output_type": "stream",
     "text": [
      "/home/ubuntu/anaconda3/lib/python3.8/site-packages/sklearn/neural_network/_multilayer_perceptron.py:614: ConvergenceWarning: Stochastic Optimizer: Maximum iterations (200) reached and the optimization hasn't converged yet.\n",
      "  warnings.warn(\n"
     ]
    },
    {
     "name": "stdout",
     "output_type": "stream",
     "text": [
      "{'activation': 'logistic', 'alpha': 0.05, 'early_stopping': False, 'hidden_layer_sizes': (50, 10)}\n"
     ]
    },
    {
     "name": "stderr",
     "output_type": "stream",
     "text": [
      "/home/ubuntu/anaconda3/lib/python3.8/site-packages/sklearn/neural_network/_multilayer_perceptron.py:614: ConvergenceWarning: Stochastic Optimizer: Maximum iterations (200) reached and the optimization hasn't converged yet.\n",
      "  warnings.warn(\n"
     ]
    },
    {
     "name": "stdout",
     "output_type": "stream",
     "text": [
      "{'activation': 'logistic', 'alpha': 0.1, 'early_stopping': True, 'hidden_layer_sizes': (50, 10, 10)}\n"
     ]
    },
    {
     "name": "stderr",
     "output_type": "stream",
     "text": [
      "/home/ubuntu/anaconda3/lib/python3.8/site-packages/sklearn/neural_network/_multilayer_perceptron.py:614: ConvergenceWarning: Stochastic Optimizer: Maximum iterations (200) reached and the optimization hasn't converged yet.\n",
      "  warnings.warn(\n"
     ]
    },
    {
     "name": "stdout",
     "output_type": "stream",
     "text": [
      "{'activation': 'relu', 'alpha': 0.1, 'early_stopping': False, 'hidden_layer_sizes': (10, 30, 10)}\n"
     ]
    },
    {
     "name": "stderr",
     "output_type": "stream",
     "text": [
      "/home/ubuntu/anaconda3/lib/python3.8/site-packages/sklearn/neural_network/_multilayer_perceptron.py:614: ConvergenceWarning: Stochastic Optimizer: Maximum iterations (200) reached and the optimization hasn't converged yet.\n",
      "  warnings.warn(\n"
     ]
    },
    {
     "name": "stdout",
     "output_type": "stream",
     "text": [
      "{'activation': 'logistic', 'alpha': 0.2, 'early_stopping': False, 'hidden_layer_sizes': (200,)}\n",
      "{'activation': 'relu', 'alpha': 0.01, 'early_stopping': False, 'hidden_layer_sizes': (50, 10)}\n",
      "{'activation': 'relu', 'alpha': 0.05, 'early_stopping': False, 'hidden_layer_sizes': (50, 10, 10)}\n",
      "{'activation': 'relu', 'alpha': 0.1, 'early_stopping': False, 'hidden_layer_sizes': (50, 10, 10)}\n"
     ]
    },
    {
     "name": "stderr",
     "output_type": "stream",
     "text": [
      "/home/ubuntu/anaconda3/lib/python3.8/site-packages/sklearn/neural_network/_multilayer_perceptron.py:614: ConvergenceWarning: Stochastic Optimizer: Maximum iterations (200) reached and the optimization hasn't converged yet.\n",
      "  warnings.warn(\n"
     ]
    },
    {
     "name": "stdout",
     "output_type": "stream",
     "text": [
      "{'activation': 'relu', 'alpha': 0.2, 'early_stopping': False, 'hidden_layer_sizes': (500,)}\n"
     ]
    },
    {
     "name": "stderr",
     "output_type": "stream",
     "text": [
      "/home/ubuntu/anaconda3/lib/python3.8/site-packages/sklearn/neural_network/_multilayer_perceptron.py:614: ConvergenceWarning: Stochastic Optimizer: Maximum iterations (200) reached and the optimization hasn't converged yet.\n",
      "  warnings.warn(\n"
     ]
    },
    {
     "name": "stdout",
     "output_type": "stream",
     "text": [
      "{'activation': 'relu', 'alpha': 0.01, 'early_stopping': False, 'hidden_layer_sizes': (10, 30, 10)}\n",
      "{'activation': 'relu', 'alpha': 0.0001, 'early_stopping': False, 'hidden_layer_sizes': (500,)}\n",
      "{'activation': 'relu', 'alpha': 0.1, 'early_stopping': False, 'hidden_layer_sizes': (10, 30, 10)}\n",
      "{'activation': 'logistic', 'alpha': 0.01, 'early_stopping': True, 'hidden_layer_sizes': (50,)}\n",
      "{'activation': 'logistic', 'alpha': 0.0001, 'early_stopping': True, 'hidden_layer_sizes': (50,)}\n",
      "{'activation': 'logistic', 'alpha': 0.2, 'early_stopping': True, 'hidden_layer_sizes': (200,)}\n",
      "{'activation': 'logistic', 'alpha': 0.2, 'early_stopping': True, 'hidden_layer_sizes': (200,)}\n",
      "{'activation': 'logistic', 'alpha': 0.01, 'early_stopping': True, 'hidden_layer_sizes': (50,)}\n"
     ]
    },
    {
     "name": "stderr",
     "output_type": "stream",
     "text": [
      "/home/ubuntu/anaconda3/lib/python3.8/site-packages/sklearn/neural_network/_multilayer_perceptron.py:614: ConvergenceWarning: Stochastic Optimizer: Maximum iterations (200) reached and the optimization hasn't converged yet.\n",
      "  warnings.warn(\n"
     ]
    },
    {
     "name": "stdout",
     "output_type": "stream",
     "text": [
      "{'activation': 'logistic', 'alpha': 0.1, 'early_stopping': False, 'hidden_layer_sizes': (50, 10, 10)}\n",
      "{'activation': 'logistic', 'alpha': 0.2, 'early_stopping': True, 'hidden_layer_sizes': (200,)}\n",
      "{'activation': 'relu', 'alpha': 0.0001, 'early_stopping': True, 'hidden_layer_sizes': (500,)}\n",
      "{'activation': 'logistic', 'alpha': 0.05, 'early_stopping': True, 'hidden_layer_sizes': (50,)}\n",
      "{'activation': 'tanh', 'alpha': 0.2, 'early_stopping': True, 'hidden_layer_sizes': (500,)}\n",
      "{'activation': 'tanh', 'alpha': 0.05, 'early_stopping': False, 'hidden_layer_sizes': (50, 10)}\n",
      "{'activation': 'logistic', 'alpha': 0.2, 'early_stopping': True, 'hidden_layer_sizes': (50, 10)}\n",
      "{'activation': 'logistic', 'alpha': 0.1, 'early_stopping': True, 'hidden_layer_sizes': (500,)}\n",
      "{'activation': 'relu', 'alpha': 0.0001, 'early_stopping': True, 'hidden_layer_sizes': (10, 30, 10)}\n",
      "{'activation': 'logistic', 'alpha': 0.0001, 'early_stopping': True, 'hidden_layer_sizes': (10, 30, 10)}\n",
      "{'activation': 'logistic', 'alpha': 0.1, 'early_stopping': True, 'hidden_layer_sizes': (50, 10, 10)}\n",
      "{'activation': 'relu', 'alpha': 0.0001, 'early_stopping': True, 'hidden_layer_sizes': (50, 10, 10)}\n",
      "{'activation': 'logistic', 'alpha': 0.05, 'early_stopping': True, 'hidden_layer_sizes': (10, 30, 10)}\n"
     ]
    },
    {
     "name": "stderr",
     "output_type": "stream",
     "text": [
      "/home/ubuntu/anaconda3/lib/python3.8/site-packages/sklearn/neural_network/_multilayer_perceptron.py:614: ConvergenceWarning: Stochastic Optimizer: Maximum iterations (200) reached and the optimization hasn't converged yet.\n",
      "  warnings.warn(\n"
     ]
    },
    {
     "name": "stdout",
     "output_type": "stream",
     "text": [
      "{'activation': 'logistic', 'alpha': 0.1, 'early_stopping': False, 'hidden_layer_sizes': (50, 10, 10)}\n",
      "{'activation': 'relu', 'alpha': 0.2, 'early_stopping': True, 'hidden_layer_sizes': (50, 10, 10)}\n",
      "{'activation': 'logistic', 'alpha': 0.0001, 'early_stopping': True, 'hidden_layer_sizes': (50,)}\n",
      "{'activation': 'logistic', 'alpha': 0.05, 'early_stopping': True, 'hidden_layer_sizes': (10, 30, 10)}\n",
      "{'activation': 'relu', 'alpha': 0.1, 'early_stopping': True, 'hidden_layer_sizes': (500,)}\n",
      "{'activation': 'tanh', 'alpha': 0.01, 'early_stopping': True, 'hidden_layer_sizes': (500,)}\n"
     ]
    },
    {
     "name": "stderr",
     "output_type": "stream",
     "text": [
      "/home/ubuntu/anaconda3/lib/python3.8/site-packages/sklearn/neural_network/_multilayer_perceptron.py:614: ConvergenceWarning: Stochastic Optimizer: Maximum iterations (200) reached and the optimization hasn't converged yet.\n",
      "  warnings.warn(\n"
     ]
    },
    {
     "name": "stdout",
     "output_type": "stream",
     "text": [
      "{'activation': 'logistic', 'alpha': 0.2, 'early_stopping': True, 'hidden_layer_sizes': (50, 10)}\n"
     ]
    },
    {
     "name": "stderr",
     "output_type": "stream",
     "text": [
      "/home/ubuntu/anaconda3/lib/python3.8/site-packages/sklearn/neural_network/_multilayer_perceptron.py:614: ConvergenceWarning: Stochastic Optimizer: Maximum iterations (200) reached and the optimization hasn't converged yet.\n",
      "  warnings.warn(\n"
     ]
    },
    {
     "name": "stdout",
     "output_type": "stream",
     "text": [
      "{'activation': 'tanh', 'alpha': 0.2, 'early_stopping': True, 'hidden_layer_sizes': (50, 10, 10)}\n"
     ]
    },
    {
     "name": "stderr",
     "output_type": "stream",
     "text": [
      "/home/ubuntu/anaconda3/lib/python3.8/site-packages/sklearn/neural_network/_multilayer_perceptron.py:614: ConvergenceWarning: Stochastic Optimizer: Maximum iterations (200) reached and the optimization hasn't converged yet.\n",
      "  warnings.warn(\n"
     ]
    },
    {
     "name": "stdout",
     "output_type": "stream",
     "text": [
      "{'activation': 'logistic', 'alpha': 0.1, 'early_stopping': False, 'hidden_layer_sizes': (50, 10)}\n",
      "{'activation': 'logistic', 'alpha': 0.05, 'early_stopping': True, 'hidden_layer_sizes': (500,)}\n",
      "{'activation': 'logistic', 'alpha': 0.2, 'early_stopping': True, 'hidden_layer_sizes': (200,)}\n",
      "{'activation': 'logistic', 'alpha': 0.05, 'early_stopping': True, 'hidden_layer_sizes': (50,)}\n",
      "{'activation': 'relu', 'alpha': 0.0001, 'early_stopping': True, 'hidden_layer_sizes': (50, 10, 10)}\n",
      "{'activation': 'logistic', 'alpha': 0.1, 'early_stopping': True, 'hidden_layer_sizes': (50,)}\n",
      "{'activation': 'tanh', 'alpha': 0.05, 'early_stopping': True, 'hidden_layer_sizes': (10, 30, 10)}\n",
      "{'activation': 'logistic', 'alpha': 0.0001, 'early_stopping': True, 'hidden_layer_sizes': (50, 10)}\n",
      "{'activation': 'tanh', 'alpha': 0.2, 'early_stopping': True, 'hidden_layer_sizes': (10, 30, 10)}\n",
      "{'activation': 'relu', 'alpha': 0.05, 'early_stopping': True, 'hidden_layer_sizes': (10, 30, 10)}\n",
      "{'activation': 'relu', 'alpha': 0.01, 'early_stopping': True, 'hidden_layer_sizes': (200,)}\n",
      "{'activation': 'tanh', 'alpha': 0.1, 'early_stopping': True, 'hidden_layer_sizes': (10, 30, 10)}\n",
      "{'activation': 'tanh', 'alpha': 0.05, 'early_stopping': True, 'hidden_layer_sizes': (50, 10)}\n",
      "{'activation': 'tanh', 'alpha': 0.01, 'early_stopping': True, 'hidden_layer_sizes': (50, 10)}\n",
      "{'activation': 'tanh', 'alpha': 0.1, 'early_stopping': True, 'hidden_layer_sizes': (50, 10, 10)}\n",
      "{'activation': 'relu', 'alpha': 0.2, 'early_stopping': True, 'hidden_layer_sizes': (50, 10)}\n",
      "{'activation': 'relu', 'alpha': 0.01, 'early_stopping': False, 'hidden_layer_sizes': (50, 10)}\n",
      "{'activation': 'logistic', 'alpha': 0.05, 'early_stopping': True, 'hidden_layer_sizes': (50,)}\n",
      "{'activation': 'relu', 'alpha': 0.0001, 'early_stopping': True, 'hidden_layer_sizes': (500,)}\n",
      "{'activation': 'tanh', 'alpha': 0.1, 'early_stopping': True, 'hidden_layer_sizes': (10, 30, 10)}\n",
      "{'activation': 'tanh', 'alpha': 0.01, 'early_stopping': True, 'hidden_layer_sizes': (50,)}\n"
     ]
    },
    {
     "name": "stderr",
     "output_type": "stream",
     "text": [
      "/home/ubuntu/anaconda3/lib/python3.8/site-packages/sklearn/neural_network/_multilayer_perceptron.py:614: ConvergenceWarning: Stochastic Optimizer: Maximum iterations (200) reached and the optimization hasn't converged yet.\n",
      "  warnings.warn(\n"
     ]
    },
    {
     "name": "stdout",
     "output_type": "stream",
     "text": [
      "{'activation': 'logistic', 'alpha': 0.0001, 'early_stopping': False, 'hidden_layer_sizes': (10, 30, 10)}\n"
     ]
    },
    {
     "name": "stderr",
     "output_type": "stream",
     "text": [
      "/home/ubuntu/anaconda3/lib/python3.8/site-packages/sklearn/neural_network/_multilayer_perceptron.py:614: ConvergenceWarning: Stochastic Optimizer: Maximum iterations (200) reached and the optimization hasn't converged yet.\n",
      "  warnings.warn(\n"
     ]
    },
    {
     "name": "stdout",
     "output_type": "stream",
     "text": [
      "{'activation': 'logistic', 'alpha': 0.1, 'early_stopping': True, 'hidden_layer_sizes': (50, 10)}\n",
      "{'activation': 'logistic', 'alpha': 0.1, 'early_stopping': True, 'hidden_layer_sizes': (50, 10)}\n"
     ]
    },
    {
     "name": "stderr",
     "output_type": "stream",
     "text": [
      "/home/ubuntu/anaconda3/lib/python3.8/site-packages/sklearn/neural_network/_multilayer_perceptron.py:614: ConvergenceWarning: Stochastic Optimizer: Maximum iterations (200) reached and the optimization hasn't converged yet.\n",
      "  warnings.warn(\n"
     ]
    },
    {
     "name": "stdout",
     "output_type": "stream",
     "text": [
      "{'activation': 'logistic', 'alpha': 0.01, 'early_stopping': False, 'hidden_layer_sizes': (50, 10, 10)}\n",
      "{'activation': 'tanh', 'alpha': 0.2, 'early_stopping': True, 'hidden_layer_sizes': (50, 10, 10)}\n",
      "{'activation': 'logistic', 'alpha': 0.0001, 'early_stopping': True, 'hidden_layer_sizes': (50, 10)}\n",
      "{'activation': 'tanh', 'alpha': 0.0001, 'early_stopping': True, 'hidden_layer_sizes': (50, 10, 10)}\n",
      "{'activation': 'logistic', 'alpha': 0.01, 'early_stopping': True, 'hidden_layer_sizes': (500,)}\n",
      "{'activation': 'logistic', 'alpha': 0.0001, 'early_stopping': True, 'hidden_layer_sizes': (500,)}\n",
      "{'activation': 'relu', 'alpha': 0.01, 'early_stopping': True, 'hidden_layer_sizes': (10, 30, 10)}\n",
      "{'activation': 'logistic', 'alpha': 0.0001, 'early_stopping': True, 'hidden_layer_sizes': (500,)}\n",
      "{'activation': 'tanh', 'alpha': 0.2, 'early_stopping': True, 'hidden_layer_sizes': (10, 30, 10)}\n",
      "{'activation': 'relu', 'alpha': 0.0001, 'early_stopping': True, 'hidden_layer_sizes': (50, 10, 10)}\n",
      "{'activation': 'logistic', 'alpha': 0.0001, 'early_stopping': True, 'hidden_layer_sizes': (50,)}\n",
      "{'activation': 'tanh', 'alpha': 0.0001, 'early_stopping': True, 'hidden_layer_sizes': (50, 10, 10)}\n",
      "{'activation': 'logistic', 'alpha': 0.2, 'early_stopping': True, 'hidden_layer_sizes': (50,)}\n",
      "{'activation': 'logistic', 'alpha': 0.2, 'early_stopping': True, 'hidden_layer_sizes': (500,)}\n",
      "{'activation': 'logistic', 'alpha': 0.1, 'early_stopping': True, 'hidden_layer_sizes': (50,)}\n"
     ]
    },
    {
     "name": "stderr",
     "output_type": "stream",
     "text": [
      "/home/ubuntu/anaconda3/lib/python3.8/site-packages/sklearn/neural_network/_multilayer_perceptron.py:614: ConvergenceWarning: Stochastic Optimizer: Maximum iterations (200) reached and the optimization hasn't converged yet.\n",
      "  warnings.warn(\n"
     ]
    },
    {
     "name": "stdout",
     "output_type": "stream",
     "text": [
      "{'activation': 'logistic', 'alpha': 0.05, 'early_stopping': False, 'hidden_layer_sizes': (50, 10)}\n"
     ]
    },
    {
     "name": "stderr",
     "output_type": "stream",
     "text": [
      "/home/ubuntu/anaconda3/lib/python3.8/site-packages/sklearn/neural_network/_multilayer_perceptron.py:614: ConvergenceWarning: Stochastic Optimizer: Maximum iterations (200) reached and the optimization hasn't converged yet.\n",
      "  warnings.warn(\n"
     ]
    },
    {
     "name": "stdout",
     "output_type": "stream",
     "text": [
      "{'activation': 'logistic', 'alpha': 0.05, 'early_stopping': False, 'hidden_layer_sizes': (50, 10)}\n"
     ]
    },
    {
     "name": "stderr",
     "output_type": "stream",
     "text": [
      "/home/ubuntu/anaconda3/lib/python3.8/site-packages/sklearn/neural_network/_multilayer_perceptron.py:614: ConvergenceWarning: Stochastic Optimizer: Maximum iterations (200) reached and the optimization hasn't converged yet.\n",
      "  warnings.warn(\n"
     ]
    },
    {
     "name": "stdout",
     "output_type": "stream",
     "text": [
      "{'activation': 'logistic', 'alpha': 0.05, 'early_stopping': False, 'hidden_layer_sizes': (10, 30, 10)}\n",
      "{'activation': 'logistic', 'alpha': 0.2, 'early_stopping': True, 'hidden_layer_sizes': (50, 10)}\n",
      "{'activation': 'logistic', 'alpha': 0.01, 'early_stopping': True, 'hidden_layer_sizes': (200,)}\n"
     ]
    },
    {
     "name": "stderr",
     "output_type": "stream",
     "text": [
      "/home/ubuntu/anaconda3/lib/python3.8/site-packages/sklearn/neural_network/_multilayer_perceptron.py:614: ConvergenceWarning: Stochastic Optimizer: Maximum iterations (200) reached and the optimization hasn't converged yet.\n",
      "  warnings.warn(\n"
     ]
    },
    {
     "name": "stdout",
     "output_type": "stream",
     "text": [
      "{'activation': 'logistic', 'alpha': 0.05, 'early_stopping': False, 'hidden_layer_sizes': (10, 30, 10)}\n"
     ]
    },
    {
     "name": "stderr",
     "output_type": "stream",
     "text": [
      "/home/ubuntu/anaconda3/lib/python3.8/site-packages/sklearn/neural_network/_multilayer_perceptron.py:614: ConvergenceWarning: Stochastic Optimizer: Maximum iterations (200) reached and the optimization hasn't converged yet.\n",
      "  warnings.warn(\n"
     ]
    },
    {
     "name": "stdout",
     "output_type": "stream",
     "text": [
      "{'activation': 'logistic', 'alpha': 0.2, 'early_stopping': False, 'hidden_layer_sizes': (50, 10)}\n"
     ]
    },
    {
     "name": "stderr",
     "output_type": "stream",
     "text": [
      "/home/ubuntu/anaconda3/lib/python3.8/site-packages/sklearn/neural_network/_multilayer_perceptron.py:614: ConvergenceWarning: Stochastic Optimizer: Maximum iterations (200) reached and the optimization hasn't converged yet.\n",
      "  warnings.warn(\n"
     ]
    },
    {
     "name": "stdout",
     "output_type": "stream",
     "text": [
      "{'activation': 'logistic', 'alpha': 0.2, 'early_stopping': False, 'hidden_layer_sizes': (50, 10)}\n",
      "{'activation': 'logistic', 'alpha': 0.05, 'early_stopping': True, 'hidden_layer_sizes': (50,)}\n"
     ]
    },
    {
     "name": "stderr",
     "output_type": "stream",
     "text": [
      "/home/ubuntu/anaconda3/lib/python3.8/site-packages/sklearn/neural_network/_multilayer_perceptron.py:614: ConvergenceWarning: Stochastic Optimizer: Maximum iterations (200) reached and the optimization hasn't converged yet.\n",
      "  warnings.warn(\n"
     ]
    },
    {
     "name": "stdout",
     "output_type": "stream",
     "text": [
      "{'activation': 'logistic', 'alpha': 0.1, 'early_stopping': False, 'hidden_layer_sizes': (50, 10)}\n"
     ]
    },
    {
     "name": "stderr",
     "output_type": "stream",
     "text": [
      "/home/ubuntu/anaconda3/lib/python3.8/site-packages/sklearn/neural_network/_multilayer_perceptron.py:614: ConvergenceWarning: Stochastic Optimizer: Maximum iterations (200) reached and the optimization hasn't converged yet.\n",
      "  warnings.warn(\n"
     ]
    },
    {
     "name": "stdout",
     "output_type": "stream",
     "text": [
      "{'activation': 'logistic', 'alpha': 0.01, 'early_stopping': True, 'hidden_layer_sizes': (50, 10)}\n"
     ]
    },
    {
     "name": "stderr",
     "output_type": "stream",
     "text": [
      "/home/ubuntu/anaconda3/lib/python3.8/site-packages/sklearn/neural_network/_multilayer_perceptron.py:614: ConvergenceWarning: Stochastic Optimizer: Maximum iterations (200) reached and the optimization hasn't converged yet.\n",
      "  warnings.warn(\n"
     ]
    },
    {
     "name": "stdout",
     "output_type": "stream",
     "text": [
      "{'activation': 'logistic', 'alpha': 0.01, 'early_stopping': False, 'hidden_layer_sizes': (50, 10)}\n"
     ]
    },
    {
     "name": "stderr",
     "output_type": "stream",
     "text": [
      "/home/ubuntu/anaconda3/lib/python3.8/site-packages/sklearn/neural_network/_multilayer_perceptron.py:614: ConvergenceWarning: Stochastic Optimizer: Maximum iterations (200) reached and the optimization hasn't converged yet.\n",
      "  warnings.warn(\n"
     ]
    },
    {
     "name": "stdout",
     "output_type": "stream",
     "text": [
      "{'activation': 'logistic', 'alpha': 0.01, 'early_stopping': False, 'hidden_layer_sizes': (50, 10)}\n",
      "{'activation': 'logistic', 'alpha': 0.05, 'early_stopping': True, 'hidden_layer_sizes': (50,)}\n",
      "{'activation': 'logistic', 'alpha': 0.0001, 'early_stopping': True, 'hidden_layer_sizes': (500,)}\n",
      "{'activation': 'logistic', 'alpha': 0.0001, 'early_stopping': True, 'hidden_layer_sizes': (500,)}\n",
      "{'activation': 'logistic', 'alpha': 0.2, 'early_stopping': True, 'hidden_layer_sizes': (10, 30, 10)}\n",
      "{'activation': 'logistic', 'alpha': 0.2, 'early_stopping': True, 'hidden_layer_sizes': (50, 10)}\n",
      "{'activation': 'logistic', 'alpha': 0.1, 'early_stopping': True, 'hidden_layer_sizes': (50, 10, 10)}\n",
      "{'activation': 'logistic', 'alpha': 0.05, 'early_stopping': True, 'hidden_layer_sizes': (50, 10)}\n",
      "{'activation': 'logistic', 'alpha': 0.2, 'early_stopping': True, 'hidden_layer_sizes': (50, 10, 10)}\n",
      "{'activation': 'logistic', 'alpha': 0.1, 'early_stopping': True, 'hidden_layer_sizes': (50, 10)}\n"
     ]
    },
    {
     "name": "stderr",
     "output_type": "stream",
     "text": [
      "/home/ubuntu/anaconda3/lib/python3.8/site-packages/sklearn/neural_network/_multilayer_perceptron.py:614: ConvergenceWarning: Stochastic Optimizer: Maximum iterations (200) reached and the optimization hasn't converged yet.\n",
      "  warnings.warn(\n"
     ]
    },
    {
     "name": "stdout",
     "output_type": "stream",
     "text": [
      "{'activation': 'logistic', 'alpha': 0.0001, 'early_stopping': True, 'hidden_layer_sizes': (50, 10, 10)}\n",
      "{'activation': 'logistic', 'alpha': 0.05, 'early_stopping': True, 'hidden_layer_sizes': (50,)}\n",
      "{'activation': 'logistic', 'alpha': 0.1, 'early_stopping': True, 'hidden_layer_sizes': (50, 10)}\n"
     ]
    },
    {
     "name": "stderr",
     "output_type": "stream",
     "text": [
      "/home/ubuntu/anaconda3/lib/python3.8/site-packages/sklearn/neural_network/_multilayer_perceptron.py:614: ConvergenceWarning: Stochastic Optimizer: Maximum iterations (200) reached and the optimization hasn't converged yet.\n",
      "  warnings.warn(\n"
     ]
    },
    {
     "name": "stdout",
     "output_type": "stream",
     "text": [
      "{'activation': 'logistic', 'alpha': 0.2, 'early_stopping': False, 'hidden_layer_sizes': (50, 10)}\n"
     ]
    },
    {
     "name": "stderr",
     "output_type": "stream",
     "text": [
      "/home/ubuntu/anaconda3/lib/python3.8/site-packages/sklearn/neural_network/_multilayer_perceptron.py:614: ConvergenceWarning: Stochastic Optimizer: Maximum iterations (200) reached and the optimization hasn't converged yet.\n",
      "  warnings.warn(\n"
     ]
    },
    {
     "name": "stdout",
     "output_type": "stream",
     "text": [
      "{'activation': 'logistic', 'alpha': 0.01, 'early_stopping': False, 'hidden_layer_sizes': (50, 10)}\n"
     ]
    },
    {
     "name": "stderr",
     "output_type": "stream",
     "text": [
      "/home/ubuntu/anaconda3/lib/python3.8/site-packages/sklearn/neural_network/_multilayer_perceptron.py:614: ConvergenceWarning: Stochastic Optimizer: Maximum iterations (200) reached and the optimization hasn't converged yet.\n",
      "  warnings.warn(\n"
     ]
    },
    {
     "name": "stdout",
     "output_type": "stream",
     "text": [
      "{'activation': 'logistic', 'alpha': 0.01, 'early_stopping': False, 'hidden_layer_sizes': (50, 10)}\n"
     ]
    },
    {
     "name": "stderr",
     "output_type": "stream",
     "text": [
      "/home/ubuntu/anaconda3/lib/python3.8/site-packages/sklearn/neural_network/_multilayer_perceptron.py:614: ConvergenceWarning: Stochastic Optimizer: Maximum iterations (200) reached and the optimization hasn't converged yet.\n",
      "  warnings.warn(\n"
     ]
    },
    {
     "name": "stdout",
     "output_type": "stream",
     "text": [
      "{'activation': 'logistic', 'alpha': 0.01, 'early_stopping': False, 'hidden_layer_sizes': (50, 10)}\n"
     ]
    },
    {
     "name": "stderr",
     "output_type": "stream",
     "text": [
      "/home/ubuntu/anaconda3/lib/python3.8/site-packages/sklearn/neural_network/_multilayer_perceptron.py:614: ConvergenceWarning: Stochastic Optimizer: Maximum iterations (200) reached and the optimization hasn't converged yet.\n",
      "  warnings.warn(\n"
     ]
    },
    {
     "name": "stdout",
     "output_type": "stream",
     "text": [
      "{'activation': 'logistic', 'alpha': 0.0001, 'early_stopping': False, 'hidden_layer_sizes': (50, 10)}\n",
      "{'activation': 'logistic', 'alpha': 0.05, 'early_stopping': True, 'hidden_layer_sizes': (500,)}\n",
      "{'activation': 'logistic', 'alpha': 0.2, 'early_stopping': True, 'hidden_layer_sizes': (50, 10)}\n"
     ]
    },
    {
     "name": "stderr",
     "output_type": "stream",
     "text": [
      "/home/ubuntu/anaconda3/lib/python3.8/site-packages/sklearn/neural_network/_multilayer_perceptron.py:614: ConvergenceWarning: Stochastic Optimizer: Maximum iterations (200) reached and the optimization hasn't converged yet.\n",
      "  warnings.warn(\n"
     ]
    },
    {
     "name": "stdout",
     "output_type": "stream",
     "text": [
      "{'activation': 'logistic', 'alpha': 0.1, 'early_stopping': False, 'hidden_layer_sizes': (50, 10)}\n"
     ]
    },
    {
     "name": "stderr",
     "output_type": "stream",
     "text": [
      "/home/ubuntu/anaconda3/lib/python3.8/site-packages/sklearn/neural_network/_multilayer_perceptron.py:614: ConvergenceWarning: Stochastic Optimizer: Maximum iterations (200) reached and the optimization hasn't converged yet.\n",
      "  warnings.warn(\n"
     ]
    },
    {
     "name": "stdout",
     "output_type": "stream",
     "text": [
      "{'activation': 'logistic', 'alpha': 0.1, 'early_stopping': False, 'hidden_layer_sizes': (50, 10)}\n"
     ]
    },
    {
     "name": "stderr",
     "output_type": "stream",
     "text": [
      "/home/ubuntu/anaconda3/lib/python3.8/site-packages/sklearn/neural_network/_multilayer_perceptron.py:614: ConvergenceWarning: Stochastic Optimizer: Maximum iterations (200) reached and the optimization hasn't converged yet.\n",
      "  warnings.warn(\n"
     ]
    },
    {
     "name": "stdout",
     "output_type": "stream",
     "text": [
      "{'activation': 'logistic', 'alpha': 0.1, 'early_stopping': False, 'hidden_layer_sizes': (10, 30, 10)}\n",
      "{'activation': 'relu', 'alpha': 0.05, 'early_stopping': True, 'hidden_layer_sizes': (10, 30, 10)}\n",
      "{'activation': 'logistic', 'alpha': 0.1, 'early_stopping': True, 'hidden_layer_sizes': (200,)}\n"
     ]
    },
    {
     "name": "stderr",
     "output_type": "stream",
     "text": [
      "/home/ubuntu/anaconda3/lib/python3.8/site-packages/sklearn/neural_network/_multilayer_perceptron.py:614: ConvergenceWarning: Stochastic Optimizer: Maximum iterations (200) reached and the optimization hasn't converged yet.\n",
      "  warnings.warn(\n"
     ]
    },
    {
     "name": "stdout",
     "output_type": "stream",
     "text": [
      "{'activation': 'logistic', 'alpha': 0.0001, 'early_stopping': False, 'hidden_layer_sizes': (50, 10)}\n"
     ]
    },
    {
     "name": "stderr",
     "output_type": "stream",
     "text": [
      "/home/ubuntu/anaconda3/lib/python3.8/site-packages/sklearn/neural_network/_multilayer_perceptron.py:614: ConvergenceWarning: Stochastic Optimizer: Maximum iterations (200) reached and the optimization hasn't converged yet.\n",
      "  warnings.warn(\n"
     ]
    },
    {
     "name": "stdout",
     "output_type": "stream",
     "text": [
      "{'activation': 'logistic', 'alpha': 0.01, 'early_stopping': False, 'hidden_layer_sizes': (50, 10, 10)}\n"
     ]
    },
    {
     "name": "stderr",
     "output_type": "stream",
     "text": [
      "/home/ubuntu/anaconda3/lib/python3.8/site-packages/sklearn/neural_network/_multilayer_perceptron.py:614: ConvergenceWarning: Stochastic Optimizer: Maximum iterations (200) reached and the optimization hasn't converged yet.\n",
      "  warnings.warn(\n"
     ]
    },
    {
     "name": "stdout",
     "output_type": "stream",
     "text": [
      "{'activation': 'logistic', 'alpha': 0.0001, 'early_stopping': True, 'hidden_layer_sizes': (50, 10)}\n"
     ]
    },
    {
     "name": "stderr",
     "output_type": "stream",
     "text": [
      "/home/ubuntu/anaconda3/lib/python3.8/site-packages/sklearn/neural_network/_multilayer_perceptron.py:614: ConvergenceWarning: Stochastic Optimizer: Maximum iterations (200) reached and the optimization hasn't converged yet.\n",
      "  warnings.warn(\n"
     ]
    },
    {
     "name": "stdout",
     "output_type": "stream",
     "text": [
      "{'activation': 'logistic', 'alpha': 0.2, 'early_stopping': True, 'hidden_layer_sizes': (50, 10, 10)}\n"
     ]
    },
    {
     "name": "stderr",
     "output_type": "stream",
     "text": [
      "/home/ubuntu/anaconda3/lib/python3.8/site-packages/sklearn/neural_network/_multilayer_perceptron.py:614: ConvergenceWarning: Stochastic Optimizer: Maximum iterations (200) reached and the optimization hasn't converged yet.\n",
      "  warnings.warn(\n"
     ]
    },
    {
     "name": "stdout",
     "output_type": "stream",
     "text": [
      "{'activation': 'logistic', 'alpha': 0.2, 'early_stopping': False, 'hidden_layer_sizes': (50, 10, 10)}\n"
     ]
    },
    {
     "name": "stderr",
     "output_type": "stream",
     "text": [
      "/home/ubuntu/anaconda3/lib/python3.8/site-packages/sklearn/neural_network/_multilayer_perceptron.py:614: ConvergenceWarning: Stochastic Optimizer: Maximum iterations (200) reached and the optimization hasn't converged yet.\n",
      "  warnings.warn(\n"
     ]
    },
    {
     "name": "stdout",
     "output_type": "stream",
     "text": [
      "{'activation': 'logistic', 'alpha': 0.1, 'early_stopping': True, 'hidden_layer_sizes': (50, 10, 10)}\n",
      "{'activation': 'logistic', 'alpha': 0.1, 'early_stopping': True, 'hidden_layer_sizes': (50,)}\n"
     ]
    },
    {
     "name": "stderr",
     "output_type": "stream",
     "text": [
      "/home/ubuntu/anaconda3/lib/python3.8/site-packages/sklearn/neural_network/_multilayer_perceptron.py:614: ConvergenceWarning: Stochastic Optimizer: Maximum iterations (200) reached and the optimization hasn't converged yet.\n",
      "  warnings.warn(\n"
     ]
    },
    {
     "name": "stdout",
     "output_type": "stream",
     "text": [
      "{'activation': 'logistic', 'alpha': 0.2, 'early_stopping': False, 'hidden_layer_sizes': (50, 10, 10)}\n"
     ]
    },
    {
     "name": "stderr",
     "output_type": "stream",
     "text": [
      "/home/ubuntu/anaconda3/lib/python3.8/site-packages/sklearn/neural_network/_multilayer_perceptron.py:614: ConvergenceWarning: Stochastic Optimizer: Maximum iterations (200) reached and the optimization hasn't converged yet.\n",
      "  warnings.warn(\n"
     ]
    },
    {
     "name": "stdout",
     "output_type": "stream",
     "text": [
      "{'activation': 'logistic', 'alpha': 0.01, 'early_stopping': False, 'hidden_layer_sizes': (10, 30, 10)}\n",
      "{'activation': 'tanh', 'alpha': 0.1, 'early_stopping': True, 'hidden_layer_sizes': (10, 30, 10)}\n",
      "{'activation': 'logistic', 'alpha': 0.2, 'early_stopping': True, 'hidden_layer_sizes': (50,)}\n",
      "{'activation': 'logistic', 'alpha': 0.05, 'early_stopping': True, 'hidden_layer_sizes': (50, 10, 10)}\n",
      "{'activation': 'logistic', 'alpha': 0.05, 'early_stopping': True, 'hidden_layer_sizes': (50, 10)}\n",
      "{'activation': 'relu', 'alpha': 0.2, 'early_stopping': True, 'hidden_layer_sizes': (50, 10, 10)}\n"
     ]
    },
    {
     "name": "stderr",
     "output_type": "stream",
     "text": [
      "/home/ubuntu/anaconda3/lib/python3.8/site-packages/sklearn/neural_network/_multilayer_perceptron.py:614: ConvergenceWarning: Stochastic Optimizer: Maximum iterations (200) reached and the optimization hasn't converged yet.\n",
      "  warnings.warn(\n"
     ]
    },
    {
     "name": "stdout",
     "output_type": "stream",
     "text": [
      "{'activation': 'logistic', 'alpha': 0.2, 'early_stopping': False, 'hidden_layer_sizes': (10, 30, 10)}\n",
      "{'activation': 'logistic', 'alpha': 0.05, 'early_stopping': True, 'hidden_layer_sizes': (50, 10, 10)}\n",
      "{'activation': 'logistic', 'alpha': 0.01, 'early_stopping': True, 'hidden_layer_sizes': (50, 10)}\n",
      "{'activation': 'logistic', 'alpha': 0.2, 'early_stopping': True, 'hidden_layer_sizes': (200,)}\n",
      "{'activation': 'logistic', 'alpha': 0.1, 'early_stopping': True, 'hidden_layer_sizes': (200,)}\n",
      "{'activation': 'logistic', 'alpha': 0.1, 'early_stopping': True, 'hidden_layer_sizes': (50, 10, 10)}\n",
      "{'activation': 'logistic', 'alpha': 0.01, 'early_stopping': True, 'hidden_layer_sizes': (200,)}\n"
     ]
    },
    {
     "name": "stderr",
     "output_type": "stream",
     "text": [
      "/home/ubuntu/anaconda3/lib/python3.8/site-packages/sklearn/neural_network/_multilayer_perceptron.py:614: ConvergenceWarning: Stochastic Optimizer: Maximum iterations (200) reached and the optimization hasn't converged yet.\n",
      "  warnings.warn(\n"
     ]
    },
    {
     "name": "stdout",
     "output_type": "stream",
     "text": [
      "{'activation': 'logistic', 'alpha': 0.0001, 'early_stopping': False, 'hidden_layer_sizes': (10, 30, 10)}\n",
      "{'activation': 'logistic', 'alpha': 0.0001, 'early_stopping': True, 'hidden_layer_sizes': (50, 10)}\n",
      "{'activation': 'logistic', 'alpha': 0.0001, 'early_stopping': True, 'hidden_layer_sizes': (50, 10, 10)}\n"
     ]
    },
    {
     "name": "stderr",
     "output_type": "stream",
     "text": [
      "/home/ubuntu/anaconda3/lib/python3.8/site-packages/sklearn/neural_network/_multilayer_perceptron.py:614: ConvergenceWarning: Stochastic Optimizer: Maximum iterations (200) reached and the optimization hasn't converged yet.\n",
      "  warnings.warn(\n"
     ]
    },
    {
     "name": "stdout",
     "output_type": "stream",
     "text": [
      "{'activation': 'relu', 'alpha': 0.2, 'early_stopping': False, 'hidden_layer_sizes': (500,)}\n"
     ]
    },
    {
     "name": "stderr",
     "output_type": "stream",
     "text": [
      "/home/ubuntu/anaconda3/lib/python3.8/site-packages/sklearn/neural_network/_multilayer_perceptron.py:614: ConvergenceWarning: Stochastic Optimizer: Maximum iterations (200) reached and the optimization hasn't converged yet.\n",
      "  warnings.warn(\n"
     ]
    },
    {
     "name": "stdout",
     "output_type": "stream",
     "text": [
      "{'activation': 'relu', 'alpha': 0.0001, 'early_stopping': False, 'hidden_layer_sizes': (10, 30, 10)}\n",
      "{'activation': 'relu', 'alpha': 0.05, 'early_stopping': False, 'hidden_layer_sizes': (50, 10)}\n"
     ]
    },
    {
     "name": "stderr",
     "output_type": "stream",
     "text": [
      "/home/ubuntu/anaconda3/lib/python3.8/site-packages/sklearn/neural_network/_multilayer_perceptron.py:614: ConvergenceWarning: Stochastic Optimizer: Maximum iterations (200) reached and the optimization hasn't converged yet.\n",
      "  warnings.warn(\n"
     ]
    },
    {
     "name": "stdout",
     "output_type": "stream",
     "text": [
      "{'activation': 'relu', 'alpha': 0.05, 'early_stopping': False, 'hidden_layer_sizes': (10, 30, 10)}\n",
      "{'activation': 'relu', 'alpha': 0.1, 'early_stopping': False, 'hidden_layer_sizes': (500,)}\n",
      "{'activation': 'relu', 'alpha': 0.05, 'early_stopping': False, 'hidden_layer_sizes': (500,)}\n",
      "{'activation': 'relu', 'alpha': 0.01, 'early_stopping': False, 'hidden_layer_sizes': (500,)}\n"
     ]
    },
    {
     "name": "stderr",
     "output_type": "stream",
     "text": [
      "/home/ubuntu/anaconda3/lib/python3.8/site-packages/sklearn/neural_network/_multilayer_perceptron.py:614: ConvergenceWarning: Stochastic Optimizer: Maximum iterations (200) reached and the optimization hasn't converged yet.\n",
      "  warnings.warn(\n"
     ]
    },
    {
     "name": "stdout",
     "output_type": "stream",
     "text": [
      "{'activation': 'relu', 'alpha': 0.2, 'early_stopping': False, 'hidden_layer_sizes': (50, 10, 10)}\n",
      "{'activation': 'relu', 'alpha': 0.1, 'early_stopping': False, 'hidden_layer_sizes': (500,)}\n",
      "{'activation': 'logistic', 'alpha': 0.0001, 'early_stopping': True, 'hidden_layer_sizes': (10, 30, 10)}\n"
     ]
    },
    {
     "name": "stderr",
     "output_type": "stream",
     "text": [
      "/home/ubuntu/anaconda3/lib/python3.8/site-packages/sklearn/neural_network/_multilayer_perceptron.py:614: ConvergenceWarning: Stochastic Optimizer: Maximum iterations (200) reached and the optimization hasn't converged yet.\n",
      "  warnings.warn(\n"
     ]
    },
    {
     "name": "stdout",
     "output_type": "stream",
     "text": [
      "{'activation': 'logistic', 'alpha': 0.0001, 'early_stopping': False, 'hidden_layer_sizes': (10, 30, 10)}\n",
      "{'activation': 'logistic', 'alpha': 0.05, 'early_stopping': True, 'hidden_layer_sizes': (50, 10, 10)}\n",
      "{'activation': 'logistic', 'alpha': 0.0001, 'early_stopping': True, 'hidden_layer_sizes': (200,)}\n",
      "{'activation': 'logistic', 'alpha': 0.1, 'early_stopping': True, 'hidden_layer_sizes': (50,)}\n",
      "{'activation': 'logistic', 'alpha': 0.0001, 'early_stopping': True, 'hidden_layer_sizes': (50, 10)}\n"
     ]
    },
    {
     "name": "stderr",
     "output_type": "stream",
     "text": [
      "/home/ubuntu/anaconda3/lib/python3.8/site-packages/sklearn/neural_network/_multilayer_perceptron.py:614: ConvergenceWarning: Stochastic Optimizer: Maximum iterations (200) reached and the optimization hasn't converged yet.\n",
      "  warnings.warn(\n"
     ]
    },
    {
     "name": "stdout",
     "output_type": "stream",
     "text": [
      "{'activation': 'logistic', 'alpha': 0.0001, 'early_stopping': True, 'hidden_layer_sizes': (50, 10, 10)}\n",
      "{'activation': 'logistic', 'alpha': 0.2, 'early_stopping': True, 'hidden_layer_sizes': (50, 10)}\n",
      "{'activation': 'logistic', 'alpha': 0.1, 'early_stopping': True, 'hidden_layer_sizes': (50, 10)}\n",
      "{'activation': 'logistic', 'alpha': 0.2, 'early_stopping': True, 'hidden_layer_sizes': (50,)}\n"
     ]
    },
    {
     "name": "stderr",
     "output_type": "stream",
     "text": [
      "/home/ubuntu/anaconda3/lib/python3.8/site-packages/sklearn/neural_network/_multilayer_perceptron.py:614: ConvergenceWarning: Stochastic Optimizer: Maximum iterations (200) reached and the optimization hasn't converged yet.\n",
      "  warnings.warn(\n"
     ]
    },
    {
     "name": "stdout",
     "output_type": "stream",
     "text": [
      "{'activation': 'logistic', 'alpha': 0.01, 'early_stopping': False, 'hidden_layer_sizes': (10, 30, 10)}\n",
      "{'activation': 'logistic', 'alpha': 0.1, 'early_stopping': True, 'hidden_layer_sizes': (50,)}\n",
      "{'activation': 'logistic', 'alpha': 0.01, 'early_stopping': True, 'hidden_layer_sizes': (50, 10)}\n",
      "{'activation': 'logistic', 'alpha': 0.1, 'early_stopping': True, 'hidden_layer_sizes': (200,)}\n",
      "{'activation': 'logistic', 'alpha': 0.05, 'early_stopping': True, 'hidden_layer_sizes': (200,)}\n",
      "{'activation': 'tanh', 'alpha': 0.05, 'early_stopping': True, 'hidden_layer_sizes': (10, 30, 10)}\n",
      "{'activation': 'logistic', 'alpha': 0.01, 'early_stopping': True, 'hidden_layer_sizes': (500,)}\n",
      "{'activation': 'logistic', 'alpha': 0.0001, 'early_stopping': True, 'hidden_layer_sizes': (50, 10)}\n"
     ]
    },
    {
     "name": "stderr",
     "output_type": "stream",
     "text": [
      "/home/ubuntu/anaconda3/lib/python3.8/site-packages/sklearn/neural_network/_multilayer_perceptron.py:614: ConvergenceWarning: Stochastic Optimizer: Maximum iterations (200) reached and the optimization hasn't converged yet.\n",
      "  warnings.warn(\n"
     ]
    },
    {
     "name": "stdout",
     "output_type": "stream",
     "text": [
      "{'activation': 'logistic', 'alpha': 0.2, 'early_stopping': False, 'hidden_layer_sizes': (50, 10, 10)}\n"
     ]
    },
    {
     "name": "stderr",
     "output_type": "stream",
     "text": [
      "/home/ubuntu/anaconda3/lib/python3.8/site-packages/sklearn/neural_network/_multilayer_perceptron.py:614: ConvergenceWarning: Stochastic Optimizer: Maximum iterations (200) reached and the optimization hasn't converged yet.\n",
      "  warnings.warn(\n"
     ]
    },
    {
     "name": "stdout",
     "output_type": "stream",
     "text": [
      "{'activation': 'tanh', 'alpha': 0.2, 'early_stopping': False, 'hidden_layer_sizes': (500,)}\n",
      "{'activation': 'tanh', 'alpha': 0.01, 'early_stopping': False, 'hidden_layer_sizes': (500,)}\n",
      "{'activation': 'logistic', 'alpha': 0.2, 'early_stopping': True, 'hidden_layer_sizes': (50, 10)}\n"
     ]
    },
    {
     "name": "stderr",
     "output_type": "stream",
     "text": [
      "/home/ubuntu/anaconda3/lib/python3.8/site-packages/sklearn/neural_network/_multilayer_perceptron.py:614: ConvergenceWarning: Stochastic Optimizer: Maximum iterations (200) reached and the optimization hasn't converged yet.\n",
      "  warnings.warn(\n"
     ]
    },
    {
     "name": "stdout",
     "output_type": "stream",
     "text": [
      "{'activation': 'tanh', 'alpha': 0.05, 'early_stopping': False, 'hidden_layer_sizes': (500,)}\n"
     ]
    },
    {
     "name": "stderr",
     "output_type": "stream",
     "text": [
      "/home/ubuntu/anaconda3/lib/python3.8/site-packages/sklearn/neural_network/_multilayer_perceptron.py:614: ConvergenceWarning: Stochastic Optimizer: Maximum iterations (200) reached and the optimization hasn't converged yet.\n",
      "  warnings.warn(\n"
     ]
    },
    {
     "name": "stdout",
     "output_type": "stream",
     "text": [
      "{'activation': 'logistic', 'alpha': 0.1, 'early_stopping': False, 'hidden_layer_sizes': (50, 10, 10)}\n",
      "{'activation': 'tanh', 'alpha': 0.01, 'early_stopping': False, 'hidden_layer_sizes': (500,)}\n",
      "{'activation': 'tanh', 'alpha': 0.01, 'early_stopping': False, 'hidden_layer_sizes': (500,)}\n"
     ]
    },
    {
     "name": "stderr",
     "output_type": "stream",
     "text": [
      "/home/ubuntu/anaconda3/lib/python3.8/site-packages/sklearn/neural_network/_multilayer_perceptron.py:614: ConvergenceWarning: Stochastic Optimizer: Maximum iterations (200) reached and the optimization hasn't converged yet.\n",
      "  warnings.warn(\n"
     ]
    },
    {
     "name": "stdout",
     "output_type": "stream",
     "text": [
      "{'activation': 'tanh', 'alpha': 0.01, 'early_stopping': False, 'hidden_layer_sizes': (500,)}\n",
      "{'activation': 'logistic', 'alpha': 0.01, 'early_stopping': True, 'hidden_layer_sizes': (50,)}\n"
     ]
    },
    {
     "name": "stderr",
     "output_type": "stream",
     "text": [
      "/home/ubuntu/anaconda3/lib/python3.8/site-packages/sklearn/neural_network/_multilayer_perceptron.py:614: ConvergenceWarning: Stochastic Optimizer: Maximum iterations (200) reached and the optimization hasn't converged yet.\n",
      "  warnings.warn(\n"
     ]
    },
    {
     "name": "stdout",
     "output_type": "stream",
     "text": [
      "{'activation': 'logistic', 'alpha': 0.01, 'early_stopping': False, 'hidden_layer_sizes': (50, 10)}\n"
     ]
    },
    {
     "name": "stderr",
     "output_type": "stream",
     "text": [
      "/home/ubuntu/anaconda3/lib/python3.8/site-packages/sklearn/neural_network/_multilayer_perceptron.py:614: ConvergenceWarning: Stochastic Optimizer: Maximum iterations (200) reached and the optimization hasn't converged yet.\n",
      "  warnings.warn(\n"
     ]
    },
    {
     "name": "stdout",
     "output_type": "stream",
     "text": [
      "{'activation': 'logistic', 'alpha': 0.05, 'early_stopping': False, 'hidden_layer_sizes': (50, 10)}\n",
      "{'activation': 'logistic', 'alpha': 0.01, 'early_stopping': True, 'hidden_layer_sizes': (500,)}\n",
      "{'activation': 'logistic', 'alpha': 0.1, 'early_stopping': True, 'hidden_layer_sizes': (50,)}\n"
     ]
    },
    {
     "name": "stderr",
     "output_type": "stream",
     "text": [
      "/home/ubuntu/anaconda3/lib/python3.8/site-packages/sklearn/neural_network/_multilayer_perceptron.py:614: ConvergenceWarning: Stochastic Optimizer: Maximum iterations (200) reached and the optimization hasn't converged yet.\n",
      "  warnings.warn(\n"
     ]
    },
    {
     "name": "stdout",
     "output_type": "stream",
     "text": [
      "{'activation': 'logistic', 'alpha': 0.2, 'early_stopping': False, 'hidden_layer_sizes': (50, 10, 10)}\n",
      "{'activation': 'logistic', 'alpha': 0.0001, 'early_stopping': True, 'hidden_layer_sizes': (50,)}\n",
      "{'activation': 'logistic', 'alpha': 0.1, 'early_stopping': True, 'hidden_layer_sizes': (50, 10)}\n",
      "{'activation': 'logistic', 'alpha': 0.01, 'early_stopping': True, 'hidden_layer_sizes': (200,)}\n",
      "{'activation': 'logistic', 'alpha': 0.05, 'early_stopping': True, 'hidden_layer_sizes': (50, 10, 10)}\n",
      "{'activation': 'logistic', 'alpha': 0.2, 'early_stopping': True, 'hidden_layer_sizes': (10, 30, 10)}\n"
     ]
    },
    {
     "name": "stderr",
     "output_type": "stream",
     "text": [
      "/home/ubuntu/anaconda3/lib/python3.8/site-packages/sklearn/neural_network/_multilayer_perceptron.py:614: ConvergenceWarning: Stochastic Optimizer: Maximum iterations (200) reached and the optimization hasn't converged yet.\n",
      "  warnings.warn(\n"
     ]
    },
    {
     "name": "stdout",
     "output_type": "stream",
     "text": [
      "{'activation': 'logistic', 'alpha': 0.01, 'early_stopping': False, 'hidden_layer_sizes': (50, 10, 10)}\n",
      "{'activation': 'tanh', 'alpha': 0.2, 'early_stopping': True, 'hidden_layer_sizes': (10, 30, 10)}\n",
      "{'activation': 'logistic', 'alpha': 0.2, 'early_stopping': True, 'hidden_layer_sizes': (50, 10, 10)}\n",
      "{'activation': 'logistic', 'alpha': 0.2, 'early_stopping': False, 'hidden_layer_sizes': (10, 30, 10)}\n",
      "{'activation': 'logistic', 'alpha': 0.01, 'early_stopping': True, 'hidden_layer_sizes': (50, 10)}\n",
      "{'activation': 'logistic', 'alpha': 0.0001, 'early_stopping': True, 'hidden_layer_sizes': (200,)}\n",
      "{'activation': 'logistic', 'alpha': 0.01, 'early_stopping': True, 'hidden_layer_sizes': (50, 10)}\n"
     ]
    },
    {
     "name": "stderr",
     "output_type": "stream",
     "text": [
      "/home/ubuntu/anaconda3/lib/python3.8/site-packages/sklearn/neural_network/_multilayer_perceptron.py:614: ConvergenceWarning: Stochastic Optimizer: Maximum iterations (200) reached and the optimization hasn't converged yet.\n",
      "  warnings.warn(\n"
     ]
    },
    {
     "name": "stdout",
     "output_type": "stream",
     "text": [
      "{'activation': 'logistic', 'alpha': 0.05, 'early_stopping': False, 'hidden_layer_sizes': (50, 10)}\n"
     ]
    },
    {
     "name": "stderr",
     "output_type": "stream",
     "text": [
      "/home/ubuntu/anaconda3/lib/python3.8/site-packages/sklearn/neural_network/_multilayer_perceptron.py:614: ConvergenceWarning: Stochastic Optimizer: Maximum iterations (200) reached and the optimization hasn't converged yet.\n",
      "  warnings.warn(\n"
     ]
    },
    {
     "name": "stdout",
     "output_type": "stream",
     "text": [
      "{'activation': 'logistic', 'alpha': 0.2, 'early_stopping': False, 'hidden_layer_sizes': (50, 10)}\n",
      "{'activation': 'logistic', 'alpha': 0.01, 'early_stopping': True, 'hidden_layer_sizes': (50, 10)}\n"
     ]
    },
    {
     "name": "stderr",
     "output_type": "stream",
     "text": [
      "/home/ubuntu/anaconda3/lib/python3.8/site-packages/sklearn/neural_network/_multilayer_perceptron.py:614: ConvergenceWarning: Stochastic Optimizer: Maximum iterations (200) reached and the optimization hasn't converged yet.\n",
      "  warnings.warn(\n"
     ]
    },
    {
     "name": "stdout",
     "output_type": "stream",
     "text": [
      "{'activation': 'logistic', 'alpha': 0.01, 'early_stopping': False, 'hidden_layer_sizes': (50, 10)}\n"
     ]
    },
    {
     "name": "stderr",
     "output_type": "stream",
     "text": [
      "/home/ubuntu/anaconda3/lib/python3.8/site-packages/sklearn/neural_network/_multilayer_perceptron.py:614: ConvergenceWarning: Stochastic Optimizer: Maximum iterations (200) reached and the optimization hasn't converged yet.\n",
      "  warnings.warn(\n"
     ]
    },
    {
     "name": "stdout",
     "output_type": "stream",
     "text": [
      "{'activation': 'logistic', 'alpha': 0.2, 'early_stopping': False, 'hidden_layer_sizes': (50, 10)}\n",
      "{'activation': 'logistic', 'alpha': 0.0001, 'early_stopping': True, 'hidden_layer_sizes': (500,)}\n"
     ]
    },
    {
     "name": "stderr",
     "output_type": "stream",
     "text": [
      "/home/ubuntu/anaconda3/lib/python3.8/site-packages/sklearn/neural_network/_multilayer_perceptron.py:614: ConvergenceWarning: Stochastic Optimizer: Maximum iterations (200) reached and the optimization hasn't converged yet.\n",
      "  warnings.warn(\n"
     ]
    },
    {
     "name": "stdout",
     "output_type": "stream",
     "text": [
      "{'activation': 'logistic', 'alpha': 0.2, 'early_stopping': False, 'hidden_layer_sizes': (50, 10)}\n"
     ]
    },
    {
     "name": "stderr",
     "output_type": "stream",
     "text": [
      "/home/ubuntu/anaconda3/lib/python3.8/site-packages/sklearn/neural_network/_multilayer_perceptron.py:614: ConvergenceWarning: Stochastic Optimizer: Maximum iterations (200) reached and the optimization hasn't converged yet.\n",
      "  warnings.warn(\n"
     ]
    },
    {
     "name": "stdout",
     "output_type": "stream",
     "text": [
      "{'activation': 'logistic', 'alpha': 0.2, 'early_stopping': False, 'hidden_layer_sizes': (50, 10)}\n"
     ]
    },
    {
     "name": "stderr",
     "output_type": "stream",
     "text": [
      "/home/ubuntu/anaconda3/lib/python3.8/site-packages/sklearn/neural_network/_multilayer_perceptron.py:614: ConvergenceWarning: Stochastic Optimizer: Maximum iterations (200) reached and the optimization hasn't converged yet.\n",
      "  warnings.warn(\n"
     ]
    },
    {
     "name": "stdout",
     "output_type": "stream",
     "text": [
      "{'activation': 'logistic', 'alpha': 0.0001, 'early_stopping': False, 'hidden_layer_sizes': (50, 10)}\n",
      "{'activation': 'logistic', 'alpha': 0.01, 'early_stopping': True, 'hidden_layer_sizes': (50,)}\n"
     ]
    },
    {
     "name": "stderr",
     "output_type": "stream",
     "text": [
      "/home/ubuntu/anaconda3/lib/python3.8/site-packages/sklearn/neural_network/_multilayer_perceptron.py:614: ConvergenceWarning: Stochastic Optimizer: Maximum iterations (200) reached and the optimization hasn't converged yet.\n",
      "  warnings.warn(\n"
     ]
    },
    {
     "name": "stdout",
     "output_type": "stream",
     "text": [
      "{'activation': 'logistic', 'alpha': 0.2, 'early_stopping': False, 'hidden_layer_sizes': (50,)}\n"
     ]
    },
    {
     "name": "stderr",
     "output_type": "stream",
     "text": [
      "/home/ubuntu/anaconda3/lib/python3.8/site-packages/sklearn/neural_network/_multilayer_perceptron.py:614: ConvergenceWarning: Stochastic Optimizer: Maximum iterations (200) reached and the optimization hasn't converged yet.\n",
      "  warnings.warn(\n"
     ]
    },
    {
     "name": "stdout",
     "output_type": "stream",
     "text": [
      "{'activation': 'logistic', 'alpha': 0.2, 'early_stopping': False, 'hidden_layer_sizes': (50, 10)}\n"
     ]
    },
    {
     "name": "stderr",
     "output_type": "stream",
     "text": [
      "/home/ubuntu/anaconda3/lib/python3.8/site-packages/sklearn/neural_network/_multilayer_perceptron.py:614: ConvergenceWarning: Stochastic Optimizer: Maximum iterations (200) reached and the optimization hasn't converged yet.\n",
      "  warnings.warn(\n"
     ]
    },
    {
     "name": "stdout",
     "output_type": "stream",
     "text": [
      "{'activation': 'logistic', 'alpha': 0.2, 'early_stopping': False, 'hidden_layer_sizes': (200,)}\n",
      "{'activation': 'logistic', 'alpha': 0.2, 'early_stopping': True, 'hidden_layer_sizes': (50,)}\n",
      "{'activation': 'logistic', 'alpha': 0.2, 'early_stopping': True, 'hidden_layer_sizes': (50,)}\n",
      "{'activation': 'logistic', 'alpha': 0.0001, 'early_stopping': True, 'hidden_layer_sizes': (500,)}\n"
     ]
    },
    {
     "name": "stderr",
     "output_type": "stream",
     "text": [
      "/home/ubuntu/anaconda3/lib/python3.8/site-packages/sklearn/neural_network/_multilayer_perceptron.py:614: ConvergenceWarning: Stochastic Optimizer: Maximum iterations (200) reached and the optimization hasn't converged yet.\n",
      "  warnings.warn(\n"
     ]
    },
    {
     "name": "stdout",
     "output_type": "stream",
     "text": [
      "{'activation': 'logistic', 'alpha': 0.2, 'early_stopping': False, 'hidden_layer_sizes': (50, 10)}\n"
     ]
    },
    {
     "name": "stderr",
     "output_type": "stream",
     "text": [
      "/home/ubuntu/anaconda3/lib/python3.8/site-packages/sklearn/neural_network/_multilayer_perceptron.py:614: ConvergenceWarning: Stochastic Optimizer: Maximum iterations (200) reached and the optimization hasn't converged yet.\n",
      "  warnings.warn(\n"
     ]
    },
    {
     "name": "stdout",
     "output_type": "stream",
     "text": [
      "{'activation': 'logistic', 'alpha': 0.2, 'early_stopping': False, 'hidden_layer_sizes': (50, 10)}\n",
      "{'activation': 'relu', 'alpha': 0.0001, 'early_stopping': True, 'hidden_layer_sizes': (500,)}\n",
      "{'activation': 'logistic', 'alpha': 0.2, 'early_stopping': True, 'hidden_layer_sizes': (500,)}\n",
      "{'activation': 'logistic', 'alpha': 0.2, 'early_stopping': True, 'hidden_layer_sizes': (50,)}\n",
      "{'activation': 'logistic', 'alpha': 0.0001, 'early_stopping': True, 'hidden_layer_sizes': (500,)}\n"
     ]
    },
    {
     "name": "stderr",
     "output_type": "stream",
     "text": [
      "/home/ubuntu/anaconda3/lib/python3.8/site-packages/sklearn/neural_network/_multilayer_perceptron.py:614: ConvergenceWarning: Stochastic Optimizer: Maximum iterations (200) reached and the optimization hasn't converged yet.\n",
      "  warnings.warn(\n"
     ]
    },
    {
     "name": "stdout",
     "output_type": "stream",
     "text": [
      "{'activation': 'logistic', 'alpha': 0.2, 'early_stopping': False, 'hidden_layer_sizes': (50, 10)}\n"
     ]
    },
    {
     "name": "stderr",
     "output_type": "stream",
     "text": [
      "/home/ubuntu/anaconda3/lib/python3.8/site-packages/sklearn/neural_network/_multilayer_perceptron.py:614: ConvergenceWarning: Stochastic Optimizer: Maximum iterations (200) reached and the optimization hasn't converged yet.\n",
      "  warnings.warn(\n"
     ]
    },
    {
     "name": "stdout",
     "output_type": "stream",
     "text": [
      "{'activation': 'logistic', 'alpha': 0.1, 'early_stopping': False, 'hidden_layer_sizes': (50, 10)}\n",
      "{'activation': 'logistic', 'alpha': 0.0001, 'early_stopping': True, 'hidden_layer_sizes': (50,)}\n"
     ]
    },
    {
     "name": "stderr",
     "output_type": "stream",
     "text": [
      "/home/ubuntu/anaconda3/lib/python3.8/site-packages/sklearn/neural_network/_multilayer_perceptron.py:614: ConvergenceWarning: Stochastic Optimizer: Maximum iterations (200) reached and the optimization hasn't converged yet.\n",
      "  warnings.warn(\n"
     ]
    },
    {
     "name": "stdout",
     "output_type": "stream",
     "text": [
      "{'activation': 'relu', 'alpha': 0.2, 'early_stopping': False, 'hidden_layer_sizes': (50, 10, 10)}\n",
      "{'activation': 'relu', 'alpha': 0.2, 'early_stopping': True, 'hidden_layer_sizes': (50, 10, 10)}\n"
     ]
    },
    {
     "name": "stderr",
     "output_type": "stream",
     "text": [
      "/home/ubuntu/anaconda3/lib/python3.8/site-packages/sklearn/neural_network/_multilayer_perceptron.py:614: ConvergenceWarning: Stochastic Optimizer: Maximum iterations (200) reached and the optimization hasn't converged yet.\n",
      "  warnings.warn(\n"
     ]
    },
    {
     "name": "stdout",
     "output_type": "stream",
     "text": [
      "{'activation': 'logistic', 'alpha': 0.01, 'early_stopping': False, 'hidden_layer_sizes': (50, 10, 10)}\n"
     ]
    },
    {
     "name": "stderr",
     "output_type": "stream",
     "text": [
      "/home/ubuntu/anaconda3/lib/python3.8/site-packages/sklearn/neural_network/_multilayer_perceptron.py:614: ConvergenceWarning: Stochastic Optimizer: Maximum iterations (200) reached and the optimization hasn't converged yet.\n",
      "  warnings.warn(\n"
     ]
    },
    {
     "name": "stdout",
     "output_type": "stream",
     "text": [
      "{'activation': 'logistic', 'alpha': 0.01, 'early_stopping': False, 'hidden_layer_sizes': (10, 30, 10)}\n"
     ]
    },
    {
     "name": "stderr",
     "output_type": "stream",
     "text": [
      "/home/ubuntu/anaconda3/lib/python3.8/site-packages/sklearn/neural_network/_multilayer_perceptron.py:614: ConvergenceWarning: Stochastic Optimizer: Maximum iterations (200) reached and the optimization hasn't converged yet.\n",
      "  warnings.warn(\n"
     ]
    },
    {
     "name": "stdout",
     "output_type": "stream",
     "text": [
      "{'activation': 'logistic', 'alpha': 0.01, 'early_stopping': False, 'hidden_layer_sizes': (10, 30, 10)}\n",
      "{'activation': 'logistic', 'alpha': 0.01, 'early_stopping': True, 'hidden_layer_sizes': (50, 10)}\n"
     ]
    },
    {
     "name": "stderr",
     "output_type": "stream",
     "text": [
      "/home/ubuntu/anaconda3/lib/python3.8/site-packages/sklearn/neural_network/_multilayer_perceptron.py:614: ConvergenceWarning: Stochastic Optimizer: Maximum iterations (200) reached and the optimization hasn't converged yet.\n",
      "  warnings.warn(\n"
     ]
    },
    {
     "name": "stdout",
     "output_type": "stream",
     "text": [
      "{'activation': 'logistic', 'alpha': 0.05, 'early_stopping': False, 'hidden_layer_sizes': (50, 10, 10)}\n"
     ]
    },
    {
     "name": "stderr",
     "output_type": "stream",
     "text": [
      "/home/ubuntu/anaconda3/lib/python3.8/site-packages/sklearn/neural_network/_multilayer_perceptron.py:614: ConvergenceWarning: Stochastic Optimizer: Maximum iterations (200) reached and the optimization hasn't converged yet.\n",
      "  warnings.warn(\n"
     ]
    },
    {
     "name": "stdout",
     "output_type": "stream",
     "text": [
      "{'activation': 'logistic', 'alpha': 0.05, 'early_stopping': False, 'hidden_layer_sizes': (10, 30, 10)}\n"
     ]
    },
    {
     "name": "stderr",
     "output_type": "stream",
     "text": [
      "/home/ubuntu/anaconda3/lib/python3.8/site-packages/sklearn/neural_network/_multilayer_perceptron.py:614: ConvergenceWarning: Stochastic Optimizer: Maximum iterations (200) reached and the optimization hasn't converged yet.\n",
      "  warnings.warn(\n"
     ]
    },
    {
     "name": "stdout",
     "output_type": "stream",
     "text": [
      "{'activation': 'logistic', 'alpha': 0.1, 'early_stopping': False, 'hidden_layer_sizes': (50, 10, 10)}\n",
      "{'activation': 'logistic', 'alpha': 0.1, 'early_stopping': True, 'hidden_layer_sizes': (50, 10)}\n"
     ]
    },
    {
     "name": "stderr",
     "output_type": "stream",
     "text": [
      "/home/ubuntu/anaconda3/lib/python3.8/site-packages/sklearn/neural_network/_multilayer_perceptron.py:614: ConvergenceWarning: Stochastic Optimizer: Maximum iterations (200) reached and the optimization hasn't converged yet.\n",
      "  warnings.warn(\n"
     ]
    },
    {
     "name": "stdout",
     "output_type": "stream",
     "text": [
      "{'activation': 'logistic', 'alpha': 0.2, 'early_stopping': False, 'hidden_layer_sizes': (50, 10, 10)}\n",
      "{'activation': 'logistic', 'alpha': 0.01, 'early_stopping': True, 'hidden_layer_sizes': (200,)}\n",
      "{'activation': 'logistic', 'alpha': 0.2, 'early_stopping': True, 'hidden_layer_sizes': (50,)}\n",
      "{'activation': 'logistic', 'alpha': 0.01, 'early_stopping': True, 'hidden_layer_sizes': (50, 10)}\n",
      "{'activation': 'relu', 'alpha': 0.0001, 'early_stopping': True, 'hidden_layer_sizes': (50, 10, 10)}\n",
      "{'activation': 'logistic', 'alpha': 0.1, 'early_stopping': True, 'hidden_layer_sizes': (50,)}\n",
      "{'activation': 'logistic', 'alpha': 0.05, 'early_stopping': True, 'hidden_layer_sizes': (500,)}\n",
      "{'activation': 'logistic', 'alpha': 0.2, 'early_stopping': True, 'hidden_layer_sizes': (50,)}\n",
      "{'activation': 'logistic', 'alpha': 0.0001, 'early_stopping': True, 'hidden_layer_sizes': (50,)}\n",
      "{'activation': 'logistic', 'alpha': 0.0001, 'early_stopping': True, 'hidden_layer_sizes': (50, 10)}\n"
     ]
    },
    {
     "name": "stderr",
     "output_type": "stream",
     "text": [
      "/home/ubuntu/anaconda3/lib/python3.8/site-packages/sklearn/neural_network/_multilayer_perceptron.py:614: ConvergenceWarning: Stochastic Optimizer: Maximum iterations (200) reached and the optimization hasn't converged yet.\n",
      "  warnings.warn(\n"
     ]
    },
    {
     "name": "stdout",
     "output_type": "stream",
     "text": [
      "{'activation': 'logistic', 'alpha': 0.05, 'early_stopping': False, 'hidden_layer_sizes': (50, 10, 10)}\n"
     ]
    },
    {
     "name": "stderr",
     "output_type": "stream",
     "text": [
      "/home/ubuntu/anaconda3/lib/python3.8/site-packages/sklearn/neural_network/_multilayer_perceptron.py:614: ConvergenceWarning: Stochastic Optimizer: Maximum iterations (200) reached and the optimization hasn't converged yet.\n",
      "  warnings.warn(\n"
     ]
    },
    {
     "name": "stdout",
     "output_type": "stream",
     "text": [
      "{'activation': 'logistic', 'alpha': 0.05, 'early_stopping': False, 'hidden_layer_sizes': (50, 10)}\n"
     ]
    },
    {
     "name": "stderr",
     "output_type": "stream",
     "text": [
      "/home/ubuntu/anaconda3/lib/python3.8/site-packages/sklearn/neural_network/_multilayer_perceptron.py:614: ConvergenceWarning: Stochastic Optimizer: Maximum iterations (200) reached and the optimization hasn't converged yet.\n",
      "  warnings.warn(\n"
     ]
    },
    {
     "name": "stdout",
     "output_type": "stream",
     "text": [
      "{'activation': 'logistic', 'alpha': 0.0001, 'early_stopping': False, 'hidden_layer_sizes': (50,)}\n"
     ]
    },
    {
     "name": "stderr",
     "output_type": "stream",
     "text": [
      "/home/ubuntu/anaconda3/lib/python3.8/site-packages/sklearn/neural_network/_multilayer_perceptron.py:614: ConvergenceWarning: Stochastic Optimizer: Maximum iterations (200) reached and the optimization hasn't converged yet.\n",
      "  warnings.warn(\n"
     ]
    },
    {
     "name": "stdout",
     "output_type": "stream",
     "text": [
      "{'activation': 'logistic', 'alpha': 0.2, 'early_stopping': False, 'hidden_layer_sizes': (10, 30, 10)}\n"
     ]
    },
    {
     "name": "stderr",
     "output_type": "stream",
     "text": [
      "/home/ubuntu/anaconda3/lib/python3.8/site-packages/sklearn/neural_network/_multilayer_perceptron.py:614: ConvergenceWarning: Stochastic Optimizer: Maximum iterations (200) reached and the optimization hasn't converged yet.\n",
      "  warnings.warn(\n"
     ]
    },
    {
     "name": "stdout",
     "output_type": "stream",
     "text": [
      "{'activation': 'logistic', 'alpha': 0.05, 'early_stopping': False, 'hidden_layer_sizes': (50,)}\n"
     ]
    },
    {
     "name": "stderr",
     "output_type": "stream",
     "text": [
      "/home/ubuntu/anaconda3/lib/python3.8/site-packages/sklearn/neural_network/_multilayer_perceptron.py:614: ConvergenceWarning: Stochastic Optimizer: Maximum iterations (200) reached and the optimization hasn't converged yet.\n",
      "  warnings.warn(\n"
     ]
    },
    {
     "name": "stdout",
     "output_type": "stream",
     "text": [
      "{'activation': 'logistic', 'alpha': 0.1, 'early_stopping': False, 'hidden_layer_sizes': (50, 10)}\n"
     ]
    },
    {
     "name": "stderr",
     "output_type": "stream",
     "text": [
      "/home/ubuntu/anaconda3/lib/python3.8/site-packages/sklearn/neural_network/_multilayer_perceptron.py:614: ConvergenceWarning: Stochastic Optimizer: Maximum iterations (200) reached and the optimization hasn't converged yet.\n",
      "  warnings.warn(\n"
     ]
    },
    {
     "name": "stdout",
     "output_type": "stream",
     "text": [
      "{'activation': 'logistic', 'alpha': 0.01, 'early_stopping': False, 'hidden_layer_sizes': (50,)}\n"
     ]
    },
    {
     "name": "stderr",
     "output_type": "stream",
     "text": [
      "/home/ubuntu/anaconda3/lib/python3.8/site-packages/sklearn/neural_network/_multilayer_perceptron.py:614: ConvergenceWarning: Stochastic Optimizer: Maximum iterations (200) reached and the optimization hasn't converged yet.\n",
      "  warnings.warn(\n"
     ]
    },
    {
     "name": "stdout",
     "output_type": "stream",
     "text": [
      "{'activation': 'logistic', 'alpha': 0.2, 'early_stopping': False, 'hidden_layer_sizes': (50, 10)}\n"
     ]
    },
    {
     "name": "stderr",
     "output_type": "stream",
     "text": [
      "/home/ubuntu/anaconda3/lib/python3.8/site-packages/sklearn/neural_network/_multilayer_perceptron.py:614: ConvergenceWarning: Stochastic Optimizer: Maximum iterations (200) reached and the optimization hasn't converged yet.\n",
      "  warnings.warn(\n"
     ]
    },
    {
     "name": "stdout",
     "output_type": "stream",
     "text": [
      "{'activation': 'logistic', 'alpha': 0.0001, 'early_stopping': False, 'hidden_layer_sizes': (50, 10)}\n",
      "{'activation': 'logistic', 'alpha': 0.2, 'early_stopping': True, 'hidden_layer_sizes': (50,)}\n",
      "{'activation': 'logistic', 'alpha': 0.05, 'early_stopping': True, 'hidden_layer_sizes': (50, 10)}\n"
     ]
    },
    {
     "name": "stderr",
     "output_type": "stream",
     "text": [
      "/home/ubuntu/anaconda3/lib/python3.8/site-packages/sklearn/neural_network/_multilayer_perceptron.py:614: ConvergenceWarning: Stochastic Optimizer: Maximum iterations (200) reached and the optimization hasn't converged yet.\n",
      "  warnings.warn(\n"
     ]
    },
    {
     "name": "stdout",
     "output_type": "stream",
     "text": [
      "{'activation': 'logistic', 'alpha': 0.05, 'early_stopping': False, 'hidden_layer_sizes': (50,)}\n",
      "{'activation': 'relu', 'alpha': 0.05, 'early_stopping': True, 'hidden_layer_sizes': (50, 10, 10)}\n",
      "{'activation': 'relu', 'alpha': 0.01, 'early_stopping': True, 'hidden_layer_sizes': (10, 30, 10)}\n",
      "{'activation': 'logistic', 'alpha': 0.01, 'early_stopping': True, 'hidden_layer_sizes': (50, 10)}\n"
     ]
    },
    {
     "name": "stderr",
     "output_type": "stream",
     "text": [
      "/home/ubuntu/anaconda3/lib/python3.8/site-packages/sklearn/neural_network/_multilayer_perceptron.py:614: ConvergenceWarning: Stochastic Optimizer: Maximum iterations (200) reached and the optimization hasn't converged yet.\n",
      "  warnings.warn(\n"
     ]
    },
    {
     "name": "stdout",
     "output_type": "stream",
     "text": [
      "{'activation': 'logistic', 'alpha': 0.0001, 'early_stopping': False, 'hidden_layer_sizes': (50,)}\n",
      "{'activation': 'logistic', 'alpha': 0.05, 'early_stopping': True, 'hidden_layer_sizes': (50, 10, 10)}\n",
      "{'activation': 'relu', 'alpha': 0.1, 'early_stopping': True, 'hidden_layer_sizes': (10, 30, 10)}\n",
      "{'activation': 'logistic', 'alpha': 0.1, 'early_stopping': True, 'hidden_layer_sizes': (50, 10)}\n",
      "{'activation': 'logistic', 'alpha': 0.0001, 'early_stopping': True, 'hidden_layer_sizes': (50, 10)}\n",
      "{'activation': 'logistic', 'alpha': 0.1, 'early_stopping': True, 'hidden_layer_sizes': (50, 10)}\n",
      "{'activation': 'logistic', 'alpha': 0.2, 'early_stopping': True, 'hidden_layer_sizes': (50, 10)}\n",
      "{'activation': 'logistic', 'alpha': 0.05, 'early_stopping': True, 'hidden_layer_sizes': (50, 10)}\n",
      "{'activation': 'logistic', 'alpha': 0.1, 'early_stopping': True, 'hidden_layer_sizes': (50, 10)}\n",
      "{'activation': 'logistic', 'alpha': 0.2, 'early_stopping': True, 'hidden_layer_sizes': (50, 10)}\n",
      "{'activation': 'logistic', 'alpha': 0.01, 'early_stopping': True, 'hidden_layer_sizes': (50, 10)}\n",
      "{'activation': 'logistic', 'alpha': 0.0001, 'early_stopping': True, 'hidden_layer_sizes': (50, 10)}\n"
     ]
    },
    {
     "name": "stderr",
     "output_type": "stream",
     "text": [
      "/home/ubuntu/anaconda3/lib/python3.8/site-packages/sklearn/neural_network/_multilayer_perceptron.py:614: ConvergenceWarning: Stochastic Optimizer: Maximum iterations (200) reached and the optimization hasn't converged yet.\n",
      "  warnings.warn(\n"
     ]
    },
    {
     "name": "stdout",
     "output_type": "stream",
     "text": [
      "{'activation': 'logistic', 'alpha': 0.2, 'early_stopping': False, 'hidden_layer_sizes': (200,)}\n"
     ]
    },
    {
     "name": "stderr",
     "output_type": "stream",
     "text": [
      "/home/ubuntu/anaconda3/lib/python3.8/site-packages/sklearn/neural_network/_multilayer_perceptron.py:614: ConvergenceWarning: Stochastic Optimizer: Maximum iterations (200) reached and the optimization hasn't converged yet.\n",
      "  warnings.warn(\n"
     ]
    },
    {
     "name": "stdout",
     "output_type": "stream",
     "text": [
      "{'activation': 'logistic', 'alpha': 0.1, 'early_stopping': False, 'hidden_layer_sizes': (50,)}\n"
     ]
    },
    {
     "name": "stderr",
     "output_type": "stream",
     "text": [
      "/home/ubuntu/anaconda3/lib/python3.8/site-packages/sklearn/neural_network/_multilayer_perceptron.py:614: ConvergenceWarning: Stochastic Optimizer: Maximum iterations (200) reached and the optimization hasn't converged yet.\n",
      "  warnings.warn(\n"
     ]
    },
    {
     "name": "stdout",
     "output_type": "stream",
     "text": [
      "{'activation': 'logistic', 'alpha': 0.2, 'early_stopping': False, 'hidden_layer_sizes': (50, 10)}\n"
     ]
    },
    {
     "name": "stderr",
     "output_type": "stream",
     "text": [
      "/home/ubuntu/anaconda3/lib/python3.8/site-packages/sklearn/neural_network/_multilayer_perceptron.py:614: ConvergenceWarning: Stochastic Optimizer: Maximum iterations (200) reached and the optimization hasn't converged yet.\n",
      "  warnings.warn(\n"
     ]
    },
    {
     "name": "stdout",
     "output_type": "stream",
     "text": [
      "{'activation': 'logistic', 'alpha': 0.05, 'early_stopping': False, 'hidden_layer_sizes': (200,)}\n"
     ]
    },
    {
     "name": "stderr",
     "output_type": "stream",
     "text": [
      "/home/ubuntu/anaconda3/lib/python3.8/site-packages/sklearn/neural_network/_multilayer_perceptron.py:614: ConvergenceWarning: Stochastic Optimizer: Maximum iterations (200) reached and the optimization hasn't converged yet.\n",
      "  warnings.warn(\n"
     ]
    },
    {
     "name": "stdout",
     "output_type": "stream",
     "text": [
      "{'activation': 'logistic', 'alpha': 0.1, 'early_stopping': False, 'hidden_layer_sizes': (50,)}\n"
     ]
    },
    {
     "name": "stderr",
     "output_type": "stream",
     "text": [
      "/home/ubuntu/anaconda3/lib/python3.8/site-packages/sklearn/neural_network/_multilayer_perceptron.py:614: ConvergenceWarning: Stochastic Optimizer: Maximum iterations (200) reached and the optimization hasn't converged yet.\n",
      "  warnings.warn(\n"
     ]
    },
    {
     "name": "stdout",
     "output_type": "stream",
     "text": [
      "{'activation': 'logistic', 'alpha': 0.05, 'early_stopping': False, 'hidden_layer_sizes': (50,)}\n",
      "{'activation': 'logistic', 'alpha': 0.1, 'early_stopping': True, 'hidden_layer_sizes': (50,)}\n"
     ]
    },
    {
     "name": "stderr",
     "output_type": "stream",
     "text": [
      "/home/ubuntu/anaconda3/lib/python3.8/site-packages/sklearn/neural_network/_multilayer_perceptron.py:614: ConvergenceWarning: Stochastic Optimizer: Maximum iterations (200) reached and the optimization hasn't converged yet.\n",
      "  warnings.warn(\n"
     ]
    },
    {
     "name": "stdout",
     "output_type": "stream",
     "text": [
      "{'activation': 'logistic', 'alpha': 0.1, 'early_stopping': False, 'hidden_layer_sizes': (200,)}\n"
     ]
    },
    {
     "name": "stderr",
     "output_type": "stream",
     "text": [
      "/home/ubuntu/anaconda3/lib/python3.8/site-packages/sklearn/neural_network/_multilayer_perceptron.py:614: ConvergenceWarning: Stochastic Optimizer: Maximum iterations (200) reached and the optimization hasn't converged yet.\n",
      "  warnings.warn(\n"
     ]
    },
    {
     "name": "stdout",
     "output_type": "stream",
     "text": [
      "{'activation': 'logistic', 'alpha': 0.05, 'early_stopping': False, 'hidden_layer_sizes': (500,)}\n",
      "{'activation': 'relu', 'alpha': 0.0001, 'early_stopping': True, 'hidden_layer_sizes': (500,)}\n",
      "{'activation': 'relu', 'alpha': 0.05, 'early_stopping': True, 'hidden_layer_sizes': (500,)}\n",
      "{'activation': 'relu', 'alpha': 0.1, 'early_stopping': True, 'hidden_layer_sizes': (500,)}\n"
     ]
    },
    {
     "name": "stderr",
     "output_type": "stream",
     "text": [
      "/home/ubuntu/anaconda3/lib/python3.8/site-packages/sklearn/neural_network/_multilayer_perceptron.py:614: ConvergenceWarning: Stochastic Optimizer: Maximum iterations (200) reached and the optimization hasn't converged yet.\n",
      "  warnings.warn(\n"
     ]
    },
    {
     "name": "stdout",
     "output_type": "stream",
     "text": [
      "{'activation': 'relu', 'alpha': 0.1, 'early_stopping': False, 'hidden_layer_sizes': (50, 10)}\n",
      "{'activation': 'relu', 'alpha': 0.0001, 'early_stopping': True, 'hidden_layer_sizes': (50, 10)}\n",
      "{'activation': 'tanh', 'alpha': 0.01, 'early_stopping': True, 'hidden_layer_sizes': (200,)}\n"
     ]
    },
    {
     "name": "stderr",
     "output_type": "stream",
     "text": [
      "/home/ubuntu/anaconda3/lib/python3.8/site-packages/sklearn/neural_network/_multilayer_perceptron.py:614: ConvergenceWarning: Stochastic Optimizer: Maximum iterations (200) reached and the optimization hasn't converged yet.\n",
      "  warnings.warn(\n"
     ]
    },
    {
     "name": "stdout",
     "output_type": "stream",
     "text": [
      "{'activation': 'relu', 'alpha': 0.2, 'early_stopping': False, 'hidden_layer_sizes': (50, 10)}\n"
     ]
    },
    {
     "name": "stderr",
     "output_type": "stream",
     "text": [
      "/home/ubuntu/anaconda3/lib/python3.8/site-packages/sklearn/neural_network/_multilayer_perceptron.py:614: ConvergenceWarning: Stochastic Optimizer: Maximum iterations (200) reached and the optimization hasn't converged yet.\n",
      "  warnings.warn(\n"
     ]
    },
    {
     "name": "stdout",
     "output_type": "stream",
     "text": [
      "{'activation': 'relu', 'alpha': 0.0001, 'early_stopping': False, 'hidden_layer_sizes': (50, 10)}\n",
      "{'activation': 'relu', 'alpha': 0.01, 'early_stopping': True, 'hidden_layer_sizes': (50, 10)}\n"
     ]
    },
    {
     "name": "stderr",
     "output_type": "stream",
     "text": [
      "/home/ubuntu/anaconda3/lib/python3.8/site-packages/sklearn/neural_network/_multilayer_perceptron.py:614: ConvergenceWarning: Stochastic Optimizer: Maximum iterations (200) reached and the optimization hasn't converged yet.\n",
      "  warnings.warn(\n"
     ]
    },
    {
     "name": "stdout",
     "output_type": "stream",
     "text": [
      "{'activation': 'logistic', 'alpha': 0.1, 'early_stopping': True, 'hidden_layer_sizes': (50, 10)}\n",
      "{'activation': 'relu', 'alpha': 0.05, 'early_stopping': True, 'hidden_layer_sizes': (50, 10, 10)}\n"
     ]
    },
    {
     "name": "stderr",
     "output_type": "stream",
     "text": [
      "/home/ubuntu/anaconda3/lib/python3.8/site-packages/sklearn/neural_network/_multilayer_perceptron.py:614: ConvergenceWarning: Stochastic Optimizer: Maximum iterations (200) reached and the optimization hasn't converged yet.\n",
      "  warnings.warn(\n"
     ]
    },
    {
     "name": "stdout",
     "output_type": "stream",
     "text": [
      "{'activation': 'logistic', 'alpha': 0.05, 'early_stopping': False, 'hidden_layer_sizes': (50, 10, 10)}\n",
      "{'activation': 'logistic', 'alpha': 0.2, 'early_stopping': True, 'hidden_layer_sizes': (50, 10, 10)}\n"
     ]
    },
    {
     "name": "stderr",
     "output_type": "stream",
     "text": [
      "/home/ubuntu/anaconda3/lib/python3.8/site-packages/sklearn/neural_network/_multilayer_perceptron.py:614: ConvergenceWarning: Stochastic Optimizer: Maximum iterations (200) reached and the optimization hasn't converged yet.\n",
      "  warnings.warn(\n"
     ]
    },
    {
     "name": "stdout",
     "output_type": "stream",
     "text": [
      "{'activation': 'logistic', 'alpha': 0.1, 'early_stopping': False, 'hidden_layer_sizes': (50, 10, 10)}\n"
     ]
    },
    {
     "name": "stderr",
     "output_type": "stream",
     "text": [
      "/home/ubuntu/anaconda3/lib/python3.8/site-packages/sklearn/neural_network/_multilayer_perceptron.py:614: ConvergenceWarning: Stochastic Optimizer: Maximum iterations (200) reached and the optimization hasn't converged yet.\n",
      "  warnings.warn(\n"
     ]
    },
    {
     "name": "stdout",
     "output_type": "stream",
     "text": [
      "{'activation': 'logistic', 'alpha': 0.2, 'early_stopping': False, 'hidden_layer_sizes': (10, 30, 10)}\n"
     ]
    },
    {
     "name": "stderr",
     "output_type": "stream",
     "text": [
      "/home/ubuntu/anaconda3/lib/python3.8/site-packages/sklearn/neural_network/_multilayer_perceptron.py:614: ConvergenceWarning: Stochastic Optimizer: Maximum iterations (200) reached and the optimization hasn't converged yet.\n",
      "  warnings.warn(\n"
     ]
    },
    {
     "name": "stdout",
     "output_type": "stream",
     "text": [
      "{'activation': 'logistic', 'alpha': 0.2, 'early_stopping': False, 'hidden_layer_sizes': (50, 10, 10)}\n"
     ]
    },
    {
     "name": "stderr",
     "output_type": "stream",
     "text": [
      "/home/ubuntu/anaconda3/lib/python3.8/site-packages/sklearn/neural_network/_multilayer_perceptron.py:614: ConvergenceWarning: Stochastic Optimizer: Maximum iterations (200) reached and the optimization hasn't converged yet.\n",
      "  warnings.warn(\n"
     ]
    },
    {
     "name": "stdout",
     "output_type": "stream",
     "text": [
      "{'activation': 'logistic', 'alpha': 0.01, 'early_stopping': True, 'hidden_layer_sizes': (50, 10)}\n"
     ]
    },
    {
     "name": "stderr",
     "output_type": "stream",
     "text": [
      "/home/ubuntu/anaconda3/lib/python3.8/site-packages/sklearn/neural_network/_multilayer_perceptron.py:614: ConvergenceWarning: Stochastic Optimizer: Maximum iterations (200) reached and the optimization hasn't converged yet.\n",
      "  warnings.warn(\n"
     ]
    },
    {
     "name": "stdout",
     "output_type": "stream",
     "text": [
      "{'activation': 'logistic', 'alpha': 0.2, 'early_stopping': False, 'hidden_layer_sizes': (10, 30, 10)}\n"
     ]
    },
    {
     "name": "stderr",
     "output_type": "stream",
     "text": [
      "/home/ubuntu/anaconda3/lib/python3.8/site-packages/sklearn/neural_network/_multilayer_perceptron.py:614: ConvergenceWarning: Stochastic Optimizer: Maximum iterations (200) reached and the optimization hasn't converged yet.\n",
      "  warnings.warn(\n"
     ]
    },
    {
     "name": "stdout",
     "output_type": "stream",
     "text": [
      "{'activation': 'relu', 'alpha': 0.0001, 'early_stopping': False, 'hidden_layer_sizes': (50,)}\n"
     ]
    },
    {
     "name": "stderr",
     "output_type": "stream",
     "text": [
      "/home/ubuntu/anaconda3/lib/python3.8/site-packages/sklearn/neural_network/_multilayer_perceptron.py:614: ConvergenceWarning: Stochastic Optimizer: Maximum iterations (200) reached and the optimization hasn't converged yet.\n",
      "  warnings.warn(\n"
     ]
    },
    {
     "name": "stdout",
     "output_type": "stream",
     "text": [
      "{'activation': 'logistic', 'alpha': 0.05, 'early_stopping': False, 'hidden_layer_sizes': (10, 30, 10)}\n",
      "{'activation': 'relu', 'alpha': 0.0001, 'early_stopping': False, 'hidden_layer_sizes': (200,)}\n"
     ]
    },
    {
     "name": "stderr",
     "output_type": "stream",
     "text": [
      "/home/ubuntu/anaconda3/lib/python3.8/site-packages/sklearn/neural_network/_multilayer_perceptron.py:614: ConvergenceWarning: Stochastic Optimizer: Maximum iterations (200) reached and the optimization hasn't converged yet.\n",
      "  warnings.warn(\n"
     ]
    },
    {
     "name": "stdout",
     "output_type": "stream",
     "text": [
      "{'activation': 'logistic', 'alpha': 0.2, 'early_stopping': False, 'hidden_layer_sizes': (50, 10, 10)}\n",
      "{'activation': 'relu', 'alpha': 0.0001, 'early_stopping': False, 'hidden_layer_sizes': (500,)}\n",
      "{'activation': 'logistic', 'alpha': 0.1, 'early_stopping': True, 'hidden_layer_sizes': (50,)}\n",
      "{'activation': 'logistic', 'alpha': 0.01, 'early_stopping': True, 'hidden_layer_sizes': (200,)}\n"
     ]
    },
    {
     "name": "stderr",
     "output_type": "stream",
     "text": [
      "/home/ubuntu/anaconda3/lib/python3.8/site-packages/sklearn/neural_network/_multilayer_perceptron.py:614: ConvergenceWarning: Stochastic Optimizer: Maximum iterations (200) reached and the optimization hasn't converged yet.\n",
      "  warnings.warn(\n"
     ]
    },
    {
     "name": "stdout",
     "output_type": "stream",
     "text": [
      "{'activation': 'tanh', 'alpha': 0.2, 'early_stopping': False, 'hidden_layer_sizes': (200,)}\n"
     ]
    },
    {
     "name": "stderr",
     "output_type": "stream",
     "text": [
      "/home/ubuntu/anaconda3/lib/python3.8/site-packages/sklearn/neural_network/_multilayer_perceptron.py:614: ConvergenceWarning: Stochastic Optimizer: Maximum iterations (200) reached and the optimization hasn't converged yet.\n",
      "  warnings.warn(\n"
     ]
    },
    {
     "name": "stdout",
     "output_type": "stream",
     "text": [
      "{'activation': 'tanh', 'alpha': 0.0001, 'early_stopping': False, 'hidden_layer_sizes': (50,)}\n",
      "{'activation': 'logistic', 'alpha': 0.05, 'early_stopping': True, 'hidden_layer_sizes': (50,)}\n",
      "{'activation': 'logistic', 'alpha': 0.2, 'early_stopping': True, 'hidden_layer_sizes': (50, 10)}\n",
      "{'activation': 'logistic', 'alpha': 0.05, 'early_stopping': True, 'hidden_layer_sizes': (50, 10)}\n",
      "{'activation': 'logistic', 'alpha': 0.1, 'early_stopping': True, 'hidden_layer_sizes': (50, 10)}\n",
      "{'activation': 'logistic', 'alpha': 0.1, 'early_stopping': True, 'hidden_layer_sizes': (200,)}\n"
     ]
    },
    {
     "name": "stderr",
     "output_type": "stream",
     "text": [
      "/home/ubuntu/anaconda3/lib/python3.8/site-packages/sklearn/neural_network/_multilayer_perceptron.py:614: ConvergenceWarning: Stochastic Optimizer: Maximum iterations (200) reached and the optimization hasn't converged yet.\n",
      "  warnings.warn(\n"
     ]
    },
    {
     "name": "stdout",
     "output_type": "stream",
     "text": [
      "{'activation': 'logistic', 'alpha': 0.2, 'early_stopping': True, 'hidden_layer_sizes': (50, 10)}\n"
     ]
    },
    {
     "name": "stderr",
     "output_type": "stream",
     "text": [
      "/home/ubuntu/anaconda3/lib/python3.8/site-packages/sklearn/neural_network/_multilayer_perceptron.py:614: ConvergenceWarning: Stochastic Optimizer: Maximum iterations (200) reached and the optimization hasn't converged yet.\n",
      "  warnings.warn(\n"
     ]
    },
    {
     "name": "stdout",
     "output_type": "stream",
     "text": [
      "{'activation': 'logistic', 'alpha': 0.01, 'early_stopping': False, 'hidden_layer_sizes': (10, 30, 10)}\n"
     ]
    },
    {
     "name": "stderr",
     "output_type": "stream",
     "text": [
      "/home/ubuntu/anaconda3/lib/python3.8/site-packages/sklearn/neural_network/_multilayer_perceptron.py:614: ConvergenceWarning: Stochastic Optimizer: Maximum iterations (200) reached and the optimization hasn't converged yet.\n",
      "  warnings.warn(\n"
     ]
    },
    {
     "name": "stdout",
     "output_type": "stream",
     "text": [
      "{'activation': 'logistic', 'alpha': 0.01, 'early_stopping': True, 'hidden_layer_sizes': (50, 10)}\n"
     ]
    },
    {
     "name": "stderr",
     "output_type": "stream",
     "text": [
      "/home/ubuntu/anaconda3/lib/python3.8/site-packages/sklearn/neural_network/_multilayer_perceptron.py:614: ConvergenceWarning: Stochastic Optimizer: Maximum iterations (200) reached and the optimization hasn't converged yet.\n",
      "  warnings.warn(\n"
     ]
    },
    {
     "name": "stdout",
     "output_type": "stream",
     "text": [
      "{'activation': 'logistic', 'alpha': 0.0001, 'early_stopping': False, 'hidden_layer_sizes': (10, 30, 10)}\n",
      "{'activation': 'logistic', 'alpha': 0.1, 'early_stopping': True, 'hidden_layer_sizes': (200,)}\n",
      "{'activation': 'logistic', 'alpha': 0.1, 'early_stopping': True, 'hidden_layer_sizes': (50,)}\n",
      "{'activation': 'logistic', 'alpha': 0.1, 'early_stopping': True, 'hidden_layer_sizes': (200,)}\n",
      "{'activation': 'logistic', 'alpha': 0.0001, 'early_stopping': True, 'hidden_layer_sizes': (50,)}\n",
      "{'activation': 'logistic', 'alpha': 0.0001, 'early_stopping': True, 'hidden_layer_sizes': (50,)}\n",
      "{'activation': 'logistic', 'alpha': 0.05, 'early_stopping': True, 'hidden_layer_sizes': (50,)}\n",
      "{'activation': 'logistic', 'alpha': 0.0001, 'early_stopping': True, 'hidden_layer_sizes': (50,)}\n",
      "{'activation': 'logistic', 'alpha': 0.2, 'early_stopping': True, 'hidden_layer_sizes': (50,)}\n",
      "{'activation': 'logistic', 'alpha': 0.2, 'early_stopping': True, 'hidden_layer_sizes': (200,)}\n",
      "{'activation': 'relu', 'alpha': 0.01, 'early_stopping': True, 'hidden_layer_sizes': (10, 30, 10)}\n",
      "{'activation': 'logistic', 'alpha': 0.2, 'early_stopping': True, 'hidden_layer_sizes': (200,)}\n",
      "{'activation': 'logistic', 'alpha': 0.01, 'early_stopping': True, 'hidden_layer_sizes': (50,)}\n",
      "{'activation': 'relu', 'alpha': 0.0001, 'early_stopping': True, 'hidden_layer_sizes': (50, 10, 10)}\n",
      "{'activation': 'logistic', 'alpha': 0.0001, 'early_stopping': True, 'hidden_layer_sizes': (500,)}\n",
      "{'activation': 'logistic', 'alpha': 0.2, 'early_stopping': True, 'hidden_layer_sizes': (500,)}\n",
      "{'activation': 'logistic', 'alpha': 0.01, 'early_stopping': True, 'hidden_layer_sizes': (200,)}\n",
      "{'activation': 'tanh', 'alpha': 0.05, 'early_stopping': True, 'hidden_layer_sizes': (10, 30, 10)}\n",
      "{'activation': 'logistic', 'alpha': 0.0001, 'early_stopping': True, 'hidden_layer_sizes': (500,)}\n",
      "{'activation': 'tanh', 'alpha': 0.2, 'early_stopping': True, 'hidden_layer_sizes': (50, 10)}\n",
      "{'activation': 'logistic', 'alpha': 0.01, 'early_stopping': True, 'hidden_layer_sizes': (50,)}\n",
      "{'activation': 'relu', 'alpha': 0.1, 'early_stopping': True, 'hidden_layer_sizes': (50, 10, 10)}\n",
      "{'activation': 'logistic', 'alpha': 0.1, 'early_stopping': True, 'hidden_layer_sizes': (50,)}\n",
      "{'activation': 'logistic', 'alpha': 0.2, 'early_stopping': True, 'hidden_layer_sizes': (200,)}\n"
     ]
    },
    {
     "name": "stderr",
     "output_type": "stream",
     "text": [
      "/home/ubuntu/anaconda3/lib/python3.8/site-packages/sklearn/neural_network/_multilayer_perceptron.py:614: ConvergenceWarning: Stochastic Optimizer: Maximum iterations (200) reached and the optimization hasn't converged yet.\n",
      "  warnings.warn(\n"
     ]
    },
    {
     "name": "stdout",
     "output_type": "stream",
     "text": [
      "{'activation': 'logistic', 'alpha': 0.01, 'early_stopping': True, 'hidden_layer_sizes': (50, 10)}\n",
      "{'activation': 'relu', 'alpha': 0.0001, 'early_stopping': True, 'hidden_layer_sizes': (10, 30, 10)}\n",
      "{'activation': 'tanh', 'alpha': 0.2, 'early_stopping': True, 'hidden_layer_sizes': (50, 10, 10)}\n",
      "{'activation': 'relu', 'alpha': 0.0001, 'early_stopping': True, 'hidden_layer_sizes': (50, 10, 10)}\n"
     ]
    },
    {
     "name": "stderr",
     "output_type": "stream",
     "text": [
      "/home/ubuntu/anaconda3/lib/python3.8/site-packages/sklearn/neural_network/_multilayer_perceptron.py:614: ConvergenceWarning: Stochastic Optimizer: Maximum iterations (200) reached and the optimization hasn't converged yet.\n",
      "  warnings.warn(\n"
     ]
    },
    {
     "name": "stdout",
     "output_type": "stream",
     "text": [
      "{'activation': 'relu', 'alpha': 0.2, 'early_stopping': False, 'hidden_layer_sizes': (500,)}\n",
      "{'activation': 'relu', 'alpha': 0.0001, 'early_stopping': True, 'hidden_layer_sizes': (50, 10, 10)}\n",
      "{'activation': 'relu', 'alpha': 0.01, 'early_stopping': True, 'hidden_layer_sizes': (500,)}\n"
     ]
    },
    {
     "name": "stderr",
     "output_type": "stream",
     "text": [
      "/home/ubuntu/anaconda3/lib/python3.8/site-packages/sklearn/neural_network/_multilayer_perceptron.py:614: ConvergenceWarning: Stochastic Optimizer: Maximum iterations (200) reached and the optimization hasn't converged yet.\n",
      "  warnings.warn(\n"
     ]
    },
    {
     "name": "stdout",
     "output_type": "stream",
     "text": [
      "{'activation': 'logistic', 'alpha': 0.2, 'early_stopping': False, 'hidden_layer_sizes': (500,)}\n",
      "{'activation': 'relu', 'alpha': 0.2, 'early_stopping': True, 'hidden_layer_sizes': (10, 30, 10)}\n",
      "{'activation': 'relu', 'alpha': 0.1, 'early_stopping': True, 'hidden_layer_sizes': (50, 10)}\n"
     ]
    },
    {
     "name": "stderr",
     "output_type": "stream",
     "text": [
      "/home/ubuntu/anaconda3/lib/python3.8/site-packages/sklearn/neural_network/_multilayer_perceptron.py:614: ConvergenceWarning: Stochastic Optimizer: Maximum iterations (200) reached and the optimization hasn't converged yet.\n",
      "  warnings.warn(\n"
     ]
    },
    {
     "name": "stdout",
     "output_type": "stream",
     "text": [
      "{'activation': 'relu', 'alpha': 0.2, 'early_stopping': False, 'hidden_layer_sizes': (50, 10, 10)}\n"
     ]
    },
    {
     "name": "stderr",
     "output_type": "stream",
     "text": [
      "/home/ubuntu/anaconda3/lib/python3.8/site-packages/sklearn/neural_network/_multilayer_perceptron.py:614: ConvergenceWarning: Stochastic Optimizer: Maximum iterations (200) reached and the optimization hasn't converged yet.\n",
      "  warnings.warn(\n"
     ]
    },
    {
     "name": "stdout",
     "output_type": "stream",
     "text": [
      "{'activation': 'logistic', 'alpha': 0.2, 'early_stopping': False, 'hidden_layer_sizes': (500,)}\n"
     ]
    },
    {
     "name": "stderr",
     "output_type": "stream",
     "text": [
      "/home/ubuntu/anaconda3/lib/python3.8/site-packages/sklearn/neural_network/_multilayer_perceptron.py:614: ConvergenceWarning: Stochastic Optimizer: Maximum iterations (200) reached and the optimization hasn't converged yet.\n",
      "  warnings.warn(\n"
     ]
    },
    {
     "name": "stdout",
     "output_type": "stream",
     "text": [
      "{'activation': 'logistic', 'alpha': 0.1, 'early_stopping': False, 'hidden_layer_sizes': (500,)}\n"
     ]
    },
    {
     "name": "stderr",
     "output_type": "stream",
     "text": [
      "/home/ubuntu/anaconda3/lib/python3.8/site-packages/sklearn/neural_network/_multilayer_perceptron.py:614: ConvergenceWarning: Stochastic Optimizer: Maximum iterations (200) reached and the optimization hasn't converged yet.\n",
      "  warnings.warn(\n"
     ]
    },
    {
     "name": "stdout",
     "output_type": "stream",
     "text": [
      "{'activation': 'logistic', 'alpha': 0.0001, 'early_stopping': False, 'hidden_layer_sizes': (50, 10)}\n"
     ]
    },
    {
     "name": "stderr",
     "output_type": "stream",
     "text": [
      "/home/ubuntu/anaconda3/lib/python3.8/site-packages/sklearn/neural_network/_multilayer_perceptron.py:614: ConvergenceWarning: Stochastic Optimizer: Maximum iterations (200) reached and the optimization hasn't converged yet.\n",
      "  warnings.warn(\n"
     ]
    },
    {
     "name": "stdout",
     "output_type": "stream",
     "text": [
      "{'activation': 'logistic', 'alpha': 0.2, 'early_stopping': True, 'hidden_layer_sizes': (50, 10, 10)}\n",
      "{'activation': 'logistic', 'alpha': 0.01, 'early_stopping': True, 'hidden_layer_sizes': (50, 10)}\n",
      "{'activation': 'relu', 'alpha': 0.05, 'early_stopping': True, 'hidden_layer_sizes': (10, 30, 10)}\n",
      "{'activation': 'logistic', 'alpha': 0.2, 'early_stopping': True, 'hidden_layer_sizes': (200,)}\n",
      "{'activation': 'logistic', 'alpha': 0.1, 'early_stopping': True, 'hidden_layer_sizes': (50, 10, 10)}\n",
      "{'activation': 'logistic', 'alpha': 0.2, 'early_stopping': True, 'hidden_layer_sizes': (500,)}\n",
      "{'activation': 'logistic', 'alpha': 0.01, 'early_stopping': True, 'hidden_layer_sizes': (50, 10)}\n"
     ]
    },
    {
     "name": "stderr",
     "output_type": "stream",
     "text": [
      "/home/ubuntu/anaconda3/lib/python3.8/site-packages/sklearn/neural_network/_multilayer_perceptron.py:614: ConvergenceWarning: Stochastic Optimizer: Maximum iterations (200) reached and the optimization hasn't converged yet.\n",
      "  warnings.warn(\n"
     ]
    },
    {
     "name": "stdout",
     "output_type": "stream",
     "text": [
      "{'activation': 'logistic', 'alpha': 0.2, 'early_stopping': False, 'hidden_layer_sizes': (10, 30, 10)}\n",
      "{'activation': 'logistic', 'alpha': 0.0001, 'early_stopping': True, 'hidden_layer_sizes': (200,)}\n",
      "{'activation': 'relu', 'alpha': 0.05, 'early_stopping': False, 'hidden_layer_sizes': (50, 10, 10)}\n",
      "{'activation': 'relu', 'alpha': 0.05, 'early_stopping': False, 'hidden_layer_sizes': (500,)}\n",
      "{'activation': 'relu', 'alpha': 0.01, 'early_stopping': True, 'hidden_layer_sizes': (500,)}\n",
      "{'activation': 'relu', 'alpha': 0.05, 'early_stopping': False, 'hidden_layer_sizes': (50, 10, 10)}\n",
      "{'activation': 'relu', 'alpha': 0.0001, 'early_stopping': True, 'hidden_layer_sizes': (50, 10, 10)}\n",
      "{'activation': 'logistic', 'alpha': 0.1, 'early_stopping': True, 'hidden_layer_sizes': (50,)}\n",
      "{'activation': 'logistic', 'alpha': 0.05, 'early_stopping': True, 'hidden_layer_sizes': (50,)}\n"
     ]
    },
    {
     "name": "stderr",
     "output_type": "stream",
     "text": [
      "/home/ubuntu/anaconda3/lib/python3.8/site-packages/sklearn/neural_network/_multilayer_perceptron.py:614: ConvergenceWarning: Stochastic Optimizer: Maximum iterations (200) reached and the optimization hasn't converged yet.\n",
      "  warnings.warn(\n"
     ]
    },
    {
     "name": "stdout",
     "output_type": "stream",
     "text": [
      "{'activation': 'relu', 'alpha': 0.2, 'early_stopping': False, 'hidden_layer_sizes': (500,)}\n",
      "{'activation': 'logistic', 'alpha': 0.2, 'early_stopping': True, 'hidden_layer_sizes': (200,)}\n",
      "{'activation': 'logistic', 'alpha': 0.01, 'early_stopping': True, 'hidden_layer_sizes': (50,)}\n",
      "{'activation': 'logistic', 'alpha': 0.0001, 'early_stopping': True, 'hidden_layer_sizes': (200,)}\n",
      "{'activation': 'logistic', 'alpha': 0.05, 'early_stopping': True, 'hidden_layer_sizes': (50,)}\n",
      "{'activation': 'logistic', 'alpha': 0.2, 'early_stopping': True, 'hidden_layer_sizes': (200,)}\n",
      "{'activation': 'logistic', 'alpha': 0.1, 'early_stopping': True, 'hidden_layer_sizes': (500,)}\n",
      "{'activation': 'logistic', 'alpha': 0.01, 'early_stopping': True, 'hidden_layer_sizes': (200,)}\n",
      "{'activation': 'logistic', 'alpha': 0.05, 'early_stopping': True, 'hidden_layer_sizes': (50,)}\n",
      "{'activation': 'logistic', 'alpha': 0.05, 'early_stopping': True, 'hidden_layer_sizes': (200,)}\n"
     ]
    },
    {
     "name": "stderr",
     "output_type": "stream",
     "text": [
      "/home/ubuntu/anaconda3/lib/python3.8/site-packages/sklearn/neural_network/_multilayer_perceptron.py:614: ConvergenceWarning: Stochastic Optimizer: Maximum iterations (200) reached and the optimization hasn't converged yet.\n",
      "  warnings.warn(\n"
     ]
    },
    {
     "name": "stdout",
     "output_type": "stream",
     "text": [
      "{'activation': 'logistic', 'alpha': 0.05, 'early_stopping': False, 'hidden_layer_sizes': (50, 10)}\n",
      "{'activation': 'logistic', 'alpha': 0.05, 'early_stopping': True, 'hidden_layer_sizes': (200,)}\n",
      "{'activation': 'logistic', 'alpha': 0.01, 'early_stopping': True, 'hidden_layer_sizes': (200,)}\n",
      "{'activation': 'logistic', 'alpha': 0.0001, 'early_stopping': True, 'hidden_layer_sizes': (50, 10)}\n",
      "{'activation': 'logistic', 'alpha': 0.2, 'early_stopping': True, 'hidden_layer_sizes': (50,)}\n",
      "{'activation': 'logistic', 'alpha': 0.1, 'early_stopping': True, 'hidden_layer_sizes': (200,)}\n",
      "{'activation': 'logistic', 'alpha': 0.2, 'early_stopping': True, 'hidden_layer_sizes': (50,)}\n",
      "{'activation': 'logistic', 'alpha': 0.01, 'early_stopping': True, 'hidden_layer_sizes': (500,)}\n",
      "{'activation': 'logistic', 'alpha': 0.05, 'early_stopping': True, 'hidden_layer_sizes': (50,)}\n"
     ]
    },
    {
     "name": "stderr",
     "output_type": "stream",
     "text": [
      "/home/ubuntu/anaconda3/lib/python3.8/site-packages/sklearn/neural_network/_multilayer_perceptron.py:614: ConvergenceWarning: Stochastic Optimizer: Maximum iterations (200) reached and the optimization hasn't converged yet.\n",
      "  warnings.warn(\n"
     ]
    },
    {
     "name": "stdout",
     "output_type": "stream",
     "text": [
      "{'activation': 'logistic', 'alpha': 0.2, 'early_stopping': False, 'hidden_layer_sizes': (50, 10, 10)}\n",
      "{'activation': 'logistic', 'alpha': 0.01, 'early_stopping': True, 'hidden_layer_sizes': (50, 10)}\n",
      "{'activation': 'logistic', 'alpha': 0.01, 'early_stopping': True, 'hidden_layer_sizes': (10, 30, 10)}\n",
      "{'activation': 'logistic', 'alpha': 0.0001, 'early_stopping': True, 'hidden_layer_sizes': (50, 10)}\n"
     ]
    },
    {
     "name": "stderr",
     "output_type": "stream",
     "text": [
      "/home/ubuntu/anaconda3/lib/python3.8/site-packages/sklearn/neural_network/_multilayer_perceptron.py:614: ConvergenceWarning: Stochastic Optimizer: Maximum iterations (200) reached and the optimization hasn't converged yet.\n",
      "  warnings.warn(\n"
     ]
    },
    {
     "name": "stdout",
     "output_type": "stream",
     "text": [
      "{'activation': 'logistic', 'alpha': 0.1, 'early_stopping': False, 'hidden_layer_sizes': (50, 10, 10)}\n"
     ]
    },
    {
     "name": "stderr",
     "output_type": "stream",
     "text": [
      "/home/ubuntu/anaconda3/lib/python3.8/site-packages/sklearn/neural_network/_multilayer_perceptron.py:614: ConvergenceWarning: Stochastic Optimizer: Maximum iterations (200) reached and the optimization hasn't converged yet.\n",
      "  warnings.warn(\n"
     ]
    },
    {
     "name": "stdout",
     "output_type": "stream",
     "text": [
      "{'activation': 'logistic', 'alpha': 0.05, 'early_stopping': True, 'hidden_layer_sizes': (50, 10, 10)}\n"
     ]
    },
    {
     "name": "stderr",
     "output_type": "stream",
     "text": [
      "/home/ubuntu/anaconda3/lib/python3.8/site-packages/sklearn/neural_network/_multilayer_perceptron.py:614: ConvergenceWarning: Stochastic Optimizer: Maximum iterations (200) reached and the optimization hasn't converged yet.\n",
      "  warnings.warn(\n"
     ]
    },
    {
     "name": "stdout",
     "output_type": "stream",
     "text": [
      "{'activation': 'logistic', 'alpha': 0.0001, 'early_stopping': False, 'hidden_layer_sizes': (10, 30, 10)}\n",
      "{'activation': 'logistic', 'alpha': 0.0001, 'early_stopping': True, 'hidden_layer_sizes': (50, 10, 10)}\n",
      "{'activation': 'logistic', 'alpha': 0.1, 'early_stopping': True, 'hidden_layer_sizes': (50, 10, 10)}\n",
      "{'activation': 'relu', 'alpha': 0.0001, 'early_stopping': False, 'hidden_layer_sizes': (500,)}\n",
      "{'activation': 'logistic', 'alpha': 0.01, 'early_stopping': True, 'hidden_layer_sizes': (50, 10)}\n",
      "{'activation': 'logistic', 'alpha': 0.0001, 'early_stopping': True, 'hidden_layer_sizes': (50, 10, 10)}\n",
      "{'activation': 'tanh', 'alpha': 0.0001, 'early_stopping': False, 'hidden_layer_sizes': (500,)}\n",
      "{'activation': 'tanh', 'alpha': 0.0001, 'early_stopping': False, 'hidden_layer_sizes': (200,)}\n"
     ]
    },
    {
     "name": "stderr",
     "output_type": "stream",
     "text": [
      "/home/ubuntu/anaconda3/lib/python3.8/site-packages/sklearn/neural_network/_multilayer_perceptron.py:614: ConvergenceWarning: Stochastic Optimizer: Maximum iterations (200) reached and the optimization hasn't converged yet.\n",
      "  warnings.warn(\n"
     ]
    },
    {
     "name": "stdout",
     "output_type": "stream",
     "text": [
      "{'activation': 'logistic', 'alpha': 0.1, 'early_stopping': False, 'hidden_layer_sizes': (10, 30, 10)}\n"
     ]
    },
    {
     "name": "stderr",
     "output_type": "stream",
     "text": [
      "/home/ubuntu/anaconda3/lib/python3.8/site-packages/sklearn/neural_network/_multilayer_perceptron.py:614: ConvergenceWarning: Stochastic Optimizer: Maximum iterations (200) reached and the optimization hasn't converged yet.\n",
      "  warnings.warn(\n"
     ]
    },
    {
     "name": "stdout",
     "output_type": "stream",
     "text": [
      "{'activation': 'relu', 'alpha': 0.2, 'early_stopping': False, 'hidden_layer_sizes': (10, 30, 10)}\n",
      "{'activation': 'tanh', 'alpha': 0.1, 'early_stopping': False, 'hidden_layer_sizes': (500,)}\n"
     ]
    },
    {
     "name": "stderr",
     "output_type": "stream",
     "text": [
      "/home/ubuntu/anaconda3/lib/python3.8/site-packages/sklearn/neural_network/_multilayer_perceptron.py:614: ConvergenceWarning: Stochastic Optimizer: Maximum iterations (200) reached and the optimization hasn't converged yet.\n",
      "  warnings.warn(\n"
     ]
    },
    {
     "name": "stdout",
     "output_type": "stream",
     "text": [
      "{'activation': 'logistic', 'alpha': 0.1, 'early_stopping': False, 'hidden_layer_sizes': (50, 10, 10)}\n"
     ]
    },
    {
     "name": "stderr",
     "output_type": "stream",
     "text": [
      "/home/ubuntu/anaconda3/lib/python3.8/site-packages/sklearn/neural_network/_multilayer_perceptron.py:614: ConvergenceWarning: Stochastic Optimizer: Maximum iterations (200) reached and the optimization hasn't converged yet.\n",
      "  warnings.warn(\n"
     ]
    },
    {
     "name": "stdout",
     "output_type": "stream",
     "text": [
      "{'activation': 'logistic', 'alpha': 0.1, 'early_stopping': False, 'hidden_layer_sizes': (50, 10, 10)}\n"
     ]
    },
    {
     "name": "stderr",
     "output_type": "stream",
     "text": [
      "/home/ubuntu/anaconda3/lib/python3.8/site-packages/sklearn/neural_network/_multilayer_perceptron.py:614: ConvergenceWarning: Stochastic Optimizer: Maximum iterations (200) reached and the optimization hasn't converged yet.\n",
      "  warnings.warn(\n"
     ]
    },
    {
     "name": "stdout",
     "output_type": "stream",
     "text": [
      "{'activation': 'logistic', 'alpha': 0.0001, 'early_stopping': False, 'hidden_layer_sizes': (50, 10, 10)}\n"
     ]
    },
    {
     "name": "stderr",
     "output_type": "stream",
     "text": [
      "/home/ubuntu/anaconda3/lib/python3.8/site-packages/sklearn/neural_network/_multilayer_perceptron.py:614: ConvergenceWarning: Stochastic Optimizer: Maximum iterations (200) reached and the optimization hasn't converged yet.\n",
      "  warnings.warn(\n"
     ]
    },
    {
     "name": "stdout",
     "output_type": "stream",
     "text": [
      "{'activation': 'logistic', 'alpha': 0.0001, 'early_stopping': False, 'hidden_layer_sizes': (50, 10, 10)}\n"
     ]
    },
    {
     "name": "stderr",
     "output_type": "stream",
     "text": [
      "/home/ubuntu/anaconda3/lib/python3.8/site-packages/sklearn/neural_network/_multilayer_perceptron.py:614: ConvergenceWarning: Stochastic Optimizer: Maximum iterations (200) reached and the optimization hasn't converged yet.\n",
      "  warnings.warn(\n"
     ]
    },
    {
     "name": "stdout",
     "output_type": "stream",
     "text": [
      "{'activation': 'logistic', 'alpha': 0.01, 'early_stopping': False, 'hidden_layer_sizes': (50, 10, 10)}\n"
     ]
    },
    {
     "name": "stderr",
     "output_type": "stream",
     "text": [
      "/home/ubuntu/anaconda3/lib/python3.8/site-packages/sklearn/neural_network/_multilayer_perceptron.py:614: ConvergenceWarning: Stochastic Optimizer: Maximum iterations (200) reached and the optimization hasn't converged yet.\n",
      "  warnings.warn(\n"
     ]
    },
    {
     "name": "stdout",
     "output_type": "stream",
     "text": [
      "{'activation': 'logistic', 'alpha': 0.2, 'early_stopping': False, 'hidden_layer_sizes': (10, 30, 10)}\n"
     ]
    },
    {
     "name": "stderr",
     "output_type": "stream",
     "text": [
      "/home/ubuntu/anaconda3/lib/python3.8/site-packages/sklearn/neural_network/_multilayer_perceptron.py:614: ConvergenceWarning: Stochastic Optimizer: Maximum iterations (200) reached and the optimization hasn't converged yet.\n",
      "  warnings.warn(\n"
     ]
    },
    {
     "name": "stdout",
     "output_type": "stream",
     "text": [
      "{'activation': 'logistic', 'alpha': 0.01, 'early_stopping': False, 'hidden_layer_sizes': (50, 10)}\n"
     ]
    },
    {
     "name": "stderr",
     "output_type": "stream",
     "text": [
      "/home/ubuntu/anaconda3/lib/python3.8/site-packages/sklearn/neural_network/_multilayer_perceptron.py:614: ConvergenceWarning: Stochastic Optimizer: Maximum iterations (200) reached and the optimization hasn't converged yet.\n",
      "  warnings.warn(\n"
     ]
    },
    {
     "name": "stdout",
     "output_type": "stream",
     "text": [
      "{'activation': 'logistic', 'alpha': 0.0001, 'early_stopping': False, 'hidden_layer_sizes': (50, 10, 10)}\n",
      "{'activation': 'tanh', 'alpha': 0.0001, 'early_stopping': True, 'hidden_layer_sizes': (10, 30, 10)}\n"
     ]
    },
    {
     "name": "stderr",
     "output_type": "stream",
     "text": [
      "/home/ubuntu/anaconda3/lib/python3.8/site-packages/sklearn/neural_network/_multilayer_perceptron.py:614: ConvergenceWarning: Stochastic Optimizer: Maximum iterations (200) reached and the optimization hasn't converged yet.\n",
      "  warnings.warn(\n"
     ]
    },
    {
     "name": "stdout",
     "output_type": "stream",
     "text": [
      "{'activation': 'logistic', 'alpha': 0.1, 'early_stopping': False, 'hidden_layer_sizes': (10, 30, 10)}\n"
     ]
    },
    {
     "name": "stderr",
     "output_type": "stream",
     "text": [
      "/home/ubuntu/anaconda3/lib/python3.8/site-packages/sklearn/neural_network/_multilayer_perceptron.py:614: ConvergenceWarning: Stochastic Optimizer: Maximum iterations (200) reached and the optimization hasn't converged yet.\n",
      "  warnings.warn(\n"
     ]
    },
    {
     "name": "stdout",
     "output_type": "stream",
     "text": [
      "{'activation': 'logistic', 'alpha': 0.0001, 'early_stopping': False, 'hidden_layer_sizes': (50, 10)}\n",
      "{'activation': 'logistic', 'alpha': 0.05, 'early_stopping': True, 'hidden_layer_sizes': (500,)}\n"
     ]
    },
    {
     "name": "stderr",
     "output_type": "stream",
     "text": [
      "/home/ubuntu/anaconda3/lib/python3.8/site-packages/sklearn/neural_network/_multilayer_perceptron.py:614: ConvergenceWarning: Stochastic Optimizer: Maximum iterations (200) reached and the optimization hasn't converged yet.\n",
      "  warnings.warn(\n"
     ]
    },
    {
     "name": "stdout",
     "output_type": "stream",
     "text": [
      "{'activation': 'logistic', 'alpha': 0.1, 'early_stopping': False, 'hidden_layer_sizes': (50, 10)}\n"
     ]
    },
    {
     "name": "stderr",
     "output_type": "stream",
     "text": [
      "/home/ubuntu/anaconda3/lib/python3.8/site-packages/sklearn/neural_network/_multilayer_perceptron.py:614: ConvergenceWarning: Stochastic Optimizer: Maximum iterations (200) reached and the optimization hasn't converged yet.\n",
      "  warnings.warn(\n"
     ]
    },
    {
     "name": "stdout",
     "output_type": "stream",
     "text": [
      "{'activation': 'logistic', 'alpha': 0.01, 'early_stopping': False, 'hidden_layer_sizes': (50, 10)}\n"
     ]
    },
    {
     "name": "stderr",
     "output_type": "stream",
     "text": [
      "/home/ubuntu/anaconda3/lib/python3.8/site-packages/sklearn/neural_network/_multilayer_perceptron.py:614: ConvergenceWarning: Stochastic Optimizer: Maximum iterations (200) reached and the optimization hasn't converged yet.\n",
      "  warnings.warn(\n"
     ]
    },
    {
     "name": "stdout",
     "output_type": "stream",
     "text": [
      "{'activation': 'logistic', 'alpha': 0.2, 'early_stopping': False, 'hidden_layer_sizes': (50, 10)}\n",
      "{'activation': 'logistic', 'alpha': 0.1, 'early_stopping': True, 'hidden_layer_sizes': (200,)}\n",
      "{'activation': 'logistic', 'alpha': 0.1, 'early_stopping': True, 'hidden_layer_sizes': (50, 10)}\n"
     ]
    },
    {
     "name": "stderr",
     "output_type": "stream",
     "text": [
      "/home/ubuntu/anaconda3/lib/python3.8/site-packages/sklearn/neural_network/_multilayer_perceptron.py:614: ConvergenceWarning: Stochastic Optimizer: Maximum iterations (200) reached and the optimization hasn't converged yet.\n",
      "  warnings.warn(\n"
     ]
    },
    {
     "name": "stdout",
     "output_type": "stream",
     "text": [
      "{'activation': 'logistic', 'alpha': 0.2, 'early_stopping': False, 'hidden_layer_sizes': (50, 10)}\n",
      "{'activation': 'logistic', 'alpha': 0.01, 'early_stopping': True, 'hidden_layer_sizes': (200,)}\n"
     ]
    },
    {
     "name": "stderr",
     "output_type": "stream",
     "text": [
      "/home/ubuntu/anaconda3/lib/python3.8/site-packages/sklearn/neural_network/_multilayer_perceptron.py:614: ConvergenceWarning: Stochastic Optimizer: Maximum iterations (200) reached and the optimization hasn't converged yet.\n",
      "  warnings.warn(\n"
     ]
    },
    {
     "name": "stdout",
     "output_type": "stream",
     "text": [
      "{'activation': 'logistic', 'alpha': 0.01, 'early_stopping': False, 'hidden_layer_sizes': (50, 10)}\n"
     ]
    },
    {
     "name": "stderr",
     "output_type": "stream",
     "text": [
      "/home/ubuntu/anaconda3/lib/python3.8/site-packages/sklearn/neural_network/_multilayer_perceptron.py:614: ConvergenceWarning: Stochastic Optimizer: Maximum iterations (200) reached and the optimization hasn't converged yet.\n",
      "  warnings.warn(\n"
     ]
    },
    {
     "name": "stdout",
     "output_type": "stream",
     "text": [
      "{'activation': 'logistic', 'alpha': 0.2, 'early_stopping': False, 'hidden_layer_sizes': (50, 10)}\n"
     ]
    },
    {
     "name": "stderr",
     "output_type": "stream",
     "text": [
      "/home/ubuntu/anaconda3/lib/python3.8/site-packages/sklearn/neural_network/_multilayer_perceptron.py:614: ConvergenceWarning: Stochastic Optimizer: Maximum iterations (200) reached and the optimization hasn't converged yet.\n",
      "  warnings.warn(\n"
     ]
    },
    {
     "name": "stdout",
     "output_type": "stream",
     "text": [
      "{'activation': 'logistic', 'alpha': 0.1, 'early_stopping': False, 'hidden_layer_sizes': (50, 10)}\n"
     ]
    },
    {
     "name": "stderr",
     "output_type": "stream",
     "text": [
      "/home/ubuntu/anaconda3/lib/python3.8/site-packages/sklearn/neural_network/_multilayer_perceptron.py:614: ConvergenceWarning: Stochastic Optimizer: Maximum iterations (200) reached and the optimization hasn't converged yet.\n",
      "  warnings.warn(\n"
     ]
    },
    {
     "name": "stdout",
     "output_type": "stream",
     "text": [
      "{'activation': 'logistic', 'alpha': 0.05, 'early_stopping': False, 'hidden_layer_sizes': (50, 10)}\n"
     ]
    },
    {
     "name": "stderr",
     "output_type": "stream",
     "text": [
      "/home/ubuntu/anaconda3/lib/python3.8/site-packages/sklearn/neural_network/_multilayer_perceptron.py:614: ConvergenceWarning: Stochastic Optimizer: Maximum iterations (200) reached and the optimization hasn't converged yet.\n",
      "  warnings.warn(\n"
     ]
    },
    {
     "name": "stdout",
     "output_type": "stream",
     "text": [
      "{'activation': 'logistic', 'alpha': 0.01, 'early_stopping': False, 'hidden_layer_sizes': (50, 10, 10)}\n"
     ]
    },
    {
     "name": "stderr",
     "output_type": "stream",
     "text": [
      "/home/ubuntu/anaconda3/lib/python3.8/site-packages/sklearn/neural_network/_multilayer_perceptron.py:614: ConvergenceWarning: Stochastic Optimizer: Maximum iterations (200) reached and the optimization hasn't converged yet.\n",
      "  warnings.warn(\n"
     ]
    },
    {
     "name": "stdout",
     "output_type": "stream",
     "text": [
      "{'activation': 'logistic', 'alpha': 0.01, 'early_stopping': False, 'hidden_layer_sizes': (50, 10)}\n"
     ]
    },
    {
     "name": "stderr",
     "output_type": "stream",
     "text": [
      "/home/ubuntu/anaconda3/lib/python3.8/site-packages/sklearn/neural_network/_multilayer_perceptron.py:614: ConvergenceWarning: Stochastic Optimizer: Maximum iterations (200) reached and the optimization hasn't converged yet.\n",
      "  warnings.warn(\n"
     ]
    },
    {
     "name": "stdout",
     "output_type": "stream",
     "text": [
      "{'activation': 'logistic', 'alpha': 0.1, 'early_stopping': False, 'hidden_layer_sizes': (50, 10)}\n"
     ]
    },
    {
     "name": "stderr",
     "output_type": "stream",
     "text": [
      "/home/ubuntu/anaconda3/lib/python3.8/site-packages/sklearn/neural_network/_multilayer_perceptron.py:614: ConvergenceWarning: Stochastic Optimizer: Maximum iterations (200) reached and the optimization hasn't converged yet.\n",
      "  warnings.warn(\n"
     ]
    },
    {
     "name": "stdout",
     "output_type": "stream",
     "text": [
      "{'activation': 'logistic', 'alpha': 0.01, 'early_stopping': False, 'hidden_layer_sizes': (10, 30, 10)}\n"
     ]
    },
    {
     "name": "stderr",
     "output_type": "stream",
     "text": [
      "/home/ubuntu/anaconda3/lib/python3.8/site-packages/sklearn/neural_network/_multilayer_perceptron.py:614: ConvergenceWarning: Stochastic Optimizer: Maximum iterations (200) reached and the optimization hasn't converged yet.\n",
      "  warnings.warn(\n"
     ]
    },
    {
     "name": "stdout",
     "output_type": "stream",
     "text": [
      "{'activation': 'logistic', 'alpha': 0.1, 'early_stopping': False, 'hidden_layer_sizes': (10, 30, 10)}\n",
      "{'activation': 'tanh', 'alpha': 0.0001, 'early_stopping': True, 'hidden_layer_sizes': (10, 30, 10)}\n",
      "{'activation': 'logistic', 'alpha': 0.05, 'early_stopping': True, 'hidden_layer_sizes': (200,)}\n",
      "{'activation': 'logistic', 'alpha': 0.05, 'early_stopping': True, 'hidden_layer_sizes': (500,)}\n"
     ]
    },
    {
     "name": "stderr",
     "output_type": "stream",
     "text": [
      "/home/ubuntu/anaconda3/lib/python3.8/site-packages/sklearn/neural_network/_multilayer_perceptron.py:614: ConvergenceWarning: Stochastic Optimizer: Maximum iterations (200) reached and the optimization hasn't converged yet.\n",
      "  warnings.warn(\n"
     ]
    },
    {
     "name": "stdout",
     "output_type": "stream",
     "text": [
      "{'activation': 'logistic', 'alpha': 0.2, 'early_stopping': False, 'hidden_layer_sizes': (50, 10, 10)}\n",
      "{'activation': 'tanh', 'alpha': 0.01, 'early_stopping': True, 'hidden_layer_sizes': (500,)}\n",
      "{'activation': 'logistic', 'alpha': 0.01, 'early_stopping': True, 'hidden_layer_sizes': (500,)}\n",
      "{'activation': 'logistic', 'alpha': 0.0001, 'early_stopping': True, 'hidden_layer_sizes': (50,)}\n",
      "{'activation': 'logistic', 'alpha': 0.2, 'early_stopping': True, 'hidden_layer_sizes': (200,)}\n",
      "{'activation': 'logistic', 'alpha': 0.01, 'early_stopping': True, 'hidden_layer_sizes': (50,)}\n",
      "{'activation': 'logistic', 'alpha': 0.01, 'early_stopping': True, 'hidden_layer_sizes': (500,)}\n",
      "{'activation': 'logistic', 'alpha': 0.2, 'early_stopping': True, 'hidden_layer_sizes': (200,)}\n",
      "{'activation': 'logistic', 'alpha': 0.2, 'early_stopping': True, 'hidden_layer_sizes': (50,)}\n",
      "{'activation': 'logistic', 'alpha': 0.01, 'early_stopping': True, 'hidden_layer_sizes': (50,)}\n"
     ]
    },
    {
     "name": "stderr",
     "output_type": "stream",
     "text": [
      "/home/ubuntu/anaconda3/lib/python3.8/site-packages/sklearn/neural_network/_multilayer_perceptron.py:614: ConvergenceWarning: Stochastic Optimizer: Maximum iterations (200) reached and the optimization hasn't converged yet.\n",
      "  warnings.warn(\n"
     ]
    },
    {
     "name": "stdout",
     "output_type": "stream",
     "text": [
      "{'activation': 'logistic', 'alpha': 0.2, 'early_stopping': False, 'hidden_layer_sizes': (200,)}\n",
      "{'activation': 'logistic', 'alpha': 0.01, 'early_stopping': True, 'hidden_layer_sizes': (50,)}\n",
      "{'activation': 'relu', 'alpha': 0.01, 'early_stopping': True, 'hidden_layer_sizes': (50, 10, 10)}\n",
      "{'activation': 'logistic', 'alpha': 0.05, 'early_stopping': True, 'hidden_layer_sizes': (200,)}\n",
      "{'activation': 'relu', 'alpha': 0.01, 'early_stopping': True, 'hidden_layer_sizes': (50, 10, 10)}\n",
      "{'activation': 'logistic', 'alpha': 0.1, 'early_stopping': True, 'hidden_layer_sizes': (50, 10)}\n",
      "{'activation': 'logistic', 'alpha': 0.1, 'early_stopping': True, 'hidden_layer_sizes': (50, 10)}\n",
      "{'activation': 'logistic', 'alpha': 0.05, 'early_stopping': True, 'hidden_layer_sizes': (50,)}\n",
      "{'activation': 'logistic', 'alpha': 0.1, 'early_stopping': True, 'hidden_layer_sizes': (50, 10)}\n"
     ]
    },
    {
     "name": "stderr",
     "output_type": "stream",
     "text": [
      "/home/ubuntu/anaconda3/lib/python3.8/site-packages/sklearn/neural_network/_multilayer_perceptron.py:614: ConvergenceWarning: Stochastic Optimizer: Maximum iterations (200) reached and the optimization hasn't converged yet.\n",
      "  warnings.warn(\n"
     ]
    },
    {
     "name": "stdout",
     "output_type": "stream",
     "text": [
      "{'activation': 'logistic', 'alpha': 0.05, 'early_stopping': False, 'hidden_layer_sizes': (10, 30, 10)}\n",
      "{'activation': 'logistic', 'alpha': 0.01, 'early_stopping': True, 'hidden_layer_sizes': (200,)}\n",
      "{'activation': 'logistic', 'alpha': 0.0001, 'early_stopping': True, 'hidden_layer_sizes': (50, 10)}\n",
      "{'activation': 'logistic', 'alpha': 0.2, 'early_stopping': True, 'hidden_layer_sizes': (50, 10)}\n",
      "{'activation': 'logistic', 'alpha': 0.0001, 'early_stopping': True, 'hidden_layer_sizes': (50,)}\n",
      "{'activation': 'tanh', 'alpha': 0.1, 'early_stopping': True, 'hidden_layer_sizes': (10, 30, 10)}\n",
      "{'activation': 'logistic', 'alpha': 0.05, 'early_stopping': True, 'hidden_layer_sizes': (50, 10)}\n",
      "{'activation': 'logistic', 'alpha': 0.2, 'early_stopping': True, 'hidden_layer_sizes': (50,)}\n"
     ]
    },
    {
     "name": "stderr",
     "output_type": "stream",
     "text": [
      "/home/ubuntu/anaconda3/lib/python3.8/site-packages/sklearn/neural_network/_multilayer_perceptron.py:614: ConvergenceWarning: Stochastic Optimizer: Maximum iterations (200) reached and the optimization hasn't converged yet.\n",
      "  warnings.warn(\n"
     ]
    },
    {
     "name": "stdout",
     "output_type": "stream",
     "text": [
      "{'activation': 'logistic', 'alpha': 0.01, 'early_stopping': False, 'hidden_layer_sizes': (10, 30, 10)}\n",
      "{'activation': 'logistic', 'alpha': 0.0001, 'early_stopping': True, 'hidden_layer_sizes': (10, 30, 10)}\n",
      "{'activation': 'logistic', 'alpha': 0.1, 'early_stopping': True, 'hidden_layer_sizes': (50, 10)}\n",
      "{'activation': 'logistic', 'alpha': 0.1, 'early_stopping': True, 'hidden_layer_sizes': (50, 10)}\n"
     ]
    },
    {
     "name": "stderr",
     "output_type": "stream",
     "text": [
      "/home/ubuntu/anaconda3/lib/python3.8/site-packages/sklearn/neural_network/_multilayer_perceptron.py:614: ConvergenceWarning: Stochastic Optimizer: Maximum iterations (200) reached and the optimization hasn't converged yet.\n",
      "  warnings.warn(\n"
     ]
    },
    {
     "name": "stdout",
     "output_type": "stream",
     "text": [
      "{'activation': 'logistic', 'alpha': 0.2, 'early_stopping': False, 'hidden_layer_sizes': (10, 30, 10)}\n"
     ]
    },
    {
     "name": "stderr",
     "output_type": "stream",
     "text": [
      "/home/ubuntu/anaconda3/lib/python3.8/site-packages/sklearn/neural_network/_multilayer_perceptron.py:614: ConvergenceWarning: Stochastic Optimizer: Maximum iterations (200) reached and the optimization hasn't converged yet.\n",
      "  warnings.warn(\n"
     ]
    },
    {
     "name": "stdout",
     "output_type": "stream",
     "text": [
      "{'activation': 'logistic', 'alpha': 0.05, 'early_stopping': True, 'hidden_layer_sizes': (50, 10)}\n",
      "{'activation': 'tanh', 'alpha': 0.2, 'early_stopping': True, 'hidden_layer_sizes': (10, 30, 10)}\n",
      "{'activation': 'logistic', 'alpha': 0.2, 'early_stopping': True, 'hidden_layer_sizes': (50, 10)}\n",
      "{'activation': 'logistic', 'alpha': 0.2, 'early_stopping': True, 'hidden_layer_sizes': (200,)}\n",
      "{'activation': 'logistic', 'alpha': 0.05, 'early_stopping': True, 'hidden_layer_sizes': (50, 10)}\n",
      "{'activation': 'logistic', 'alpha': 0.0001, 'early_stopping': True, 'hidden_layer_sizes': (500,)}\n",
      "{'activation': 'logistic', 'alpha': 0.05, 'early_stopping': True, 'hidden_layer_sizes': (500,)}\n",
      "{'activation': 'logistic', 'alpha': 0.1, 'early_stopping': True, 'hidden_layer_sizes': (50,)}\n",
      "{'activation': 'logistic', 'alpha': 0.1, 'early_stopping': True, 'hidden_layer_sizes': (200,)}\n",
      "{'activation': 'logistic', 'alpha': 0.0001, 'early_stopping': True, 'hidden_layer_sizes': (50, 10)}\n",
      "{'activation': 'logistic', 'alpha': 0.2, 'early_stopping': True, 'hidden_layer_sizes': (50, 10, 10)}\n"
     ]
    },
    {
     "name": "stderr",
     "output_type": "stream",
     "text": [
      "/home/ubuntu/anaconda3/lib/python3.8/site-packages/sklearn/neural_network/_multilayer_perceptron.py:614: ConvergenceWarning: Stochastic Optimizer: Maximum iterations (200) reached and the optimization hasn't converged yet.\n",
      "  warnings.warn(\n"
     ]
    },
    {
     "name": "stdout",
     "output_type": "stream",
     "text": [
      "{'activation': 'logistic', 'alpha': 0.0001, 'early_stopping': True, 'hidden_layer_sizes': (50, 10, 10)}\n"
     ]
    },
    {
     "name": "stderr",
     "output_type": "stream",
     "text": [
      "/home/ubuntu/anaconda3/lib/python3.8/site-packages/sklearn/neural_network/_multilayer_perceptron.py:614: ConvergenceWarning: Stochastic Optimizer: Maximum iterations (200) reached and the optimization hasn't converged yet.\n",
      "  warnings.warn(\n"
     ]
    },
    {
     "name": "stdout",
     "output_type": "stream",
     "text": [
      "{'activation': 'logistic', 'alpha': 0.0001, 'early_stopping': False, 'hidden_layer_sizes': (50, 10, 10)}\n",
      "{'activation': 'tanh', 'alpha': 0.01, 'early_stopping': True, 'hidden_layer_sizes': (50,)}\n"
     ]
    },
    {
     "name": "stderr",
     "output_type": "stream",
     "text": [
      "/home/ubuntu/anaconda3/lib/python3.8/site-packages/sklearn/neural_network/_multilayer_perceptron.py:614: ConvergenceWarning: Stochastic Optimizer: Maximum iterations (200) reached and the optimization hasn't converged yet.\n",
      "  warnings.warn(\n"
     ]
    },
    {
     "name": "stdout",
     "output_type": "stream",
     "text": [
      "{'activation': 'logistic', 'alpha': 0.1, 'early_stopping': False, 'hidden_layer_sizes': (50, 10, 10)}\n"
     ]
    },
    {
     "name": "stderr",
     "output_type": "stream",
     "text": [
      "/home/ubuntu/anaconda3/lib/python3.8/site-packages/sklearn/neural_network/_multilayer_perceptron.py:614: ConvergenceWarning: Stochastic Optimizer: Maximum iterations (200) reached and the optimization hasn't converged yet.\n",
      "  warnings.warn(\n"
     ]
    },
    {
     "name": "stdout",
     "output_type": "stream",
     "text": [
      "{'activation': 'logistic', 'alpha': 0.2, 'early_stopping': False, 'hidden_layer_sizes': (50, 10, 10)}\n",
      "{'activation': 'logistic', 'alpha': 0.05, 'early_stopping': True, 'hidden_layer_sizes': (50, 10)}\n"
     ]
    },
    {
     "name": "stderr",
     "output_type": "stream",
     "text": [
      "/home/ubuntu/anaconda3/lib/python3.8/site-packages/sklearn/neural_network/_multilayer_perceptron.py:614: ConvergenceWarning: Stochastic Optimizer: Maximum iterations (200) reached and the optimization hasn't converged yet.\n",
      "  warnings.warn(\n"
     ]
    },
    {
     "name": "stdout",
     "output_type": "stream",
     "text": [
      "{'activation': 'logistic', 'alpha': 0.01, 'early_stopping': False, 'hidden_layer_sizes': (10, 30, 10)}\n"
     ]
    },
    {
     "name": "stderr",
     "output_type": "stream",
     "text": [
      "/home/ubuntu/anaconda3/lib/python3.8/site-packages/sklearn/neural_network/_multilayer_perceptron.py:614: ConvergenceWarning: Stochastic Optimizer: Maximum iterations (200) reached and the optimization hasn't converged yet.\n",
      "  warnings.warn(\n"
     ]
    },
    {
     "name": "stdout",
     "output_type": "stream",
     "text": [
      "{'activation': 'logistic', 'alpha': 0.0001, 'early_stopping': False, 'hidden_layer_sizes': (50, 10, 10)}\n",
      "{'activation': 'relu', 'alpha': 0.1, 'early_stopping': True, 'hidden_layer_sizes': (50, 10)}\n",
      "{'activation': 'logistic', 'alpha': 0.05, 'early_stopping': True, 'hidden_layer_sizes': (50, 10, 10)}\n",
      "{'activation': 'logistic', 'alpha': 0.05, 'early_stopping': True, 'hidden_layer_sizes': (200,)}\n",
      "{'activation': 'logistic', 'alpha': 0.05, 'early_stopping': True, 'hidden_layer_sizes': (50,)}\n",
      "{'activation': 'logistic', 'alpha': 0.1, 'early_stopping': True, 'hidden_layer_sizes': (50,)}\n",
      "{'activation': 'logistic', 'alpha': 0.0001, 'early_stopping': True, 'hidden_layer_sizes': (500,)}\n"
     ]
    },
    {
     "name": "stderr",
     "output_type": "stream",
     "text": [
      "/home/ubuntu/anaconda3/lib/python3.8/site-packages/sklearn/neural_network/_multilayer_perceptron.py:614: ConvergenceWarning: Stochastic Optimizer: Maximum iterations (200) reached and the optimization hasn't converged yet.\n",
      "  warnings.warn(\n"
     ]
    },
    {
     "name": "stdout",
     "output_type": "stream",
     "text": [
      "{'activation': 'logistic', 'alpha': 0.2, 'early_stopping': False, 'hidden_layer_sizes': (50, 10, 10)}\n"
     ]
    },
    {
     "name": "stderr",
     "output_type": "stream",
     "text": [
      "/home/ubuntu/anaconda3/lib/python3.8/site-packages/sklearn/neural_network/_multilayer_perceptron.py:614: ConvergenceWarning: Stochastic Optimizer: Maximum iterations (200) reached and the optimization hasn't converged yet.\n",
      "  warnings.warn(\n"
     ]
    },
    {
     "name": "stdout",
     "output_type": "stream",
     "text": [
      "{'activation': 'logistic', 'alpha': 0.1, 'early_stopping': False, 'hidden_layer_sizes': (500,)}\n"
     ]
    },
    {
     "name": "stderr",
     "output_type": "stream",
     "text": [
      "/home/ubuntu/anaconda3/lib/python3.8/site-packages/sklearn/neural_network/_multilayer_perceptron.py:614: ConvergenceWarning: Stochastic Optimizer: Maximum iterations (200) reached and the optimization hasn't converged yet.\n",
      "  warnings.warn(\n"
     ]
    },
    {
     "name": "stdout",
     "output_type": "stream",
     "text": [
      "{'activation': 'logistic', 'alpha': 0.0001, 'early_stopping': False, 'hidden_layer_sizes': (500,)}\n"
     ]
    },
    {
     "name": "stderr",
     "output_type": "stream",
     "text": [
      "/home/ubuntu/anaconda3/lib/python3.8/site-packages/sklearn/neural_network/_multilayer_perceptron.py:614: ConvergenceWarning: Stochastic Optimizer: Maximum iterations (200) reached and the optimization hasn't converged yet.\n",
      "  warnings.warn(\n"
     ]
    },
    {
     "name": "stdout",
     "output_type": "stream",
     "text": [
      "{'activation': 'logistic', 'alpha': 0.01, 'early_stopping': False, 'hidden_layer_sizes': (500,)}\n"
     ]
    },
    {
     "name": "stderr",
     "output_type": "stream",
     "text": [
      "/home/ubuntu/anaconda3/lib/python3.8/site-packages/sklearn/neural_network/_multilayer_perceptron.py:614: ConvergenceWarning: Stochastic Optimizer: Maximum iterations (200) reached and the optimization hasn't converged yet.\n",
      "  warnings.warn(\n"
     ]
    },
    {
     "name": "stdout",
     "output_type": "stream",
     "text": [
      "{'activation': 'logistic', 'alpha': 0.01, 'early_stopping': False, 'hidden_layer_sizes': (500,)}\n"
     ]
    },
    {
     "name": "stderr",
     "output_type": "stream",
     "text": [
      "/home/ubuntu/anaconda3/lib/python3.8/site-packages/sklearn/neural_network/_multilayer_perceptron.py:614: ConvergenceWarning: Stochastic Optimizer: Maximum iterations (200) reached and the optimization hasn't converged yet.\n",
      "  warnings.warn(\n"
     ]
    },
    {
     "name": "stdout",
     "output_type": "stream",
     "text": [
      "{'activation': 'logistic', 'alpha': 0.1, 'early_stopping': False, 'hidden_layer_sizes': (500,)}\n"
     ]
    },
    {
     "name": "stderr",
     "output_type": "stream",
     "text": [
      "/home/ubuntu/anaconda3/lib/python3.8/site-packages/sklearn/neural_network/_multilayer_perceptron.py:614: ConvergenceWarning: Stochastic Optimizer: Maximum iterations (200) reached and the optimization hasn't converged yet.\n",
      "  warnings.warn(\n"
     ]
    },
    {
     "name": "stdout",
     "output_type": "stream",
     "text": [
      "{'activation': 'logistic', 'alpha': 0.1, 'early_stopping': False, 'hidden_layer_sizes': (500,)}\n"
     ]
    },
    {
     "name": "stderr",
     "output_type": "stream",
     "text": [
      "/home/ubuntu/anaconda3/lib/python3.8/site-packages/sklearn/neural_network/_multilayer_perceptron.py:614: ConvergenceWarning: Stochastic Optimizer: Maximum iterations (200) reached and the optimization hasn't converged yet.\n",
      "  warnings.warn(\n"
     ]
    },
    {
     "name": "stdout",
     "output_type": "stream",
     "text": [
      "{'activation': 'logistic', 'alpha': 0.0001, 'early_stopping': False, 'hidden_layer_sizes': (500,)}\n"
     ]
    },
    {
     "name": "stderr",
     "output_type": "stream",
     "text": [
      "/home/ubuntu/anaconda3/lib/python3.8/site-packages/sklearn/neural_network/_multilayer_perceptron.py:614: ConvergenceWarning: Stochastic Optimizer: Maximum iterations (200) reached and the optimization hasn't converged yet.\n",
      "  warnings.warn(\n"
     ]
    },
    {
     "name": "stdout",
     "output_type": "stream",
     "text": [
      "{'activation': 'logistic', 'alpha': 0.2, 'early_stopping': False, 'hidden_layer_sizes': (500,)}\n"
     ]
    },
    {
     "name": "stderr",
     "output_type": "stream",
     "text": [
      "/home/ubuntu/anaconda3/lib/python3.8/site-packages/sklearn/neural_network/_multilayer_perceptron.py:614: ConvergenceWarning: Stochastic Optimizer: Maximum iterations (200) reached and the optimization hasn't converged yet.\n",
      "  warnings.warn(\n"
     ]
    },
    {
     "name": "stdout",
     "output_type": "stream",
     "text": [
      "{'activation': 'logistic', 'alpha': 0.01, 'early_stopping': False, 'hidden_layer_sizes': (500,)}\n",
      "{'activation': 'logistic', 'alpha': 0.1, 'early_stopping': True, 'hidden_layer_sizes': (500,)}\n"
     ]
    },
    {
     "name": "stderr",
     "output_type": "stream",
     "text": [
      "/home/ubuntu/anaconda3/lib/python3.8/site-packages/sklearn/neural_network/_multilayer_perceptron.py:614: ConvergenceWarning: Stochastic Optimizer: Maximum iterations (200) reached and the optimization hasn't converged yet.\n",
      "  warnings.warn(\n"
     ]
    },
    {
     "name": "stdout",
     "output_type": "stream",
     "text": [
      "{'activation': 'logistic', 'alpha': 0.1, 'early_stopping': True, 'hidden_layer_sizes': (50, 10)}\n",
      "{'activation': 'logistic', 'alpha': 0.01, 'early_stopping': True, 'hidden_layer_sizes': (50, 10)}\n",
      "{'activation': 'tanh', 'alpha': 0.05, 'early_stopping': True, 'hidden_layer_sizes': (10, 30, 10)}\n",
      "{'activation': 'logistic', 'alpha': 0.1, 'early_stopping': True, 'hidden_layer_sizes': (500,)}\n",
      "{'activation': 'logistic', 'alpha': 0.01, 'early_stopping': True, 'hidden_layer_sizes': (200,)}\n",
      "{'activation': 'logistic', 'alpha': 0.05, 'early_stopping': True, 'hidden_layer_sizes': (50,)}\n",
      "{'activation': 'logistic', 'alpha': 0.01, 'early_stopping': True, 'hidden_layer_sizes': (500,)}\n"
     ]
    },
    {
     "name": "stderr",
     "output_type": "stream",
     "text": [
      "/home/ubuntu/anaconda3/lib/python3.8/site-packages/sklearn/neural_network/_multilayer_perceptron.py:614: ConvergenceWarning: Stochastic Optimizer: Maximum iterations (200) reached and the optimization hasn't converged yet.\n",
      "  warnings.warn(\n"
     ]
    },
    {
     "name": "stdout",
     "output_type": "stream",
     "text": [
      "{'activation': 'logistic', 'alpha': 0.01, 'early_stopping': True, 'hidden_layer_sizes': (50, 10)}\n"
     ]
    },
    {
     "name": "stderr",
     "output_type": "stream",
     "text": [
      "/home/ubuntu/anaconda3/lib/python3.8/site-packages/sklearn/neural_network/_multilayer_perceptron.py:614: ConvergenceWarning: Stochastic Optimizer: Maximum iterations (200) reached and the optimization hasn't converged yet.\n",
      "  warnings.warn(\n"
     ]
    },
    {
     "name": "stdout",
     "output_type": "stream",
     "text": [
      "{'activation': 'logistic', 'alpha': 0.1, 'early_stopping': False, 'hidden_layer_sizes': (50, 10)}\n",
      "{'activation': 'logistic', 'alpha': 0.2, 'early_stopping': True, 'hidden_layer_sizes': (500,)}\n"
     ]
    },
    {
     "name": "stderr",
     "output_type": "stream",
     "text": [
      "/home/ubuntu/anaconda3/lib/python3.8/site-packages/sklearn/neural_network/_multilayer_perceptron.py:614: ConvergenceWarning: Stochastic Optimizer: Maximum iterations (200) reached and the optimization hasn't converged yet.\n",
      "  warnings.warn(\n"
     ]
    },
    {
     "name": "stdout",
     "output_type": "stream",
     "text": [
      "{'activation': 'logistic', 'alpha': 0.05, 'early_stopping': False, 'hidden_layer_sizes': (50, 10, 10)}\n",
      "{'activation': 'logistic', 'alpha': 0.01, 'early_stopping': True, 'hidden_layer_sizes': (50, 10, 10)}\n",
      "{'activation': 'logistic', 'alpha': 0.2, 'early_stopping': True, 'hidden_layer_sizes': (50,)}\n"
     ]
    },
    {
     "name": "stderr",
     "output_type": "stream",
     "text": [
      "/home/ubuntu/anaconda3/lib/python3.8/site-packages/sklearn/neural_network/_multilayer_perceptron.py:614: ConvergenceWarning: Stochastic Optimizer: Maximum iterations (200) reached and the optimization hasn't converged yet.\n",
      "  warnings.warn(\n"
     ]
    },
    {
     "name": "stdout",
     "output_type": "stream",
     "text": [
      "{'activation': 'logistic', 'alpha': 0.2, 'early_stopping': False, 'hidden_layer_sizes': (50, 10)}\n",
      "{'activation': 'logistic', 'alpha': 0.01, 'early_stopping': True, 'hidden_layer_sizes': (200,)}\n"
     ]
    },
    {
     "name": "stderr",
     "output_type": "stream",
     "text": [
      "/home/ubuntu/anaconda3/lib/python3.8/site-packages/sklearn/neural_network/_multilayer_perceptron.py:614: ConvergenceWarning: Stochastic Optimizer: Maximum iterations (200) reached and the optimization hasn't converged yet.\n",
      "  warnings.warn(\n"
     ]
    },
    {
     "name": "stdout",
     "output_type": "stream",
     "text": [
      "{'activation': 'logistic', 'alpha': 0.01, 'early_stopping': False, 'hidden_layer_sizes': (50, 10)}\n",
      "{'activation': 'logistic', 'alpha': 0.01, 'early_stopping': True, 'hidden_layer_sizes': (50,)}\n",
      "{'activation': 'logistic', 'alpha': 0.2, 'early_stopping': True, 'hidden_layer_sizes': (50, 10)}\n",
      "{'activation': 'logistic', 'alpha': 0.05, 'early_stopping': True, 'hidden_layer_sizes': (50,)}\n"
     ]
    },
    {
     "name": "stderr",
     "output_type": "stream",
     "text": [
      "/home/ubuntu/anaconda3/lib/python3.8/site-packages/sklearn/neural_network/_multilayer_perceptron.py:614: ConvergenceWarning: Stochastic Optimizer: Maximum iterations (200) reached and the optimization hasn't converged yet.\n",
      "  warnings.warn(\n"
     ]
    },
    {
     "name": "stdout",
     "output_type": "stream",
     "text": [
      "{'activation': 'logistic', 'alpha': 0.2, 'early_stopping': False, 'hidden_layer_sizes': (50, 10, 10)}\n",
      "{'activation': 'logistic', 'alpha': 0.01, 'early_stopping': True, 'hidden_layer_sizes': (50, 10)}\n",
      "{'activation': 'logistic', 'alpha': 0.1, 'early_stopping': True, 'hidden_layer_sizes': (200,)}\n"
     ]
    },
    {
     "name": "stderr",
     "output_type": "stream",
     "text": [
      "/home/ubuntu/anaconda3/lib/python3.8/site-packages/sklearn/neural_network/_multilayer_perceptron.py:614: ConvergenceWarning: Stochastic Optimizer: Maximum iterations (200) reached and the optimization hasn't converged yet.\n",
      "  warnings.warn(\n"
     ]
    },
    {
     "name": "stdout",
     "output_type": "stream",
     "text": [
      "{'activation': 'logistic', 'alpha': 0.05, 'early_stopping': True, 'hidden_layer_sizes': (50, 10)}\n",
      "{'activation': 'logistic', 'alpha': 0.2, 'early_stopping': True, 'hidden_layer_sizes': (50,)}\n",
      "{'activation': 'logistic', 'alpha': 0.01, 'early_stopping': True, 'hidden_layer_sizes': (50, 10)}\n",
      "{'activation': 'logistic', 'alpha': 0.1, 'early_stopping': True, 'hidden_layer_sizes': (50,)}\n",
      "{'activation': 'relu', 'alpha': 0.2, 'early_stopping': True, 'hidden_layer_sizes': (10, 30, 10)}\n"
     ]
    },
    {
     "name": "stderr",
     "output_type": "stream",
     "text": [
      "/home/ubuntu/anaconda3/lib/python3.8/site-packages/sklearn/neural_network/_multilayer_perceptron.py:614: ConvergenceWarning: Stochastic Optimizer: Maximum iterations (200) reached and the optimization hasn't converged yet.\n",
      "  warnings.warn(\n"
     ]
    },
    {
     "name": "stdout",
     "output_type": "stream",
     "text": [
      "{'activation': 'logistic', 'alpha': 0.05, 'early_stopping': True, 'hidden_layer_sizes': (50, 10)}\n"
     ]
    },
    {
     "name": "stderr",
     "output_type": "stream",
     "text": [
      "/home/ubuntu/anaconda3/lib/python3.8/site-packages/sklearn/neural_network/_multilayer_perceptron.py:614: ConvergenceWarning: Stochastic Optimizer: Maximum iterations (200) reached and the optimization hasn't converged yet.\n",
      "  warnings.warn(\n"
     ]
    },
    {
     "name": "stdout",
     "output_type": "stream",
     "text": [
      "{'activation': 'logistic', 'alpha': 0.05, 'early_stopping': True, 'hidden_layer_sizes': (50, 10)}\n"
     ]
    },
    {
     "name": "stderr",
     "output_type": "stream",
     "text": [
      "/home/ubuntu/anaconda3/lib/python3.8/site-packages/sklearn/neural_network/_multilayer_perceptron.py:614: ConvergenceWarning: Stochastic Optimizer: Maximum iterations (200) reached and the optimization hasn't converged yet.\n",
      "  warnings.warn(\n"
     ]
    },
    {
     "name": "stdout",
     "output_type": "stream",
     "text": [
      "{'activation': 'logistic', 'alpha': 0.1, 'early_stopping': False, 'hidden_layer_sizes': (10, 30, 10)}\n",
      "{'activation': 'logistic', 'alpha': 0.05, 'early_stopping': True, 'hidden_layer_sizes': (50, 10)}\n",
      "{'activation': 'tanh', 'alpha': 0.1, 'early_stopping': True, 'hidden_layer_sizes': (500,)}\n",
      "{'activation': 'logistic', 'alpha': 0.0001, 'early_stopping': True, 'hidden_layer_sizes': (500,)}\n"
     ]
    },
    {
     "name": "stderr",
     "output_type": "stream",
     "text": [
      "/home/ubuntu/anaconda3/lib/python3.8/site-packages/sklearn/neural_network/_multilayer_perceptron.py:614: ConvergenceWarning: Stochastic Optimizer: Maximum iterations (200) reached and the optimization hasn't converged yet.\n",
      "  warnings.warn(\n"
     ]
    },
    {
     "name": "stdout",
     "output_type": "stream",
     "text": [
      "{'activation': 'logistic', 'alpha': 0.01, 'early_stopping': False, 'hidden_layer_sizes': (50, 10, 10)}\n",
      "{'activation': 'logistic', 'alpha': 0.0001, 'early_stopping': True, 'hidden_layer_sizes': (50,)}\n",
      "{'activation': 'logistic', 'alpha': 0.1, 'early_stopping': True, 'hidden_layer_sizes': (50, 10, 10)}\n",
      "{'activation': 'logistic', 'alpha': 0.01, 'early_stopping': True, 'hidden_layer_sizes': (50, 10, 10)}\n",
      "{'activation': 'logistic', 'alpha': 0.1, 'early_stopping': True, 'hidden_layer_sizes': (10, 30, 10)}\n"
     ]
    }
   ],
   "source": [
    "################################################\n",
    "# dataset options: 'CDRP' , 'LUAD', 'TAORF', 'LINCS', 'CDRP-bio'\n",
    "datasets=['LUAD', 'TAORF', 'LINCS', 'CDRP-bio'];\n",
    "# datasets=['LINCS', 'CDRP-bio','CDRP'];\n",
    "\n",
    "DT_kfold={'LUAD':10, 'TAORF':5, 'LINCS':20, 'CDRP-bio':20,'CDRP':40}\n",
    "\n",
    "################################################\n",
    "# CP Profile Type options: 'augmented' , 'normalized', 'normalized_variable_selected'\n",
    "profileType='normalized_variable_selected'\n",
    "\n",
    "################################################\n",
    "# filtering to compounds which have high replicates for both GE and CP datasets\n",
    "highRepOverlapEnabled=1\n",
    "\n",
    "\n",
    "################################################\n",
    "pertColName='PERT'\n",
    "profileLevel='treatment'; #'replicate'  or  'treatment'\n",
    "if highRepOverlapEnabled:\n",
    "    f='filt'\n",
    "else:\n",
    "    f=''\n",
    "    \n",
    "# def f(dataset):\n",
    "for dataset in datasets:\n",
    "   \n",
    "    \n",
    "    nRep=2\n",
    "    mergProf_repLevel,mergProf_treatLevel,cp_features,l1k_features=\\\n",
    "    readMergedProfiles(procProf_dir,dataset,profileType,profileLevel,nRep,highRepOverlapEnabled);\n",
    "\n",
    "\n",
    "#     if profileLevel=='replicate':\n",
    "#         l1k=mergProf_repLevel[[pertColName]+l1k_features]\n",
    "#         cp=mergProf_repLevel[[pertColName]+cp_features]\n",
    "#     elif profileLevel=='treatment':\n",
    "    l1k=mergProf_treatLevel[[pertColName]+l1k_features]\n",
    "    cp=mergProf_treatLevel[[pertColName]+cp_features]\n",
    "\n",
    "\n",
    "    if dataset=='LINCS':     \n",
    "        cp['Compounds']=cp['PERT'].str[0:13]\n",
    "        l1k['Compounds']=l1k['PERT'].str[0:13]\n",
    "    else:\n",
    "        cp['Compounds']=cp['PERT']\n",
    "        l1k['Compounds']=l1k['PERT']      \n",
    "\n",
    "\n",
    "    le = preprocessing.LabelEncoder()\n",
    "    group_labels=le.fit_transform(l1k['Compounds'].values)\n",
    "\n",
    "\n",
    "    scaler_ge = preprocessing.StandardScaler()\n",
    "    scaler_cp = preprocessing.StandardScaler()\n",
    "    l1k_scaled=l1k.copy()\n",
    "    l1k_scaled[l1k_features] = scaler_ge.fit_transform(l1k[l1k_features].values)\n",
    "    cp_scaled=cp.copy()\n",
    "    cp_scaled[cp_features] = scaler_cp.fit_transform(cp[cp_features].values.astype('float64'))\n",
    "    \n",
    "    \n",
    "    for model in [\"MLP\"]:#[\"Lasso\",\"MLP\"]:    \n",
    "    \n",
    "#         if model==\"MLP\":\n",
    "#             cp_scaled[cp_features] =preprocessing.MinMaxScaler(feature_range=(-1, 1)).fit_transform(cp_scaled[cp_features].values)   \n",
    "#             l1k_scaled[l1k_features] =preprocessing.MinMaxScaler(feature_range=(-1, 1)).fit_transform(l1k_scaled[l1k_features].values)           \n",
    "\n",
    "\n",
    "        if 1:\n",
    "            cp=cp_scaled.copy()\n",
    "            l1k=l1k_scaled.copy()\n",
    "\n",
    "        ##############################\n",
    "         \n",
    "#         k_fold=DT_kfold[dataset]\n",
    "#         k_fold=int(np.unique(group_labels).shape[0]/4)\n",
    "\n",
    "        if dataset=='TAORF' or dataset=='CDRP':     \n",
    "            k_fold=DT_kfold[dataset]\n",
    "#             k_fold=int(np.unique(group_labels).shape[0]/20)              \n",
    "        else:\n",
    "            k_fold=int(np.unique(group_labels).shape[0]/20)  \n",
    "            \n",
    "        pred_df=pd.DataFrame(index=range(k_fold),columns=l1k_features)\n",
    "        pred_df_rand=pd.DataFrame(index=range(k_fold),columns=l1k_features)\n",
    "        for l in l1k_features:\n",
    "            if model==\"Lasso\":\n",
    "                \n",
    "                scores,scores_rand=lasso_cv_plus_model_selection(cp[cp_features],l1k[l],k_fold,group_labels)\n",
    "                \n",
    "#                 scores,scores_rand=lasso_cv(cp[cp_features],l1k[l],k_fold,group_labels)\n",
    "            elif model==\"MLP\":\n",
    "                scores,scores_rand=MLP_cv_plus_model_selection(cp[cp_features],l1k[l],k_fold,group_labels)\n",
    "#                 scores,scores_rand=MLP_cv(cp[cp_features],l1k[l],k_fold,group_labels)            \n",
    "            pred_df[l]=scores\n",
    "            pred_df_rand[l]=scores_rand\n",
    "\n",
    "#         gafgfdssgfd\n",
    "        ########################### mapping prob_ids to genes names    \n",
    "        meta=pd.read_csv(\"/home/ubuntu/bucket/projects/2018_04_20_Rosetta/workspace/metadata/affy_probe_gene_mapping.txt\",delimiter=\"\\t\",header=None, names=[\"probe_id\", \"gene\"])\n",
    "        meta_gene_probID=meta.set_index('probe_id')\n",
    "        d = dict(zip(meta_gene_probID.index, meta_gene_probID['gene']))\n",
    "        pred_df = pred_df.rename(columns=d)    \n",
    "        pred_df_rand = pred_df_rand.rename(columns=d)  \n",
    "\n",
    "\n",
    "        meltedPredDF=pd.melt(pred_df).rename(columns={'variable':'lmGens','value':'pred score'})\n",
    "        meltedPredDF_rand=pd.melt(pred_df_rand).rename(columns={'variable':'lmGens','value':'pred score'})\n",
    "        meltedPredDF['d']=\"n-folds\"\n",
    "        meltedPredDF_rand['d']=\"random\"\n",
    "        filename=results_dir+'/SingleGenePred/scores.xlsx'\n",
    "        \n",
    "        profTypeAbbrev=''.join([s[0] for s in profileType.split('_')])\n",
    "        \n",
    "        saveAsNewSheetToExistingFile(filename,pd.concat([meltedPredDF,meltedPredDF_rand],ignore_index=True),\\\n",
    "                                     model+'-'+dataset+'-'+profTypeAbbrev+'-'+f+'-'+str(k_fold)+'-ht')\n",
    "        \n",
    "#     return \n",
    "\n",
    "# with Pool(10) as p:\n",
    "#     p.map(f, datasets)"
   ]
  },
  {
   "cell_type": "code",
   "execution_count": 13,
   "metadata": {},
   "outputs": [
    {
     "data": {
      "text/plain": [
       "array([0.        , 0.01052632, 0.02105263, 0.03157895, 0.04210526,\n",
       "       0.05263158, 0.06315789, 0.07368421, 0.08421053, 0.09473684,\n",
       "       0.10526316, 0.11578947, 0.12631579, 0.13684211, 0.14736842,\n",
       "       0.15789474, 0.16842105, 0.17894737, 0.18947368, 0.2       ,\n",
       "       0.23333333, 0.26666667, 0.3       , 0.33333333, 0.36666667,\n",
       "       0.4       , 0.43333333, 0.46666667, 0.5       ])"
      ]
     },
     "execution_count": 13,
     "metadata": {},
     "output_type": "execute_result"
    }
   ],
   "source": [
    "# scores,scores_rand=lasso_cv_plus_model_selection(cp[cp_features],l1k[l],k_fold,group_labels)\n",
    "alphas = np.linspace(0, 0.2, 20)\n",
    "np.concatenate((alphas,np.linspace(0.2, 0.5, 10)[1:]))\n",
    "# np.logspace(-4, -0.5, 30)"
   ]
  },
  {
   "cell_type": "code",
   "execution_count": 10,
   "metadata": {},
   "outputs": [
    {
     "data": {
      "text/plain": [
       "202870_s_at   -16.070872\n",
       "209899_s_at   -10.784372\n",
       "203315_at      -7.462818\n",
       "204126_s_at    -6.800885\n",
       "201323_at      -6.340889\n",
       "                 ...    \n",
       "201870_at       0.398052\n",
       "209875_s_at     0.413801\n",
       "210986_s_at     0.474941\n",
       "210719_s_at     0.509600\n",
       "201032_at       0.511457\n",
       "Length: 978, dtype: float64"
      ]
     },
     "execution_count": 10,
     "metadata": {},
     "output_type": "execute_result"
    }
   ],
   "source": [
    "# np.linspace(0, 1, 10)\n",
    "# scores_rand\n",
    "pred_df.mean().sort_values()"
   ]
  },
  {
   "cell_type": "code",
   "execution_count": 21,
   "metadata": {},
   "outputs": [
    {
     "data": {
      "text/plain": [
       "array([0.57400963, 0.58238021, 0.58851821, 0.54148807, 0.6773486 ,\n",
       "       0.5438055 , 0.64596831, 0.2438296 , 0.52226319])"
      ]
     },
     "execution_count": 21,
     "metadata": {},
     "output_type": "execute_result"
    }
   ],
   "source": [
    "np.array(scores)"
   ]
  },
  {
   "cell_type": "code",
   "execution_count": 24,
   "metadata": {},
   "outputs": [
    {
     "data": {
      "text/plain": [
       "array([0.61805801, 0.61410161, 0.71590492, 0.5401769 , 0.7256939 ,\n",
       "       0.6572162 , 0.62939806, 0.35729642, 0.54652747])"
      ]
     },
     "execution_count": 24,
     "metadata": {},
     "output_type": "execute_result"
    }
   ],
   "source": [
    "np.array(scores)"
   ]
  },
  {
   "cell_type": "code",
   "execution_count": 18,
   "metadata": {},
   "outputs": [
    {
     "name": "stderr",
     "output_type": "stream",
     "text": [
      "/home/ubuntu/anaconda3/lib/python3.8/site-packages/seaborn/distributions.py:2551: FutureWarning: `distplot` is a deprecated function and will be removed in a future version. Please adapt your code to use either `displot` (a figure-level function with similar flexibility) or `histplot` (an axes-level function for histograms).\n",
      "  warnings.warn(msg, FutureWarning)\n"
     ]
    },
    {
     "name": "stdout",
     "output_type": "stream",
     "text": [
      "-0.0008916206554699711\n"
     ]
    },
    {
     "data": {
      "text/plain": [
       "(-0.5, 0.5)"
      ]
     },
     "execution_count": 18,
     "metadata": {},
     "output_type": "execute_result"
    },
    {
     "data": {
      "image/png": "[encoded data removed]",
      "text/plain": [
       "<Figure size 432x288 with 1 Axes>"
      ]
     },
     "metadata": {},
     "output_type": "display_data"
    }
   ],
   "source": [
    "# pred_scoress=d_to_pl[d_to_pl[\"d\"]==\"n-folds\"][\"pred score\"].values\n",
    "#         pred_scoress=res_sheet[res_sheet['d']=='n-folds'][\"pred score\"].values\n",
    "# rand_scoress=d_to_pl[d_to_pl[\"d\"]==\"random\"][\"pred score\"].values\n",
    "#         rand_scoress=res_sheet[res_sheet['d']=='random'][\"pred score\"].values\n",
    "sns.distplot(meltedPredDF['pred score'].values,kde=False,hist=True,bins=200,norm_hist=True,color='r')\n",
    "sns.distplot(meltedPredDF_rand['pred score'].values,kde=False,hist=True,bins=200,label='random',norm_hist=True)\n",
    "print(np.percentile(meltedPredDF_rand['pred score'].values,90))\n",
    "# plt.xlim(-1,1)\n",
    "plt.xlim(-.5,.5)"
   ]
  },
  {
   "cell_type": "code",
   "execution_count": null,
   "metadata": {},
   "outputs": [],
   "source": [
    "# meltedPredDF.groupby()"
   ]
  },
  {
   "cell_type": "markdown",
   "metadata": {},
   "source": [
    "## Prediction of single CP features based on the full GE profiles"
   ]
  },
  {
   "cell_type": "code",
   "execution_count": null,
   "metadata": {},
   "outputs": [],
   "source": [
    "################################################\n",
    "# dataset options: 'CDRP' , 'LUAD', 'TAORF', 'LINCS', 'CDRP-bio'\n",
    "# datasets=['LUAD', 'TAORF', 'LINCS', 'CDRP-bio'];\n",
    "datasets=['LUAD', 'TAORF', 'LINCS', 'CDRP-bio','CDRP'];\n",
    "\n",
    "DT_kfold={'LUAD':10, 'TAORF':5, 'LINCS':20, 'CDRP-bio':20,'CDRP':40}\n",
    "\n",
    "################################################\n",
    "# CP Profile Type options: 'augmented' , 'normalized', 'normalized_variable_selected'\n",
    "# 'normalized_feature_select_dmso'\n",
    "profileType='normalized'\n",
    "\n",
    "################################################\n",
    "# filtering to compounds which have high replicates for both GE and CP datasets\n",
    "highRepOverlapEnabled=1\n",
    "\n",
    "\n",
    "################################################\n",
    "pertColName='PERT'\n",
    "profileLevel='treatment'; #'replicate'  or  'treatment'\n",
    "if highRepOverlapEnabled:\n",
    "    f='filt'\n",
    "else:\n",
    "    f=''\n",
    "    \n",
    "# def f(dataset):\n",
    "for dataset in datasets:\n",
    "    \n",
    "    if dataset=='LINCS':\n",
    "#         profileType='normalized_feature_select_dmso'\n",
    "        profileType=\"normalized_dmso\"\n",
    "    else:\n",
    "#         profileType='normalized_variable_selected'      \n",
    "        profileType='normalized'       \n",
    "    \n",
    "    nRep=2\n",
    "    mergProf_repLevel,mergProf_treatLevel,cp_features,l1k_features=\\\n",
    "    readMergedProfiles(dataset_rootDir,dataset,profileType,profileLevel,nRep,highRepOverlapEnabled);\n",
    "\n",
    "    if profileLevel=='replicate':\n",
    "        l1k=mergProf_repLevel[[pertColName]+l1k_features]\n",
    "        cp=mergProf_repLevel[[pertColName]+cp_features]\n",
    "    elif profileLevel=='treatment':\n",
    "        l1k=mergProf_treatLevel[[pertColName]+l1k_features]\n",
    "        cp=mergProf_treatLevel[[pertColName]+cp_features]\n",
    "\n",
    "        \n",
    "    if dataset=='LINCS':     \n",
    "        cp['Compounds']=cp['PERT'].str[0:13]\n",
    "        l1k['Compounds']=l1k['PERT'].str[0:13]\n",
    "    else:\n",
    "        cp['Compounds']=cp['PERT']\n",
    "        l1k['Compounds']=l1k['PERT']      \n",
    "\n",
    "\n",
    "    le = preprocessing.LabelEncoder()\n",
    "    group_labels=le.fit_transform(l1k['Compounds'].values)        \n",
    "        \n",
    "\n",
    "    scaler_ge = preprocessing.StandardScaler()\n",
    "    scaler_cp = preprocessing.StandardScaler()\n",
    "    l1k_scaled=l1k.copy()\n",
    "    l1k_scaled[l1k_features] = scaler_ge.fit_transform(l1k[l1k_features].values)\n",
    "    cp_scaled=cp.copy()\n",
    "    cp_scaled[cp_features] = scaler_cp.fit_transform(cp[cp_features].values.astype('float64'))\n",
    "\n",
    "    for model in [\"Lasso\"]:    \n",
    "    \n",
    "        if model==\"MLP\":\n",
    "            cp_scaled[cp_features] =preprocessing.MinMaxScaler(feature_range=(-1, 1)).fit_transform(cp_scaled[cp_features].values)   \n",
    "            l1k_scaled[l1k_features] =preprocessing.MinMaxScaler(feature_range=(-1, 1)).fit_transform(l1k_scaled[l1k_features].values)           \n",
    "\n",
    "\n",
    "        if 1:\n",
    "            cp=cp_scaled.copy()\n",
    "            l1k=l1k_scaled.copy()\n",
    "\n",
    "        ##############################\n",
    "            \n",
    "            \n",
    "        k_fold=DT_kfold[dataset]\n",
    "        k_fold=int(np.unique(group_labels).shape[0]/20)            \n",
    "        pred_df=pd.DataFrame(index=range(k_fold),columns=cp_features)\n",
    "        pred_df_rand=pd.DataFrame(index=range(k_fold),columns=cp_features)\n",
    "\n",
    "        for c in cp_features:\n",
    "            if model==\"Lasso\":\n",
    "                scores,scores_rand=lasso_cv(l1k[l1k_features],cp[c],k_fold,group_labels)\n",
    "            elif model==\"MLP\":\n",
    "                scores,scores_rand=MLP_cv(l1k[l1k_features],cp[c],k_fold,group_labels)\n",
    "            pred_df[c]=scores\n",
    "            pred_df_rand[c]=scores_rand\n",
    "\n",
    "            \n",
    "        meltedPredDF=pd.melt(pred_df).rename(columns={'variable':'CP-Features','value':'pred score'})\n",
    "        meltedPredDF_rand=pd.melt(pred_df_rand).rename(columns={'variable':'CP-Features','value':'pred score'})\n",
    "        meltedPredDF['d']=\"n-folds\"\n",
    "        meltedPredDF_rand['d']=\"random\"\n",
    "        filename='../../results/SingleCPfeatPred/scores.xlsx'\n",
    "        \n",
    "        profTypeAbbrev=''.join([s[0] for s in profileType.split('_')])        \n",
    "        \n",
    "        saveAsNewSheetToExistingFile(filename,pd.concat([meltedPredDF,meltedPredDF_rand],ignore_index=True),\\\n",
    "                                     model+'-'+dataset+'-'+profTypeAbbrev+'-'+f+'-'+str(k_fold))\n",
    "    \n",
    "    \n",
    "#     return \n",
    "\n",
    "# with Pool(10) as p:\n",
    "#     p.map(f, datasets)        "
   ]
  },
  {
   "cell_type": "code",
   "execution_count": null,
   "metadata": {},
   "outputs": [],
   "source": []
  },
  {
   "cell_type": "code",
   "execution_count": null,
   "metadata": {},
   "outputs": [],
   "source": []
  },
  {
   "cell_type": "code",
   "execution_count": null,
   "metadata": {},
   "outputs": [],
   "source": []
  },
  {
   "cell_type": "code",
   "execution_count": null,
   "metadata": {},
   "outputs": [],
   "source": []
  },
  {
   "cell_type": "code",
   "execution_count": null,
   "metadata": {},
   "outputs": [],
   "source": []
  },
  {
   "cell_type": "code",
   "execution_count": 15,
   "metadata": {},
   "outputs": [
    {
     "name": "stderr",
     "output_type": "stream",
     "text": [
      "/home/ubuntu/anaconda3/lib/python3.8/site-packages/sklearn/utils/deprecation.py:143: FutureWarning: The sklearn.decomposition.dict_learning module is  deprecated in version 0.22 and will be removed in version 0.24. The corresponding classes / functions should instead be imported from sklearn.decomposition. Anything that cannot be imported from sklearn.decomposition is now part of the private API.\n",
      "  warnings.warn(message, FutureWarning)\n"
     ]
    },
    {
     "data": {
      "text/plain": [
       "'MLP-CDRP-bio-fSel-dists-2'"
      ]
     },
     "execution_count": 15,
     "metadata": {},
     "output_type": "execute_result"
    }
   ],
   "source": [
    "model+'-'+dataset+'-fSel-dists-2'"
   ]
  },
  {
   "cell_type": "code",
   "execution_count": 17,
   "metadata": {},
   "outputs": [
    {
     "name": "stdout",
     "output_type": "stream",
     "text": [
      "[<Worksheet \"Lasso-TAORF\">, <Worksheet \"Lasso-LUAD\">, <Worksheet \"Lasso-LINCS\">, <Worksheet \"Lasso-CDRP\">, <Worksheet \"Lasso-random\">, <Worksheet \"Lasso-TAORF-all\">, <Worksheet \"Lasso-LUAD-all\">, <Worksheet \"Lasso-LINCS-all\">, <Worksheet \"Lasso-CDRP-all\">, <Worksheet \"Lasso-random-all\">, <Worksheet \"Lasso-TAORF-fSel\">, <Worksheet \"Lasso-LINCS-fSel\">, <Worksheet \"Lasso-CDRP-bio-fSel\">, <Worksheet \"Lasso-CDRP-bio-fSel-dists\">, <Worksheet \"Lasso-LUAD-fSel-dists\">, <Worksheet \"Lasso-LINCS-fSel-dists\">, <Worksheet \"Lasso-TAORF-fSel-dists\">, <Worksheet \"MLP-TAORF-fSel-dists-filt\">, <Worksheet \"MLP-LUAD-fSel-dists-filt\">, <Worksheet \"Lasso-CDRP-bio-fSel-dists-2\">, <Worksheet \"MLP-LINCS-fSel-dists-filt\">, <Worksheet \"Lasso-LUAD-fSel-dists-filt\">, <Worksheet \"Lasso-TAORF-fSel-dists-filt\">, <Worksheet \"Lasso-LINCS-fSel-dists-filt\">, <Worksheet \"MLP-TAORF-fSel-dists\">, <Worksheet \"MLP-LUAD-fSel-dists\">, <Worksheet \"MLP-CDRP-bio-fSel-dists-2\">]\n"
     ]
    }
   ],
   "source": [
    "saveAsNewSheetToExistingFile(filename,pd.concat([meltedPredDF,meltedPredDF_rand],ignore_index=True),\\\n",
    "                             model+'-'+dataset+'-fSel-dists')"
   ]
  },
  {
   "cell_type": "markdown",
   "metadata": {},
   "source": [
    "### Single Gene prediction cross validation"
   ]
  },
  {
   "cell_type": "code",
   "execution_count": null,
   "metadata": {},
   "outputs": [],
   "source": []
  },
  {
   "cell_type": "markdown",
   "metadata": {},
   "source": [
    "### Single CP feature prediction cross validation"
   ]
  },
  {
   "cell_type": "code",
   "execution_count": null,
   "metadata": {},
   "outputs": [],
   "source": []
  },
  {
   "cell_type": "code",
   "execution_count": 26,
   "metadata": {},
   "outputs": [
    {
     "data": {
      "text/plain": [
       "'LINCS'"
      ]
     },
     "execution_count": 26,
     "metadata": {},
     "output_type": "execute_result"
    }
   ],
   "source": [
    "dataset"
   ]
  },
  {
   "cell_type": "markdown",
   "metadata": {
    "heading_collapsed": true
   },
   "source": [
    "### CP Category specific scores for single gene prediction"
   ]
  },
  {
   "cell_type": "code",
   "execution_count": 72,
   "metadata": {
    "hidden": true
   },
   "outputs": [],
   "source": [
    "# relationMat_mpCat.isnull(axis=1)\n",
    "# Channelss=['DNA','RNA','AGP','Mito','ER']\n",
    "# featureGroups=['Texture','Intensity','RadialDistribution']\n",
    "# cp.columns[cp.columns.str.contains(Channelss[0]) &\\\n",
    "#                cp.columns.str.contains(featureGroups[2]) &\\\n",
    "#                cp.columns.str.contains(\"Cells_|Cytoplasm_|Nuclei_\")].tolist()"
   ]
  },
  {
   "cell_type": "code",
   "execution_count": 74,
   "metadata": {
    "hidden": true
   },
   "outputs": [
    {
     "data": {
      "text/plain": [
       "['DNA_Texture',\n",
       " 'DNA_Intensity',\n",
       " 'RNA_Texture',\n",
       " 'RNA_Intensity',\n",
       " 'RNA_RadialDistribution',\n",
       " 'AGP_Texture',\n",
       " 'AGP_Intensity',\n",
       " 'AGP_RadialDistribution',\n",
       " 'Mito_Texture',\n",
       " 'Mito_Intensity',\n",
       " 'Mito_RadialDistribution',\n",
       " 'ER_Texture',\n",
       " 'ER_Intensity',\n",
       " 'ER_RadialDistribution',\n",
       " 'Nuclei_AreaShape',\n",
       " 'Cytoplasm_AreaShape',\n",
       " 'Cells_AreaShape']"
      ]
     },
     "execution_count": 74,
     "metadata": {},
     "output_type": "execute_result"
    }
   ],
   "source": [
    "relationMat_mpCat.columns[~relationMat_mpCat.isna().any()].tolist()"
   ]
  },
  {
   "cell_type": "code",
   "execution_count": 110,
   "metadata": {
    "hidden": true
   },
   "outputs": [],
   "source": [
    "k_fold=10\n",
    "Channelss=['DNA','RNA','AGP','Mito','ER']\n",
    "featureGroups=['Texture','Intensity','RadialDistribution']\n",
    "relationMat_mpCat=pd.DataFrame(index=l1k_features)\n",
    "for ch in range(len(Channelss)):\n",
    "    for f in range(len(featureGroups)):    \n",
    "        selectedCols=cp.columns[cp.columns.str.contains(Channelss[ch]) &\\\n",
    "                       cp.columns.str.contains(featureGroups[f]) &\\\n",
    "                       cp.columns.str.contains(\"Cells_|Cytoplasm_|Nuclei_\")].tolist();\n",
    "        for l in l1k_features:\n",
    "            scores,scores_rand=lasso_cv(cp[selectedCols],l1k[l],k_fold)\n",
    "        \n",
    "            relationMat_mpCat.loc[l,Channelss[ch]+'_'+featureGroups[f]]=np.median(scores)\n",
    "\n",
    "Channelss=['Nuclei','Cytoplasm','Cells']\n",
    "featureGroups=['AreaShape']\n",
    "\n",
    "for ch in range(len(Channelss)):\n",
    "    for f in range(len(featureGroups)):    \n",
    "        selectedCols=cp.columns[cp.columns.str.contains(Channelss[ch]) &\\\n",
    "                       cp.columns.str.contains(featureGroups[f]) &\\\n",
    "                       cp.columns.str.contains(\"Cells_|Cytoplasm_|Nuclei_\")].tolist();\n",
    "        for l in l1k_features:\n",
    "            scores,scores_rand=lasso_cv(cp[selectedCols],l1k[l],k_fold)\n",
    "        \n",
    "            relationMat_mpCat.loc[l,Channelss[ch]+'_'+featureGroups[f]]=np.median(scores)\n",
    "            \n",
    "########################### mapping prob_ids to genes names    \n",
    "meta=pd.read_csv(\"/home/ubuntu/bucket/projects/2018_04_20_Rosetta/workspace/metadata/affy_probe_gene_mapping.txt\",delimiter=\"\\t\",header=None, names=[\"probe_id\", \"gene\"])\n",
    "meta_gene_probID=meta.set_index('probe_id')\n",
    "d = dict(zip(meta_gene_probID.index, meta_gene_probID['gene']))\n",
    "relationMat_mpCat = relationMat_mpCat.rename(index=d)    \n"
   ]
  },
  {
   "cell_type": "code",
   "execution_count": 111,
   "metadata": {
    "hidden": true
   },
   "outputs": [
    {
     "data": {
      "text/plain": [
       "(91, 18)"
      ]
     },
     "execution_count": 111,
     "metadata": {},
     "output_type": "execute_result"
    }
   ],
   "source": [
    "relationMat_mpCat=relationMat_mpCat[relationMat_mpCat.columns[~relationMat_mpCat.isna().any()].tolist()]\n",
    "topGenes_df=relationMat_mpCat[relationMat_mpCat.max(axis=1)>0.1]#.head()\n",
    "topGenes_df2=relationMat_mpCat[relationMat_mpCat.max(axis=1)>0.5]#.head()\n",
    "topGenes_df2.shape"
   ]
  },
  {
   "cell_type": "code",
   "execution_count": 196,
   "metadata": {
    "hidden": true
   },
   "outputs": [],
   "source": [
    "topGenes_mito_radial=relationMat_mpCat[relationMat_mpCat[\"Mito_RadialDistribution\"].abs()>0.6]"
   ]
  },
  {
   "cell_type": "code",
   "execution_count": 87,
   "metadata": {
    "hidden": true,
    "scrolled": false
   },
   "outputs": [
    {
     "data": {
      "image/png": "[encoded data removed]",
      "text/plain": [
       "<Figure size 3600x360 with 4 Axes>"
      ]
     },
     "metadata": {
      "needs_background": "light"
     },
     "output_type": "display_data"
    }
   ],
   "source": [
    "# plt.figure()\n",
    "# f, axes = plt.subplots(figsize=(15,4))\n",
    "# ax = sns.heatmap(topGenes_df)\n",
    "clustergrid=sns.clustermap(topGenes_df.T,xticklabels=1,yticklabels=1,figsize=(50, 5),cmap=\"coolwarm\",cbar_pos=(1, 0.2, .03, .4))\n"
   ]
  },
  {
   "cell_type": "code",
   "execution_count": 79,
   "metadata": {
    "hidden": true,
    "scrolled": false
   },
   "outputs": [
    {
     "data": {
      "image/png": "[encoded data removed]",
      "text/plain": [
       "<Figure size 936x360 with 4 Axes>"
      ]
     },
     "metadata": {
      "needs_background": "light"
     },
     "output_type": "display_data"
    }
   ],
   "source": [
    "# clustergrid=sns.clustermap(topGenes_df2.T,xticklabels=1,yticklabels=1,figsize=(10, 5),cmap=\"vlag\",\\\n",
    "#                            vmin=-1, vmax=1,cbar_pos=(1, 0.2, .03, .4))\n",
    "%matplotlib inline\n",
    "clustergrid=sns.clustermap(topGenes_df2.T,xticklabels=1,yticklabels=1,figsize=(13, 5),cmap=\"vlag\",\\\n",
    "                           vmin=-1, vmax=1,cbar_pos=(1, 0.2, .03, .4))\n",
    "clustergrid.savefig('../../results/cpCategoriesHM-'+dataset+'.png', format='png',dpi=100)"
   ]
  },
  {
   "cell_type": "code",
   "execution_count": 116,
   "metadata": {
    "hidden": true
   },
   "outputs": [
    {
     "data": {
      "image/png": "[encoded data removed]",
      "text/plain": [
       "<Figure size 1440x360 with 4 Axes>"
      ]
     },
     "metadata": {
      "needs_background": "light"
     },
     "output_type": "display_data"
    }
   ],
   "source": [
    "%matplotlib inline\n",
    "clustergrid=sns.clustermap(topGenes_df2.T,xticklabels=1,yticklabels=1,figsize=(20, 5),cmap=\"vlag\",\\\n",
    "                           vmin=0, vmax=0.8,cbar_pos=(1, 0.2, .03, .4))\n",
    "# clustergrid.savefig('../../results/cpCategoriesHM-'+dataset+'.png', format='png',dpi=100)"
   ]
  },
  {
   "cell_type": "code",
   "execution_count": null,
   "metadata": {
    "hidden": true
   },
   "outputs": [],
   "source": [
    "# Replicate correlations in different channels\n",
    "Channelss=['DNA','Protein','Mito','ER']\n",
    "featureGroups=['Texture','Intensity','RadialDistribution']\n",
    "# Channelss=['DNA']\n",
    "# featureGroups=['Texture','Intensity']\n",
    "fig, axes = plt.subplots(4,3,sharey='row', figsize=(8,10))\n",
    "for ch in range(len(Channelss)):\n",
    "    for f in range(len(featureGroups)):    \n",
    "        colss=df_meanPrepCorr.columns[df_meanPrepCorr.columns.str.contains(Channelss[ch]) &\\\n",
    "                                   df_meanPrepCorr.columns.str.contains(featureGroups[f]) &\\\n",
    "                          df_meanPrepCorr.columns.str.contains(\"Cells_|Cytoplasm_|Nuclei_\")].tolist();\n",
    "#         print(colss)\n",
    "        repCC,randCC=utils.meanProfileAnalysis.categoricalRepCor(df_meanPrepCorr,'Metadata_Sample',colss,0);\n",
    "#         sns.kdeplot(repCC, bw=.1,ax=axes[ch,f]);\n",
    "#         sns.kdeplot(randCC, bw=.1,ax=axes[ch,f]);\n",
    "        sns.distplot(randCC,kde=True,hist=True,bins=12,label=\"random pairs\",ax=axes[ch,f],norm_hist=True);\n",
    "    #         sns.kdeplot(randCC, bw=.2, label=\"random pairs\",ax=axes[i])\n",
    "        sns.distplot(repCC,kde=True,hist=True,bins=12,label=\"replicate pairs\",ax=axes[ch,f],norm_hist=True);        \n",
    "        \n",
    "        \n",
    "#         perc5=np.percentile(repCC, 15);axes[i,j].axvline(x=0,linestyle=':');        \n",
    "        axes[ch,f].set_title(featureGroups[f]);\n",
    "#         axes[i,j].get_yaxis().set_visible(False)\n",
    "#         axes[i,j].get_xaxis().set_visible(False)\n",
    "        axes[ch,0].set_ylabel(Channelss[ch]);\n",
    "\n"
   ]
  },
  {
   "cell_type": "code",
   "execution_count": null,
   "metadata": {
    "hidden": true
   },
   "outputs": [],
   "source": [
    "Channelss=['Nuclei','Cytoplasm','Cells']\n",
    "featureGroups=['AreaShape']\n",
    "# Channelss=['DNA']\n",
    "# featureGroups=['Texture','Intensity']\n",
    "fig, axes = plt.subplots(1,3,sharey='row', figsize=(8,3))\n",
    "for ch in range(len(Channelss)):\n",
    "    for f in range(len(featureGroups)):    \n",
    "        colss=df_meanPrepCorr.columns[df_meanPrepCorr.columns.str.contains(Channelss[ch]) &\\\n",
    "                                   df_meanPrepCorr.columns.str.contains(featureGroups[f]) &\\\n",
    "                          df_meanPrepCorr.columns.str.contains(\"Cells_|Cytoplasm_|Nuclei_\")].tolist();\n",
    "#         print(colss)\n",
    "        repCC,randCC=utils.meanProfileAnalysis.categoricalRepCor(df_meanPrepCorr,'Metadata_Sample',colss,0);\n",
    "\n",
    "        sns.distplot(randCC,kde=True,hist=True,bins=12,label=\"random pairs\",ax=axes[ch],norm_hist=True);\n",
    "    #         sns.kdeplot(randCC, bw=.2, label=\"random pairs\",ax=axes[i])\n",
    "        sns.distplot(repCC,kde=True,hist=True,bins=12,label=\"replicate pairs\",ax=axes[ch],norm_hist=True);                \n",
    "        \n",
    "#         perc5=np.percentile(repCC, 15);axes[i,j].axvline(x=0,linestyle=':');        \n",
    "        axes[ch].set_title(Channelss[ch]);\n",
    "\n",
    "        axes[0].set_ylabel(featureGroups[f]);\n"
   ]
  },
  {
   "cell_type": "code",
   "execution_count": 212,
   "metadata": {
    "hidden": true
   },
   "outputs": [
    {
     "data": {
      "image/png": "[encoded data removed]",
      "text/plain": [
       "<Figure size 1440x360 with 4 Axes>"
      ]
     },
     "metadata": {
      "needs_background": "light"
     },
     "output_type": "display_data"
    }
   ],
   "source": [
    "topGenes_mito_radial=relationMat_mpCat[relationMat_mpCat[\"Mito_RadialDistribution\"]>0.6]#[[\"Mito_RadialDistribution\"]]\n",
    "clustergrid=sns.clustermap(topGenes_mito_radial.T,xticklabels=1,yticklabels=1,figsize=(20, 5),cmap=\"vlag\",\\\n",
    "                           vmin=-0.8, vmax=0.8,cbar_pos=(1, 0.2, .03, .4))"
   ]
  },
  {
   "cell_type": "code",
   "execution_count": 215,
   "metadata": {
    "hidden": true
   },
   "outputs": [
    {
     "data": {
      "text/plain": [
       "array(['RAE1', 'MAN2B1', 'YKT6', 'LBR', 'BIRC5', 'CCNA2', 'POLE2', 'MYL9',\n",
       "       'DNAJB2', 'USP1', 'CDC25A', 'DCK', 'TPM1', 'COL4A1', 'UBE2C',\n",
       "       'CDKN1A', 'SERPINE1', 'SLC2A6', 'GADD45A', 'CDC2'], dtype=object)"
      ]
     },
     "execution_count": 215,
     "metadata": {},
     "output_type": "execute_result"
    }
   ],
   "source": [
    "topGenes_mito_radial.sort_values(by='Mito_RadialDistribution').index.values"
   ]
  },
  {
   "cell_type": "code",
   "execution_count": null,
   "metadata": {
    "hidden": true
   },
   "outputs": [],
   "source": []
  },
  {
   "cell_type": "code",
   "execution_count": null,
   "metadata": {
    "hidden": true
   },
   "outputs": [],
   "source": []
  }
 ],
 "metadata": {
  "kernelspec": {
   "display_name": "Python 3",
   "language": "python",
   "name": "python3"
  },
  "latex_envs": {
   "LaTeX_envs_menu_present": true,
   "autoclose": false,
   "autocomplete": true,
   "bibliofile": "biblio.bib",
   "cite_by": "apalike",
   "current_citInitial": 1,
   "eqLabelWithNumbers": true,
   "eqNumInitial": 1,
   "hotkeys": {
    "equation": "Ctrl-E",
    "itemize": "Ctrl-I"
   },
   "labels_anchors": false,
   "latex_user_defs": false,
   "report_style_numbering": false,
   "user_envs_cfg": false
  },
  "varInspector": {
   "cols": {
    "lenName": 16,
    "lenType": 16,
    "lenVar": 40
   },
   "kernels_config": {
    "python": {
     "delete_cmd_postfix": "",
     "delete_cmd_prefix": "del ",
     "library": "var_list.py",
     "varRefreshCmd": "print(var_dic_list())"
    },
    "r": {
     "delete_cmd_postfix": ") ",
     "delete_cmd_prefix": "rm(",
     "library": "var_list.r",
     "varRefreshCmd": "cat(var_dic_list()) "
    }
   },
   "types_to_exclude": [
    "module",
    "function",
    "builtin_function_or_method",
    "instance",
    "_Feature"
   ],
   "window_display": false
  }
 },
 "nbformat": 4,
 "nbformat_minor": 2
}
