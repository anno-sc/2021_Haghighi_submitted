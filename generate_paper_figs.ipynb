{
 "cells": [
  {
   "cell_type": "code",
   "execution_count": 3,
   "metadata": {},
   "outputs": [],
   "source": [
    "%matplotlib inline\n",
    "%load_ext autoreload\n",
    "%autoreload 2\n",
    "from comet_ml import Experiment\n",
    "import numpy as np\n",
    "import scipy.spatial\n",
    "import pandas as pd\n",
    "import comet_ml\n",
    "import sklearn.decomposition\n",
    "import matplotlib.pyplot as plt\n",
    "# import keras\n",
    "from sklearn import preprocessing\n",
    "from sklearn.metrics import pairwise_distances,mean_absolute_error, mean_squared_error\n",
    "import matplotlib.pyplot as plt\n",
    "import seaborn as sns\n",
    "from utils.readProfiles import readMergedProfiles\n",
    "from utils.pred_models import *\n",
    "from utils.saveAsNewSheetToExistingFile import saveAsNewSheetToExistingFile\n",
    "from multiprocessing import Pool\n",
    "\n",
    "sns.set_style(\"whitegrid\")\n",
    "# from utils import networksEvol, tsne, readProfiles\n",
    "import umap"
   ]
  },
  {
   "cell_type": "markdown",
   "metadata": {},
   "source": [
    "#### Paths"
   ]
  },
  {
   "cell_type": "code",
   "execution_count": 4,
   "metadata": {},
   "outputs": [],
   "source": [
    "procProf_dir='/home/ubuntu/datasetsbucket/Rosetta-GE-CP/'\n",
    "# procProf_dir='/home/ubuntu/bucket/projects/2018_04_20_Rosetta/workspace/'\n",
    "metadata_dir='/home/ubuntu/bucket/projects/2018_04_20_Rosetta/workspace/metadata/'\n",
    "results_dir='./results/'"
   ]
  },
  {
   "cell_type": "code",
   "execution_count": 186,
   "metadata": {},
   "outputs": [
    {
     "data": {
      "text/plain": [
       "dict_keys(['Lasso-LINCS-nvs-filt-10-ht', 'Lasso-CDRP-bio-nvs-filt-10-ht', 'Lasso-TAORF-nvs-filt-10-ht', 'MLP-LINCS-nvs-filt-10-ht'])"
      ]
     },
     "execution_count": 186,
     "metadata": {},
     "output_type": "execute_result"
    }
   ],
   "source": [
    "# pd.__version__\n",
    "filename=results_dir+'/SingleGenePred/scores2.xlsx'\n",
    "saved_scores2=pd.read_excel(filename, sheet_name=None)\n",
    "saved_scores2.keys()"
   ]
  },
  {
   "cell_type": "code",
   "execution_count": 25,
   "metadata": {},
   "outputs": [
    {
     "data": {
      "text/plain": [
       "dict_keys(['MLP-LUAD-nvs-filt-9-ht', 'Lasso-LUAD-nvs-filt-9-ht', 'MLP-TAORF-nvs--5-ht', 'Lasso-TAORF-nvs--5-ht', 'MLP-LINCS-nvs-filt-25-ht', 'Lasso-LINCS-nvs-filt-25-ht', 'MLP-CDRP-bio-nvs-filt-6-ht', 'Lasso-CDRP-bio-nvs-filt-6-ht'])"
      ]
     },
     "execution_count": 25,
     "metadata": {},
     "output_type": "execute_result"
    }
   ],
   "source": [
    "filename=results_dir+'/SingleGenePred/scores_hyperParam.xlsx'\n",
    "saved_scores=pd.read_excel(filename, sheet_name=None)\n",
    "saved_scores.keys()"
   ]
  },
  {
   "cell_type": "code",
   "execution_count": 276,
   "metadata": {},
   "outputs": [
    {
     "data": {
      "text/plain": [
       "dict_keys(['MLP-LUAD-n--filt-9', 'Lasso-LUAD-n-filt-9', 'MLP-LUAD-n-filt-9', 'Lasso-TAORF-n-filt-5', 'MLP-TAORF-n-filt-5', 'Lasso-LINCS-nd-filt-25', 'MLP-LINCS-nd-filt-25', 'Lasso-CDRP-bio-n-filt-6', 'MLP-CDRP-bio-n-filt-6', 'Lasso-LUAD-n--26', 'MLP-LUAD-n--26', 'Lasso-TAORF-n--7', 'MLP-TAORF-n--7', 'Lasso-LINCS-n--70', 'MLP-LINCS-n--70', 'Lasso-CDRP-bio-n--95', 'Lasso-LUAD-nvs--26', 'MLP-LUAD-nvs--26', 'Lasso-TAORF-nvs--7', 'MLP-TAORF-nvs--7', 'Lasso-LINCS-nvs--70', 'MLP-LINCS-nvs--70', 'Lasso-CDRP-bio-nvs--95', 'MLP-CDRP-bio-nvs--95', 'Lasso-CDRP-nvs--40', 'Lasso-LUAD-nvs-filt-9', 'Lasso-TAORF-nvs-filt-5', 'MLP-TAORF-nvs-filt-5', 'Lasso-LINCS-nvs-filt-25', 'Lasso-CDRP-bio-nvs-filt-6', 'MLP-LUAD-nvs-filt-9', 'MLP-LINCS-nvs-filt-25', 'MLP-CDRP-bio-nvs-filt-6', 'MLP-CDRP-nvs--40', 'MLP-TAORF-nvs--5', 'Lasso-TAORF-nvs--5', 'Lasso-LUAD-nvs-filt-9-ht', 'Lasso-TAORF-nvs-filt-5-ht', 'Lasso-LINCS-nvs-filt-25-ht', 'Lasso-CDRP-bio-nvs-filt-6-ht', 'Lasso-TAORF-nvs--5-ht', 'MLP-LUAD-nvs-filt-9-ht', 'MLP-TAORF-nvs-filt-5-ht', 'MLP-LINCS-nvs-filt-20-ht', 'MLP-CDRP-bio-nvs-filt-20-ht', 'MLP-LINCS-nvs-filt-25-ht', 'MLP-CDRP-bio-nvs-filt-6-ht', 'MLP-TAORF-n-filt-5-ht', 'MLP-TAORF-nvs--5-ht'])"
      ]
     },
     "execution_count": 276,
     "metadata": {},
     "output_type": "execute_result"
    }
   ],
   "source": [
    "filename=results_dir+'/SingleGenePred/scores.xlsx'\n",
    "saved_scores=pd.read_excel(filename, sheet_name=None)\n",
    "saved_scores.keys()"
   ]
  },
  {
   "cell_type": "code",
   "execution_count": 257,
   "metadata": {},
   "outputs": [],
   "source": [
    "saved_scores['MLP-LINCS-nvs-filt-25']=saved_scores2['MLP-LINCS-nvs-filt-10-ht']\n",
    "saved_scores['MLP-LUAD-nvs-filt-9']=saved_scores['MLP-LUAD-nvs-filt-9-ht']"
   ]
  },
  {
   "cell_type": "code",
   "execution_count": 22,
   "metadata": {},
   "outputs": [
    {
     "data": {
      "text/html": [
       "<div>\n",
       "<style scoped>\n",
       "    .dataframe tbody tr th:only-of-type {\n",
       "        vertical-align: middle;\n",
       "    }\n",
       "\n",
       "    .dataframe tbody tr th {\n",
       "        vertical-align: top;\n",
       "    }\n",
       "\n",
       "    .dataframe thead th {\n",
       "        text-align: right;\n",
       "    }\n",
       "</style>\n",
       "<table border=\"1\" class=\"dataframe\">\n",
       "  <thead>\n",
       "    <tr style=\"text-align: right;\">\n",
       "      <th></th>\n",
       "      <th>Unnamed: 0</th>\n",
       "      <th>lmGens</th>\n",
       "      <th>pred score</th>\n",
       "      <th>d</th>\n",
       "    </tr>\n",
       "  </thead>\n",
       "  <tbody>\n",
       "    <tr>\n",
       "      <th>0</th>\n",
       "      <td>0</td>\n",
       "      <td>PSME1</td>\n",
       "      <td>0.523181</td>\n",
       "      <td>n-folds</td>\n",
       "    </tr>\n",
       "    <tr>\n",
       "      <th>1</th>\n",
       "      <td>1</td>\n",
       "      <td>PSME1</td>\n",
       "      <td>0.387390</td>\n",
       "      <td>n-folds</td>\n",
       "    </tr>\n",
       "    <tr>\n",
       "      <th>2</th>\n",
       "      <td>2</td>\n",
       "      <td>PSME1</td>\n",
       "      <td>0.206841</td>\n",
       "      <td>n-folds</td>\n",
       "    </tr>\n",
       "    <tr>\n",
       "      <th>3</th>\n",
       "      <td>3</td>\n",
       "      <td>PSME1</td>\n",
       "      <td>0.052475</td>\n",
       "      <td>n-folds</td>\n",
       "    </tr>\n",
       "    <tr>\n",
       "      <th>4</th>\n",
       "      <td>4</td>\n",
       "      <td>PSME1</td>\n",
       "      <td>0.270965</td>\n",
       "      <td>n-folds</td>\n",
       "    </tr>\n",
       "    <tr>\n",
       "      <th>...</th>\n",
       "      <td>...</td>\n",
       "      <td>...</td>\n",
       "      <td>...</td>\n",
       "      <td>...</td>\n",
       "    </tr>\n",
       "    <tr>\n",
       "      <th>9775</th>\n",
       "      <td>9775</td>\n",
       "      <td>LYRM1</td>\n",
       "      <td>-0.063460</td>\n",
       "      <td>random</td>\n",
       "    </tr>\n",
       "    <tr>\n",
       "      <th>9776</th>\n",
       "      <td>9776</td>\n",
       "      <td>LYRM1</td>\n",
       "      <td>-0.082249</td>\n",
       "      <td>random</td>\n",
       "    </tr>\n",
       "    <tr>\n",
       "      <th>9777</th>\n",
       "      <td>9777</td>\n",
       "      <td>LYRM1</td>\n",
       "      <td>0.025282</td>\n",
       "      <td>random</td>\n",
       "    </tr>\n",
       "    <tr>\n",
       "      <th>9778</th>\n",
       "      <td>9778</td>\n",
       "      <td>LYRM1</td>\n",
       "      <td>-0.048237</td>\n",
       "      <td>random</td>\n",
       "    </tr>\n",
       "    <tr>\n",
       "      <th>9779</th>\n",
       "      <td>9779</td>\n",
       "      <td>LYRM1</td>\n",
       "      <td>-0.072021</td>\n",
       "      <td>random</td>\n",
       "    </tr>\n",
       "  </tbody>\n",
       "</table>\n",
       "<p>9780 rows × 4 columns</p>\n",
       "</div>"
      ],
      "text/plain": [
       "      Unnamed: 0 lmGens  pred score        d\n",
       "0              0  PSME1    0.523181  n-folds\n",
       "1              1  PSME1    0.387390  n-folds\n",
       "2              2  PSME1    0.206841  n-folds\n",
       "3              3  PSME1    0.052475  n-folds\n",
       "4              4  PSME1    0.270965  n-folds\n",
       "...          ...    ...         ...      ...\n",
       "9775        9775  LYRM1   -0.063460   random\n",
       "9776        9776  LYRM1   -0.082249   random\n",
       "9777        9777  LYRM1    0.025282   random\n",
       "9778        9778  LYRM1   -0.048237   random\n",
       "9779        9779  LYRM1   -0.072021   random\n",
       "\n",
       "[9780 rows x 4 columns]"
      ]
     },
     "execution_count": 22,
     "metadata": {},
     "output_type": "execute_result"
    }
   ],
   "source": [
    "# saved_scores[\"MLP-LUAD-nvs-filt-9-ht\"]\n",
    "saved_scores[\"MLP-TAORF-nvs--5-ht\"]\n",
    "# saved_scores[\"MLP-LINCS-nvs-filt-25-ht\"]\n",
    "# saved_scores[\"MLP-CDRP-bio-nvs-filt-6-ht\"]"
   ]
  },
  {
   "cell_type": "code",
   "execution_count": 14,
   "metadata": {},
   "outputs": [
    {
     "data": {
      "text/html": [
       "<div>\n",
       "<style scoped>\n",
       "    .dataframe tbody tr th:only-of-type {\n",
       "        vertical-align: middle;\n",
       "    }\n",
       "\n",
       "    .dataframe tbody tr th {\n",
       "        vertical-align: top;\n",
       "    }\n",
       "\n",
       "    .dataframe thead th {\n",
       "        text-align: right;\n",
       "    }\n",
       "</style>\n",
       "<table border=\"1\" class=\"dataframe\">\n",
       "  <thead>\n",
       "    <tr style=\"text-align: right;\">\n",
       "      <th></th>\n",
       "      <th>Unnamed: 0</th>\n",
       "      <th>lmGens</th>\n",
       "      <th>pred score</th>\n",
       "      <th>d</th>\n",
       "    </tr>\n",
       "  </thead>\n",
       "  <tbody>\n",
       "    <tr>\n",
       "      <th>8802</th>\n",
       "      <td>8802</td>\n",
       "      <td>AARS</td>\n",
       "      <td>-0.076631</td>\n",
       "      <td>random</td>\n",
       "    </tr>\n",
       "    <tr>\n",
       "      <th>8803</th>\n",
       "      <td>8803</td>\n",
       "      <td>AARS</td>\n",
       "      <td>-0.073072</td>\n",
       "      <td>random</td>\n",
       "    </tr>\n",
       "    <tr>\n",
       "      <th>8804</th>\n",
       "      <td>8804</td>\n",
       "      <td>AARS</td>\n",
       "      <td>-0.073504</td>\n",
       "      <td>random</td>\n",
       "    </tr>\n",
       "    <tr>\n",
       "      <th>8805</th>\n",
       "      <td>8805</td>\n",
       "      <td>AARS</td>\n",
       "      <td>0.049091</td>\n",
       "      <td>random</td>\n",
       "    </tr>\n",
       "    <tr>\n",
       "      <th>8806</th>\n",
       "      <td>8806</td>\n",
       "      <td>AARS</td>\n",
       "      <td>-0.085746</td>\n",
       "      <td>random</td>\n",
       "    </tr>\n",
       "    <tr>\n",
       "      <th>...</th>\n",
       "      <td>...</td>\n",
       "      <td>...</td>\n",
       "      <td>...</td>\n",
       "      <td>...</td>\n",
       "    </tr>\n",
       "    <tr>\n",
       "      <th>17599</th>\n",
       "      <td>17599</td>\n",
       "      <td>ZW10</td>\n",
       "      <td>-0.304624</td>\n",
       "      <td>random</td>\n",
       "    </tr>\n",
       "    <tr>\n",
       "      <th>17600</th>\n",
       "      <td>17600</td>\n",
       "      <td>ZW10</td>\n",
       "      <td>-0.173387</td>\n",
       "      <td>random</td>\n",
       "    </tr>\n",
       "    <tr>\n",
       "      <th>17601</th>\n",
       "      <td>17601</td>\n",
       "      <td>ZW10</td>\n",
       "      <td>-0.170258</td>\n",
       "      <td>random</td>\n",
       "    </tr>\n",
       "    <tr>\n",
       "      <th>17602</th>\n",
       "      <td>17602</td>\n",
       "      <td>ZW10</td>\n",
       "      <td>-0.073142</td>\n",
       "      <td>random</td>\n",
       "    </tr>\n",
       "    <tr>\n",
       "      <th>17603</th>\n",
       "      <td>17603</td>\n",
       "      <td>ZW10</td>\n",
       "      <td>-0.058913</td>\n",
       "      <td>random</td>\n",
       "    </tr>\n",
       "  </tbody>\n",
       "</table>\n",
       "<p>8802 rows × 4 columns</p>\n",
       "</div>"
      ],
      "text/plain": [
       "       Unnamed: 0 lmGens  pred score       d\n",
       "8802         8802   AARS   -0.076631  random\n",
       "8803         8803   AARS   -0.073072  random\n",
       "8804         8804   AARS   -0.073504  random\n",
       "8805         8805   AARS    0.049091  random\n",
       "8806         8806   AARS   -0.085746  random\n",
       "...           ...    ...         ...     ...\n",
       "17599       17599   ZW10   -0.304624  random\n",
       "17600       17600   ZW10   -0.173387  random\n",
       "17601       17601   ZW10   -0.170258  random\n",
       "17602       17602   ZW10   -0.073142  random\n",
       "17603       17603   ZW10   -0.058913  random\n",
       "\n",
       "[8802 rows x 4 columns]"
      ]
     },
     "execution_count": 14,
     "metadata": {},
     "output_type": "execute_result"
    }
   ],
   "source": [
    "saved_scores[\"MLP-LUAD-nvs-filt-9\"][saved_scores[\"MLP-LUAD-nvs-filt-9\"]['d']=='random']"
   ]
  },
  {
   "cell_type": "code",
   "execution_count": 23,
   "metadata": {},
   "outputs": [],
   "source": [
    "saved_scores[\"MLP-TAORF-nvs--5-ht\"][saved_scores[\"MLP-TAORF-nvs--5-ht\"]['d']=='random']=\\\n",
    "saved_scores[\"MLP-TAORF-nvs--5\"][saved_scores[\"MLP-TAORF-nvs--5\"]['d']=='random']"
   ]
  },
  {
   "cell_type": "code",
   "execution_count": 193,
   "metadata": {},
   "outputs": [],
   "source": [
    "\n",
    "# pred_df=saved_scores['Lasso-LINCS-nvs-filt-25-ht']\n",
    "# pred_df=saved_scores['MLP-LINCS-nvs-filt-25']\n",
    "\n",
    "# pred_df=saved_scores['Lasso-LUAD-nvs-filt-9-ht']\n",
    "# pred_df=saved_scores['MLP-LUAD-nvs-filt-9']\n",
    "\n",
    "# pred_df=saved_scores['Lasso-TAORF-nvs-filt-5-ht']\n",
    "# pred_df=saved_scores['MLP-TAORF-nvs-filt-5']\n",
    "\n",
    "pred_df=saved_scores['Lasso-TAORF-nvs--5-ht']\n",
    "# pred_df=saved_scores['MLP-TAORF-nvs--5']\n",
    "\n",
    "# pred_df=saved_scores['Lasso-CDRP-bio-nvs-filt-6-ht']\n",
    "# pred_df=saved_scores['MLP-CDRP-bio-nvs-filt-6']\n",
    "\n",
    "# pred_df=saved_scores['Lasso-CDRP-nvs-filt-6-ht']\n",
    "# pred_df=saved_scores['MLP-CDRP-nvs--40']\n",
    "\n",
    "# print(np.percentile(pred_df[pred_df['d']=='random'].groupby('lmGens').median()['pred score'].values,99))\n",
    "# pred_df=pred_df[pred_df['d']=='n-folds'].groupby('lmGens').median()\n",
    "# pred_df.sort_values(by='pred score')[pred_df.sort_values(by='pred score')['pred score']>0.2].shape\n",
    "# # pred_df"
   ]
  },
  {
   "cell_type": "code",
   "execution_count": null,
   "metadata": {},
   "outputs": [],
   "source": [
    "writer = pd.ExcelWriter('scores_hyperParam.xlsx', engine='xlsxwriter')\n",
    "\n",
    "# Write each dataframe to a different worksheet.\n",
    "df1.to_excel(writer, sheet_name='Sheet1')\n",
    "df2.to_excel(writer, sheet_name='Sheet2')\n",
    "df3.to_excel(writer, sheet_name='Sheet3')\n",
    "\n",
    "# Close the Pandas Excel writer and output the Excel file.\n",
    "writer.save()"
   ]
  },
  {
   "cell_type": "code",
   "execution_count": 99,
   "metadata": {},
   "outputs": [
    {
     "data": {
      "text/plain": [
       "(222, 2)"
      ]
     },
     "execution_count": 99,
     "metadata": {},
     "output_type": "execute_result"
    }
   ],
   "source": [
    "pred_df.sort_values(by='pred score')[pred_df.sort_values(by='pred score')['pred score']>0.2].shape"
   ]
  },
  {
   "cell_type": "code",
   "execution_count": 26,
   "metadata": {},
   "outputs": [
    {
     "name": "stderr",
     "output_type": "stream",
     "text": [
      "/home/ubuntu/anaconda3/lib/python3.8/site-packages/seaborn/distributions.py:2551: FutureWarning: `distplot` is a deprecated function and will be removed in a future version. Please adapt your code to use either `displot` (a figure-level function with similar flexibility) or `histplot` (an axes-level function for histograms).\n",
      "  warnings.warn(msg, FutureWarning)\n",
      "/home/ubuntu/anaconda3/lib/python3.8/site-packages/seaborn/distributions.py:2551: FutureWarning: `distplot` is a deprecated function and will be removed in a future version. Please adapt your code to use either `displot` (a figure-level function with similar flexibility) or `histplot` (an axes-level function for histograms).\n",
      "  warnings.warn(msg, FutureWarning)\n",
      "/home/ubuntu/anaconda3/lib/python3.8/site-packages/seaborn/distributions.py:2551: FutureWarning: `distplot` is a deprecated function and will be removed in a future version. Please adapt your code to use either `displot` (a figure-level function with similar flexibility) or `histplot` (an axes-level function for histograms).\n",
      "  warnings.warn(msg, FutureWarning)\n"
     ]
    },
    {
     "name": "stdout",
     "output_type": "stream",
     "text": [
      "0.0028046231138199214\n",
      "0.0222098002804532\n"
     ]
    },
    {
     "name": "stderr",
     "output_type": "stream",
     "text": [
      "/home/ubuntu/anaconda3/lib/python3.8/site-packages/seaborn/distributions.py:2551: FutureWarning: `distplot` is a deprecated function and will be removed in a future version. Please adapt your code to use either `displot` (a figure-level function with similar flexibility) or `histplot` (an axes-level function for histograms).\n",
      "  warnings.warn(msg, FutureWarning)\n",
      "/home/ubuntu/anaconda3/lib/python3.8/site-packages/seaborn/distributions.py:2551: FutureWarning: `distplot` is a deprecated function and will be removed in a future version. Please adapt your code to use either `displot` (a figure-level function with similar flexibility) or `histplot` (an axes-level function for histograms).\n",
      "  warnings.warn(msg, FutureWarning)\n",
      "/home/ubuntu/anaconda3/lib/python3.8/site-packages/seaborn/distributions.py:2551: FutureWarning: `distplot` is a deprecated function and will be removed in a future version. Please adapt your code to use either `displot` (a figure-level function with similar flexibility) or `histplot` (an axes-level function for histograms).\n",
      "  warnings.warn(msg, FutureWarning)\n"
     ]
    },
    {
     "name": "stdout",
     "output_type": "stream",
     "text": [
      "0.007794128763638747\n",
      "0.04012924531528106\n"
     ]
    },
    {
     "name": "stderr",
     "output_type": "stream",
     "text": [
      "/home/ubuntu/anaconda3/lib/python3.8/site-packages/seaborn/distributions.py:2551: FutureWarning: `distplot` is a deprecated function and will be removed in a future version. Please adapt your code to use either `displot` (a figure-level function with similar flexibility) or `histplot` (an axes-level function for histograms).\n",
      "  warnings.warn(msg, FutureWarning)\n",
      "/home/ubuntu/anaconda3/lib/python3.8/site-packages/seaborn/distributions.py:2551: FutureWarning: `distplot` is a deprecated function and will be removed in a future version. Please adapt your code to use either `displot` (a figure-level function with similar flexibility) or `histplot` (an axes-level function for histograms).\n",
      "  warnings.warn(msg, FutureWarning)\n",
      "/home/ubuntu/anaconda3/lib/python3.8/site-packages/seaborn/distributions.py:2551: FutureWarning: `distplot` is a deprecated function and will be removed in a future version. Please adapt your code to use either `displot` (a figure-level function with similar flexibility) or `histplot` (an axes-level function for histograms).\n",
      "  warnings.warn(msg, FutureWarning)\n",
      "/home/ubuntu/anaconda3/lib/python3.8/site-packages/seaborn/distributions.py:2551: FutureWarning: `distplot` is a deprecated function and will be removed in a future version. Please adapt your code to use either `displot` (a figure-level function with similar flexibility) or `histplot` (an axes-level function for histograms).\n",
      "  warnings.warn(msg, FutureWarning)\n",
      "/home/ubuntu/anaconda3/lib/python3.8/site-packages/seaborn/distributions.py:2551: FutureWarning: `distplot` is a deprecated function and will be removed in a future version. Please adapt your code to use either `displot` (a figure-level function with similar flexibility) or `histplot` (an axes-level function for histograms).\n",
      "  warnings.warn(msg, FutureWarning)\n",
      "/home/ubuntu/anaconda3/lib/python3.8/site-packages/seaborn/distributions.py:2551: FutureWarning: `distplot` is a deprecated function and will be removed in a future version. Please adapt your code to use either `displot` (a figure-level function with similar flexibility) or `histplot` (an axes-level function for histograms).\n",
      "  warnings.warn(msg, FutureWarning)\n"
     ]
    },
    {
     "name": "stdout",
     "output_type": "stream",
     "text": [
      "-0.006114334877965981\n",
      "-0.0027460760970467\n"
     ]
    },
    {
     "name": "stderr",
     "output_type": "stream",
     "text": [
      "/home/ubuntu/anaconda3/lib/python3.8/site-packages/seaborn/distributions.py:2551: FutureWarning: `distplot` is a deprecated function and will be removed in a future version. Please adapt your code to use either `displot` (a figure-level function with similar flexibility) or `histplot` (an axes-level function for histograms).\n",
      "  warnings.warn(msg, FutureWarning)\n",
      "/home/ubuntu/anaconda3/lib/python3.8/site-packages/seaborn/distributions.py:2551: FutureWarning: `distplot` is a deprecated function and will be removed in a future version. Please adapt your code to use either `displot` (a figure-level function with similar flexibility) or `histplot` (an axes-level function for histograms).\n",
      "  warnings.warn(msg, FutureWarning)\n",
      "/home/ubuntu/anaconda3/lib/python3.8/site-packages/seaborn/distributions.py:2551: FutureWarning: `distplot` is a deprecated function and will be removed in a future version. Please adapt your code to use either `displot` (a figure-level function with similar flexibility) or `histplot` (an axes-level function for histograms).\n",
      "  warnings.warn(msg, FutureWarning)\n"
     ]
    },
    {
     "name": "stdout",
     "output_type": "stream",
     "text": [
      "0.01430587501266917\n",
      "0.025694778572532016\n"
     ]
    },
    {
     "name": "stderr",
     "output_type": "stream",
     "text": [
      "/home/ubuntu/anaconda3/lib/python3.8/site-packages/seaborn/distributions.py:2551: FutureWarning: `distplot` is a deprecated function and will be removed in a future version. Please adapt your code to use either `displot` (a figure-level function with similar flexibility) or `histplot` (an axes-level function for histograms).\n",
      "  warnings.warn(msg, FutureWarning)\n"
     ]
    },
    {
     "data": {
      "image/png": "[encoded data removed]",
      "text/plain": [
       "<Figure size 576x864 with 8 Axes>"
      ]
     },
     "metadata": {},
     "output_type": "display_data"
    }
   ],
   "source": [
    "################################################\n",
    "# dataset options: 'CDRP' , 'LUAD', 'TAORF', 'LINCS', 'CDRP-bio'\n",
    "datasets=['LUAD', 'TAORF', 'LINCS', 'CDRP-bio'];\n",
    "# datasets=['LUAD', 'TAORF', 'LINCS', 'CDRP-bio','CDRP'];\n",
    "\n",
    "DT_kfold={'LUAD':9, 'TAORF':5, 'LINCS':25, 'CDRP-bio':6,'CDRP':40}\n",
    "\n",
    "################################################\n",
    "# CP Profile Type options: 'augmented' , 'normalized', 'normalized_variable_selected'\n",
    "profileType='normalized_variable_selected'\n",
    "profTypeAbbrev=''.join([s[0] for s in profileType.split('_')])\n",
    "\n",
    "################################################\n",
    "# filtering to compounds which have high replicates for both GE and CP datasets\n",
    "highRepOverlapEnabled=1\n",
    "\n",
    "\n",
    "################################################\n",
    "pertColName='PERT'\n",
    "profileLevel='treatment'; #'replicate'  or  'treatment'\n",
    "if highRepOverlapEnabled:\n",
    "    f='filt'\n",
    "else:\n",
    "    f=''\n",
    "    \n",
    "models=[\"MLP\",\"Lasso\"]\n",
    "\n",
    "DataPredResults=pd.DataFrame(columns=[\"Dataset\",\"Model\"])\n",
    "\n",
    "fig, axes = plt.subplots(len(datasets),len(models),figsize=(4*len(models),3*len(datasets)))\n",
    "sns.set_context(\"paper\")\n",
    "sns.set_style(\"whitegrid\")\n",
    "# sns.rcParams['patch.force_edgecolor'] = True\n",
    "# for d in range(5):#(len(datasets)):\n",
    "for d in range(len(datasets)):\n",
    "    for m in range(len(models)):\n",
    "                              \n",
    "            \n",
    "        if datasets[d]=='TAORF' or datasets[d]=='CDRP':     \n",
    "            f=''\n",
    "        else:\n",
    "            f='filt'            \n",
    "\n",
    "        k_fold=DT_kfold[datasets[d]] \n",
    "        sheetName=models[m]+'-'+datasets[d]+'-'+profTypeAbbrev+'-'+f+'-'+str(k_fold)+'-ht'\n",
    "#         if models[m]=='Lasso':     \n",
    "#             sheetName=models[m]+'-'+datasets[d]+'-'+profTypeAbbrev+'-'+f+'-'+str(k_fold)+'-ht'\n",
    "#         else:\n",
    "#             sheetName=models[m]+'-'+datasets[d]+'-'+profTypeAbbrev+'-'+f+'-'+str(k_fold)      \n",
    "\n",
    "            \n",
    "        \n",
    "            \n",
    "        res_sheet=saved_scores[sheetName]\n",
    "\n",
    "        d_to_pl=res_sheet.groupby(['lmGens','d']).median().reset_index()   \n",
    "        \n",
    "        d_to_pl_2=d_to_pl.copy()\n",
    "        d_to_pl_2['Dataset']=datasets[d]\n",
    "        d_to_pl_2['Model']=models[m]\n",
    "        \n",
    "        \n",
    "        \n",
    "        # axes=sns.displot(data=d_to_pl, x=\"pred score\", hue=\"d\")\n",
    "        #     sns.distplot(saved_scores['Lasso-'+datasets[d]+filter_status[d]].pred_score.values,kde=True,hist=True,bins=100,label=datasets[d],ax=axes,norm_hist=True);\n",
    "        pred_scoress=d_to_pl[d_to_pl[\"d\"]==\"n-folds\"][\"pred score\"].values\n",
    "#         pred_scoress=res_sheet[res_sheet['d']=='n-folds'][\"pred score\"].values\n",
    "        rand_scoress=d_to_pl[d_to_pl[\"d\"]==\"random\"][\"pred score\"].values\n",
    "#         rand_scoress=res_sheet[res_sheet['d']=='random'][\"pred score\"].values\n",
    "        sns.distplot(pred_scoress,kde=True,hist=True,bins=100,label=datasets[d],ax=axes[d,m],norm_hist=True,color='r')\n",
    "        sns.distplot(rand_scoress,kde=True,hist=True,bins=100,label='random',ax=axes[d,m],norm_hist=True)\n",
    "        rand99th=np.percentile(rand_scoress,99)\n",
    "        print(rand99th)\n",
    "        \n",
    "        d_to_pl_2['rand99th']=rand99th\n",
    "        DataPredResults=DataPredResults.append(d_to_pl_2)\n",
    "        \n",
    "        \n",
    "        axes[d,0].set_xlim(-1,1)\n",
    "        axes[d,1].set_xlim(-1,1)\n",
    "#         axes[d,1].set_xlim(-.5,.5)\n",
    "#         axes[d,m].set_xlim(-0.5,0.6)\n",
    "#         axes[d,m].set_ylim(0,15)\n",
    "        axes[d,m].axvline(x=np.percentile(rand_scoress,90),linestyle=':',color='r');\n",
    "        axes[len(datasets)-1,m].set_xlabel(\"Accuracy ($R^2$)\");\n",
    "        axes[d,m].legend();\n",
    "        axes[0,m].set_title(models[m]);\n",
    "\n",
    "DataPredResults.loc[DataPredResults['d']=='random','Model']=DataPredResults[DataPredResults['d']=='random']['Model']+'-'+DataPredResults[DataPredResults['d']=='random']['d']"
   ]
  },
  {
   "cell_type": "code",
   "execution_count": 7,
   "metadata": {},
   "outputs": [
    {
     "data": {
      "text/html": [
       "<div>\n",
       "<style scoped>\n",
       "    .dataframe tbody tr th:only-of-type {\n",
       "        vertical-align: middle;\n",
       "    }\n",
       "\n",
       "    .dataframe tbody tr th {\n",
       "        vertical-align: top;\n",
       "    }\n",
       "\n",
       "    .dataframe thead th {\n",
       "        text-align: right;\n",
       "    }\n",
       "</style>\n",
       "<table border=\"1\" class=\"dataframe\">\n",
       "  <thead>\n",
       "    <tr style=\"text-align: right;\">\n",
       "      <th></th>\n",
       "      <th>lmGens</th>\n",
       "      <th>d</th>\n",
       "      <th>Unnamed: 0</th>\n",
       "      <th>pred score</th>\n",
       "    </tr>\n",
       "  </thead>\n",
       "  <tbody>\n",
       "    <tr>\n",
       "      <th>0</th>\n",
       "      <td>AARS</td>\n",
       "      <td>n-folds</td>\n",
       "      <td>4</td>\n",
       "      <td>0.964530</td>\n",
       "    </tr>\n",
       "    <tr>\n",
       "      <th>1</th>\n",
       "      <td>AARS</td>\n",
       "      <td>random</td>\n",
       "      <td>8806</td>\n",
       "      <td>0.000000</td>\n",
       "    </tr>\n",
       "    <tr>\n",
       "      <th>2</th>\n",
       "      <td>ABCB6</td>\n",
       "      <td>n-folds</td>\n",
       "      <td>13</td>\n",
       "      <td>0.994643</td>\n",
       "    </tr>\n",
       "    <tr>\n",
       "      <th>3</th>\n",
       "      <td>ABCB6</td>\n",
       "      <td>random</td>\n",
       "      <td>8815</td>\n",
       "      <td>0.000000</td>\n",
       "    </tr>\n",
       "    <tr>\n",
       "      <th>4</th>\n",
       "      <td>ABCC5</td>\n",
       "      <td>n-folds</td>\n",
       "      <td>22</td>\n",
       "      <td>-0.010185</td>\n",
       "    </tr>\n",
       "    <tr>\n",
       "      <th>...</th>\n",
       "      <td>...</td>\n",
       "      <td>...</td>\n",
       "      <td>...</td>\n",
       "      <td>...</td>\n",
       "    </tr>\n",
       "    <tr>\n",
       "      <th>1951</th>\n",
       "      <td>ZNF586</td>\n",
       "      <td>random</td>\n",
       "      <td>17581</td>\n",
       "      <td>0.000000</td>\n",
       "    </tr>\n",
       "    <tr>\n",
       "      <th>1952</th>\n",
       "      <td>ZNF589</td>\n",
       "      <td>n-folds</td>\n",
       "      <td>8788</td>\n",
       "      <td>0.017031</td>\n",
       "    </tr>\n",
       "    <tr>\n",
       "      <th>1953</th>\n",
       "      <td>ZNF589</td>\n",
       "      <td>random</td>\n",
       "      <td>17590</td>\n",
       "      <td>0.000000</td>\n",
       "    </tr>\n",
       "    <tr>\n",
       "      <th>1954</th>\n",
       "      <td>ZW10</td>\n",
       "      <td>n-folds</td>\n",
       "      <td>8797</td>\n",
       "      <td>0.045092</td>\n",
       "    </tr>\n",
       "    <tr>\n",
       "      <th>1955</th>\n",
       "      <td>ZW10</td>\n",
       "      <td>random</td>\n",
       "      <td>17599</td>\n",
       "      <td>0.000000</td>\n",
       "    </tr>\n",
       "  </tbody>\n",
       "</table>\n",
       "<p>1956 rows × 4 columns</p>\n",
       "</div>"
      ],
      "text/plain": [
       "      lmGens        d  Unnamed: 0  pred score\n",
       "0       AARS  n-folds           4    0.964530\n",
       "1       AARS   random        8806    0.000000\n",
       "2      ABCB6  n-folds          13    0.994643\n",
       "3      ABCB6   random        8815    0.000000\n",
       "4      ABCC5  n-folds          22   -0.010185\n",
       "...      ...      ...         ...         ...\n",
       "1951  ZNF586   random       17581    0.000000\n",
       "1952  ZNF589  n-folds        8788    0.017031\n",
       "1953  ZNF589   random       17590    0.000000\n",
       "1954    ZW10  n-folds        8797    0.045092\n",
       "1955    ZW10   random       17599    0.000000\n",
       "\n",
       "[1956 rows x 4 columns]"
      ]
     },
     "execution_count": 7,
     "metadata": {},
     "output_type": "execute_result"
    }
   ],
   "source": [
    "d_to_pl"
   ]
  },
  {
   "cell_type": "code",
   "execution_count": 33,
   "metadata": {},
   "outputs": [
    {
     "name": "stderr",
     "output_type": "stream",
     "text": [
      "The PostScript backend does not support transparency; partially transparent artists will be rendered opaque.\n",
      "The PostScript backend does not support transparency; partially transparent artists will be rendered opaque.\n"
     ]
    },
    {
     "data": {
      "image/png": "[encoded data removed]",
      "text/plain": [
       "<Figure size 936x288 with 1 Axes>"
      ]
     },
     "metadata": {},
     "output_type": "display_data"
    }
   ],
   "source": [
    "\n",
    "# DataPredResults\n",
    "import matplotlib.style as style\n",
    "style.use('seaborn-colorblind')\n",
    "sns.set_context(\"paper\",font_scale = 2, rc={\"font.size\":20,\"axes.titlesize\":8,\"axes.labelsize\":10})\n",
    "\n",
    "# DataPredResults.loc[DataPredResults['d']=='random','Model']=DataPredResults[DataPredResults['d']=='random']['Model']+'-'+DataPredResults[DataPredResults['d']=='random']['d']\n",
    "plt.figure(figsize=(13,4))\n",
    "\n",
    "# plt.rcParams[\"axes.labelsize\"] = 40\n",
    "sns.set_theme(style=\"whitegrid\")\n",
    "ax = sns.boxplot(x=\"Dataset\", y=\"pred score\", hue=\"Model\",data=DataPredResults,\\\n",
    "                order=['TAORF','CDRP-bio','LINCS','LUAD'], hue_order=['Lasso-random','Lasso','MLP-random','MLP'])\n",
    "ax.set_ylim(-.5,1);\n",
    "ax.set_ylabel(\"Accuracy ($R^2$)\", fontweight='bold'); #fontsize=14,\n",
    "ax.axhline(y=0,linestyle=':',color='k');\n",
    "plt.tight_layout()\n",
    "plt.legend(bbox_to_anchor=(1, .65), loc='upper left', borderaxespad=0)\n",
    "plt.tight_layout()\n",
    "plt.savefig('pred_gen_all_models2.eps')"
   ]
  },
  {
   "cell_type": "code",
   "execution_count": 10,
   "metadata": {},
   "outputs": [
    {
     "data": {
      "image/png": "[encoded data removed]",
      "text/plain": [
       "<Figure size 936x288 with 1 Axes>"
      ]
     },
     "metadata": {},
     "output_type": "display_data"
    }
   ],
   "source": [
    "import matplotlib.style as style\n",
    "style.use('seaborn-colorblind')\n",
    "sns.set_context(\"paper\",font_scale = 2, rc={\"font.size\":20,\"axes.titlesize\":8,\"axes.labelsize\":10})\n",
    "\n",
    "# DataPredResults.loc[DataPredResults['d']=='random','Model']=DataPredResults[DataPredResults['d']=='random']['Model']+'-'+DataPredResults[DataPredResults['d']=='random']['d']\n",
    "plt.figure(figsize=(13,4))\n",
    "\n",
    "# plt.rcParams[\"axes.labelsize\"] = 40\n",
    "sns.set_theme(style=\"whitegrid\")\n",
    "ax = sns.boxplot(x=\"Dataset\", y=\"pred score\", hue=\"Model\",data=DataPredResults)\n",
    "ax.set_ylim(-.5,1);\n",
    "# ax.set_ylim(-1.5,1);\n",
    "ax.set_ylabel(\"Accuracy ($R^2$)\", fontweight='bold'); #fontsize=14,\n",
    "plt.tight_layout()"
   ]
  },
  {
   "cell_type": "code",
   "execution_count": null,
   "metadata": {},
   "outputs": [],
   "source": []
  },
  {
   "cell_type": "code",
   "execution_count": null,
   "metadata": {},
   "outputs": [],
   "source": []
  },
  {
   "cell_type": "code",
   "execution_count": 13,
   "metadata": {},
   "outputs": [
    {
     "data": {
      "text/plain": [
       "Dataset   Model\n",
       "CDRP-bio  Lasso     70\n",
       "          MLP       18\n",
       "LINCS     Lasso     82\n",
       "          MLP      121\n",
       "LUAD      Lasso    543\n",
       "          MLP      494\n",
       "TAORF     Lasso     70\n",
       "          MLP       25\n",
       "dtype: int64"
      ]
     },
     "execution_count": 13,
     "metadata": {},
     "output_type": "execute_result"
    }
   ],
   "source": [
    "DataPredResults2=DataPredResults.loc[DataPredResults['d']!='random'].reset_index(drop=True)\n",
    "DataPredResults2[DataPredResults2[\"pred score\"]>0.25].groupby(['Dataset','Model']).size()"
   ]
  },
  {
   "cell_type": "code",
   "execution_count": 36,
   "metadata": {},
   "outputs": [
    {
     "data": {
      "text/plain": [
       "Dataset   Model\n",
       "CDRP      MLP        2\n",
       "CDRP-bio  Lasso     70\n",
       "          MLP       15\n",
       "LINCS     Lasso     82\n",
       "          MLP      161\n",
       "LUAD      Lasso    543\n",
       "          MLP      455\n",
       "TAORF     Lasso     44\n",
       "          MLP       12\n",
       "dtype: int64"
      ]
     },
     "execution_count": 36,
     "metadata": {},
     "output_type": "execute_result"
    }
   ],
   "source": [
    "DataPredResults2=DataPredResults.loc[DataPredResults['d']!='random'].reset_index(drop=True)\n",
    "DataPredResults2[DataPredResults2[\"pred score\"]>0.25].groupby(['Dataset','Model']).size()"
   ]
  },
  {
   "cell_type": "code",
   "execution_count": 35,
   "metadata": {},
   "outputs": [
    {
     "data": {
      "text/plain": [
       "Dataset   Model\n",
       "CDRP-bio  Lasso     7.873211\n",
       "          MLP      38.445808\n",
       "LINCS     Lasso    23.210634\n",
       "          MLP      60.429448\n",
       "LUAD      Lasso    56.952965\n",
       "          MLP      77.505112\n",
       "TAORF     Lasso     4.601227\n",
       "          MLP      17.791411\n",
       "dtype: float64"
      ]
     },
     "execution_count": 35,
     "metadata": {},
     "output_type": "execute_result"
    }
   ],
   "source": [
    "DataPredResults2=DataPredResults.loc[DataPredResults['d']!='random'].reset_index(drop=True)\n",
    "DataPredResults2[DataPredResults2[\"pred score\"]>DataPredResults2['rand99th']+0.2].groupby(['Dataset','Model']).size()*100/978"
   ]
  },
  {
   "cell_type": "code",
   "execution_count": 254,
   "metadata": {},
   "outputs": [
    {
     "data": {
      "text/plain": [
       "Dataset   Model\n",
       "CDRP-bio  Lasso     77\n",
       "          MLP       29\n",
       "LINCS     Lasso    227\n",
       "          MLP      661\n",
       "LUAD      Lasso    557\n",
       "          MLP      518\n",
       "TAORF     Lasso     45\n",
       "          MLP       19\n",
       "dtype: int64"
      ]
     },
     "execution_count": 254,
     "metadata": {},
     "output_type": "execute_result"
    }
   ],
   "source": [
    "DataPredResults2=DataPredResults.loc[DataPredResults['d']!='random'].reset_index(drop=True)\n",
    "DataPredResults2[DataPredResults2[\"pred score\"]>DataPredResults2['rand99th']+0.2].groupby(['Dataset','Model']).size()"
   ]
  },
  {
   "cell_type": "code",
   "execution_count": 41,
   "metadata": {},
   "outputs": [
    {
     "data": {
      "text/plain": [
       "<matplotlib.axes._subplots.AxesSubplot at 0x7fc7644e1580>"
      ]
     },
     "execution_count": 41,
     "metadata": {},
     "output_type": "execute_result"
    },
    {
     "data": {
      "image/png": "[encoded data removed]",
      "text/plain": [
       "<Figure size 576x576 with 1 Axes>"
      ]
     },
     "metadata": {},
     "output_type": "display_data"
    }
   ],
   "source": [
    "from venn import venn\n",
    "mean_scores_df_top=DataPredResults2[DataPredResults2[\"pred score\"]>0.25].reset_index(drop=True)\n",
    "\n",
    "list_4_ven={}\n",
    "dsets=[\"CDRP-bio\",\"LINCS\",\"LUAD\", \"TAORF\"]\n",
    "set_lab=tuple(dsets) \n",
    "# plt.figure()\n",
    "for d in dsets:\n",
    "    list_4_ven[d]=set(mean_scores_df_top[mean_scores_df_top[\"Dataset\"]==d].lmGens)\n",
    "\n",
    "# venn(list_4_ven,legend_loc='upper center')\n",
    "venn(list_4_ven,legend_loc='lower right')\n",
    "# plt.tight_layout()\n",
    "# plt.savefig('pred_gen_venn.eps')"
   ]
  },
  {
   "cell_type": "code",
   "execution_count": 34,
   "metadata": {},
   "outputs": [
    {
     "data": {
      "text/plain": [
       "Dataset   Model\n",
       "CDRP-bio  Lasso     77\n",
       "          MLP      376\n",
       "LINCS     Lasso    227\n",
       "          MLP      591\n",
       "LUAD      Lasso    557\n",
       "          MLP      758\n",
       "TAORF     Lasso     45\n",
       "          MLP      174\n",
       "dtype: int64"
      ]
     },
     "execution_count": 34,
     "metadata": {},
     "output_type": "execute_result"
    }
   ],
   "source": [
    "DataPredResults2=DataPredResults.loc[DataPredResults['d']!='random'].reset_index(drop=True)\n",
    "DataPredResults2[DataPredResults2[\"pred score\"]>DataPredResults2['rand99th']+0.2].groupby(['Dataset','Model']).size()"
   ]
  },
  {
   "cell_type": "code",
   "execution_count": null,
   "metadata": {},
   "outputs": [],
   "source": []
  },
  {
   "cell_type": "code",
   "execution_count": null,
   "metadata": {},
   "outputs": [],
   "source": []
  },
  {
   "cell_type": "code",
   "execution_count": null,
   "metadata": {},
   "outputs": [],
   "source": []
  },
  {
   "cell_type": "code",
   "execution_count": 180,
   "metadata": {},
   "outputs": [
    {
     "data": {
      "text/plain": [
       "array([ 2.34282881e-01, -1.33832692e-02, -4.03793417e-02, -8.29159430e-03,\n",
       "       -1.33171784e-01,  5.83273527e-02,  2.18498500e-01, -5.41656423e-02,\n",
       "        2.91059911e-02, -7.96666752e-03, -4.47403555e-02, -5.62418200e-02,\n",
       "       -3.54507567e-02, -9.52716222e-03, -3.51376820e-02, -6.93898763e-02,\n",
       "        3.12461048e-02, -7.78334687e-02,  2.37769435e-02,  8.74947132e-02,\n",
       "       -2.78588662e-02,  2.85935087e-02, -4.17350460e-03, -6.26994694e-02,\n",
       "        1.37383443e-01, -4.94019933e-02,  3.08050123e-01,  8.47699950e-03,\n",
       "       -6.17422735e-02, -3.50111519e-02, -3.28200760e-02,  1.84729352e-02,\n",
       "       -1.28983827e-01, -2.79655508e-03, -3.87388621e-02, -1.63301869e-01,\n",
       "        5.18819953e-02,  6.73359845e-02,  1.32616246e-01, -3.62265927e-01,\n",
       "       -8.09248336e-02,  3.79314451e-02,  2.29532618e-01,  4.99365801e-02,\n",
       "       -3.02892012e-02,  1.31108119e-01, -2.56289585e-02, -4.23784820e-02,\n",
       "       -1.10775626e-02, -4.64553662e-02, -5.01659668e-02, -1.91374262e-02,\n",
       "        8.38984792e-02, -6.21259828e-02, -3.57148790e-02, -9.27927221e-02,\n",
       "        2.85707353e-01, -6.77670337e-02,  5.88046214e-02,  1.72287231e-01,\n",
       "       -2.09014099e-02,  1.50281346e-01,  8.77030504e-02,  3.21849555e-01,\n",
       "       -3.13798627e-02,  1.58740321e-01,  2.13293491e-01,  1.89819273e-01,\n",
       "        4.96563263e-02, -1.22123516e-02, -3.86781074e-02, -2.59717651e-02,\n",
       "        2.72300605e-01, -3.07515254e-03, -3.02785216e-02,  3.30776931e-01,\n",
       "       -1.62066372e-01,  2.61423091e-01, -4.29895876e-02, -9.48087832e-02,\n",
       "        9.15150080e-02,  1.58509343e-03, -8.25786198e-02, -6.04757722e-02,\n",
       "        8.65000429e-02, -1.18380033e-01,  8.08997712e-02,  2.58642841e-01,\n",
       "       -4.57111778e-02,  8.12518660e-03, -5.28226122e-02, -7.66938697e-02,\n",
       "        5.23679657e-04, -6.04429896e-02,  3.59238665e-02, -5.44518850e-02,\n",
       "       -2.30587946e-02, -5.59590256e-02,  2.56473925e-01, -2.04673665e-02,\n",
       "        6.75393097e-02, -6.13324736e-02, -4.54287401e-02, -5.28563111e-03,\n",
       "        1.01233801e-01,  2.52334522e-01, -3.54084389e-02, -6.84083922e-03,\n",
       "       -5.29215182e-02, -6.63397156e-02,  2.14420108e-02,  4.72382784e-01,\n",
       "        2.44222376e-01,  4.78149242e-01,  8.19164452e-02, -2.39918050e-02,\n",
       "       -4.93134784e-02,  2.25512567e-02,  1.86166486e-01,  4.18294229e-02,\n",
       "        2.87316697e-01, -1.90615953e-03, -3.21878077e-02,  3.00855420e-01,\n",
       "       -1.30459416e-03,  1.31970257e-01, -2.76577204e-02, -2.96397244e-02,\n",
       "       -7.93284860e-02,  1.33442375e-01,  2.17680749e-01, -8.51007028e-02,\n",
       "        6.06649577e-02, -8.17232897e-02,  3.43398741e-02,  2.57413081e-03,\n",
       "        1.85973619e-01, -5.40570022e-02, -3.55679004e-02,  1.82235027e-01,\n",
       "        3.54121811e-01, -7.16604439e-02, -4.15741582e-02, -5.42578231e-02,\n",
       "       -4.38135495e-02,  1.65974859e-02,  2.97594296e-01,  7.21185734e-02,\n",
       "        1.19858881e-01,  3.82439590e-01,  1.02020637e-01,  7.66991540e-02,\n",
       "       -3.91134009e-02,  9.30188653e-02, -2.36789466e-02, -6.41842467e-02,\n",
       "       -3.89688688e-03, -4.63658753e-02,  2.80599169e-01,  7.38914460e-02,\n",
       "       -5.86678513e-02, -1.17664306e-01, -9.42044091e-02, -4.75135301e-02,\n",
       "       -2.19246750e-01,  7.20698286e-02,  1.56506518e-02, -1.14527274e-02,\n",
       "        2.65287956e-01,  2.30215887e-01,  4.61960560e-02, -1.59266744e-01,\n",
       "       -1.35526344e-02,  4.32395703e-02,  2.45676475e-01, -6.88511232e-02,\n",
       "       -6.88425264e-02, -4.49297121e-02,  2.47073717e-01, -7.00446102e-02,\n",
       "       -7.37113706e-02,  7.71202579e-02,  4.50592964e-01,  1.22154323e-02,\n",
       "        6.52562873e-02, -2.29799444e-02,  1.26392954e-02,  3.56928456e-02,\n",
       "        5.89295338e-02, -4.78495856e-02, -3.30487360e-01, -7.61562365e-02,\n",
       "        1.68330936e-01,  1.52118113e-01, -4.88728617e-03,  2.29276048e-02,\n",
       "        6.24280820e-02,  8.78502547e-02, -4.67502765e-02,  3.45444450e-01,\n",
       "       -1.63022459e-02, -1.76374977e-02, -1.24274629e-01, -6.90561171e-02,\n",
       "        1.42110711e-02,  3.73000683e-02, -5.54700411e-02, -4.65426051e-02,\n",
       "        1.89670672e-02, -3.02624018e-02, -8.56889614e-02,  2.05230178e-01,\n",
       "       -1.09235607e-02,  1.95162143e-01,  1.83543654e-01,  1.81598515e-01,\n",
       "        5.91531784e-02,  9.44117991e-02, -4.34479039e-02, -8.33822437e-02,\n",
       "        4.63542938e-02, -5.80344254e-02, -3.90630836e-02, -7.02527917e-02,\n",
       "       -2.13604875e-02, -1.21587116e-02, -6.84067547e-02,  2.62333403e-02,\n",
       "       -1.80306155e-01, -4.01643637e-02, -3.54237949e-02, -6.57971702e-02,\n",
       "       -6.29233501e-02,  4.03388116e-02,  1.01530015e-02,  7.34764769e-02,\n",
       "       -2.49041111e-02, -8.46546574e-02, -1.88772850e-02, -5.77677016e-04,\n",
       "       -5.00329576e-02,  9.76186822e-03,  5.21182111e-02, -7.03352564e-02,\n",
       "        1.26449266e-01,  9.44980411e-02, -4.96164275e-02, -9.52601630e-02,\n",
       "       -2.12587382e-01, -1.57259361e-01,  2.24977655e-02, -2.97451199e-02,\n",
       "        1.49999169e-02, -4.99625182e-02, -8.69724045e-03,  2.01228268e-01,\n",
       "        1.92660289e-01, -5.90415208e-02,  3.70914366e-02,  2.27120063e-01,\n",
       "       -7.89837338e-02,  1.45334831e-01,  5.33470845e-02,  3.48311629e-01,\n",
       "        1.71240231e-02,  1.96457170e-01,  7.60834163e-07,  5.25520687e-02,\n",
       "       -8.81384314e-02,  5.88810263e-02, -7.88080255e-02,  3.60786440e-01,\n",
       "        7.66604798e-02,  2.01243242e-02,  5.65267978e-02, -3.51580819e-02,\n",
       "       -5.35113052e-02, -7.44359929e-02, -2.10046324e-02,  9.55595531e-02,\n",
       "        8.81113851e-02, -7.60412889e-02, -1.06913343e-01, -8.72516592e-02,\n",
       "       -1.30649737e-02, -1.39556448e-02,  3.26751896e-01,  4.87804853e-02,\n",
       "        4.76189272e-02, -4.65340764e-02,  2.24254782e-01,  1.44406825e-01,\n",
       "       -6.44248218e-02, -1.66774939e-02, -1.33003529e-01,  3.07502878e-02,\n",
       "       -3.78749411e-02,  1.49218730e-01,  1.94302512e-01,  1.28032716e-01,\n",
       "       -7.96652879e-02, -4.40560164e-02,  9.40387777e-02, -2.52221328e-01,\n",
       "       -1.50091487e-02, -3.14049051e-02, -4.07622366e-02, -4.38281345e-02,\n",
       "       -2.75708532e-02,  1.67117058e-01,  1.53816154e-01,  1.61029727e-01,\n",
       "       -2.61645906e-02,  7.46494849e-02,  4.27134154e-03, -9.59220030e-03,\n",
       "       -9.47177700e-02, -2.51411517e-02, -9.24614551e-02, -6.72720184e-02,\n",
       "        2.00979599e-01, -7.48277120e-02,  6.46594420e-02, -3.63856322e-02,\n",
       "        4.03829591e-02,  1.35357060e-02,  8.17639545e-03,  3.70776154e-02,\n",
       "        1.53231989e-01, -1.85949007e-02,  1.05743441e-02, -1.46804736e-01,\n",
       "        1.56602118e-01,  8.26571728e-02, -6.53460837e-02, -5.42301312e-02,\n",
       "       -1.94969456e-02,  2.19423445e-03,  3.40587569e-01, -8.54295067e-02,\n",
       "       -1.27831427e-02,  1.02354706e-01, -4.61387055e-02, -7.96422738e-03,\n",
       "       -1.29327855e-02,  3.55965650e-02, -7.36212299e-02, -9.41686629e-02,\n",
       "       -1.52017761e-02,  1.47498500e-01,  3.94452999e-02, -1.10227822e-01,\n",
       "       -3.46258588e-03, -2.21024142e-02, -6.13695863e-03, -1.49818060e-02,\n",
       "       -4.68237101e-02,  1.21481228e-01,  1.82126285e-02,  2.78261667e-01,\n",
       "        6.45613406e-03, -8.03724170e-02,  2.58284696e-01,  1.03588572e-01,\n",
       "       -2.04135051e-02, -4.51363205e-02,  1.98915074e-01, -1.48683500e-02,\n",
       "        2.10224616e-01,  2.72610761e-01, -4.19375533e-02, -1.11311704e-02,\n",
       "       -1.27551728e-02,  2.74006548e-01, -2.99110133e-02,  1.15771015e-01,\n",
       "       -3.09215894e-02,  1.89922753e-01,  1.02145979e-01, -8.35252498e-02,\n",
       "       -2.91148173e-02, -2.03852393e-02,  4.04611807e-02,  2.55064498e-01,\n",
       "       -7.37474278e-02,  2.44711419e-02, -1.44349331e-02,  5.84386536e-02,\n",
       "        1.16489562e-01,  7.27782220e-03,  8.25018216e-02,  1.84452188e-01,\n",
       "        1.91338527e-01, -2.12942152e-02, -5.19167741e-02, -6.09082092e-02,\n",
       "       -4.17249364e-02, -1.00871312e-01,  2.54442851e-01,  6.68311762e-02,\n",
       "        2.92737687e-01, -1.09781328e-01,  1.19385099e-01, -2.00654962e-02,\n",
       "        2.09858770e-01, -7.17464054e-02, -3.48796146e-02, -1.03339042e-01,\n",
       "       -3.48225244e-02, -6.88433209e-02, -5.04499693e-02,  5.18042885e-02,\n",
       "       -1.90539309e-02, -4.56323653e-02,  1.79986760e-01, -1.00956555e-01,\n",
       "       -7.35481715e-02,  2.35153680e-01, -4.22226239e-02,  7.75584950e-02,\n",
       "       -2.59912327e-02,  3.64529601e-02,  2.93322159e-01, -4.26371199e-02,\n",
       "        6.90124593e-02, -7.17915944e-02,  9.33510385e-02, -1.45401513e-02,\n",
       "        1.36582809e-01,  1.54907151e-01,  2.92637562e-01, -1.08868422e-02,\n",
       "        5.39778724e-02, -7.37942373e-02, -3.12881828e-02,  3.03595981e-01,\n",
       "        1.97975101e-02,  2.37987505e-01,  1.44825710e-01, -1.24418075e-01,\n",
       "        2.13511199e-03,  1.73332890e-01,  4.00065028e-02, -3.92909313e-02,\n",
       "       -4.08870806e-02,  4.28054767e-02, -9.50110734e-02,  7.67042410e-02,\n",
       "       -1.11554223e-01,  1.25170674e-01,  3.70204058e-03, -2.43886440e-02,\n",
       "       -5.67547528e-02,  2.21306026e-01, -1.89856949e-01, -1.08950499e-01,\n",
       "       -1.40899168e-01, -6.51359182e-02, -5.82683997e-02, -7.88591747e-02,\n",
       "       -3.29412962e-02,  6.50645145e-02, -6.15149340e-02, -5.64383655e-02,\n",
       "       -2.00638103e-02, -8.78358188e-02, -2.93654245e-03,  1.17727223e-01,\n",
       "        9.69663827e-02,  3.75508645e-02, -4.49559109e-02, -3.78361084e-02,\n",
       "        2.00610794e-01,  1.05885485e-03,  2.42995075e-02, -5.14641223e-02,\n",
       "       -1.71667747e-04, -5.91302256e-02, -9.86373875e-03, -1.64725020e-03,\n",
       "       -1.97051571e-02, -1.05253084e-02,  8.20591836e-02, -3.10076046e-01,\n",
       "       -1.43365851e-01,  1.13984481e-01, -5.41364034e-02,  1.80428458e-01,\n",
       "        3.33329176e-02, -1.07813002e-02,  3.06463567e-01, -9.61324941e-03,\n",
       "       -1.96599086e-02,  1.18151404e-02,  9.57139137e-02,  5.36401068e-02,\n",
       "       -7.02109718e-02, -3.08507965e-02,  1.15458748e-01, -1.21742961e-02,\n",
       "       -3.47899777e-02, -5.62133084e-02, -3.75655768e-02, -4.15685497e-02,\n",
       "       -1.11825297e-02,  3.28245505e-02,  6.36231721e-02,  4.56514851e-02,\n",
       "       -3.95676870e-03,  1.59776247e-01, -1.04397325e-01, -6.50031552e-02,\n",
       "        2.10046522e-02, -5.94474718e-02, -1.06412924e-02,  9.51142064e-02,\n",
       "        3.74393929e-01, -2.82156982e-02, -2.97864537e-02,  1.47775697e-01,\n",
       "       -6.90667085e-02,  5.95267051e-01, -1.90631622e-02, -3.08290203e-02,\n",
       "       -5.91550961e-02,  2.35854588e-01, -8.87359384e-02, -4.07733680e-02,\n",
       "       -9.77211895e-02,  1.06186584e-01, -1.42951921e-01, -1.29558820e-01,\n",
       "       -5.92322213e-02,  1.30027991e-02,  6.71837155e-02, -1.34022932e-01,\n",
       "        9.96127097e-02,  1.08067180e-01, -5.45701764e-02,  1.17667992e-01,\n",
       "        1.25833781e-01, -6.28214639e-03, -4.66421502e-02,  1.43644798e-01,\n",
       "       -1.55761806e-02,  1.39860438e-01,  3.05005456e-01,  2.08439987e-03,\n",
       "       -2.49293342e-02, -1.16623930e-01,  2.01783690e-01,  1.36019439e-01,\n",
       "        9.53155989e-02,  1.58306186e-01, -5.69351264e-02, -6.58735301e-03,\n",
       "       -2.51880123e-02, -5.47765141e-02,  1.33578034e-01,  1.68834987e-01,\n",
       "        6.38870765e-02,  1.26034860e-01, -7.28736551e-02, -6.17213789e-02,\n",
       "        2.49908294e-01, -3.07314145e-02, -1.85142084e-01, -1.63981320e-02,\n",
       "       -1.25531692e-01, -4.36559943e-02,  7.24256020e-02,  3.60486049e-02,\n",
       "        6.83929988e-02,  8.38671875e-02, -6.33130068e-02,  1.30320012e-01,\n",
       "       -1.14221671e-01,  3.83508143e-02, -1.28506864e-01,  1.22206568e-02,\n",
       "        1.84372792e-01, -1.11634530e-02,  2.12791074e-01,  1.03125561e-01,\n",
       "       -2.66949569e-02, -4.95444684e-02,  2.29515525e-01, -2.57998209e-02,\n",
       "        1.69610667e-01,  2.36671064e-02, -3.55504712e-02,  3.54815138e-02,\n",
       "        3.87128395e-02, -2.09267748e-01, -2.64493051e-02, -6.54617612e-02,\n",
       "        2.18694216e-01, -9.98094881e-02, -7.78105731e-02, -2.42903295e-02,\n",
       "       -3.02492623e-03,  2.90547726e-01, -1.08487593e-02,  2.45248894e-01,\n",
       "       -6.93773451e-02,  1.37777890e-02, -9.83108660e-02, -5.02061973e-02,\n",
       "        1.21270812e-02, -1.25219888e-02,  1.50660244e-01,  1.55914820e-01,\n",
       "       -4.18443506e-02, -3.15264060e-02, -7.41738509e-02, -5.97535402e-02,\n",
       "       -6.54049556e-02,  4.32412333e-02, -8.37928255e-03, -9.11594782e-02,\n",
       "        1.34994294e-02, -6.43920585e-02, -2.12973657e-02, -1.30609279e-01,\n",
       "        1.61295516e-01, -2.44318655e-02,  8.24615747e-02, -1.19419145e-01,\n",
       "       -4.80574116e-02,  6.60576564e-02, -5.27457103e-02,  2.13219896e-02,\n",
       "        9.04720053e-03,  3.10332737e-02,  2.93644990e-01,  1.88418086e-01,\n",
       "       -2.01268702e-02, -1.25431385e-01, -1.16022151e-01, -1.58305281e-01,\n",
       "       -3.83197119e-02, -6.41571893e-02,  1.08695626e-01,  2.18238641e-02,\n",
       "        1.64011534e-02,  1.10938153e-01, -2.28475889e-02, -2.23387962e-01,\n",
       "        1.17343740e-01, -2.92772364e-02, -1.37520583e-02, -2.57630513e-04,\n",
       "       -8.34975311e-02,  3.13083358e-02,  2.51613634e-01,  3.49015654e-02,\n",
       "       -1.66769033e-02, -1.83212244e-01, -2.75461004e-02, -1.91876481e-02,\n",
       "       -1.93196701e-03,  5.62241719e-01,  4.86510525e-02, -1.70377277e-02,\n",
       "       -7.37396403e-03, -5.04675316e-02, -4.53150411e-02, -1.57127618e-03,\n",
       "       -6.75363132e-02,  2.95009379e-03, -1.54991390e-01,  1.35154578e-01,\n",
       "       -2.81428543e-02, -2.64327621e-02, -3.47561537e-03, -1.26888847e-02,\n",
       "        9.29533820e-02, -2.68283474e-01, -4.77870865e-02,  2.70814694e-01,\n",
       "        6.60269673e-02, -1.02812541e-01, -1.11086039e-02,  1.69866850e-02,\n",
       "       -1.05367219e-03, -4.00042499e-02,  8.49837272e-02, -6.18033198e-02,\n",
       "        1.13656130e-02, -1.31771177e-01,  2.17316562e-02, -1.70523437e-02,\n",
       "       -1.72170726e-02, -2.44314367e-02,  6.29587706e-02,  5.64259534e-02,\n",
       "        4.55124932e-02,  3.49615680e-02, -1.67153853e-02, -2.43680276e-02,\n",
       "        2.57924610e-01, -2.27975314e-02, -1.25348681e-02, -5.49081865e-02,\n",
       "        3.67300353e-02,  2.06905563e-01, -5.82525113e-02, -3.27057996e-02,\n",
       "       -2.77844971e-01,  5.95009962e-02, -2.74290990e-01,  7.21187751e-02,\n",
       "        1.73684399e-04,  6.11348450e-02, -3.03908232e-02, -2.53705725e-02,\n",
       "       -1.77179147e-01, -4.72333180e-02,  1.94931572e-01, -2.82951479e-03,\n",
       "        1.95790706e-01, -1.14857044e-01, -1.19156305e-01, -7.51939541e-03,\n",
       "       -7.30131546e-03, -1.13333242e-01, -8.95371452e-02, -3.12037312e-02,\n",
       "        1.97116055e-02,  2.14057383e-01,  1.86552085e-01,  8.75310752e-02,\n",
       "       -7.92894920e-02,  1.47980848e-01, -3.58212554e-02, -8.52304742e-03,\n",
       "       -2.56571406e-02,  7.01507331e-02,  1.64622485e-01,  5.45560623e-02,\n",
       "        6.16089850e-02,  2.55702245e-01, -1.55824714e-02, -9.29747711e-02,\n",
       "        1.80611052e-01,  7.43949779e-02, -1.30764248e-02, -5.71938982e-02,\n",
       "       -4.21341032e-02,  8.24529810e-02, -3.34113643e-02,  4.62458805e-02,\n",
       "        1.38127526e-01,  1.76675761e-01, -8.34695519e-03, -2.49759421e-03,\n",
       "        2.64621747e-01, -2.08547262e-02, -2.63965608e-02,  5.94183540e-02,\n",
       "        2.58975756e-01, -3.55133447e-02, -1.32894720e-02,  5.23347828e-02,\n",
       "        2.56017846e-01, -1.64358712e-01, -3.80129113e-02,  2.38034359e-02,\n",
       "        1.27163372e-01, -1.43564997e-01, -9.15862027e-02, -7.15870804e-02,\n",
       "       -1.16189973e-01,  4.10059275e-01, -4.63512377e-02,  1.94302051e-01,\n",
       "        4.52571899e-02, -9.06204641e-03, -4.03005935e-02, -3.34873400e-02,\n",
       "        3.18080219e-02, -7.94721640e-02,  6.37650459e-02, -2.05735741e-01,\n",
       "       -8.85867376e-02, -3.57923809e-02, -6.89121921e-02, -1.44407234e-01,\n",
       "       -8.06805528e-03,  2.02410802e-01,  6.61157421e-02, -8.51174350e-02,\n",
       "       -4.90825022e-02,  8.84003312e-02, -4.72496882e-02, -6.67431849e-02,\n",
       "       -1.68292453e-01, -1.15716385e-01,  2.92080541e-02,  2.04909091e-01,\n",
       "        1.30212141e-02,  2.60423690e-01, -1.26433605e-01,  9.50330678e-02,\n",
       "       -2.87239024e-02, -8.60610133e-02, -1.14130936e-02, -1.52332781e-02,\n",
       "       -6.44117993e-02, -2.96942571e-02,  1.68442633e-03, -3.61761436e-02,\n",
       "        6.79892766e-03,  8.48721911e-02, -6.21814246e-02,  1.14728428e-01,\n",
       "        1.91550818e-01, -2.47948599e-02, -1.40263922e-02, -1.11406961e-02,\n",
       "       -1.78896377e-02,  5.14238022e-02, -6.67556129e-02, -1.07796372e-01,\n",
       "       -3.18119877e-03, -2.69643598e-02, -3.31521633e-02, -4.22375069e-02,\n",
       "        7.68594403e-02, -6.35569655e-02,  1.16158507e-01,  7.76587563e-02,\n",
       "        2.18912148e-01,  1.04603518e-02, -4.49135766e-03,  1.82207052e-01,\n",
       "        1.19566039e-01,  2.34538757e-01,  2.22003406e-03, -1.81729652e-02,\n",
       "        2.51494505e-02,  1.05125394e-01, -3.32827874e-02, -7.93409652e-02,\n",
       "       -2.12443906e-02,  2.79616888e-01, -1.39634900e-02, -1.47838415e-02,\n",
       "        2.53108726e-01,  1.16500615e-02, -6.28762691e-02, -4.62104161e-02,\n",
       "       -2.11990715e-02, -4.61535603e-02,  2.20025671e-01,  3.20467801e-01,\n",
       "       -2.96663413e-02, -1.04905995e-03,  7.81568790e-02, -3.45492284e-02,\n",
       "       -2.80122699e-02,  1.08633314e-01, -1.83519213e-02, -1.39147304e-02,\n",
       "       -1.21271709e-02, -3.03923249e-02, -6.15799889e-02,  9.43514533e-02,\n",
       "       -1.19836852e-01, -3.20621144e-02,  2.07490222e-02, -1.31191221e-01,\n",
       "        1.47382072e-01, -7.58178229e-02,  2.01653798e-02,  5.83919628e-03,\n",
       "        5.94688849e-02,  5.23031621e-01, -1.97491209e-02, -3.13242657e-02,\n",
       "        4.28152361e-02, -3.75278879e-02, -5.59666781e-02,  7.08105016e-02,\n",
       "        1.45182049e-01,  2.76046460e-02,  2.69257009e-01, -2.51132412e-02,\n",
       "        1.42535376e-01, -6.00162002e-02,  2.55942973e-01,  4.50416796e-01,\n",
       "        2.22471469e-02, -1.35977284e-01,  2.08301524e-01,  1.91570435e-01,\n",
       "       -3.09172403e-02,  3.47182093e-01, -1.86032347e-02,  1.50841534e-01,\n",
       "       -1.83339877e-02, -3.03585779e-02, -1.29463616e-02, -5.88540271e-02,\n",
       "        1.04881807e-02, -4.21060018e-02,  6.86570647e-02, -4.08231826e-01,\n",
       "        4.06044744e-02,  1.70314350e-01, -3.64136631e-02, -8.15652861e-02,\n",
       "        2.81409302e-01,  8.74437027e-03, -2.32655353e-02, -4.66853158e-02,\n",
       "       -4.58442387e-02, -8.79778936e-03,  2.56919423e-02, -3.19518307e-02,\n",
       "       -6.14514820e-02, -1.62900731e-02, -1.04845715e-01, -4.40289634e-01,\n",
       "        3.77047128e-02, -9.00743249e-03,  2.82594885e-01,  7.82367578e-02,\n",
       "       -4.16411132e-02,  3.96567138e-02, -7.35842533e-02, -1.18882442e-02,\n",
       "       -4.39554634e-02,  1.53711239e-01, -1.14438346e-02, -1.08385383e-01,\n",
       "       -5.17214484e-03, -3.52264075e-02,  3.87665083e-02, -4.30978785e-02,\n",
       "       -6.72446570e-02, -2.02278399e-02, -1.62554254e-02, -6.46021899e-02,\n",
       "       -4.00249956e-02, -2.09370472e-02,  4.09564579e-02,  1.99768711e-01,\n",
       "       -1.43485087e-01,  3.53012948e-01, -2.76491986e-02, -1.81142793e-01,\n",
       "        3.66938212e-02, -4.64137110e-02, -1.00749764e-01, -1.11351850e-01,\n",
       "       -2.74357848e-02,  1.58029665e-01, -2.11930959e-02, -2.68130390e-03,\n",
       "       -2.28149634e-02,  2.58965097e-01, -8.37141299e-02,  1.59587381e-01,\n",
       "        1.14945398e-01, -2.74520065e-01,  1.03464444e-01,  9.16153501e-02,\n",
       "       -5.36082178e-02,  1.75069559e-01,  2.25785674e-01, -3.56090909e-02,\n",
       "       -5.12792907e-02,  8.27283702e-02, -5.53886859e-02, -2.88348840e-02,\n",
       "        9.09808732e-02])"
      ]
     },
     "execution_count": 180,
     "metadata": {},
     "output_type": "execute_result"
    }
   ],
   "source": [
    "pred_scoress"
   ]
  },
  {
   "cell_type": "code",
   "execution_count": 195,
   "metadata": {},
   "outputs": [],
   "source": [
    "unq_lmgenes=DataPredResults2['lmGens'].unique()"
   ]
  },
  {
   "cell_type": "code",
   "execution_count": 197,
   "metadata": {},
   "outputs": [],
   "source": [
    "d_luad=DataPredResults2[DataPredResults2['Dataset']=='LUAD'].reset_index(drop=True)\n",
    "d_cdrpbio=DataPredResults2[DataPredResults2['Dataset']=='CDRP-bio'].reset_index(drop=True)\n",
    "d_lincs=DataPredResults2[DataPredResults2['Dataset']=='LINCS'].reset_index(drop=True)\n",
    "d_taorf=DataPredResults2[DataPredResults2['Dataset']=='TAORF'].reset_index(drop=True)\n",
    "\n",
    "# unq_lmgenes"
   ]
  },
  {
   "cell_type": "code",
   "execution_count": 245,
   "metadata": {},
   "outputs": [],
   "source": [
    "cols=[\"CDRP-bio-Lasso\",\"CDRP-bio-MLP\",\\\n",
    "                                                    \"LUAD-Lasso\",\"LUAD-MLP\",\\\n",
    "                                                    \"LINCS-Lasso\",\"LINCS-MLP\",\\\n",
    "                                                    \"TAORF-Lasso\",\"TAORF-MLP\"]\n",
    "DataAppendix=pd.DataFrame(index=unq_lmgenes,columns=cols)\n",
    "\n",
    "for ds in ['LUAD', 'TAORF', 'LINCS', 'CDRP-bio']:\n",
    "    for m in ['Lasso','MLP']:\n",
    "        d_luad=DataPredResults2[DataPredResults2['Dataset']==ds].reset_index(drop=True)\n",
    "        d_luad2=d_luad[(d_luad[\"Model\"]==m)]\n",
    "        DataAppendix.loc[d_luad2[\"lmGens\"].values,ds+\"-\"+m]=d_luad2[\"pred score\"].values\n",
    "DataAppendix[cols]=DataAppendix[cols]*100\n",
    "DataAppendix[cols]=DataAppendix[cols].astype(float).round(2)"
   ]
  },
  {
   "cell_type": "code",
   "execution_count": 226,
   "metadata": {},
   "outputs": [],
   "source": [
    "# DataAppendix.loc[unq_lmgenes.tolist()]"
   ]
  },
  {
   "cell_type": "code",
   "execution_count": 248,
   "metadata": {},
   "outputs": [
    {
     "data": {
      "text/plain": [
       "(1170, 8)"
      ]
     },
     "execution_count": 248,
     "metadata": {},
     "output_type": "execute_result"
    }
   ],
   "source": [
    "DataAppendix.shape\n",
    "    \n",
    "# DataAppendix[unq_lmgenes,\"LUAD-MLP\"]=d_luad[(d_luad[\"lmGens\"].isin(unq_lmgenes))&(d_luad[\"Model\"]=='MLP')][\"pred score\"]"
   ]
  },
  {
   "cell_type": "code",
   "execution_count": 249,
   "metadata": {},
   "outputs": [
    {
     "data": {
      "text/plain": [
       "range(0, 1200, 60)"
      ]
     },
     "execution_count": 249,
     "metadata": {},
     "output_type": "execute_result"
    }
   ],
   "source": [
    "# DataAppendix[(d_luad[\"lmGens\"].isin(unq_lmgenes))]\n",
    "# DataAppendix\n",
    "# d_luad=DataPredResults2[DataPredResults2['Dataset']=='LUAD'].reset_index(drop=True)\n",
    "# DataAppendix[0:60]\n",
    "range(0,60*20,60)"
   ]
  },
  {
   "cell_type": "code",
   "execution_count": 252,
   "metadata": {},
   "outputs": [],
   "source": [
    "# d_luad[\"lmGens\"]\n",
    "# DataAppendix.loc[d_luad[\"lmGens\"].values]\n",
    "for i in range(0,55*20,55):\n",
    "    print(\"\\\\begin{table}\")\n",
    "    print(DataAppendix[i:i+55].to_latex(index=True))  \n",
    "    print(\"\\end{table}\")"
   ]
  },
  {
   "cell_type": "code",
   "execution_count": 233,
   "metadata": {},
   "outputs": [],
   "source": [
    "DataAppendix=DataAppendix*100"
   ]
  },
  {
   "cell_type": "code",
   "execution_count": 235,
   "metadata": {},
   "outputs": [
    {
     "data": {
      "text/html": [
       "<div>\n",
       "<style scoped>\n",
       "    .dataframe tbody tr th:only-of-type {\n",
       "        vertical-align: middle;\n",
       "    }\n",
       "\n",
       "    .dataframe tbody tr th {\n",
       "        vertical-align: top;\n",
       "    }\n",
       "\n",
       "    .dataframe thead th {\n",
       "        text-align: right;\n",
       "    }\n",
       "</style>\n",
       "<table border=\"1\" class=\"dataframe\">\n",
       "  <thead>\n",
       "    <tr style=\"text-align: right;\">\n",
       "      <th></th>\n",
       "      <th>CDRP-bio-Lasso</th>\n",
       "      <th>CDRP-bio-MLP</th>\n",
       "      <th>LUAD-Lasso</th>\n",
       "      <th>LUAD-MLP</th>\n",
       "      <th>LINCS-Lasso</th>\n",
       "      <th>LINCS-MLP</th>\n",
       "      <th>TAORF-Lasso</th>\n",
       "      <th>TAORF-MLP</th>\n",
       "    </tr>\n",
       "  </thead>\n",
       "  <tbody>\n",
       "    <tr>\n",
       "      <th>AARS</th>\n",
       "      <td>23.4283</td>\n",
       "      <td>-1.69999</td>\n",
       "      <td>61.7998</td>\n",
       "      <td>59.3005</td>\n",
       "      <td>27.0526</td>\n",
       "      <td>76.3724</td>\n",
       "      <td>-0.638451</td>\n",
       "      <td>-2.07299</td>\n",
       "    </tr>\n",
       "    <tr>\n",
       "      <th>ABCB6</th>\n",
       "      <td>-4.03793</td>\n",
       "      <td>-1.4122</td>\n",
       "      <td>74.3228</td>\n",
       "      <td>67.7788</td>\n",
       "      <td>34.5882</td>\n",
       "      <td>82.3665</td>\n",
       "      <td>5.84286</td>\n",
       "      <td>11.9624</td>\n",
       "    </tr>\n",
       "    <tr>\n",
       "      <th>ABCC5</th>\n",
       "      <td>-0.829159</td>\n",
       "      <td>1.6296</td>\n",
       "      <td>-3.27304</td>\n",
       "      <td>-0.0411913</td>\n",
       "      <td>-2.65991</td>\n",
       "      <td>1.78172</td>\n",
       "      <td>-7.57148</td>\n",
       "      <td>-3.72142</td>\n",
       "    </tr>\n",
       "    <tr>\n",
       "      <th>ABCF1</th>\n",
       "      <td>-13.3172</td>\n",
       "      <td>-18.7696</td>\n",
       "      <td>10.3142</td>\n",
       "      <td>11.4563</td>\n",
       "      <td>20.8011</td>\n",
       "      <td>38.8232</td>\n",
       "      <td>-0.160389</td>\n",
       "      <td>1.73939</td>\n",
       "    </tr>\n",
       "    <tr>\n",
       "      <th>ABCF3</th>\n",
       "      <td>5.83274</td>\n",
       "      <td>-6.91862</td>\n",
       "      <td>44.7308</td>\n",
       "      <td>25.9902</td>\n",
       "      <td>-6.82371</td>\n",
       "      <td>59.2254</td>\n",
       "      <td>13.3848</td>\n",
       "      <td>-4.53288</td>\n",
       "    </tr>\n",
       "    <tr>\n",
       "      <th>...</th>\n",
       "      <td>...</td>\n",
       "      <td>...</td>\n",
       "      <td>...</td>\n",
       "      <td>...</td>\n",
       "      <td>...</td>\n",
       "      <td>...</td>\n",
       "      <td>...</td>\n",
       "      <td>...</td>\n",
       "    </tr>\n",
       "    <tr>\n",
       "      <th>ZGPAT</th>\n",
       "      <td>-8.37141</td>\n",
       "      <td>-5.37903</td>\n",
       "      <td>NaN</td>\n",
       "      <td>NaN</td>\n",
       "      <td>NaN</td>\n",
       "      <td>NaN</td>\n",
       "      <td>NaN</td>\n",
       "      <td>NaN</td>\n",
       "    </tr>\n",
       "    <tr>\n",
       "      <th>ZNF629</th>\n",
       "      <td>-5.12793</td>\n",
       "      <td>-9.05695</td>\n",
       "      <td>NaN</td>\n",
       "      <td>NaN</td>\n",
       "      <td>NaN</td>\n",
       "      <td>NaN</td>\n",
       "      <td>NaN</td>\n",
       "      <td>NaN</td>\n",
       "    </tr>\n",
       "    <tr>\n",
       "      <th>ZNF672</th>\n",
       "      <td>8.27284</td>\n",
       "      <td>7.25022</td>\n",
       "      <td>NaN</td>\n",
       "      <td>NaN</td>\n",
       "      <td>NaN</td>\n",
       "      <td>NaN</td>\n",
       "      <td>NaN</td>\n",
       "      <td>NaN</td>\n",
       "    </tr>\n",
       "    <tr>\n",
       "      <th>ZNF692</th>\n",
       "      <td>-5.53887</td>\n",
       "      <td>-7.91229</td>\n",
       "      <td>NaN</td>\n",
       "      <td>NaN</td>\n",
       "      <td>NaN</td>\n",
       "      <td>NaN</td>\n",
       "      <td>NaN</td>\n",
       "      <td>NaN</td>\n",
       "    </tr>\n",
       "    <tr>\n",
       "      <th>ZNF768</th>\n",
       "      <td>-2.88349</td>\n",
       "      <td>-1.78386</td>\n",
       "      <td>NaN</td>\n",
       "      <td>NaN</td>\n",
       "      <td>NaN</td>\n",
       "      <td>NaN</td>\n",
       "      <td>NaN</td>\n",
       "      <td>NaN</td>\n",
       "    </tr>\n",
       "  </tbody>\n",
       "</table>\n",
       "<p>1170 rows × 8 columns</p>\n",
       "</div>"
      ],
      "text/plain": [
       "       CDRP-bio-Lasso CDRP-bio-MLP LUAD-Lasso   LUAD-MLP LINCS-Lasso  \\\n",
       "AARS          23.4283     -1.69999    61.7998    59.3005     27.0526   \n",
       "ABCB6        -4.03793      -1.4122    74.3228    67.7788     34.5882   \n",
       "ABCC5       -0.829159       1.6296   -3.27304 -0.0411913    -2.65991   \n",
       "ABCF1        -13.3172     -18.7696    10.3142    11.4563     20.8011   \n",
       "ABCF3         5.83274     -6.91862    44.7308    25.9902    -6.82371   \n",
       "...               ...          ...        ...        ...         ...   \n",
       "ZGPAT        -8.37141     -5.37903        NaN        NaN         NaN   \n",
       "ZNF629       -5.12793     -9.05695        NaN        NaN         NaN   \n",
       "ZNF672        8.27284      7.25022        NaN        NaN         NaN   \n",
       "ZNF692       -5.53887     -7.91229        NaN        NaN         NaN   \n",
       "ZNF768       -2.88349     -1.78386        NaN        NaN         NaN   \n",
       "\n",
       "       LINCS-MLP TAORF-Lasso TAORF-MLP  \n",
       "AARS     76.3724   -0.638451  -2.07299  \n",
       "ABCB6    82.3665     5.84286   11.9624  \n",
       "ABCC5    1.78172    -7.57148  -3.72142  \n",
       "ABCF1    38.8232   -0.160389   1.73939  \n",
       "ABCF3    59.2254     13.3848  -4.53288  \n",
       "...          ...         ...       ...  \n",
       "ZGPAT        NaN         NaN       NaN  \n",
       "ZNF629       NaN         NaN       NaN  \n",
       "ZNF672       NaN         NaN       NaN  \n",
       "ZNF692       NaN         NaN       NaN  \n",
       "ZNF768       NaN         NaN       NaN  \n",
       "\n",
       "[1170 rows x 8 columns]"
      ]
     },
     "execution_count": 235,
     "metadata": {},
     "output_type": "execute_result"
    }
   ],
   "source": []
  },
  {
   "cell_type": "code",
   "execution_count": null,
   "metadata": {},
   "outputs": [],
   "source": []
  }
 ],
 "metadata": {
  "kernelspec": {
   "display_name": "Python 3",
   "language": "python",
   "name": "python3"
  },
  "language_info": {
   "codemirror_mode": {
    "name": "ipython",
    "version": 3
   },
   "file_extension": ".py",
   "mimetype": "text/x-python",
   "name": "python",
   "nbconvert_exporter": "python",
   "pygments_lexer": "ipython3",
   "version": "3.8.3"
  },
  "latex_envs": {
   "LaTeX_envs_menu_present": true,
   "autoclose": false,
   "autocomplete": true,
   "bibliofile": "biblio.bib",
   "cite_by": "apalike",
   "current_citInitial": 1,
   "eqLabelWithNumbers": true,
   "eqNumInitial": 1,
   "hotkeys": {
    "equation": "Ctrl-E",
    "itemize": "Ctrl-I"
   },
   "labels_anchors": false,
   "latex_user_defs": false,
   "report_style_numbering": false,
   "user_envs_cfg": false
  },
  "varInspector": {
   "cols": {
    "lenName": 16,
    "lenType": 16,
    "lenVar": 40
   },
   "kernels_config": {
    "python": {
     "delete_cmd_postfix": "",
     "delete_cmd_prefix": "del ",
     "library": "var_list.py",
     "varRefreshCmd": "print(var_dic_list())"
    },
    "r": {
     "delete_cmd_postfix": ") ",
     "delete_cmd_prefix": "rm(",
     "library": "var_list.r",
     "varRefreshCmd": "cat(var_dic_list()) "
    }
   },
   "types_to_exclude": [
    "module",
    "function",
    "builtin_function_or_method",
    "instance",
    "_Feature"
   ],
   "window_display": false
  }
 },
 "nbformat": 4,
 "nbformat_minor": 4
}
