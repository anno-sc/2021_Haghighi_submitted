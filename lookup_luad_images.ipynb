{
 "cells": [
  {
   "cell_type": "code",
   "execution_count": 2,
   "id": "62783bbc",
   "metadata": {},
   "outputs": [],
   "source": [
    "%matplotlib inline\n",
    "%load_ext autoreload\n",
    "%autoreload 2\n",
    "import numpy as np\n",
    "import scipy.spatial\n",
    "import pandas as pd\n",
    "import sklearn.decomposition\n",
    "import matplotlib.pyplot as plt\n",
    "# import keras\n",
    "from sklearn import preprocessing,linear_model\n",
    "from sklearn.metrics import pairwise_distances,mean_absolute_error, mean_squared_error\n",
    "import matplotlib.pyplot as plt\n",
    "from matplotlib import cm\n",
    "import seaborn as sns\n",
    "from utils.readProfiles import *\n",
    "from utils.pred_models import *\n",
    "from yellowbrick.model_selection import FeatureImportances\n",
    "\n",
    "sns.set_style(\"whitegrid\")\n",
    "# from utils import networksEvol, tsne, readProfiles\n",
    "import umap\n",
    "\n",
    "##### create single blue colormap to change defualt colors in yellowbrick\n",
    "from matplotlib.colors import ListedColormap, LinearSegmentedColormap\n",
    "blue_cmap = cm.get_cmap('Blues', 200)\n",
    "single_blue_cmap=ListedColormap(blue_cmap(np.linspace(0.7, 0.9, 20)))"
   ]
  },
  {
   "cell_type": "code",
   "execution_count": null,
   "id": "775899ee",
   "metadata": {},
   "outputs": [],
   "source": []
  },
  {
   "cell_type": "markdown",
   "id": "b41fe0da",
   "metadata": {},
   "source": [
    "## Read treatment level profiles"
   ]
  },
  {
   "cell_type": "code",
   "execution_count": 7,
   "id": "3db06233",
   "metadata": {},
   "outputs": [
    {
     "name": "stderr",
     "output_type": "stream",
     "text": [
      "/home/ubuntu/workspace_rosetta/workspace/software/2021_Haghighi_NeurIPS_Dataset_submitted/utils/readProfiles.py:42: DtypeWarning: Columns (1023,1028) have mixed types. Specify dtype option on import or set low_memory=False.\n",
      "  l1k_data_repLevel=pd.read_csv(dataDir+'/L1000/replicate_level_l1k.csv.gz')\n"
     ]
    },
    {
     "name": "stdout",
     "output_type": "stream",
     "text": [
      "LUAD: Replicate Level Shapes (nSamples x nFeatures): cp:  6144 , 1569 ,  l1k:  4232 , 978\n",
      "l1k n of rep:  8.0\n",
      "cp n of rep:  8.0\n",
      "CP: from  593  to  364\n",
      "l1k: from  529  to  275\n",
      "CP and l1k high rep overlap:  197\n",
      "Treatment Level Shapes (nSamples x nFeatures+metadata): (198, 1570) (198, 979) Merged Profiles Shape: (198, 2548)\n"
     ]
    }
   ],
   "source": [
    "procProf_dir='/home/ubuntu/datasetsbucket/Rosetta-GE-CP/'\n",
    "# results_dir='./results/'\n",
    "\n",
    "ge_features_under_test=['CISD1']\n",
    "dataset='LUAD';\n",
    "\n",
    "################################################\n",
    "pertColName='PERT'\n",
    "\n",
    "mergProf_treatLevel,cp_features,l1k_features = \\\n",
    "read_paired_treatment_level_profiles(procProf_dir,dataset,'normalized','highRepOverlap',1)\n",
    "\n",
    "\n",
    "l1k=mergProf_treatLevel[[pertColName]+l1k_features]\n",
    "cp=mergProf_treatLevel[[pertColName]+cp_features]\n",
    "\n",
    "scaler_ge = preprocessing.StandardScaler()\n",
    "scaler_cp = preprocessing.StandardScaler()\n",
    "l1k_scaled=l1k.copy()\n",
    "l1k_scaled[l1k_features] = scaler_ge.fit_transform(l1k[l1k_features].values)\n",
    "cp_scaled=cp.copy()\n",
    "cp_scaled[cp_features] = scaler_cp.fit_transform(cp[cp_features].values.astype('float64'))\n",
    "\n",
    "\n",
    "if 1:\n",
    "    cp=cp_scaled.copy()\n",
    "    l1k=l1k_scaled.copy()"
   ]
  },
  {
   "cell_type": "code",
   "execution_count": null,
   "id": "e6e7df72",
   "metadata": {},
   "outputs": [],
   "source": []
  },
  {
   "cell_type": "markdown",
   "id": "6e88287f",
   "metadata": {},
   "source": [
    "## For a selected landmark gene, here how we sample images:\n",
    "- We fit a linear model to treatment level profiles\n",
    "- We filter the sample to the one that have confident predictions (sample that have l1 norm (true, pred) less than 0.3)\n",
    "- We samples select highest and lowest prediction values in this filtered set\n",
    "- We read replicate level profiles\n",
    "- We randomly select one replicate (pert replicates are at the same well of 8 different plates)\n",
    "- We select site in the middle of the well (s5 out of 9 available sites)"
   ]
  },
  {
   "cell_type": "code",
   "execution_count": 5,
   "id": "0b651180",
   "metadata": {},
   "outputs": [
    {
     "name": "stderr",
     "output_type": "stream",
     "text": [
      "/home/ubuntu/workspace_rosetta/workspace/software/2021_Haghighi_NeurIPS_Dataset_submitted/utils/readProfiles.py:42: DtypeWarning: Columns (1023,1028) have mixed types. Specify dtype option on import or set low_memory=False.\n",
      "  l1k_data_repLevel=pd.read_csv(dataDir+'/L1000/replicate_level_l1k.csv.gz')\n"
     ]
    }
   ],
   "source": [
    "dataset='LUAD'\n",
    "profileType='normalized_variable_selected'\n",
    "per_plate_normalized_flag=1\n",
    "[cp_data_repLevel,cp_features], [l1k_data_repLevel,l1k_features]=\\\n",
    "read_replicate_level_profiles(procProf_dir,dataset,profileType,per_plate_normalized_flag)\n",
    "\n",
    "\n",
    "#####################################################\n",
    "dict_imag_lookup={}\n",
    "# luad_genes_to_inspect_ims=['PRKAG2','BNIP3L','NIPSNAP1','MYO10']\n",
    "# luad_genes_to_inspect_ims=['ETFB','CISD1','SPP1', 'CDK4', 'S100A4','TSC22D3','MRPL19','TOMM34']\n",
    "# luad_genes_to_inspect_ims=['NFKBIA','S100A4','S100A13']\n",
    "luad_genes_to_inspect_ims=['ETFB','CISD1']\n",
    "l1k_2=l1k.copy()\n",
    "for g in luad_genes_to_inspect_ims:\n",
    "    model = linear_model.Lasso(alpha=0.02)\n",
    "    model.fit(cp[cp_features],l1k[g])\n",
    "    y_pred=model.predict(cp[cp_features])\n",
    "    l1k_2['pred']=y_pred\n",
    "    l1k_2['diff']=abs(l1k_2['pred']-l1k[g])\n",
    "#     l1k_2[l1k_2['diff']<0.3]\n",
    "    pert_to_vis_max=l1k_2[l1k_2['diff']<0.3].sort_values(by=['pred'],ascending=False)[:1].PERT.values[0]\n",
    "    p,w=cp_data_repLevel[cp_data_repLevel['x_mutation_status']==pert_to_vis_max].sample(1)[['Metadata_Plate','Metadata_Well']].values[0]\n",
    "    dict_imag_lookup[g]={}\n",
    "    dict_imag_lookup[g]['high_'+pert_to_vis_max]=[p,w]\n",
    "    pert_to_vis_min=l1k_2[l1k_2['diff']<0.3].sort_values(by=['pred'],ascending=False)[-1:].PERT.values[0]\n",
    "    p,w=cp_data_repLevel[cp_data_repLevel['x_mutation_status']==pert_to_vis_min].sample(1)[['Metadata_Plate','Metadata_Well']].values[0]\n",
    "    dict_imag_lookup[g]['low_'+pert_to_vis_min]=[p,w]\n",
    "#     print(g,pert_to_vis_max,pert_to_vis_min)"
   ]
  },
  {
   "cell_type": "code",
   "execution_count": 6,
   "id": "5d4adc95",
   "metadata": {},
   "outputs": [
    {
     "data": {
      "text/plain": [
       "{'ETFB': {'high_BRAF_p.V600E': [52666, 'i23'], 'low_MYC_WT.c': [52653, 'k13']},\n",
       " 'CISD1': {'high_AKT1_p.D323Y': [52649, 'j12'],\n",
       "  'low_BRAF_p.G469S': [52652, 'i19']}}"
      ]
     },
     "execution_count": 6,
     "metadata": {},
     "output_type": "execute_result"
    }
   ],
   "source": [
    "dict_imag_lookup"
   ]
  },
  {
   "cell_type": "markdown",
   "id": "061e4821",
   "metadata": {},
   "source": [
    "## Run the following on DGX where luad compressed images currently reside"
   ]
  },
  {
   "cell_type": "code",
   "execution_count": null,
   "id": "44a1e7d0",
   "metadata": {},
   "outputs": [],
   "source": [
    "where2move='/dgx1nas1/storage/data/marziehhaghighi/rosetta_luad_ims/'\n",
    "luad_im_add='/dgx1nas1/storage/data/jarevalo/luad/dp_project/outputs/compressed/images/'\n",
    "for g in dict_imag_lookup:\n",
    "    print(dict_imag_lookup[g])\n",
    "    geneName=g\n",
    "    os.system('mkdir '+where2move+g)\n",
    "    perts_dict=dict_imag_lookup[g].keys()\n",
    "    for pe in perts_dict:\n",
    "        os.system('mkdir '+where2move+g+'/'+pe)\n",
    "        p,w=dict_imag_lookup[g][pe]\n",
    "        print(p,w)\n",
    "        plate_path=luad_im_add+str(p)\n",
    "        list_plate_ims=os.listdir(plate_path)\n",
    "        random_ims=[l for l in list_plate_ims if ('_'+w+'_' in l) and ('s5' in l)]\n",
    "        print(random_ims)\n",
    "#         fgsdfsfd\n",
    "#         random_im=random.choice(random_ims)\n",
    "        for r in random_ims:\n",
    "            command='cp \"'+plate_path+'/'+r+'\" \"'+where2move+g+'/'+pe+'/\"'\n",
    "            os.system(command)"
   ]
  },
  {
   "cell_type": "markdown",
   "id": "22bd3cb4",
   "metadata": {},
   "source": [
    "## Check feature importance for a landmark gene of interest"
   ]
  },
  {
   "cell_type": "code",
   "execution_count": null,
   "id": "7073dc88",
   "metadata": {},
   "outputs": [],
   "source": [
    "##############################\n",
    "l1k,l1k_features_gn=rename_affyprobe_to_genename(l1k,l1k_features)\n",
    "\n",
    "for g in ge_features_under_test:\n",
    "#     viz = FeatureImportances(linear_model.Lasso(),relative=True, topn=20)\n",
    "#     viz = FeatureImportances(linear_model.Lasso(alpha=0.001), labels=l1k_features_gn, relative=False,topn=20)\n",
    "    print(g)\n",
    "#     model = linear_model.LinearRegression()\n",
    "    model = linear_model.Lasso(alpha=0.02)\n",
    "    model.fit(cp[cp_features],l1k[g])\n",
    "# #     model = RandomForestClassifier(n_estimators=10),colormap=single_blue_cmap\n",
    "#     viz = FeatureImportances(model,topn=20,colormap='coolwarm')    \n",
    "    viz = FeatureImportances(model,topn=20,colormap=single_blue_cmap)    \n",
    "    \n",
    "    viz.fit(cp[cp_features],l1k[g])\n",
    "    viz.show()"
   ]
  },
  {
   "cell_type": "code",
   "execution_count": null,
   "id": "581441d4",
   "metadata": {},
   "outputs": [],
   "source": []
  }
 ],
 "metadata": {
  "kernelspec": {
   "display_name": "Python 3 (ipykernel)",
   "language": "python",
   "name": "python3"
  },
  "language_info": {
   "codemirror_mode": {
    "name": "ipython",
    "version": 3
   },
   "file_extension": ".py",
   "mimetype": "text/x-python",
   "name": "python",
   "nbconvert_exporter": "python",
   "pygments_lexer": "ipython3",
   "version": "3.8.12"
  }
 },
 "nbformat": 4,
 "nbformat_minor": 5
}
